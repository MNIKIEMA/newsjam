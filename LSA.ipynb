{
 "cells": [
  {
   "cell_type": "code",
   "execution_count": 46,
   "metadata": {},
   "outputs": [],
   "source": [
    "from datasets import load_dataset\n",
    "import spacy # Better than nltk\n",
    "from spacy.lang.fr.stop_words import STOP_WORDS\n",
    "from sklearn.feature_extraction.text import TfidfVectorizer\n",
    "#from gensim import corpora\n",
    "#from gensim.models import LsiModel\n",
    "#from gensim.models.coherencemodel import CoherenceModel\n",
    "#import matplotlib.pyplot as plt"
   ]
  },
  {
   "cell_type": "code",
   "execution_count": 2,
   "metadata": {},
   "outputs": [
    {
     "name": "stderr",
     "output_type": "stream",
     "text": [
      "Reusing dataset mlsum (C:\\Users\\maxim\\.cache\\huggingface\\datasets\\mlsum\\fr\\1.0.0\\77f23eb185781f439927ac2569ab1da1083195d8b2dab2b2f6bbe52feb600688)\n"
     ]
    },
    {
     "data": {
      "application/vnd.jupyter.widget-view+json": {
       "model_id": "eeb339919193467e98042056c65caf44",
       "version_major": 2,
       "version_minor": 0
      },
      "text/plain": [
       "  0%|          | 0/3 [00:00<?, ?it/s]"
      ]
     },
     "metadata": {},
     "output_type": "display_data"
    }
   ],
   "source": [
    "dataset = load_dataset('mlsum', 'fr')"
   ]
  },
  {
   "cell_type": "code",
   "execution_count": 44,
   "metadata": {},
   "outputs": [
    {
     "name": "stdout",
     "output_type": "stream",
     "text": [
      "Cinq personnes sont mortes, et treize autres ont été blessées à Nîmes, dans le Gard, dans un incendie qui s'est déclenché vendredi 1er janvier au petit matin. Le feu, dont on ignore l'origine pour l'instant, a pris au sixième et dernier étage d'un immeuble. \"A l'arrivée des pompiers, trois personnes étaient décédées dans un appartement, et deux autres dans un appartement voisin par intoxication\", a expliqué, sur i-Télé, le directeur de cabinet du préfet du Gard. On dénombre également \"treize blessés, dont trois graves. Une personne dans le coma a été transférée à Marseille\", a-t-il ajouté. Les secours ont été prévenus vers 5 heures du matin, mais \"l'incendie avait déjà bien démarré\", a-t-il expliqué. France Info précise que les victimes sont trois adultes et deux enfants. \"L'origine de l'incendie est indéterminée mais a priori accidentelle\", a déclaré le procureur adjoint de la République de Nîmes, cité par Europe 1.\n",
      "Cinq personnes sont mortes, et treize autres ont été blessées à Nîmes, dans le Gard, dans un incendie qui s'est déclenché vendredi 1er janvier au petit matin.\n"
     ]
    }
   ],
   "source": [
    "article = dataset['train']['text'][4]\n",
    "summary = dataset['train']['summary'][4]\n",
    "print(article, summary, sep='\\n')"
   ]
  },
  {
   "cell_type": "code",
   "execution_count": 54,
   "metadata": {
    "scrolled": true
   },
   "outputs": [
    {
     "name": "stdout",
     "output_type": "stream",
     "text": [
      "['personne', 'mourir', 'être', 'blesser', 'Nîmes', 'Gard', 'incendie', 'déclencher', 'vendredi', 'premier', 'janvier', 'petit', 'matin']\n",
      "\n",
      "['feu', 'ignore', 'origine', 'instant', 'prendre', 'dernier', 'étage', 'immeuble']\n",
      "\n",
      "['arrivée', 'pompier', 'personne', 'décéder', 'appartement', 'appartement', 'voisin', 'intoxication', 'expliquer', 'Télé', 'directeur', 'cabinet', 'préfet', 'Gard']\n",
      "\n",
      "['dénombre', 'blessé', 'grave']\n",
      "\n",
      "['coma', 'être', 'transférer', 'Marseille', '-t', 'il', 'ajouté']\n",
      "\n",
      "['secours', 'être', 'prévenir', '5', 'heure', 'matin', 'incendie', 'bien', 'démarrer', '-t', 'il', 'expliquer']\n",
      "\n",
      "['France', 'Info', 'précise', 'victime', 'adulte', 'enfant']\n",
      "\n",
      "['origine', 'incendie', 'indéterminer', 'priori', 'accidentel', 'déclarer', 'procureur', 'adjoint', 'république', 'nîme', 'citer', 'Europe', '1']\n",
      "\n",
      "  (0, 37)\t0.25094924707839145\n",
      "  (0, 43)\t0.29943422171888545\n",
      "  (0, 35)\t0.29943422171888545\n",
      "  (0, 45)\t0.29943422171888545\n",
      "  (0, 56)\t0.29943422171888545\n",
      "  (0, 15)\t0.29943422171888545\n",
      "  (0, 30)\t0.21654861011007195\n",
      "  (0, 24)\t0.25094924707839145\n",
      "  (0, 40)\t0.29943422171888545\n",
      "  (0, 7)\t0.29943422171888545\n",
      "  (0, 60)\t0.21654861011007195\n",
      "  (0, 38)\t0.29943422171888545\n",
      "  (0, 42)\t0.25094924707839145\n",
      "  (1, 29)\t0.360319425084864\n",
      "  (1, 59)\t0.360319425084864\n",
      "  (1, 12)\t0.360319425084864\n",
      "  (1, 46)\t0.360319425084864\n",
      "  (1, 33)\t0.360319425084864\n",
      "  (1, 41)\t0.3019757992713848\n",
      "  (1, 27)\t0.360319425084864\n",
      "  (1, 22)\t0.360319425084864\n",
      "  (2, 50)\t0.25728181859610927\n",
      "  (2, 9)\t0.25728181859610927\n",
      "  (2, 13)\t0.25728181859610927\n",
      "  (2, 55)\t0.25728181859610927\n",
      "  :\t:\n",
      "  (5, 51)\t0.3502172747729706\n",
      "  (5, 53)\t0.3502172747729706\n",
      "  (5, 28)\t0.29350940888991933\n",
      "  (5, 21)\t0.29350940888991933\n",
      "  (5, 37)\t0.29350940888991933\n",
      "  (5, 30)\t0.25327453773745046\n",
      "  (5, 60)\t0.25327453773745046\n",
      "  (6, 19)\t0.408248290463863\n",
      "  (6, 2)\t0.408248290463863\n",
      "  (6, 57)\t0.408248290463863\n",
      "  (6, 49)\t0.408248290463863\n",
      "  (6, 32)\t0.408248290463863\n",
      "  (6, 23)\t0.408248290463863\n",
      "  (7, 20)\t0.29846913649389917\n",
      "  (7, 10)\t0.29846913649389917\n",
      "  (7, 39)\t0.29846913649389917\n",
      "  (7, 52)\t0.29846913649389917\n",
      "  (7, 1)\t0.29846913649389917\n",
      "  (7, 48)\t0.29846913649389917\n",
      "  (7, 14)\t0.29846913649389917\n",
      "  (7, 0)\t0.29846913649389917\n",
      "  (7, 47)\t0.29846913649389917\n",
      "  (7, 31)\t0.29846913649389917\n",
      "  (7, 41)\t0.25014043033998884\n",
      "  (7, 30)\t0.21585066762738292\n"
     ]
    }
   ],
   "source": [
    "nlp = spacy.load(\"fr_core_news_sm\")\n",
    "doc = nlp(article)\n",
    "\n",
    "sentences = []\n",
    "cur_sentence = []\n",
    "for sent in doc.sents:\n",
    "    for token in sent:\n",
    "        if not token.text.lower() in STOP_WORDS and not token.is_punct:\n",
    "            #print(token.text, token.lemma_)\n",
    "            cur_sentence.append(token.lemma_)\n",
    "    sentences.append(cur_sentence)\n",
    "    cur_sentence = []\n",
    "\n",
    "for s in sentences:\n",
    "    print(s)\n",
    "    print()\n",
    "\n",
    "vectorizer = TfidfVectorizer(ngram_range=(1, 1))\n",
    "X = vectorizer.fit_transform([' '.join(sent) for sent in sentences])\n",
    "print(X)"
   ]
  },
  {
   "cell_type": "code",
   "execution_count": null,
   "metadata": {},
   "outputs": [],
   "source": []
  }
 ],
 "metadata": {
  "kernelspec": {
   "display_name": "Python 3 (ipykernel)",
   "language": "python",
   "name": "python3"
  },
  "language_info": {
   "codemirror_mode": {
    "name": "ipython",
    "version": 3
   },
   "file_extension": ".py",
   "mimetype": "text/x-python",
   "name": "python",
   "nbconvert_exporter": "python",
   "pygments_lexer": "ipython3",
   "version": "3.8.1"
  }
 },
 "nbformat": 4,
 "nbformat_minor": 4
}
