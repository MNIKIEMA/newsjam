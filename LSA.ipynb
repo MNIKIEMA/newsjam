{
 "cells": [
  {
   "cell_type": "code",
   "execution_count": 69,
   "metadata": {},
   "outputs": [],
   "source": [
    "from datasets import load_dataset\n",
    "import spacy # Better than nltk\n",
    "from spacy.lang.fr.stop_words import STOP_WORDS\n",
    "from sklearn.feature_extraction.text import TfidfVectorizer\n",
    "from gensim import corpora\n",
    "from gensim import models\n",
    "from gensim.models import LsiModel\n",
    "from gensim.models.coherencemodel import CoherenceModel\n",
    "#import matplotlib.pyplot as plt"
   ]
  },
  {
   "cell_type": "code",
   "execution_count": 2,
   "metadata": {},
   "outputs": [
    {
     "name": "stderr",
     "output_type": "stream",
     "text": [
      "Reusing dataset mlsum (C:\\Users\\maxim\\.cache\\huggingface\\datasets\\mlsum\\fr\\1.0.0\\77f23eb185781f439927ac2569ab1da1083195d8b2dab2b2f6bbe52feb600688)\n"
     ]
    },
    {
     "data": {
      "application/vnd.jupyter.widget-view+json": {
       "model_id": "eeb339919193467e98042056c65caf44",
       "version_major": 2,
       "version_minor": 0
      },
      "text/plain": [
       "  0%|          | 0/3 [00:00<?, ?it/s]"
      ]
     },
     "metadata": {},
     "output_type": "display_data"
    }
   ],
   "source": [
    "dataset = load_dataset('mlsum', 'fr')"
   ]
  },
  {
   "cell_type": "code",
   "execution_count": 78,
   "metadata": {},
   "outputs": [
    {
     "name": "stdout",
     "output_type": "stream",
     "text": [
      "Cinq personnes sont mortes, et treize autres ont été blessées à Nîmes, dans le Gard, dans un incendie qui s'est déclenché vendredi 1er janvier au petit matin. Le feu, dont on ignore l'origine pour l'instant, a pris au sixième et dernier étage d'un immeuble. \"A l'arrivée des pompiers, trois personnes étaient décédées dans un appartement, et deux autres dans un appartement voisin par intoxication\", a expliqué, sur i-Télé, le directeur de cabinet du préfet du Gard. On dénombre également \"treize blessés, dont trois graves. Une personne dans le coma a été transférée à Marseille\", a-t-il ajouté. Les secours ont été prévenus vers 5 heures du matin, mais \"l'incendie avait déjà bien démarré\", a-t-il expliqué. France Info précise que les victimes sont trois adultes et deux enfants. \"L'origine de l'incendie est indéterminée mais a priori accidentelle\", a déclaré le procureur adjoint de la République de Nîmes, cité par Europe 1.\n",
      "Cinq personnes sont mortes, et treize autres ont été blessées à Nîmes, dans le Gard, dans un incendie qui s'est déclenché vendredi 1er janvier au petit matin.\n"
     ]
    }
   ],
   "source": [
    "article = dataset['train']['text'][4]\n",
    "summary = dataset['train']['summary'][4]\n",
    "print(article, summary, sep='\\n')"
   ]
  },
  {
   "cell_type": "code",
   "execution_count": 91,
   "metadata": {
    "scrolled": true
   },
   "outputs": [
    {
     "name": "stdout",
     "output_type": "stream",
     "text": [
      "['personne', 'mourir', 'être', 'blesser', 'Nîmes', 'Gard', 'incendie', 'déclencher', 'vendredi', 'premier', 'janvier', 'petit', 'matin']\n",
      "\n",
      "['feu', 'ignore', 'origine', 'instant', 'prendre', 'dernier', 'étage', 'immeuble']\n",
      "\n",
      "['arrivée', 'pompier', 'personne', 'décéder', 'appartement', 'appartement', 'voisin', 'intoxication', 'expliquer', 'Télé', 'directeur', 'cabinet', 'préfet', 'Gard']\n",
      "\n",
      "['dénombre', 'blessé', 'grave']\n",
      "\n",
      "['coma', 'être', 'transférer', 'Marseille', '-t', 'il', 'ajouté']\n",
      "\n",
      "['secours', 'être', 'prévenir', '5', 'heure', 'matin', 'incendie', 'bien', 'démarrer', '-t', 'il', 'expliquer']\n",
      "\n",
      "['France', 'Info', 'précise', 'victime', 'adulte', 'enfant']\n",
      "\n",
      "['origine', 'incendie', 'indéterminer', 'priori', 'accidentel', 'déclarer', 'procureur', 'adjoint', 'république', 'nîme', 'citer', 'Europe', '1']\n",
      "\n"
     ]
    }
   ],
   "source": [
    "nlp = spacy.load(\"fr_core_news_sm\")\n",
    "doc = nlp(article)\n",
    "\n",
    "sentences = []\n",
    "cur_sentence = []\n",
    "for sent in doc.sents:\n",
    "    for token in sent:\n",
    "        if not token.text.lower() in STOP_WORDS and not token.is_punct:\n",
    "            # print(token.text, token.lemma_)\n",
    "            cur_sentence.append(token.lemma_)\n",
    "    sentences.append(cur_sentence)\n",
    "    cur_sentence = []\n",
    "\n",
    "for s in sentences:\n",
    "    print(s)\n",
    "    print()"
   ]
  },
  {
   "cell_type": "code",
   "execution_count": 94,
   "metadata": {},
   "outputs": [
    {
     "name": "stdout",
     "output_type": "stream",
     "text": [
      "Dictionary(64 unique tokens: ['Gard', 'Nîmes', 'blesser', 'déclencher', 'incendie']...)\n",
      "[(0, 0.2131950688824599), (1, 0.31979260332368986), (2, 0.31979260332368986), (3, 0.31979260332368986), (4, 0.15083950856500844), (5, 0.31979260332368986), (6, 0.2131950688824599), (7, 0.31979260332368986), (8, 0.2131950688824599), (9, 0.31979260332368986), (10, 0.31979260332368986), (11, 0.31979260332368986), (12, 0.15083950856500844)]\n",
      "[(13, 0.36650833306891567), (14, 0.36650833306891567), (15, 0.36650833306891567), (16, 0.36650833306891567), (17, 0.36650833306891567), (18, 0.24433888871261045), (19, 0.36650833306891567), (20, 0.36650833306891567)]\n",
      "[(0, 0.17609018126512477), (8, 0.17609018126512477), (21, 0.26413527189768715), (22, 0.5282705437953743), (23, 0.26413527189768715), (24, 0.26413527189768715), (25, 0.26413527189768715), (26, 0.26413527189768715), (27, 0.17609018126512477), (28, 0.26413527189768715), (29, 0.26413527189768715), (30, 0.26413527189768715), (31, 0.26413527189768715)]\n",
      "[(32, 0.5773502691896257), (33, 0.5773502691896257), (34, 0.5773502691896257)]\n",
      "[(12, 0.20863061064644112), (35, 0.2948764407342803), (36, 0.44231466110142054), (37, 0.44231466110142054), (38, 0.44231466110142054), (39, 0.2948764407342803), (40, 0.44231466110142054)]\n",
      "[(4, 0.16448958640832287), (6, 0.23248795384172216), (12, 0.16448958640832287), (27, 0.23248795384172216), (35, 0.23248795384172216), (39, 0.23248795384172216), (41, 0.34873193076258324), (42, 0.34873193076258324), (43, 0.34873193076258324), (44, 0.34873193076258324), (45, 0.34873193076258324), (46, 0.34873193076258324)]\n",
      "[(47, 0.408248290463863), (48, 0.408248290463863), (49, 0.408248290463863), (50, 0.408248290463863), (51, 0.408248290463863), (52, 0.408248290463863)]\n",
      "[(4, 0.13809198698278555), (18, 0.19517784801203136), (53, 0.2927667720180471), (54, 0.2927667720180471), (55, 0.2927667720180471), (56, 0.2927667720180471), (57, 0.2927667720180471), (58, 0.2927667720180471), (59, 0.2927667720180471), (60, 0.2927667720180471), (61, 0.2927667720180471), (62, 0.2927667720180471), (63, 0.2927667720180471)]\n"
     ]
    }
   ],
   "source": [
    "dictionary = corpora.Dictionary(sentences)\n",
    "print(dictionary)\n",
    "doc_term_matrix = [dictionary.doc2bow(doc) for doc in sentences]\n",
    "tfidf = models.TfidfModel(doc_term_matrix)\n",
    "sentences_tfidf = tfidf[doc_term_matrix]\n",
    "for sent in sentences_tfidf:\n",
    "    print(sent)"
   ]
  },
  {
   "cell_type": "code",
   "execution_count": 96,
   "metadata": {},
   "outputs": [
    {
     "name": "stdout",
     "output_type": "stream",
     "text": [
      "[0.37091476056602574, 0.36943770731509135, 0.3262268750177908, 0.34114646686964106, 0.34810325397783504, 0.3218931196738978, 0.3186808531865763, 0.30191561138347733]\n",
      "2\n"
     ]
    }
   ],
   "source": [
    "coherence_values = []\n",
    "model_list = []\n",
    "for num_topics in range(2, 10):\n",
    "    model = LsiModel(sentences_tfidf, num_topics=num_topics, id2word=dictionary)\n",
    "    model_list.append(model)\n",
    "    coherencemodel = CoherenceModel(model=model, texts=sentences, dictionary=dictionary)\n",
    "    coherence_values.append(coherencemodel.get_coherence())\n",
    "\n",
    "print(coherence_values)\n",
    "max_coherence = coherence_values.index(max(coherence_values))\n",
    "num_topics = 2 + max_coherence\n",
    "model = model_list[max_coherence]\n",
    "print(num_topics)\n"
   ]
  },
  {
   "cell_type": "code",
   "execution_count": 97,
   "metadata": {},
   "outputs": [
    {
     "name": "stdout",
     "output_type": "stream",
     "text": [
      "[1.10966604 1.02402477]\n",
      "[(0, '0.281*\"-t\" + 0.281*\"il\" + 0.260*\"être\" + 0.222*\"matin\" + 0.217*\"coma\" + 0.217*\"transférer\" + 0.217*\"ajouté\" + 0.217*\"Marseille\" + 0.205*\"démarrer\" + 0.205*\"bien\"'), (1, '-0.281*\"origine\" + -0.232*\"immeuble\" + -0.232*\"feu\" + -0.232*\"ignore\" + -0.232*\"dernier\" + -0.232*\"étage\" + -0.232*\"prendre\" + -0.232*\"instant\" + -0.189*\"priori\" + -0.189*\"procureur\"')]\n",
      "\n",
      "([(0, 1.9391953183330828), (1, -0.6375553403982903)], Cinq personnes sont mortes, et treize autres ont été blessées à Nîmes, dans le Gard, dans un incendie qui s'est déclenché vendredi 1er janvier au petit matin.)\n",
      "([(0, 0.07596665115149759), (1, -1.90426511794746)], Le feu, dont on ignore l'origine pour l'instant, a pris au sixième et dernier étage d'un immeuble.)\n",
      "([(0, 1.238410950957065), (1, -0.7474116198399976)], \"A l'arrivée des pompiers, trois personnes étaient décédées dans un appartement, et deux autres dans un appartement voisin par intoxication\", a expliqué, sur i-Télé, le directeur de cabinet du préfet du Gard.)\n",
      "([], On dénombre également \"treize blessés, dont trois graves.)\n",
      "([(0, 1.6878013462424493), (1, 0.6970255895589944)], Une personne dans le coma a été transférée à Marseille\", a-t-il ajouté.)\n",
      "([(0, 2.620554726710348), (1, 0.34474953813757164)], Les secours ont été prévenus vers 5 heures du matin, mais \"l'incendie avait déjà bien démarré\", a-t-il expliqué.)\n",
      "([], France Info précise que les victimes sont trois adultes et deux enfants.)\n",
      "([(0, 0.5109342456404988), (1, -2.4565605363228427)], \"L'origine de l'incendie est indéterminée mais a priori accidentelle\", a déclaré le procureur adjoint de la République de Nîmes, cité par Europe 1.)\n"
     ]
    }
   ],
   "source": [
    "print(model.projection.s)\n",
    "print(model.print_topics(num_topics=num_topics))\n",
    "print()\n",
    "corpus_lsi = model[doc_term_matrix]\n",
    "for sent in zip(corpus_lsi, doc.sents):\n",
    "    print(sent)"
   ]
  },
  {
   "cell_type": "code",
   "execution_count": null,
   "metadata": {},
   "outputs": [],
   "source": []
  }
 ],
 "metadata": {
  "kernelspec": {
   "display_name": "Python 3 (ipykernel)",
   "language": "python",
   "name": "python3"
  },
  "language_info": {
   "codemirror_mode": {
    "name": "ipython",
    "version": 3
   },
   "file_extension": ".py",
   "mimetype": "text/x-python",
   "name": "python",
   "nbconvert_exporter": "python",
   "pygments_lexer": "ipython3",
   "version": "3.8.1"
  }
 },
 "nbformat": 4,
 "nbformat_minor": 4
}
