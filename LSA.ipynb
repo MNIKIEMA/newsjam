{
 "cells": [
  {
   "cell_type": "code",
   "execution_count": 69,
   "metadata": {},
   "outputs": [],
   "source": [
    "from datasets import load_dataset\n",
    "import spacy # Better than nltk\n",
    "from spacy.lang.fr.stop_words import STOP_WORDS\n",
    "from sklearn.feature_extraction.text import TfidfVectorizer\n",
    "from gensim import corpora\n",
    "from gensim import models\n",
    "from gensim.models import LsiModel\n",
    "from gensim.models.coherencemodel import CoherenceModel\n",
    "#import matplotlib.pyplot as plt"
   ]
  },
  {
   "cell_type": "code",
   "execution_count": 2,
   "metadata": {},
   "outputs": [
    {
     "name": "stderr",
     "output_type": "stream",
     "text": [
      "Reusing dataset mlsum (C:\\Users\\maxim\\.cache\\huggingface\\datasets\\mlsum\\fr\\1.0.0\\77f23eb185781f439927ac2569ab1da1083195d8b2dab2b2f6bbe52feb600688)\n"
     ]
    },
    {
     "data": {
      "application/vnd.jupyter.widget-view+json": {
       "model_id": "eeb339919193467e98042056c65caf44",
       "version_major": 2,
       "version_minor": 0
      },
      "text/plain": [
       "  0%|          | 0/3 [00:00<?, ?it/s]"
      ]
     },
     "metadata": {},
     "output_type": "display_data"
    }
   ],
   "source": [
    "dataset = load_dataset('mlsum', 'fr')"
   ]
  },
  {
   "cell_type": "code",
   "execution_count": 102,
   "metadata": {},
   "outputs": [
    {
     "name": "stdout",
     "output_type": "stream",
     "text": [
      "Cinq personnes sont mortes, et treize autres ont été blessées à Nîmes, dans le Gard, dans un incendie qui s'est déclenché vendredi 1er janvier au petit matin. Le feu, dont on ignore l'origine pour l'instant, a pris au sixième et dernier étage d'un immeuble. \"A l'arrivée des pompiers, trois personnes étaient décédées dans un appartement, et deux autres dans un appartement voisin par intoxication\", a expliqué, sur i-Télé, le directeur de cabinet du préfet du Gard. On dénombre également \"treize blessés, dont trois graves. Une personne dans le coma a été transférée à Marseille\", a-t-il ajouté. Les secours ont été prévenus vers 5 heures du matin, mais \"l'incendie avait déjà bien démarré\", a-t-il expliqué. France Info précise que les victimes sont trois adultes et deux enfants. \"L'origine de l'incendie est indéterminée mais a priori accidentelle\", a déclaré le procureur adjoint de la République de Nîmes, cité par Europe 1.\n",
      "Cinq personnes sont mortes, et treize autres ont été blessées à Nîmes, dans le Gard, dans un incendie qui s'est déclenché vendredi 1er janvier au petit matin.\n"
     ]
    }
   ],
   "source": [
    "article = dataset['train']['text'][4]\n",
    "summary = dataset['train']['summary'][4]\n",
    "print(article, summary, sep='\\n')"
   ]
  },
  {
   "cell_type": "code",
   "execution_count": 103,
   "metadata": {
    "scrolled": true
   },
   "outputs": [
    {
     "name": "stdout",
     "output_type": "stream",
     "text": [
      "['personne', 'mourir', 'être', 'blesser', 'Nîmes', 'Gard', 'incendie', 'déclencher', 'vendredi', 'premier', 'janvier', 'petit', 'matin']\n",
      "\n",
      "['feu', 'ignore', 'origine', 'instant', 'prendre', 'dernier', 'étage', 'immeuble']\n",
      "\n",
      "['arrivée', 'pompier', 'personne', 'décéder', 'appartement', 'appartement', 'voisin', 'intoxication', 'expliquer', 'Télé', 'directeur', 'cabinet', 'préfet', 'Gard']\n",
      "\n",
      "['dénombre', 'blessé', 'grave']\n",
      "\n",
      "['coma', 'être', 'transférer', 'Marseille', '-t', 'il', 'ajouté']\n",
      "\n",
      "['secours', 'être', 'prévenir', '5', 'heure', 'matin', 'incendie', 'bien', 'démarrer', '-t', 'il', 'expliquer']\n",
      "\n",
      "['France', 'Info', 'précise', 'victime', 'adulte', 'enfant']\n",
      "\n",
      "['origine', 'incendie', 'indéterminer', 'priori', 'accidentel', 'déclarer', 'procureur', 'adjoint', 'république', 'nîme', 'citer', 'Europe', '1']\n",
      "\n"
     ]
    }
   ],
   "source": [
    "nlp = spacy.load(\"fr_core_news_sm\")\n",
    "doc = nlp(article)\n",
    "\n",
    "sentences = []\n",
    "cur_sentence = []\n",
    "for sent in doc.sents:\n",
    "    for token in sent:\n",
    "        if not token.text.lower() in STOP_WORDS and not token.is_punct:\n",
    "            # print(token.text, token.lemma_)\n",
    "            cur_sentence.append(token.lemma_)\n",
    "    sentences.append(cur_sentence)\n",
    "    cur_sentence = []\n",
    "\n",
    "for s in sentences:\n",
    "    print(s)\n",
    "    print()"
   ]
  },
  {
   "cell_type": "code",
   "execution_count": 94,
   "metadata": {},
   "outputs": [
    {
     "name": "stdout",
     "output_type": "stream",
     "text": [
      "Dictionary(64 unique tokens: ['Gard', 'Nîmes', 'blesser', 'déclencher', 'incendie']...)\n",
      "[(0, 0.2131950688824599), (1, 0.31979260332368986), (2, 0.31979260332368986), (3, 0.31979260332368986), (4, 0.15083950856500844), (5, 0.31979260332368986), (6, 0.2131950688824599), (7, 0.31979260332368986), (8, 0.2131950688824599), (9, 0.31979260332368986), (10, 0.31979260332368986), (11, 0.31979260332368986), (12, 0.15083950856500844)]\n",
      "[(13, 0.36650833306891567), (14, 0.36650833306891567), (15, 0.36650833306891567), (16, 0.36650833306891567), (17, 0.36650833306891567), (18, 0.24433888871261045), (19, 0.36650833306891567), (20, 0.36650833306891567)]\n",
      "[(0, 0.17609018126512477), (8, 0.17609018126512477), (21, 0.26413527189768715), (22, 0.5282705437953743), (23, 0.26413527189768715), (24, 0.26413527189768715), (25, 0.26413527189768715), (26, 0.26413527189768715), (27, 0.17609018126512477), (28, 0.26413527189768715), (29, 0.26413527189768715), (30, 0.26413527189768715), (31, 0.26413527189768715)]\n",
      "[(32, 0.5773502691896257), (33, 0.5773502691896257), (34, 0.5773502691896257)]\n",
      "[(12, 0.20863061064644112), (35, 0.2948764407342803), (36, 0.44231466110142054), (37, 0.44231466110142054), (38, 0.44231466110142054), (39, 0.2948764407342803), (40, 0.44231466110142054)]\n",
      "[(4, 0.16448958640832287), (6, 0.23248795384172216), (12, 0.16448958640832287), (27, 0.23248795384172216), (35, 0.23248795384172216), (39, 0.23248795384172216), (41, 0.34873193076258324), (42, 0.34873193076258324), (43, 0.34873193076258324), (44, 0.34873193076258324), (45, 0.34873193076258324), (46, 0.34873193076258324)]\n",
      "[(47, 0.408248290463863), (48, 0.408248290463863), (49, 0.408248290463863), (50, 0.408248290463863), (51, 0.408248290463863), (52, 0.408248290463863)]\n",
      "[(4, 0.13809198698278555), (18, 0.19517784801203136), (53, 0.2927667720180471), (54, 0.2927667720180471), (55, 0.2927667720180471), (56, 0.2927667720180471), (57, 0.2927667720180471), (58, 0.2927667720180471), (59, 0.2927667720180471), (60, 0.2927667720180471), (61, 0.2927667720180471), (62, 0.2927667720180471), (63, 0.2927667720180471)]\n"
     ]
    }
   ],
   "source": [
    "dictionary = corpora.Dictionary(sentences)\n",
    "print(dictionary)\n",
    "doc_term_matrix = [dictionary.doc2bow(doc) for doc in sentences]\n",
    "tfidf = models.TfidfModel(doc_term_matrix)\n",
    "sentences_tfidf = tfidf[doc_term_matrix]\n",
    "for sent in sentences_tfidf:\n",
    "    print(sent)"
   ]
  },
  {
   "cell_type": "code",
   "execution_count": 121,
   "metadata": {},
   "outputs": [
    {
     "name": "stdout",
     "output_type": "stream",
     "text": [
      "[0.3191364025711909, 0.32969486342612486, 0.3577251118510679, 0.30675900745285184, 0.3274685716991899, 0.3347770831900468, 0.3311426885707415, 0.30609653827767835]\n",
      "4\n"
     ]
    }
   ],
   "source": [
    "coherence_values = []\n",
    "model_list = []\n",
    "for num_topics in range(2, 10):\n",
    "    model = LsiModel(sentences_tfidf, num_topics=num_topics, id2word=dictionary)\n",
    "    model_list.append(model)\n",
    "    coherencemodel = CoherenceModel(model=model, texts=sentences, dictionary=dictionary)\n",
    "    coherence_values.append(coherencemodel.get_coherence())\n",
    "\n",
    "print(coherence_values)\n",
    "max_coherence = coherence_values.index(max(coherence_values))\n",
    "num_topics = 2 + max_coherence\n",
    "model = model_list[max_coherence]\n",
    "print(num_topics)\n"
   ]
  },
  {
   "cell_type": "code",
   "execution_count": 123,
   "metadata": {},
   "outputs": [
    {
     "name": "stdout",
     "output_type": "stream",
     "text": [
      "[(0, '-0.281*\"-t\" + -0.281*\"il\" + -0.260*\"être\" + -0.222*\"matin\" + -0.217*\"ajouté\" + -0.217*\"transférer\" + -0.217*\"Marseille\" + -0.217*\"coma\" + -0.205*\"prévenir\" + -0.205*\"secours\"'), (1, '-0.281*\"origine\" + -0.232*\"dernier\" + -0.232*\"instant\" + -0.232*\"immeuble\" + -0.232*\"étage\" + -0.232*\"ignore\" + -0.232*\"feu\" + -0.232*\"prendre\" + -0.189*\"république\" + -0.189*\"accidentel\"'), (2, '0.356*\"appartement\" + 0.210*\"personne\" + 0.210*\"Gard\" + -0.184*\"transférer\" + -0.184*\"coma\" + -0.184*\"ajouté\" + -0.184*\"Marseille\" + 0.178*\"arrivée\" + 0.178*\"pompier\" + 0.178*\"préfet\"'), (3, '-0.373*\"précise\" + -0.373*\"Info\" + -0.373*\"adulte\" + -0.373*\"enfant\" + -0.373*\"France\" + -0.373*\"victime\" + -0.236*\"blessé\" + -0.236*\"dénombre\" + -0.236*\"grave\" + 0.000*\"origine\"')]\n",
      "\n",
      "[(0, -1.9391953183330903), (1, -0.6375553403983308), (2, 1.5240520935268955)]\n",
      "[(0, -0.07596665115147677), (1, -1.9042651179474364), (2, -0.8223732250212842)]\n",
      "[(0, -1.2384109509570864), (1, -0.7474116198400329), (2, 2.8104549543671706)]\n",
      "[(3, -0.7069940858048749)]\n",
      "[(0, -1.6878013462424406), (1, 0.6970255895590033), (2, -1.1125870667135036)]\n",
      "[(0, -2.6205547267103446), (1, 0.34474953813756964), (2, -0.5926601566605476)]\n",
      "[(3, -2.2361392455019122)]\n",
      "[(0, -0.5109342456404832), (1, -2.4565605363228467), (2, -0.8058302996737481)]\n"
     ]
    }
   ],
   "source": [
    "print(model.print_topics(num_topics=num_topics))\n",
    "print()\n",
    "corpus_lsi = model[doc_term_matrix]\n",
    "for score, text in zip(corpus_lsi, doc.sents):\n",
    "    print(score)"
   ]
  },
  {
   "cell_type": "code",
   "execution_count": null,
   "metadata": {},
   "outputs": [],
   "source": []
  }
 ],
 "metadata": {
  "kernelspec": {
   "display_name": "Python 3 (ipykernel)",
   "language": "python",
   "name": "python3"
  },
  "language_info": {
   "codemirror_mode": {
    "name": "ipython",
    "version": 3
   },
   "file_extension": ".py",
   "mimetype": "text/x-python",
   "name": "python",
   "nbconvert_exporter": "python",
   "pygments_lexer": "ipython3",
   "version": "3.8.1"
  }
 },
 "nbformat": 4,
 "nbformat_minor": 4
}
