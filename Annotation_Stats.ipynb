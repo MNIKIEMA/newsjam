{
 "cells": [
  {
   "cell_type": "code",
   "execution_count": null,
   "metadata": {
    "id": "R_tIRFVr0kEQ"
   },
   "outputs": [],
   "source": [
    "import pandas as pd\n",
    "import nltk\n",
    "from nltk.metrics.agreement import AnnotationTask"
   ]
  },
  {
   "cell_type": "code",
   "execution_count": null,
   "metadata": {
    "id": "upnRLoMP0vUm"
   },
   "outputs": [],
   "source": [
    "df = pd.read_csv('~/Downloads/Actu-CSV.csv')"
   ]
  },
  {
   "cell_type": "code",
   "execution_count": null,
   "metadata": {},
   "outputs": [],
   "source": [
    "df"
   ]
  },
  {
   "cell_type": "code",
   "execution_count": null,
   "metadata": {},
   "outputs": [],
   "source": [
    "# So you can see how many columns you have filled in for the annotations (if you don't already know)\n",
    "df.info()"
   ]
  },
  {
   "cell_type": "code",
   "execution_count": null,
   "metadata": {},
   "outputs": [],
   "source": [
    "def calc_iaa(df, num_anno, column1, column2):\n",
    "    \n",
    "    '''\n",
    "    df = dataframe\n",
    "    num_anno = number of annotations to add to the lists\n",
    "    column1 = column with data from annotator 1\n",
    "    column2 = column with data from annotator 2\n",
    "    '''\n",
    "    tags1 = [[] for x in range(num_anno)] # List of annotations from 1st annotator\n",
    "    #for x in range(num_anno):\n",
    "        #tags1.append([])\n",
    "     \n",
    "    # Creating list of all of the annotations with the correct format for nltk\n",
    "    num = 0\n",
    "    for i in tags1:\n",
    "        i.append('A1')\n",
    "        i.append(f'I{num + 1}')\n",
    "        i.append(df[column1][num])\n",
    "        num += 1\n",
    "        \n",
    "        \n",
    "    tags2 = [[] for x in range(num_anno)] # List of annotations from 2nd annotator\n",
    "    #for x in range(num_anno): \n",
    "        #tags2.append([])\n",
    "        \n",
    "    num = 0\n",
    "    for i in tags2:\n",
    "        i.append('A2')\n",
    "        i.append(f'I{num + 1}')\n",
    "        i.append(df[column2][num])\n",
    "        num += 1\n",
    "        \n",
    "        \n",
    "    # Combining the elements of both lists\n",
    "    all_tags = tags1 + tags2\n",
    "        \n",
    "        \n",
    "    # Instantiating AnnotationTask nltk function\n",
    "    task = AnnotationTask(data=all_tags)\n",
    "    \n",
    "    # Calculating coefficients\n",
    "    A0 = task.avg_Ao()\n",
    "    S = task.S()\n",
    "    pi = task.pi()\n",
    "    kappa = task.kappa()\n",
    "\n",
    "    coefficients = {}\n",
    "    coefficients['A0'] = A0\n",
    "    coefficients['S'] = S\n",
    "    coefficients['pi'] = pi\n",
    "    coefficients['kappa'] = kappa\n",
    "\n",
    "    # Printing out the results\n",
    "    for x in coefficients:\n",
    "        print(f'{x}: {coefficients[x]}')"
   ]
  },
  {
   "cell_type": "code",
   "execution_count": null,
   "metadata": {},
   "outputs": [],
   "source": [
    "calc_iaa(df, 787, 'relevance 2 (J)', 'relevance 3 (M)')"
   ]
  }
 ],
 "metadata": {
  "colab": {
   "name": "Annotation_Stats.ipynb",
   "provenance": []
  },
  "kernelspec": {
   "display_name": "Python 3 (ipykernel)",
   "language": "python",
   "name": "python3"
  },
  "language_info": {
   "codemirror_mode": {
    "name": "ipython",
    "version": 3
   },
   "file_extension": ".py",
   "mimetype": "text/x-python",
   "name": "python",
   "nbconvert_exporter": "python",
   "pygments_lexer": "ipython3",
   "version": "3.7.11"
  }
 },
 "nbformat": 4,
 "nbformat_minor": 1
}
