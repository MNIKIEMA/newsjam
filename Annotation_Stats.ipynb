{
 "cells": [
  {
   "cell_type": "code",
   "execution_count": 2,
   "metadata": {
    "id": "R_tIRFVr0kEQ"
   },
   "outputs": [],
   "source": [
    "import pandas as pd\n",
    "import numpy as np"
   ]
  },
  {
   "cell_type": "code",
   "execution_count": 8,
   "metadata": {
    "id": "upnRLoMP0vUm"
   },
   "outputs": [],
   "source": [
    "df = pd.read_csv('~/Desktop/csv_les_republicain_summ.csv')"
   ]
  },
  {
   "cell_type": "code",
   "execution_count": 20,
   "metadata": {},
   "outputs": [
    {
     "data": {
      "text/html": [
       "<div>\n",
       "<style scoped>\n",
       "    .dataframe tbody tr th:only-of-type {\n",
       "        vertical-align: middle;\n",
       "    }\n",
       "\n",
       "    .dataframe tbody tr th {\n",
       "        vertical-align: top;\n",
       "    }\n",
       "\n",
       "    .dataframe thead th {\n",
       "        text-align: right;\n",
       "    }\n",
       "</style>\n",
       "<table border=\"1\" class=\"dataframe\">\n",
       "  <thead>\n",
       "    <tr style=\"text-align: right;\">\n",
       "      <th></th>\n",
       "      <th>date</th>\n",
       "      <th>relevance</th>\n",
       "      <th>relevance 2</th>\n",
       "      <th>summary</th>\n",
       "      <th>text</th>\n",
       "      <th>title</th>\n",
       "      <th>topic</th>\n",
       "      <th>url</th>\n",
       "    </tr>\n",
       "  </thead>\n",
       "  <tbody>\n",
       "    <tr>\n",
       "      <th>0</th>\n",
       "      <td>2021/10/14</td>\n",
       "      <td>1.0</td>\n",
       "      <td>0.0</td>\n",
       "      <td>Suivez avec nous l'évolution de la pandémie de...</td>\n",
       "      <td>22h55 : Le président letton atteint du Covid-1...</td>\n",
       "      <td>Santé. Covid-19 : ce qu'il faut retenir de la ...</td>\n",
       "      <td>NaN</td>\n",
       "      <td>https://www.estrepublicain.fr/sante/2021/10/14...</td>\n",
       "    </tr>\n",
       "    <tr>\n",
       "      <th>1</th>\n",
       "      <td>2020/09/21</td>\n",
       "      <td>1.0</td>\n",
       "      <td>1.0</td>\n",
       "      <td>Vaccination, taux d’incidence, nombre de patie...</td>\n",
       "      <td>En Bourgogne Franche-Comté, 180 patients sont ...</td>\n",
       "      <td>Infographies. Covid-19 : 1 décès supplémentair...</td>\n",
       "      <td>NaN</td>\n",
       "      <td>https://www.estrepublicain.fr/sante/2020/09/21...</td>\n",
       "    </tr>\n",
       "    <tr>\n",
       "      <th>2</th>\n",
       "      <td>2021/10/14</td>\n",
       "      <td>0.0</td>\n",
       "      <td>0.0</td>\n",
       "      <td>Le laboratoire AstraZeneca, qui propose déjà u...</td>\n",
       "      <td>Des essais ont montré que le médicament AZD744...</td>\n",
       "      <td>Covid-19. Le régulateur européen évalue Evushe...</td>\n",
       "      <td>NaN</td>\n",
       "      <td>https://www.estrepublicain.fr/sante/2021/10/14...</td>\n",
       "    </tr>\n",
       "    <tr>\n",
       "      <th>3</th>\n",
       "      <td>2021/10/14</td>\n",
       "      <td>0.0</td>\n",
       "      <td>0.0</td>\n",
       "      <td>L'OMS a dévoilé mercredi une nouvelle équipe d...</td>\n",
       "      <td>Les 26 membres ont été sélectionnés parmi 700 ...</td>\n",
       "      <td>Covid-19. Qui sont les nouveaux experts chargé...</td>\n",
       "      <td>NaN</td>\n",
       "      <td>https://www.estrepublicain.fr/sante/2021/10/14...</td>\n",
       "    </tr>\n",
       "    <tr>\n",
       "      <th>4</th>\n",
       "      <td>2021/10/14</td>\n",
       "      <td>0.0</td>\n",
       "      <td>0.0</td>\n",
       "      <td>Selon une étude américaine publiée mercredi, l...</td>\n",
       "      <td>Cette étude, financée par les Instituts nation...</td>\n",
       "      <td>Covid-19. Un rappel de Moderna ou Pfizer march...</td>\n",
       "      <td>NaN</td>\n",
       "      <td>https://www.estrepublicain.fr/sante/2021/10/14...</td>\n",
       "    </tr>\n",
       "    <tr>\n",
       "      <th>...</th>\n",
       "      <td>...</td>\n",
       "      <td>...</td>\n",
       "      <td>...</td>\n",
       "      <td>...</td>\n",
       "      <td>...</td>\n",
       "      <td>...</td>\n",
       "      <td>...</td>\n",
       "      <td>...</td>\n",
       "    </tr>\n",
       "    <tr>\n",
       "      <th>1362</th>\n",
       "      <td>2021/11/08</td>\n",
       "      <td>NaN</td>\n",
       "      <td>NaN</td>\n",
       "      <td>Ouverte depuis le 1er septembre dernier, la ca...</td>\n",
       "      <td>Plus de deux mois après son lancement, de nomb...</td>\n",
       "      <td>Infographies. Covid-19 : combien de personnes ...</td>\n",
       "      <td>NaN</td>\n",
       "      <td>https://www.estrepublicain.fr/sante/2021/11/08...</td>\n",
       "    </tr>\n",
       "    <tr>\n",
       "      <th>1363</th>\n",
       "      <td>2021/11/08</td>\n",
       "      <td>NaN</td>\n",
       "      <td>NaN</td>\n",
       "      <td>Elle frappe déjà les trois quarts du continent...</td>\n",
       "      <td>Le nombre de contaminations s'envole chaque se...</td>\n",
       "      <td>Santé. Covid-19 : cinq pistes pour limiter la ...</td>\n",
       "      <td>NaN</td>\n",
       "      <td>https://www.estrepublicain.fr/sante/2021/11/08...</td>\n",
       "    </tr>\n",
       "    <tr>\n",
       "      <th>1364</th>\n",
       "      <td>2021/11/08</td>\n",
       "      <td>NaN</td>\n",
       "      <td>NaN</td>\n",
       "      <td>Dans la Meuse, le taux d’incidence au 5 novemb...</td>\n",
       "      <td>« Maintenir une distance physique avec autrui,...</td>\n",
       "      <td>Meuse. Covid-19 : le taux d’incidence proche d...</td>\n",
       "      <td>NaN</td>\n",
       "      <td>https://www.estrepublicain.fr/sante/2021/11/08...</td>\n",
       "    </tr>\n",
       "    <tr>\n",
       "      <th>1365</th>\n",
       "      <td>2021/11/03</td>\n",
       "      <td>NaN</td>\n",
       "      <td>NaN</td>\n",
       "      <td>Il s'agit des départements qui repassent au-de...</td>\n",
       "      <td>\"A partir de la semaine prochaine, de la rentr...</td>\n",
       "      <td>Epidémie. Covid-19 : voici les départements où...</td>\n",
       "      <td>NaN</td>\n",
       "      <td>https://www.estrepublicain.fr/sante/2021/11/03...</td>\n",
       "    </tr>\n",
       "    <tr>\n",
       "      <th>1366</th>\n",
       "      <td>2021/11/07</td>\n",
       "      <td>NaN</td>\n",
       "      <td>NaN</td>\n",
       "      <td>Suivez avec nous l'évolution de la pandémie de...</td>\n",
       "      <td>23h15 : Ce direct est désormais terminé, merci...</td>\n",
       "      <td>Santé. Covid-19 : ce qu'il faut retenir de la ...</td>\n",
       "      <td>NaN</td>\n",
       "      <td>https://www.estrepublicain.fr/sante/2021/11/07...</td>\n",
       "    </tr>\n",
       "  </tbody>\n",
       "</table>\n",
       "<p>1367 rows × 8 columns</p>\n",
       "</div>"
      ],
      "text/plain": [
       "            date  relevance  relevance 2  \\\n",
       "0     2021/10/14        1.0          0.0   \n",
       "1     2020/09/21        1.0          1.0   \n",
       "2     2021/10/14        0.0          0.0   \n",
       "3     2021/10/14        0.0          0.0   \n",
       "4     2021/10/14        0.0          0.0   \n",
       "...          ...        ...          ...   \n",
       "1362  2021/11/08        NaN          NaN   \n",
       "1363  2021/11/08        NaN          NaN   \n",
       "1364  2021/11/08        NaN          NaN   \n",
       "1365  2021/11/03        NaN          NaN   \n",
       "1366  2021/11/07        NaN          NaN   \n",
       "\n",
       "                                                summary  \\\n",
       "0     Suivez avec nous l'évolution de la pandémie de...   \n",
       "1     Vaccination, taux d’incidence, nombre de patie...   \n",
       "2     Le laboratoire AstraZeneca, qui propose déjà u...   \n",
       "3     L'OMS a dévoilé mercredi une nouvelle équipe d...   \n",
       "4     Selon une étude américaine publiée mercredi, l...   \n",
       "...                                                 ...   \n",
       "1362  Ouverte depuis le 1er septembre dernier, la ca...   \n",
       "1363  Elle frappe déjà les trois quarts du continent...   \n",
       "1364  Dans la Meuse, le taux d’incidence au 5 novemb...   \n",
       "1365  Il s'agit des départements qui repassent au-de...   \n",
       "1366  Suivez avec nous l'évolution de la pandémie de...   \n",
       "\n",
       "                                                   text  \\\n",
       "0     22h55 : Le président letton atteint du Covid-1...   \n",
       "1     En Bourgogne Franche-Comté, 180 patients sont ...   \n",
       "2     Des essais ont montré que le médicament AZD744...   \n",
       "3     Les 26 membres ont été sélectionnés parmi 700 ...   \n",
       "4     Cette étude, financée par les Instituts nation...   \n",
       "...                                                 ...   \n",
       "1362  Plus de deux mois après son lancement, de nomb...   \n",
       "1363  Le nombre de contaminations s'envole chaque se...   \n",
       "1364  « Maintenir une distance physique avec autrui,...   \n",
       "1365  \"A partir de la semaine prochaine, de la rentr...   \n",
       "1366  23h15 : Ce direct est désormais terminé, merci...   \n",
       "\n",
       "                                                  title  topic  \\\n",
       "0     Santé. Covid-19 : ce qu'il faut retenir de la ...    NaN   \n",
       "1     Infographies. Covid-19 : 1 décès supplémentair...    NaN   \n",
       "2     Covid-19. Le régulateur européen évalue Evushe...    NaN   \n",
       "3     Covid-19. Qui sont les nouveaux experts chargé...    NaN   \n",
       "4     Covid-19. Un rappel de Moderna ou Pfizer march...    NaN   \n",
       "...                                                 ...    ...   \n",
       "1362  Infographies. Covid-19 : combien de personnes ...    NaN   \n",
       "1363  Santé. Covid-19 : cinq pistes pour limiter la ...    NaN   \n",
       "1364  Meuse. Covid-19 : le taux d’incidence proche d...    NaN   \n",
       "1365  Epidémie. Covid-19 : voici les départements où...    NaN   \n",
       "1366  Santé. Covid-19 : ce qu'il faut retenir de la ...    NaN   \n",
       "\n",
       "                                                    url  \n",
       "0     https://www.estrepublicain.fr/sante/2021/10/14...  \n",
       "1     https://www.estrepublicain.fr/sante/2020/09/21...  \n",
       "2     https://www.estrepublicain.fr/sante/2021/10/14...  \n",
       "3     https://www.estrepublicain.fr/sante/2021/10/14...  \n",
       "4     https://www.estrepublicain.fr/sante/2021/10/14...  \n",
       "...                                                 ...  \n",
       "1362  https://www.estrepublicain.fr/sante/2021/11/08...  \n",
       "1363  https://www.estrepublicain.fr/sante/2021/11/08...  \n",
       "1364  https://www.estrepublicain.fr/sante/2021/11/08...  \n",
       "1365  https://www.estrepublicain.fr/sante/2021/11/03...  \n",
       "1366  https://www.estrepublicain.fr/sante/2021/11/07...  \n",
       "\n",
       "[1367 rows x 8 columns]"
      ]
     },
     "execution_count": 20,
     "metadata": {},
     "output_type": "execute_result"
    }
   ],
   "source": [
    "df"
   ]
  },
  {
   "cell_type": "code",
   "execution_count": 9,
   "metadata": {
    "colab": {
     "base_uri": "https://localhost:8080/"
    },
    "id": "R-8EcuQK1CvT",
    "outputId": "0be15ff1-e3a1-429b-c01b-c2fe9df035e9"
   },
   "outputs": [
    {
     "name": "stdout",
     "output_type": "stream",
     "text": [
      "<class 'pandas.core.frame.DataFrame'>\n",
      "RangeIndex: 1367 entries, 0 to 1366\n",
      "Data columns (total 8 columns):\n",
      " #   Column       Non-Null Count  Dtype  \n",
      "---  ------       --------------  -----  \n",
      " 0   date         1367 non-null   object \n",
      " 1   relevance    691 non-null    float64\n",
      " 2   relevance 2  50 non-null     float64\n",
      " 3   summary      1367 non-null   object \n",
      " 4   text         1367 non-null   object \n",
      " 5   title        1367 non-null   object \n",
      " 6   topic        0 non-null      float64\n",
      " 7   url          1367 non-null   object \n",
      "dtypes: float64(3), object(5)\n",
      "memory usage: 85.6+ KB\n"
     ]
    }
   ],
   "source": [
    "df.info()"
   ]
  },
  {
   "cell_type": "code",
   "execution_count": 11,
   "metadata": {
    "id": "aZ-aLVhs4YEh"
   },
   "outputs": [],
   "source": [
    "rate1 = []\n",
    "for x in range(50):\n",
    "  rate1.append([])"
   ]
  },
  {
   "cell_type": "code",
   "execution_count": 12,
   "metadata": {
    "id": "g8QfjFLp5VEl"
   },
   "outputs": [],
   "source": [
    "num = 0\n",
    "for x in rate1:\n",
    "  x.append('A1')\n",
    "  x.append(f'I{num}')\n",
    "  x.append(df['relevance'][num])\n",
    "  \n",
    "  num += 1"
   ]
  },
  {
   "cell_type": "code",
   "execution_count": 13,
   "metadata": {
    "id": "IdRKUalO66yc"
   },
   "outputs": [],
   "source": [
    "rate2 = []\n",
    "for x in range(50):\n",
    "  rate2.append([])"
   ]
  },
  {
   "cell_type": "code",
   "execution_count": 14,
   "metadata": {
    "id": "L4tVm2WA68Xm"
   },
   "outputs": [],
   "source": [
    "num = 0\n",
    "for x in rate2:\n",
    "  x.append('A2')\n",
    "  x.append(f'I{num}')\n",
    "  x.append(df['relevance 2'][num])\n",
    "  num += 1"
   ]
  },
  {
   "cell_type": "code",
   "execution_count": 15,
   "metadata": {
    "colab": {
     "base_uri": "https://localhost:8080/"
    },
    "id": "oNZRnzjJ_HlQ",
    "outputId": "a80069b1-3776-4b84-ecd0-cbd72c6ce571"
   },
   "outputs": [
    {
     "data": {
      "text/plain": [
       "[['A1', 'I0', 1.0],\n",
       " ['A1', 'I1', 1.0],\n",
       " ['A1', 'I2', 0.0],\n",
       " ['A1', 'I3', 0.0],\n",
       " ['A1', 'I4', 0.0],\n",
       " ['A1', 'I5', 1.0],\n",
       " ['A1', 'I6', 1.0],\n",
       " ['A1', 'I7', 1.0],\n",
       " ['A1', 'I8', 0.0],\n",
       " ['A1', 'I9', 1.0],\n",
       " ['A1', 'I10', 1.0],\n",
       " ['A1', 'I11', 0.0],\n",
       " ['A1', 'I12', 1.0],\n",
       " ['A1', 'I13', 1.0],\n",
       " ['A1', 'I14', 0.0],\n",
       " ['A1', 'I15', 1.0],\n",
       " ['A1', 'I16', 1.0],\n",
       " ['A1', 'I17', 1.0],\n",
       " ['A1', 'I18', 1.0],\n",
       " ['A1', 'I19', 1.0],\n",
       " ['A1', 'I20', 0.0],\n",
       " ['A1', 'I21', 1.0],\n",
       " ['A1', 'I22', 1.0],\n",
       " ['A1', 'I23', 0.0],\n",
       " ['A1', 'I24', 1.0],\n",
       " ['A1', 'I25', 1.0],\n",
       " ['A1', 'I26', 1.0],\n",
       " ['A1', 'I27', 1.0],\n",
       " ['A1', 'I28', 1.0],\n",
       " ['A1', 'I29', 1.0],\n",
       " ['A1', 'I30', 0.0],\n",
       " ['A1', 'I31', 0.0],\n",
       " ['A1', 'I32', 1.0],\n",
       " ['A1', 'I33', 1.0],\n",
       " ['A1', 'I34', 0.0],\n",
       " ['A1', 'I35', 0.0],\n",
       " ['A1', 'I36', 1.0],\n",
       " ['A1', 'I37', 0.0],\n",
       " ['A1', 'I38', 0.0],\n",
       " ['A1', 'I39', 0.0],\n",
       " ['A1', 'I40', 1.0],\n",
       " ['A1', 'I41', 0.0],\n",
       " ['A1', 'I42', 0.0],\n",
       " ['A1', 'I43', 0.0],\n",
       " ['A1', 'I44', 0.0],\n",
       " ['A1', 'I45', 0.0],\n",
       " ['A1', 'I46', 0.0],\n",
       " ['A1', 'I47', 1.0],\n",
       " ['A1', 'I48', 1.0],\n",
       " ['A1', 'I49', 0.0],\n",
       " ['A2', 'I0', 0.0],\n",
       " ['A2', 'I1', 1.0],\n",
       " ['A2', 'I2', 0.0],\n",
       " ['A2', 'I3', 0.0],\n",
       " ['A2', 'I4', 0.0],\n",
       " ['A2', 'I5', 1.0],\n",
       " ['A2', 'I6', 1.0],\n",
       " ['A2', 'I7', 1.0],\n",
       " ['A2', 'I8', 0.0],\n",
       " ['A2', 'I9', 1.0],\n",
       " ['A2', 'I10', 0.0],\n",
       " ['A2', 'I11', 0.0],\n",
       " ['A2', 'I12', 0.0],\n",
       " ['A2', 'I13', 1.0],\n",
       " ['A2', 'I14', 1.0],\n",
       " ['A2', 'I15', 1.0],\n",
       " ['A2', 'I16', 0.0],\n",
       " ['A2', 'I17', 1.0],\n",
       " ['A2', 'I18', 1.0],\n",
       " ['A2', 'I19', 0.0],\n",
       " ['A2', 'I20', 1.0],\n",
       " ['A2', 'I21', 1.0],\n",
       " ['A2', 'I22', 0.0],\n",
       " ['A2', 'I23', 1.0],\n",
       " ['A2', 'I24', 1.0],\n",
       " ['A2', 'I25', 0.0],\n",
       " ['A2', 'I26', 1.0],\n",
       " ['A2', 'I27', 1.0],\n",
       " ['A2', 'I28', 0.0],\n",
       " ['A2', 'I29', 1.0],\n",
       " ['A2', 'I30', 0.0],\n",
       " ['A2', 'I31', 1.0],\n",
       " ['A2', 'I32', 0.0],\n",
       " ['A2', 'I33', 1.0],\n",
       " ['A2', 'I34', 0.0],\n",
       " ['A2', 'I35', 1.0],\n",
       " ['A2', 'I36', 1.0],\n",
       " ['A2', 'I37', 0.0],\n",
       " ['A2', 'I38', 1.0],\n",
       " ['A2', 'I39', 1.0],\n",
       " ['A2', 'I40', 1.0],\n",
       " ['A2', 'I41', 0.0],\n",
       " ['A2', 'I42', 0.0],\n",
       " ['A2', 'I43', 0.0],\n",
       " ['A2', 'I44', 0.0],\n",
       " ['A2', 'I45', 0.0],\n",
       " ['A2', 'I46', 0.0],\n",
       " ['A2', 'I47', 1.0],\n",
       " ['A2', 'I48', 1.0],\n",
       " ['A2', 'I49', 1.0]]"
      ]
     },
     "execution_count": 15,
     "metadata": {},
     "output_type": "execute_result"
    }
   ],
   "source": [
    "for x in rate2:\n",
    "  rate1.append(x)\n",
    "\n",
    "rate1"
   ]
  },
  {
   "cell_type": "code",
   "execution_count": 16,
   "metadata": {
    "id": "yTFLWN9K_UJH"
   },
   "outputs": [],
   "source": [
    "import nltk\n",
    "from nltk.metrics.agreement import AnnotationTask"
   ]
  },
  {
   "cell_type": "code",
   "execution_count": 17,
   "metadata": {
    "id": "exsOPKGmAbwM"
   },
   "outputs": [],
   "source": [
    "task = AnnotationTask(data=rate1)"
   ]
  },
  {
   "cell_type": "code",
   "execution_count": 18,
   "metadata": {
    "colab": {
     "base_uri": "https://localhost:8080/"
    },
    "id": "Fzyy6h-PAIsm",
    "outputId": "efc48c60-e739-4ed4-f1c5-4d1a184e1b8d"
   },
   "outputs": [
    {
     "name": "stdout",
     "output_type": "stream",
     "text": [
      "A0 = 0.660000\n",
      "S = 0.320000\n",
      "pi = 0.313131\n",
      "kappa = 0.313409\n"
     ]
    }
   ],
   "source": [
    "A0 = task.avg_Ao()\n",
    "S = task.S()\n",
    "pi = task.pi()\n",
    "kappa = task.kappa()\n",
    "\n",
    "\n",
    "print (\"A0 = %f\" % task.avg_Ao()) \n",
    "print (\"S = %f\" % task.S())\n",
    "print (\"pi = %f\" % task.pi())\n",
    "print (\"kappa = %f\" % task.kappa())"
   ]
  },
  {
   "cell_type": "code",
   "execution_count": 19,
   "metadata": {
    "colab": {
     "base_uri": "https://localhost:8080/"
    },
    "id": "3A7eGQ1ACQPQ",
    "outputId": "e7568b87-2df4-46b8-dfb7-dedf3f6573b1"
   },
   "outputs": [
    {
     "name": "stdout",
     "output_type": "stream",
     "text": [
      "S_IAA = 0.500000\n",
      "pi_IAA = 0.505000\n",
      "kappa_IAA = 0.504800\n"
     ]
    }
   ],
   "source": [
    "S_IAA = (A0 - S) / (1 - S)\n",
    "pi_IAA = (A0 - pi) / (1 - pi)\n",
    "kap_IAA = (A0 - kappa) / (1 - kappa)\n",
    "\n",
    "\n",
    "print (\"S_IAA = %f\" % S_IAA)\n",
    "print (\"pi_IAA = %f\" % pi_IAA)\n",
    "print (\"kappa_IAA = %f\" % kap_IAA)"
   ]
  }
 ],
 "metadata": {
  "colab": {
   "name": "Annotation_Stats.ipynb",
   "provenance": []
  },
  "kernelspec": {
   "display_name": "Python 3 (ipykernel)",
   "language": "python",
   "name": "python3"
  },
  "language_info": {
   "codemirror_mode": {
    "name": "ipython",
    "version": 3
   },
   "file_extension": ".py",
   "mimetype": "text/x-python",
   "name": "python",
   "nbconvert_exporter": "python",
   "pygments_lexer": "ipython3",
   "version": "3.7.10"
  }
 },
 "nbformat": 4,
 "nbformat_minor": 1
}
