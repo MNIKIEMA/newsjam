{
 "cells": [
  {
   "cell_type": "code",
   "execution_count": 3,
   "id": "0c63af8f",
   "metadata": {},
   "outputs": [],
   "source": [
    "from bs4 import BeautifulSoup\n",
    "import requests\n",
    "import re\n",
    "from datetime import date\n",
    "from datetime import datetime, timedelta\n",
    "import json \n",
    "import locale\n",
    "import csv\n",
    "import pandas as pd\n",
    "from csv import DictWriter\n",
    "from collections import defaultdict"
   ]
  },
  {
   "cell_type": "code",
   "execution_count": 2,
   "id": "7abb1a36",
   "metadata": {},
   "outputs": [],
   "source": [
    "front_page = 'https://www.estrepublicain.fr/sante/coronavirus'"
   ]
  },
  {
   "cell_type": "code",
   "execution_count": 3,
   "id": "c791abf7",
   "metadata": {},
   "outputs": [],
   "source": [
    "def fetch_links(source_website):\n",
    "    \"\"\"this function fetches links from the front page\n",
    "    and returns a list\"\"\"\n",
    "    \n",
    "    list_of_links = []\n",
    "    \n",
    "    #pagination on the website follows a simple pattern\n",
    "    #'https://www.estrepublicain.fr/sante/coronavirus?page=NUMBER_OF_PAGE\n",
    "    #thus, we run a loop \n",
    "    \n",
    "    for i in range(101): \n",
    "        url = source_website + '?page=' + str(i)\n",
    "        page = requests.get(url)    \n",
    "        data = page.text\n",
    "        soup = BeautifulSoup(data)\n",
    "        \n",
    "        #catching bugs if a link doesn't contain a substring\n",
    "        for link in soup.find_all('a'):\n",
    "            try:\n",
    "                if link.get('href').startswith('/sante/2'):\n",
    "                    list_of_links.append('https://www.estrepublicain.fr'+link.get('href'))\n",
    "            except AttributeError:\n",
    "                continue\n",
    "    return list_of_links"
   ]
  },
  {
   "cell_type": "code",
   "execution_count": 309,
   "id": "e4100d2a",
   "metadata": {},
   "outputs": [],
   "source": [
    "big_list = fetch_links('https://www.estrepublicain.fr/sante/coronavirus')"
   ]
  },
  {
   "cell_type": "code",
   "execution_count": 328,
   "id": "efc47f14",
   "metadata": {},
   "outputs": [
    {
     "data": {
      "text/plain": [
       "'https://www.estrepublicain.fr/sante/2021/10/14/covid-19-le-pass-sanitaire-ne-sera-pas-eternel-mais-il-va-etre-prolonge'"
      ]
     },
     "execution_count": 328,
     "metadata": {},
     "output_type": "execute_result"
    }
   ],
   "source": [
    "big_list[0]"
   ]
  },
  {
   "cell_type": "code",
   "execution_count": null,
   "id": "0e4fb380",
   "metadata": {},
   "outputs": [],
   "source": [
    "with open('list_of_links.txt', 'w') as f:\n",
    "    for item in big_list:\n",
    "        f.write(\"%s\\n\" % item)"
   ]
  },
  {
   "cell_type": "code",
   "execution_count": 20,
   "id": "f7a72b4f",
   "metadata": {},
   "outputs": [],
   "source": [
    "def grab_info(link):\n",
    "    \"\"\"this function scrapes information\n",
    "    from a single web page, including text, title, and date\"\"\"\n",
    "    \n",
    "    #headers = { 'User-Agent': 'Mozilla/5.0 (Windows NT 6.0; WOW64; rv:24.0) Gecko/20100101 Firefox/24.0' }\n",
    "    \n",
    "    \n",
    "    page_single = requests.get(link).text\n",
    "    soup_single = BeautifulSoup(page_single)\n",
    "    \n",
    "    #check if the article is not behind a paywall\n",
    "    if soup_single.find_all('div', class_='preview non-paywall2'):\n",
    "        return None\n",
    "    \n",
    "    #fetching the date from the link string\n",
    "    date_from_link = link.split('/sante/')[1].split('/')\n",
    "    date_fin = '/'.join(date_from_link[:3])\n",
    "    \n",
    "    #putting together all the text from the page\n",
    "    text = []\n",
    "    for i in soup_single.find_all('p', class_=None)[8:]:\n",
    "        text.append(i.get_text())\n",
    "    text = text[1:]\n",
    "    text = ' '.join(text)\n",
    "    text = text\n",
    "    \n",
    "    #fetching the title\n",
    "    #two options depending on the page structure\n",
    "    try:\n",
    "        title = soup_single.find('title').get_text()\n",
    "    except:\n",
    "        title = soup_single.find(\"span\",{\"class\":\"headline\"}).next_sibling.lstrip()\n",
    "    \n",
    "    #getting reference summaries\n",
    "    meta_tag = soup_single.find('meta', attrs={'name':'Description'})\n",
    "    summary = meta_tag['content']\n",
    "    \n",
    "    \n",
    "    dictionary = {'date': date_fin,\n",
    "               'summary':summary,\n",
    "               'text':text,\n",
    "               'title':title,\n",
    "               'topic':'',\n",
    "               'url': link}\n",
    "    return dictionary\n",
    "\n",
    "#json.dumps(dictionary, indent = 6, ensure_ascii=False)"
   ]
  },
  {
   "cell_type": "code",
   "execution_count": 21,
   "id": "831052a7",
   "metadata": {},
   "outputs": [
    {
     "data": {
      "text/plain": [
       "{'date': '2021/11/17',\n",
       " 'summary': \"Suivez avec nous l'évolution de la pandémie de Covid-19 en France et dans le monde ce mercredi 17 novembre.\",\n",
       " 'text': '\"On est tous humains\" : le porte-parole du gouvernement Gabriel Attal a défendu le Premier ministre Jean Castex et le ministre de l\\'Intérieur Gérald Darmanin, critiqués à la suite d\\'une vidéo tournée mardi soir les montrant serrant des mains, sans masque, au mépris des gestes barrières.\\xa0Gabriel Attal a\\xa0concédé qu\\'\"il peut y avoir de temps en temps un moment d\\'inattention, un écart\". Interrogé par l\\'AFP, Matignon a précisé que les participants à la soirée étaient soumis à la présentation du pass sanitaire.\\xa0 Dans la vidéo, publiée par un journaliste de La Voix du Nord, on voit Jean\\xa0Castex et Gérald\\xa0Darmanin serrer les mains des élus des Hauts-de-France reçus au ministère de l\\'Intérieur en marge du congrès de l\\'Association des maires de France (AMF) à Paris. Ce contenu est bloqué car vous n\\'avez pas accepté les traceurs. En cliquant sur « J’accepte », les traceurs seront déposés et vous pourrez visualiser les contenus . En cliquant sur « J’accepte tous les traceurs », vous autorisez des dépôts de traceurs pour le stockage de vos données sur nos sites et applications à des fins de personnalisation et de ciblage publicitaire. 20h30 : En Belgique, télétravail obligatoire et port du masque étendu La Belgique va généraliser le port du masque et rendre le télétravail obligatoire pour les emplois qui le permettent, en vue d\\'enrayer le fort rebond de l\\'épidémie dans le pays. A partir de lundi, les employés qui le peuvent devront ainsi télétravailler au moins quatre jours par semaine, une obligation ramenée à trois jours à partir du 13 décembre. Le masque est rendu obligatoire dès l\\'âge de 10 ans, contre 12 ans précédemment, et devra être impérativement porté dans les transports en commun, les bars et restaurants, les théâtres et cinémas, et dans le cadre d\\'évènements publics, y compris en extérieur. Jusqu\\'à présent, le contrôle du passe sanitaire dans les lieux culturels permettait d\\'enlever son masque à l\\'intérieur. Dans le même temps, l\\'usage du passe sanitaire a été étendu à tous les événements publics, y compris les marchés de Noël, à partir de 50 personnes en intérieur (contre 500 actuellement) et 100 en extérieur, aux lieux culturels et aux restaurants-bars y compris lors d\\'évènements privés. 19h35 : Les chiffres épidémiques de ce mercredi - Selon les données de Santé publique France, publiées ce mercredi soir, 7 663 personnes sont actuellement hospitalisées en raison du Covid-19, contre 7 535 mardi. 525 admissions dans les hôpitaux ont été enregistrés en 24 heures. - 1 300 malades du Covid sont actuellement pris en charge dans les services de soins critiques, contre 1 277 la veille. 107 personnes ont été admis dans ses services au cours des 24 dernières heures. - 20 294 nouveaux cas ont été détectés ces dernières 24 heures, un nombre inédit depuis le 18 août dernier, souligne Le Parisien. - Côté vaccination, 51 609 299\\xa0personnes ont reçu au moins une injection (soit\\xa076,5% de la population totale) et\\xa050 530 059\\xa0personnes ont désormais un schéma vaccinal complet (soit 74,9% de la population totale), selon les chiffres du ministère de la Santé.\\xa0 19h05 : L\\'Espagne va élargir la troisième dose aux plus de 60 ans Le gouvernement espagnol a annoncé qu\\'il allait élargir l\\'administration d\\'une troisième dose de vaccin aux personnes de plus de 60 ans et aux professionnels de santé, afin d\\'augmenter leur protection face au rebond de l\\'épidémie. Jusqu\\'ici, l\\'Espagne n\\'administrait une troisième dose qu\\'aux personnes de plus de 70 ans ainsi qu\\'aux résidents en maison de retraite et à certaines personnes immunodéprimées, indépendamment de leur âge. L\\'Espagne est l\\'un des pays au monde où le taux de vaccination est le plus élevé : selon les autorités, 79% des habitants y disposent d\\'un schéma vaccinal complet, contre 75% en France et 68% en Grande-Bretagne et en Allemagne. 17h55 : Fin du partenariat Roche-Atea pour un comprimé anti-Covid Le géant pharmaceutique suisse Roche a mis un terme à son partenariat avec Atea Pharmaceuticals concernant un comprimé anti-Covid, a-t-il annoncé dans la nuit de mardi à mercredi. Le traitement avait essuyé un revers lors d\\'essais cliniques.\\xa0 15h55 : La Suède va instaurer pour la première fois un pass vaccinal La Suède va instaurer à partir du 1er décembre et pour la première fois un pass vaccinal pour les évènements de plus de 100 personnes, face au bond des contaminations en Europe, a annoncé le gouvernement mercredi. Le pays nordique, qui avait décidé à compter du 1er novembre de ne plus tester les personnes totalement vaccinées contre le Covid-19, a également décidé de revenir sur cette décision critiquée. 15h45 : Novavax dépose une demande d\\'autorisation de son vaccin dans l\\'UE Le géant pharmaceutique américain Novavax a déposé une demande d\\'autorisation de son vaccin contre le Covid-19 dans l\\'Union européenne, a annoncé mardi l\\'Agence européenne des médicaments (EMA), précisant qu\\'un avis pourrait être émis en \"quelques semaines\". \"L\\'EMA a commencé à évaluer une demande d\\'autorisation de mise sur le marché conditionnelle pour le vaccin anti-Covid de Novavax\", a déclaré le régulateur européen dans un communiqué, précisant qu\\'un\\xa0\"un avis sur l\\'autorisation de mise sur le marché pourrait être émis en quelques semaines\".\\xa0 Ce vaccin, qui pourrait devenir le cinquième vaccin autorisé au sein de l\\'Union européenne, utilise une technologie différente de celles employées pour les vaccins déjà largement autorisés dans le monde.\\xa0C\\'est un vaccin dit \"sous-unitaire\", à base de protéines qui déclenchent une réponse immunitaire, sans virus. Il peut être stocké à une température d\\'entre 2 et 8°C, ce qui pourrait faciliter sa distribution. 13h51 : De nouvelles restrictions envisagées au Portugal\\xa0 Le Portugal, l\\'un des pays au plus fort taux de vaccination (86%), envisage de nouvelles restrictions pour faire face à une recrudescence de l\\'épidémie marquée par une augmentation des hospitalisations et du nombre de cas. Le président Marcelo Rebelo de Sousa a défendu mardi soir le retour du port du masque obligatoire en extérieur. Le Premier ministre socialiste, Antonio Costa, avait également laissé entendre mardi que le pays pourrait rétablir certaines mesures, notamment à l\\'approche des fêtes de fin d\\'année face à la hausse du nombre de cas en Europe. Le gouvernement prendra des décisions après une réunion prévue vendredi avec des experts scientifiques 13h26 : \"Il\\xa0y a 4 fois plus de tests positifs parmi les non-vaccinés\" \"Partout, l\\'épidémie accélère et le virus reprend du terrain (...) il y a 4 fois plus de tests positifs parmi les non-vaccinés que parmi les complètement vaccinés\" a indiqué ce mercredi midi le porte parole du gouvernement Gabriel Attal, à l\\'issue du conseil des ministres. Il a aussi rassuré : \"Cette vague arrive, mais nous avons de bonnes raisons de penser qu\\'elle n\\'emportera pas tout sur son passage. Nous avons notre destin en main, cela passe par le vaccin, cela passe par les gestes barrières.\" Et d\\'ajouter: \"Nous traversons chaque vague mieux que la précédente.\" Ce contenu est bloqué car vous n\\'avez pas accepté les traceurs. En cliquant sur « J’accepte », les traceurs seront déposés et vous pourrez visualiser les contenus . En cliquant sur « J’accepte tous les traceurs », vous autorisez des dépôts de traceurs pour le stockage de vos données sur nos sites et applications à des fins de personnalisation et de ciblage publicitaire. 13h07 : Les marchés de Noël allemands craignent que le Covid ne gâche encore la fête Confrontée à une virulente nouvelle vague épidémique, l\\'Allemagne prépare des mesures pour tenter d\\'endiguer le retour du Covid-19. Les commerçants présents sur les marchés de Noël attendent nerveusement les décisions qui pourraient sonner le glas de leurs espoirs. Munich a déjà annoncé l\\'annulation de son marché de Noël, l\\'un des plus grands du pays, dans une région, la Bavière, où le nombre de nouveaux cas s\\'est envolé. La ville de Dresde doit quant à elle réexaminer la situation le 25 novembre. Le gouvernement allemand et les dirigeants des 16 Etats-régions se réunissent jeudi pour discuter d\\'un plan de riposte national.  12h10 :\\xa0L\\'Académie de médecine recommande de ne pas vacciner tous les enfants Les vaccins anti-Covid ne doivent pas être donnés à tous les enfants mais certains d\\'entre eux devraient en bénéficier, a estimé ce mercredi l\\'Académie française de médecine, prenant une position médiane face à un regain de polémiques sur le sujet. Elle\\xa0recommande d\\'élargir l\\'immunisation par le vaccin (de Pfizer/BioNTech) aux enfants à risque de formes graves en raison de comorbidités, quel que soit leur âge, ainsi qu\\'aux autres enfants vivant dans leur environnement familial et scolaire\",\\xa0souligne le\\xa0communiqué. Elle\\xa0recommande aussi de vacciner \"les enfants vivant dans l\\'entourage d\\'adultes vulnérables, en particulier les immunodéprimés et les personnes atteintes de maladies chroniques\".  10h56 : \"Nous devrions pouvoir limiter l’impact de cette cinquième vague\" Le système de soins a \"probablement la capacité\" de faire face à la cinquième vague de Covid-19 qui touche la France, si \"tous les outils\" comme la vaccination et les gestes barrières sont utilisés au maximum, a déclaré ce mercredi le président du Conseil scientifique. Interrogé sur France Inter, le professeur Jean-François Delfraissy a souligné\\xa0la nécessité de mieux appliquer le pass sanitaire, de remettre le plus possible le masque ou encore d\\'améliorer la couverture vaccinale pour ceux qui n\\'ont pas encore reçu d\\'injection, ou de dose de rappel pour la population concernée. Selon les modélisations, plus d\\'un millier d\\'hospitalisations quotidiennes sont attendues d\\'ici à décembre/janvier. 10h51:\\xa0Le port du masque en extérieur obligatoire dans certains lieux jusqu\\'au 10 janvier 2022 dans le Nord Dans le département du Nord le port du masque sera obligatoire en extérieur et jusqu\\'au 10 janvier 2022 dans les lieux suivants avertit la préfecture : les files d\\'attente, les regroupements de plus de 10 personnes sur la voie publique, les zones piétonnes, les marchés de Noël, les fêtes foraines, les stades. \\xa0La mesure concerne les personnes âgées de 11 ans et plus. Seuls les parcs et jardins ne font pas partie de la liste pour le moment. Ce contenu est bloqué car vous n\\'avez pas accepté les traceurs. En cliquant sur « J’accepte », les traceurs seront déposés et vous pourrez visualiser les contenus . En cliquant sur « J’accepte tous les traceurs », vous autorisez des dépôts de traceurs pour le stockage de vos données sur nos sites et applications à des fins de personnalisation et de ciblage publicitaire. 10h30 : La lenteur de la vaccination est une menace pour la stabilité financière La Banque centrale européenne (BCE) estime ce mercredi que la lenteur du rythme de la vaccination dans certaines parties du monde pourrait menacer la stabilité financière, même si la reprise économique est déjà bien engagée.\\xa0La reprise économique en cours, avec une activité soutenue dans les entreprises de la zone euro, a \"réduit bon nombre de nos pires craintes concernant les cicatrices économiques et l\\'augmentation du risque d\\'impayés de crédit\" dans le sillage du Covid-19, affirme l\\'institution. Mais \"les risques liés à la pandémie n\\'ont pas totalement disparu, notamment parce que les progrès de la vaccination sont restés lents dans de nombreuses régions du monde\", poursuit le vice-président de la BCE\\xa0dans son rapport semestriel sur la stabilité financière. 9h55 : La grève générale se poursuit en Guadeloupe En Guadeloupe, la grève générale illimitée contre l\\'obligation vaccinale des soignants et le pass sanitaire s\\'est poursuivie mardi, notamment au CHU de Pointe-à-Pitre, au lendemain des heurts entre des pompiers grévistes et des gendarmes. Une manifestation a rassemblé entre 300 et 400 personnes mardi matin devant l\\'hôpital. 9h53 : Un rappel de vaccin aux plus de 18 ans à Chypre Les autorités sanitaires de la République de Chypre ont indiqué qu\\'elles proposeraient progressivement un rappel du vaccin anti-covid aux personnes de plus de 18 ans, à la suite d\\'une hausse des cas quotidiens et des hospitalisations. Le ministère de la Santé a affirmé que les doses de rappel seraient disponibles sans rendez-vous à partir de mercredi dans des centres dédiés pour toute personne âgée de plus de 40 ans s\\'étant fait vacciner six mois auparavant.  9h09 : Le professeur Delfraissy appelle à un retour massif du masque Le président du conseil scientifique, le professeur Jean-François Delfraissy a appelé ce mercredi matin, sur France inter, à un retour massif du masque et à une application plus stricte du pass sanitaire. \"Si je porte un masque ce matin, ce n\\'est pas par hasard. Je sais que tout le monde en a marre, mais il faut remettre le masque\" a-t-il déclaré. Ce contenu est bloqué car vous n\\'avez pas accepté les traceurs. En cliquant sur « J’accepte », les traceurs seront déposés et vous pourrez visualiser les contenus . En cliquant sur « J’accepte tous les traceurs », vous autorisez des dépôts de traceurs pour le stockage de vos données sur nos sites et applications à des fins de personnalisation et de ciblage publicitaire. 8h55 : \"On n\\'aurait jamais dû enlever le masque\" à l\\'école Pour le professeur Gilles Pialoux, chef du service des maladies infectieuses à l\\'hôpital Tenon, à Paris, ce mercredi matin sur BFMTV \"on n\\'aurait jamais dû enlever le masque\" à l\\'école. \"Il ne faut pas plaider pour la libre circulation du virus chez les enfants\" a-t-il souligné. Et d\\'ajouter : \"Il ne faut pas laisser le virus circuler chez les enfants, car c\\'est un mythe l\\'immunité collective.\" Ce contenu est bloqué car vous n\\'avez pas accepté les traceurs. En cliquant sur « J’accepte », les traceurs seront déposés et vous pourrez visualiser les contenus . En cliquant sur « J’accepte tous les traceurs », vous autorisez des dépôts de traceurs pour le stockage de vos données sur nos sites et applications à des fins de personnalisation et de ciblage publicitaire. 8h44 : Une vaccination contre le Covid tous les ans ? \"C\\'est une question à laquelle je ne sais pas répondre\", a dit le président du conseil scientifique Jean-François Delfraissy, sur France inter ce mercredi matin. \"Il n\\'est pas exclu qu\\'on aboutisse à la construction d\\'un vaccin régulier, tous les ans par exemple.\" Le professeur a affirmé que la troisième dose (le rappel) du vaccin \"est efficace dans les 48 heures\". Ce contenu est bloqué car vous n\\'avez pas accepté les traceurs. En cliquant sur « J’accepte », les traceurs seront déposés et vous pourrez visualiser les contenus . En cliquant sur « J’accepte tous les traceurs », vous autorisez des dépôts de traceurs pour le stockage de vos données sur nos sites et applications à des fins de personnalisation et de ciblage publicitaire. 8h42 :\\xa0\"Il n\\'y a pas d\\'urgence\" à proposer une dose de rappel du vaccin aux moins de 50 ans \"Il n\\'y a pas d\\'urgence\" à proposer une dose de rappel du vaccin aux moins de 50 ans, a expliqué le\\xa0président du conseil scientifique Jean-Francois Delfraissy, sur France inter ce mercredi matin. Ces derniers ont terminé leur schéma vaccinal plus récemment que leurs aînés donc il faut que ce soit les plus âgés en priorité qui soient vaccinés. La dose de rappel est en effet recommandée six mois après l\\'injection de la précédente. \"J\\'ai dit, en septembre, à titre personnel, que nous irions vers une troisième dose pour tous donc je ne vais pas revenir en arrière\", a cependant rappelé Jean-François Delfraissy. Ce contenu est bloqué car vous n\\'avez pas accepté les traceurs. En cliquant sur « J’accepte », les traceurs seront déposés et vous pourrez visualiser les contenus . En cliquant sur « J’accepte tous les traceurs », vous autorisez des dépôts de traceurs pour le stockage de vos données sur nos sites et applications à des fins de personnalisation et de ciblage publicitaire. 8h40 : \"On est en alerte sanitaire\" selon le professeur Gilles Pialoux \"On est en alerte sanitaire mais c\\'est complètement différent de l\\'hiver dernier\", a souligné le professeur Gilles Pialoux, chef du service des maladies infectieuses à l\\'hôpital Tenon, à Paris, ce mercredi matin sur BFMTV. Pour lui \"il y a trois inconnues\" : est-ce que l\\'on va pouvoir faire monter notre taux de vaccination, quel va être l\\'impact des virus hivernaux et comment les hôpitaux vont-ils faire face car ils sont sous tension ? Pour les fêtes de Noël \"il va falloir être vigilants\" alerte-t-il. Car, entre autres, \"la vaccination ne protège pas pleinement contre le risque de transmission du virus\" a-t-il rappelé. Il encourage aussi à se faire vacciner contre la grippe pur éviter un engorgement des hôpitaux. Ce contenu est bloqué car vous n\\'avez pas accepté les traceurs. En cliquant sur « J’accepte », les traceurs seront déposés et vous pourrez visualiser les contenus . En cliquant sur « J’accepte tous les traceurs », vous autorisez des dépôts de traceurs pour le stockage de vos données sur nos sites et applications à des fins de personnalisation et de ciblage publicitaire. 7h50 : Seules les personnes vaccinées pourront accéder à Europa-Park Le parc d\\'attractions Europa-Park, à Rust, près de la frontière française, en Allemagne a durci ses conditions d\\'accès au site en raison de la hausse des contaminations. Sur Twitter le parc, un des plus fréquenté d\\'Europe, indique que seules les personnes vaccinées pourront y accéder. \"Pour les personnes non vaccinées ou non guéries, il n’est plus possible de visiter Europa-Park en présentant un test (PCR ou antigénique)\" est-il écrit. Ce contenu est bloqué car vous n\\'avez pas accepté les traceurs. En cliquant sur « J’accepte », les traceurs seront déposés et vous pourrez visualiser les contenus . En cliquant sur « J’accepte tous les traceurs », vous autorisez des dépôts de traceurs pour le stockage de vos données sur nos sites et applications à des fins de personnalisation et de ciblage publicitaire. 7h26 :\\xa01 000 hospitalisations par jour d’ici à janvier Dans une interview à 20 Minutes, le ministre de la Santé Olivier Véran indique que \"de premières modélisations font état d’un risque de dépasser les 1 000 hospitalisations par jour d’ici à janvier\". \"La quatrième vague cet été a été courte et ne s’est pas accompagnée d’une surcharge hospitalière massive. Mais les conditions climatiques sont beaucoup plus favorables à la circulation virale. Il fait froid, humide, on se retrouve davantage à l’intérieur\" a souligné le ministre craignant donc un afflux dans les hôpitaux. 6h59 :\\xa0La santé mentale des jeunes mise en péril par la crise sanitaire La Défenseure des droits Claire Hédon alerte mercredi sur l\\'état de la santé mentale des jeunes mis à mal par la crise sanitaire, avec une augmentation des troubles dépressifs et une insuffisante prise en charge psychiatrique, dans son rapport annuel sur les droits de l\\'enfant. \"Il a été démontré que le premier confinement a conduit à une hausse générale des syndromes dépressifs et même à un doublement chez les 15-24 ans (10% d\\'entre eux présentaient un syndrome dépressif en 2019, contre plus de 20% en 2020)\", relève-t-on dans ce rapport qui constate une hausse des \"troubles anxieux\" et \"phobies sociales\".  Ce contenu est bloqué car vous n\\'avez pas accepté les traceurs. En cliquant sur « J’accepte », les traceurs seront déposés et vous pourrez visualiser les contenus . En cliquant sur « J’accepte tous les traceurs », vous autorisez des dépôts de traceurs pour le stockage de vos données sur nos sites et applications à des fins de personnalisation et de ciblage publicitaire. 6h46 : Le maire de New York promet le retour de la fête du Nouvel An à Times Square Le maire de New York, Bill de Blasio, a promis mardi le retour des foules pour la fête du Nouvel An sur la place de Times Square, après son annulation en 2020/2021 à cause de la pandémie qui a meurtri la ville et le monde. Il a cependant aussitôt précisé que pour entrer dans les lieux, une « preuve de vaccination » serait nécessaire. Les seules exceptions possibles concernent les enfants de moins de 5 ans ou les personnes ayant une incompatibilité médicale avec le vaccin, lesquelles devront fournir un test négatif de moins de 72 heures.   6h32 : Nouvelles restrictions en Irlande Le gouvernement irlandais a annoncé mardi la mise en place de nouvelles restrictions pour enrayer une résurgence du coronavirus en Irlande et préserver le système de santé, dont le télétravail et un couvre-feu pour les bars et restaurants. Même vaccinées, les personnes entrées en contact avec un cas confirmé de coronavirus devront « restreindre leurs mouvements » durant cinq jours. Le pass sanitaire est étendu et la limite pour recevoir une troisième dose est abaissée à 50 ans, contre 60 auparavant.  6h20 : La ville de Pékin réduit les vols à l\\'approche des JO Pékin a instauré ce mercredi de nouvelles restrictions à l\\'entrée de la capitale chinoise, réduisant considérablement les vols en provenance du reste du pays par crainte d\\'une transmission du Covid-19.\\xa0A deux mois et demi de l\\'ouverture des Jeux olympiques d\\'hiver le 4 février prochain, la Chine cherche à tout prix à limiter les risques de contamination, conformément à sa politique de zéro Covid. 5h47 : Pfizer accélère sur sa pilule anti-Covid Le géant pharmaceutique américain Pfizer a accepté mardi de laisser diffuser sa pilule anti-Covid –\\u202fune fois autorisée\\u202f– au-delà des pays riches pour mieux combattre une pandémie qui fait des ravages depuis près de deux ans. Début novembre, Pfizer, qui commercialise avec l\\'allemand BioNTech l\\'un des vaccins les plus efficaces contre le Covid, a publié des résultats intermédiaires d\\'essais cliniques de son antiviral oral PF-07321332 ou Paxlovid. Ils montrent une efficacité de 89% pour prévenir le risque d\\'hospitalisation ou de décès chez les adultes présentant un risque élevé de développer une forme grave du Covid. Pfizer rejoint ainsi son concurrent Merck, qui a conclu un pacte similaire avec la MPP pour son propre anti-Covid oral, le Molnupiravir, aussi très efficace. Si ces résultats prometteurs sont confirmés, la disponibilité du traitement \"sera une question de mois, pas d\\'années mais pas de semaines non plus\", a souligné Esteban Burrone, responsable de l\\'élaboration des politiques à la MPP. Pfizer a d\\'ailleurs demandé mardi l\\'autorisation de mise sur le marché en urgence aux Etats-Unis. 5h46 : La France \"en alerte\" mais pas de confinement \"prévu\" \"On est en état d\\'alerte,il y a une incidence, un nombre de contaminations qui a augmenté très fortement encore la dernière semaine, quasiment +50%\", a déclaré mardi le porte-parole du gouvernement Gabriel Attal sur France Inter. Même si \"on a des raisons d\\'être confiants\", avec un taux élevé de vaccination de la population, et même si \"on a une situation qui est moins dégradée que nos voisins\", \"évidemment qu\\'il y a une vigilance absolue\", a-t-il insisté. Mais il se veut néanmoins rassurant :\\xa0\"il n\\'y a absolument aucun confinement qui est prévu aujourd\\'hui, ni de près ni de loin\". Le\\xa0secrétaire d\\'Etat a précisé :\\xa0\"Il ne faut jamais rien exclure par principe\" dans cette crise sanitaire. Une étude de Santé publique France paru mardi confirme que la vaccination a eu \"un impact important sur l\\'épidémie, notamment pour les personnes éligibles en priorité\". Plus d\\'informations dans notre article. 5h45 : Près de 20 000 contaminations mardi Santé publique France a recensé mardi 19 778 cas positifs au Covid-19. Il s\\'agit du bilan quotidien des contaminations\\xa0le plus élevé depuis… le 25 août. 7 535 malades du Covid étaient hospitalisées mardi, contre 7\\xa0361 lundi. Dans les services de soins critiques, 1 277 personnes\\xa0étaient pris en charge mardi pour une infection au coronavirus, contre 1 257 la veille. 5h45 : Bonjour à tous et bienvenue dans ce direct consacré à l\\'actualité de la pandémie de Covid-19 en France et dans le monde.',\n",
       " 'title': 'En direct. Covid-19 : plus de 20 000 nouveaux cas en 24h, 1 300 malades en soins critiques',\n",
       " 'topic': '',\n",
       " 'url': 'https://www.estrepublicain.fr/sante/2021/11/17/covid-19-les-contaminations-en-forte-hausse-espoir-autour-du-traitement-de-pfizer'}"
      ]
     },
     "execution_count": 21,
     "metadata": {},
     "output_type": "execute_result"
    }
   ],
   "source": [
    "grab_info('https://www.estrepublicain.fr/sante/2021/11/17/covid-19-les-contaminations-en-forte-hausse-espoir-autour-du-traitement-de-pfizer')"
   ]
  },
  {
   "cell_type": "code",
   "execution_count": 77,
   "id": "e4f12e0e",
   "metadata": {},
   "outputs": [],
   "source": [
    "def fetch_summaries(li_of_links):\n",
    "    d = defaultdict()\n",
    "    for i in li_of_links:\n",
    "        try:\n",
    "            page_single = requests.get(i).text\n",
    "            soup_single = BeautifulSoup(page_single)\n",
    "            meta_tag = soup_single.find('meta', attrs={'name':'Description'})\n",
    "            summary = meta_tag['content']\n",
    "            d[i]=summary\n",
    "        except:\n",
    "            print(i)\n",
    "            pass\n",
    "    return dict(d)"
   ]
  },
  {
   "cell_type": "code",
   "execution_count": 145,
   "id": "4e098c8b",
   "metadata": {},
   "outputs": [],
   "source": [
    "def clean_text(row):\n",
    "    search='Ce contenu est bloqué car vous n\\'avez pas accepté les traceurs. En cliquant sur « J’accepte », les traceurs seront déposés et vous pourrez visualiser les contenus . En cliquant sur « J’accepte tous les traceurs », vous autorisez des dépôts de traceurs pour le stockage de vos données sur nos sites et applications à des fins de personnalisation et de ciblage publicitaire.'\n",
    "    if search in str(row):\n",
    "        print('yes')\n",
    "        spl = row.split(search)\n",
    "        new_row = ' '.join(spl)\n",
    "        return new_row\n",
    "    return row"
   ]
  },
  {
   "cell_type": "code",
   "execution_count": 159,
   "id": "028851f2",
   "metadata": {},
   "outputs": [],
   "source": [
    "def delete_cas(row):\n",
    "    search = 'CAS N°1 : Vous (ou une autre personne) utilisez plus de $this.View.AuthResponse.DeviceLimit appareils et/ou navigateurs en même temps →\\r\\n\\t\\t\\t\\t\\t\\t\\t\\tDéconnectez-vous des appareils et/ou navigateurs que vous n\\'utilisez pas CAS N°2 : Vous naviguez en mode privé →\\r\\n\\t\\t\\t\\t\\t\\t\\t\\tDéconnectez-vous systématiquement avant de fermer la fenêtre du navigateur CAS N°3 : Vous refusez les cookies de connexion dans les paramètres de votre navigateur (ou une mise à jour a modifié vos paramètres) →\\r\\n\\t\\t\\t\\t\\t\\t\\t\\tChanger les paramètres d\\'acceptation des cookies de votre navigateur DANS TOUS LES CAS → cliquer sur \"continuer sur cet appareil\" résout le problème Que se passe-t-il si je clique sur \"continuer sur cet appareil\" ?\\r\\n\\t\\t\\t\\t\\t\\t\\t\\tVous pourrez profiter de votre compte sur cet appareil et tous vos autres appareils\\r\\n\\t\\t\\t\\t\\t\\t\\t\\tseront déconnectés. Vous pourrez toujours vous y reconnecter, dans la limite de\\r\\n\\t\\t\\t\\t\\t\\t\\t\\t$this.View.AuthResponse.DeviceLimit appareils. Comment puis-je voir les appareils connectés ?\\r\\n\\t\\t\\t\\t\\t\\t\\t\\tRendez-vous dans votre espace client puis cliquez sur \"gérer les équipements\". Si vous y allez après avoir cliqué sur \"Continuer sur cet appareil\", il ne devrait y en avoir qu\\'un seul. Retrouvez tous nos contenus et notre journal en numériqueTéléchargez gratuitement l\\'app'\n",
    "    if search in str(row):\n",
    "        return row[len(search):]\n",
    "    return row"
   ]
  },
  {
   "cell_type": "code",
   "execution_count": 7,
   "id": "3d169996",
   "metadata": {},
   "outputs": [],
   "source": [
    "def list_of_dic(source):\n",
    "    list_of_dic = []\n",
    "    with open(source, \"r\") as a_file:\n",
    "        for idx,line in enumerate(a_file):\n",
    "            try:\n",
    "                stripped_line = line.strip()\n",
    "                dic=grab_info(stripped_line)\n",
    "                print(idx)\n",
    "                if dic['text']:\n",
    "                    list_of_dic.append(dic)\n",
    "            except ConnectionError:\n",
    "                continue\n",
    "    return list_of_dic"
   ]
  },
  {
   "cell_type": "code",
   "execution_count": 47,
   "id": "528af9c5",
   "metadata": {},
   "outputs": [],
   "source": [
    "def write_csv(li_of_li, file_name):\n",
    "    \"\"\"this function writes a csv file\n",
    "    from a list of lists\"\"\"\n",
    "    with open(file_name, \"wb\") as f:\n",
    "        writer = csv.writer(f)\n",
    "        writer.writerows(li_of_li)"
   ]
  },
  {
   "cell_type": "code",
   "execution_count": 85,
   "id": "7f483db8",
   "metadata": {},
   "outputs": [],
   "source": [
    "#ensure_ascii=False makes sure that french special characters are read correctly\n",
    "\n",
    "with open('lest_republicain_summaries.json', 'w') as f:\n",
    "    json.dump(li, f, ensure_ascii=False)"
   ]
  },
  {
   "cell_type": "code",
   "execution_count": 86,
   "id": "9c519cf8",
   "metadata": {},
   "outputs": [],
   "source": [
    "#converting a json to a csv file for convenience\n",
    "\n",
    "data_file = open('csv_les_republicain_summ.csv', 'w', newline='')\n",
    "csv_writer = csv.writer(data_file)\n",
    "\n",
    "with open('lest_republicain_summaries.json') as json_file:\n",
    "    jsondata = json.load(json_file)\n",
    "\n",
    "    \n",
    "count = 0\n",
    "for data in jsondata:\n",
    "    if count == 0:\n",
    "        header = data.keys()\n",
    "        csv_writer.writerow(header)\n",
    "        count += 1\n",
    "    csv_writer.writerow(data.values())\n",
    "\n",
    "data_file.close()"
   ]
  },
  {
   "cell_type": "code",
   "execution_count": null,
   "id": "aa73f652",
   "metadata": {},
   "outputs": [],
   "source": [
    "#use a set or hashmap"
   ]
  },
  {
   "cell_type": "code",
   "execution_count": 4,
   "id": "23a791d5",
   "metadata": {},
   "outputs": [],
   "source": [
    "def update_csv(source_link):\n",
    "    \n",
    "    links_file = open('list_of_links-Copy1.txt', 'r')\n",
    "    reader = csv.reader(links_file)\n",
    "    allRows = [row[0] for row in reader]\n",
    "    \n",
    "    li_of_links = []\n",
    "    \n",
    "    for i in range(101):\n",
    "        find = False\n",
    "\n",
    "        url = source_link + '?page=' + str(i)\n",
    "        page = requests.get(url)    \n",
    "        data = page.text\n",
    "        soup = BeautifulSoup(data)\n",
    "\n",
    "\n",
    "        #catching bugs if a link doesn't contain a substring\n",
    "        for link in soup.find_all('a'):\n",
    "\n",
    "            if link.get('href')and link.get('href').startswith('/sante/2'):\n",
    "                link_full = 'https://www.estrepublicain.fr'+link.get('href')\n",
    "                if link_full in allRows and link_full != 'https://www.estrepublicain.fr/sante/2020/09/21/coronavirus-suivez-l-evolution-du-taux-d-incidence-dans-le-grand-est-et-en-bourgogne-franche-comte':\n",
    "                    print(link_full)\n",
    "                    find = True\n",
    "                li_of_links.append(link_full+'\\n')\n",
    "\n",
    "\n",
    "                dic = grab_info(link_full)\n",
    "                headersCSV = dic.keys()\n",
    "                with open('csv_les_republicain-Copy1.csv', 'a', newline='') as f_object:\n",
    "                    # Pass the CSV  file object to the Dictwriter() function\n",
    "                    # Result - a DictWriter object\n",
    "                    dictwriter_object = DictWriter(f_object, fieldnames=headersCSV)\n",
    "                    # Pass the data in the dictionary as an argument into the writerow() function\n",
    "                    dictwriter_object.writerow(dic)\n",
    "                    # Close the file object\n",
    "                    f_object.close()\n",
    "\n",
    "        if find:\n",
    "            break\n",
    "\n",
    "\n",
    "    with open('list_of_links-Copy1.txt','a') as out:\n",
    "        out.writelines(li_of_links)"
   ]
  },
  {
   "cell_type": "code",
   "execution_count": 42,
   "id": "6d0cd2b3",
   "metadata": {},
   "outputs": [],
   "source": [
    "def get_new(source='https://www.estrepublicain.fr/sante/coronavirus'):\n",
    "    url = source\n",
    "    page = requests.get(url)    \n",
    "    data = page.text\n",
    "    soup = BeautifulSoup(data)\n",
    "\n",
    "\n",
    "    #catching bugs if a link doesn't contain a substring\n",
    "    li_of_dict = []\n",
    "    for link in soup.find_all('a'):\n",
    "        date_today = str(datetime.today().strftime('%Y/%m/%d'))\n",
    "        if link.get('href') and link.get('href').startswith('/sante/2'):\n",
    "            link_full = 'https://www.estrepublicain.fr'+link.get('href')\n",
    "            date_from_link = link_full.split('/sante/')[1].split('/')\n",
    "            date_fin = '/'.join(date_from_link[:3])\n",
    "            if date_fin == date_today:\n",
    "                info = grab_info(link_full)\n",
    "                if info:\n",
    "                    li_of_dict.append(info)\n",
    "    keys = list(li_of_dict[0].keys())\n",
    "\n",
    "    a_file = open(\"lest_rep_today.csv\", \"w\")\n",
    "    dict_writer = csv.DictWriter(a_file, keys)\n",
    "    dict_writer.writeheader()\n",
    "    dict_writer.writerows(li_of_dict)\n",
    "    a_file.close()"
   ]
  },
  {
   "cell_type": "code",
   "execution_count": 43,
   "id": "e5e2b072",
   "metadata": {},
   "outputs": [],
   "source": [
    "get_new(source='https://www.estrepublicain.fr/sante/coronavirus')"
   ]
  },
  {
   "cell_type": "code",
   "execution_count": 44,
   "id": "c035e9cc",
   "metadata": {},
   "outputs": [],
   "source": [
    "data = pd.read_csv(\"lest_rep_today.csv\")"
   ]
  },
  {
   "cell_type": "code",
   "execution_count": 45,
   "id": "bd07d99f",
   "metadata": {},
   "outputs": [
    {
     "data": {
      "text/html": [
       "<div>\n",
       "<style scoped>\n",
       "    .dataframe tbody tr th:only-of-type {\n",
       "        vertical-align: middle;\n",
       "    }\n",
       "\n",
       "    .dataframe tbody tr th {\n",
       "        vertical-align: top;\n",
       "    }\n",
       "\n",
       "    .dataframe thead th {\n",
       "        text-align: right;\n",
       "    }\n",
       "</style>\n",
       "<table border=\"1\" class=\"dataframe\">\n",
       "  <thead>\n",
       "    <tr style=\"text-align: right;\">\n",
       "      <th></th>\n",
       "      <th>date</th>\n",
       "      <th>summary</th>\n",
       "      <th>text</th>\n",
       "      <th>title</th>\n",
       "      <th>topic</th>\n",
       "      <th>url</th>\n",
       "    </tr>\n",
       "  </thead>\n",
       "  <tbody>\n",
       "    <tr>\n",
       "      <th>0</th>\n",
       "      <td>2021/11/18</td>\n",
       "      <td>Suivez avec nous l'évolution de la pandémie de...</td>\n",
       "      <td>Un couple de Roubaisiens va être jugé en décem...</td>\n",
       "      <td>En direct. Covid-19 : pas de décision sur la v...</td>\n",
       "      <td>NaN</td>\n",
       "      <td>https://www.estrepublicain.fr/sante/2021/11/18...</td>\n",
       "    </tr>\n",
       "    <tr>\n",
       "      <th>1</th>\n",
       "      <td>2021/11/18</td>\n",
       "      <td>L’établissement est fermé au public depuis lun...</td>\n",
       "      <td>À l’origine, « une salariée asymptomatique, po...</td>\n",
       "      <td>Giromagny. 18 cas de Covid à l’Ehpad Saint-Jos...</td>\n",
       "      <td>NaN</td>\n",
       "      <td>https://www.estrepublicain.fr/sante/2021/11/18...</td>\n",
       "    </tr>\n",
       "    <tr>\n",
       "      <th>2</th>\n",
       "      <td>2021/11/18</td>\n",
       "      <td>Selon les dernières données publiées par Santé...</td>\n",
       "      <td>Une situation épidémique similaire aux autres ...</td>\n",
       "      <td>Meuse. Covid-19 : le taux d’incidence est en h...</td>\n",
       "      <td>NaN</td>\n",
       "      <td>https://www.estrepublicain.fr/sante/2021/11/18...</td>\n",
       "    </tr>\n",
       "    <tr>\n",
       "      <th>3</th>\n",
       "      <td>2021/11/18</td>\n",
       "      <td>Lunéville renoue avec un centre de vaccination...</td>\n",
       "      <td>A compter du lundi 22 novembre, retour dans la...</td>\n",
       "      <td>Lunéville. 3e déménagement pour le centre de v...</td>\n",
       "      <td>NaN</td>\n",
       "      <td>https://www.estrepublicain.fr/sante/2021/11/18...</td>\n",
       "    </tr>\n",
       "  </tbody>\n",
       "</table>\n",
       "</div>"
      ],
      "text/plain": [
       "         date                                            summary  \\\n",
       "0  2021/11/18  Suivez avec nous l'évolution de la pandémie de...   \n",
       "1  2021/11/18  L’établissement est fermé au public depuis lun...   \n",
       "2  2021/11/18  Selon les dernières données publiées par Santé...   \n",
       "3  2021/11/18  Lunéville renoue avec un centre de vaccination...   \n",
       "\n",
       "                                                text  \\\n",
       "0  Un couple de Roubaisiens va être jugé en décem...   \n",
       "1  À l’origine, « une salariée asymptomatique, po...   \n",
       "2  Une situation épidémique similaire aux autres ...   \n",
       "3  A compter du lundi 22 novembre, retour dans la...   \n",
       "\n",
       "                                               title  topic  \\\n",
       "0  En direct. Covid-19 : pas de décision sur la v...    NaN   \n",
       "1  Giromagny. 18 cas de Covid à l’Ehpad Saint-Jos...    NaN   \n",
       "2  Meuse. Covid-19 : le taux d’incidence est en h...    NaN   \n",
       "3  Lunéville. 3e déménagement pour le centre de v...    NaN   \n",
       "\n",
       "                                                 url  \n",
       "0  https://www.estrepublicain.fr/sante/2021/11/18...  \n",
       "1  https://www.estrepublicain.fr/sante/2021/11/18...  \n",
       "2  https://www.estrepublicain.fr/sante/2021/11/18...  \n",
       "3  https://www.estrepublicain.fr/sante/2021/11/18...  "
      ]
     },
     "execution_count": 45,
     "metadata": {},
     "output_type": "execute_result"
    }
   ],
   "source": [
    "data"
   ]
  },
  {
   "cell_type": "code",
   "execution_count": null,
   "id": "ef6b1444",
   "metadata": {},
   "outputs": [],
   "source": []
  }
 ],
 "metadata": {
  "kernelspec": {
   "display_name": "Python 3",
   "language": "python",
   "name": "python3"
  },
  "language_info": {
   "codemirror_mode": {
    "name": "ipython",
    "version": 3
   },
   "file_extension": ".py",
   "mimetype": "text/x-python",
   "name": "python",
   "nbconvert_exporter": "python",
   "pygments_lexer": "ipython3",
   "version": "3.8.8"
  }
 },
 "nbformat": 4,
 "nbformat_minor": 5
}
