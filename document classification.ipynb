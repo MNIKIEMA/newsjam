{
 "cells": [
  {
   "cell_type": "code",
   "execution_count": 109,
   "id": "8f21dfb4",
   "metadata": {},
   "outputs": [
    {
     "name": "stderr",
     "output_type": "stream",
     "text": [
      "[nltk_data] Downloading package punkt to\n",
      "[nltk_data]     /Users/adeliakhasanova/nltk_data...\n",
      "[nltk_data]   Package punkt is already up-to-date!\n",
      "[nltk_data] Downloading package averaged_perceptron_tagger to\n",
      "[nltk_data]     /Users/adeliakhasanova/nltk_data...\n",
      "[nltk_data]   Package averaged_perceptron_tagger is already up-to-\n",
      "[nltk_data]       date!\n",
      "[nltk_data] Downloading package wordnet to\n",
      "[nltk_data]     /Users/adeliakhasanova/nltk_data...\n",
      "[nltk_data]   Package wordnet is already up-to-date!\n"
     ]
    }
   ],
   "source": [
    "import pandas as pd\n",
    "import numpy as np\n",
    "#for text pre-processing\n",
    "import re, string\n",
    "import nltk\n",
    "from nltk.tokenize import word_tokenize\n",
    "from nltk.corpus import stopwords\n",
    "\n",
    "nltk.download('punkt')\n",
    "#for model-building\n",
    "from sklearn.model_selection import train_test_split\n",
    "from sklearn.naive_bayes import MultinomialNB\n",
    "from sklearn.metrics import classification_report, f1_score, accuracy_score, confusion_matrix\n",
    "from sklearn.metrics import roc_curve, auc, roc_auc_score\n",
    "# bag of words\n",
    "from sklearn.feature_extraction.text import TfidfVectorizer\n",
    "from sklearn.feature_extraction.text import CountVectorizer"
   ]
  },
  {
   "cell_type": "code",
   "execution_count": 217,
   "id": "5b5b97fb",
   "metadata": {},
   "outputs": [],
   "source": [
    "import spacy"
   ]
  },
  {
   "cell_type": "code",
   "execution_count": 229,
   "id": "f17acef1",
   "metadata": {},
   "outputs": [],
   "source": [
    "import fr_core_news_sm"
   ]
  },
  {
   "cell_type": "code",
   "execution_count": null,
   "id": "44b68d4b",
   "metadata": {},
   "outputs": [],
   "source": [
    "#https://dataverse.cirad.fr/dataset.xhtml?persistentId=doi:10.18167/DVN1/MSLEFC"
   ]
  },
  {
   "cell_type": "code",
   "execution_count": 482,
   "id": "12c837cc",
   "metadata": {},
   "outputs": [],
   "source": [
    "data = pd.read_csv('lest_republicain_clean.csv')"
   ]
  },
  {
   "cell_type": "code",
   "execution_count": 513,
   "id": "65ad1ff7",
   "metadata": {},
   "outputs": [
    {
     "data": {
      "text/html": [
       "<div>\n",
       "<style scoped>\n",
       "    .dataframe tbody tr th:only-of-type {\n",
       "        vertical-align: middle;\n",
       "    }\n",
       "\n",
       "    .dataframe tbody tr th {\n",
       "        vertical-align: top;\n",
       "    }\n",
       "\n",
       "    .dataframe thead th {\n",
       "        text-align: right;\n",
       "    }\n",
       "</style>\n",
       "<table border=\"1\" class=\"dataframe\">\n",
       "  <thead>\n",
       "    <tr style=\"text-align: right;\">\n",
       "      <th></th>\n",
       "      <th>Unnamed: 0</th>\n",
       "      <th>date</th>\n",
       "      <th>summary</th>\n",
       "      <th>text</th>\n",
       "      <th>title</th>\n",
       "      <th>topic</th>\n",
       "      <th>url</th>\n",
       "      <th>relevance</th>\n",
       "    </tr>\n",
       "  </thead>\n",
       "  <tbody>\n",
       "    <tr>\n",
       "      <th>0</th>\n",
       "      <td>0</td>\n",
       "      <td>2021/10/14</td>\n",
       "      <td>Suivez avec nous l'évolution de la pandémie de...</td>\n",
       "      <td>20h47 : 6523 patients hospitalisés et 38 nouve...</td>\n",
       "      <td>En direct. Covid-19 : 6523 patients hospitalis...</td>\n",
       "      <td>NaN</td>\n",
       "      <td>https://www.estrepublicain.fr/sante/2021/10/14...</td>\n",
       "      <td>0.0</td>\n",
       "    </tr>\n",
       "    <tr>\n",
       "      <th>1</th>\n",
       "      <td>1</td>\n",
       "      <td>2020/09/21</td>\n",
       "      <td>Vaccination, taux d’incidence, nombre de patie...</td>\n",
       "      <td>Au jeudi 14 octobre 2021, 393 patients sont ho...</td>\n",
       "      <td>Infographies. Covid-19 : 1 décès supplémentair...</td>\n",
       "      <td>NaN</td>\n",
       "      <td>https://www.estrepublicain.fr/sante/2020/09/21...</td>\n",
       "      <td>1.0</td>\n",
       "    </tr>\n",
       "    <tr>\n",
       "      <th>2</th>\n",
       "      <td>2</td>\n",
       "      <td>2021/10/14</td>\n",
       "      <td>Le laboratoire AstraZeneca, qui propose déjà u...</td>\n",
       "      <td>Le régulateur européen a indiqué jeudi avoir c...</td>\n",
       "      <td>Covid-19. Le régulateur européen évalue Evushe...</td>\n",
       "      <td>NaN</td>\n",
       "      <td>https://www.estrepublicain.fr/sante/2021/10/14...</td>\n",
       "      <td>0.0</td>\n",
       "    </tr>\n",
       "    <tr>\n",
       "      <th>3</th>\n",
       "      <td>3</td>\n",
       "      <td>2021/10/14</td>\n",
       "      <td>L'OMS a dévoilé mercredi une nouvelle équipe d...</td>\n",
       "      <td>Ils sont 26 membres proposés par l'OMS pour fa...</td>\n",
       "      <td>Covid-19. Qui sont les nouveaux experts chargé...</td>\n",
       "      <td>NaN</td>\n",
       "      <td>https://www.estrepublicain.fr/sante/2021/10/14...</td>\n",
       "      <td>0.0</td>\n",
       "    </tr>\n",
       "    <tr>\n",
       "      <th>4</th>\n",
       "      <td>4</td>\n",
       "      <td>2021/10/14</td>\n",
       "      <td>Selon une étude américaine publiée mercredi, l...</td>\n",
       "      <td>Les personnes ayant reçu le vaccin contre le C...</td>\n",
       "      <td>Covid-19. Un rappel de Moderna ou Pfizer march...</td>\n",
       "      <td>NaN</td>\n",
       "      <td>https://www.estrepublicain.fr/sante/2021/10/14...</td>\n",
       "      <td>0.0</td>\n",
       "    </tr>\n",
       "    <tr>\n",
       "      <th>...</th>\n",
       "      <td>...</td>\n",
       "      <td>...</td>\n",
       "      <td>...</td>\n",
       "      <td>...</td>\n",
       "      <td>...</td>\n",
       "      <td>...</td>\n",
       "      <td>...</td>\n",
       "      <td>...</td>\n",
       "    </tr>\n",
       "    <tr>\n",
       "      <th>1269</th>\n",
       "      <td>1363</td>\n",
       "      <td>2021/11/08</td>\n",
       "      <td>Ouverte depuis le 1er septembre dernier, la ca...</td>\n",
       "      <td>C'est désormais dans un contexte de reprise é...</td>\n",
       "      <td>Infographies. Covid-19 : combien de personnes ...</td>\n",
       "      <td>NaN</td>\n",
       "      <td>https://www.estrepublicain.fr/sante/2021/11/08...</td>\n",
       "      <td>1.0</td>\n",
       "    </tr>\n",
       "    <tr>\n",
       "      <th>1270</th>\n",
       "      <td>1364</td>\n",
       "      <td>2021/11/08</td>\n",
       "      <td>Elle frappe déjà les trois quarts du continent...</td>\n",
       "      <td>Variant delta, efficacité vaccinale en baisse...</td>\n",
       "      <td>Santé. Covid-19 : cinq pistes pour limiter la ...</td>\n",
       "      <td>NaN</td>\n",
       "      <td>https://www.estrepublicain.fr/sante/2021/11/08...</td>\n",
       "      <td>0.0</td>\n",
       "    </tr>\n",
       "    <tr>\n",
       "      <th>1271</th>\n",
       "      <td>1365</td>\n",
       "      <td>2021/11/08</td>\n",
       "      <td>Dans la Meuse, le taux d’incidence au 5 novemb...</td>\n",
       "      <td>« La situation sanitaire en Meuse reste fragi...</td>\n",
       "      <td>Meuse. Covid-19 : le taux d’incidence proche d...</td>\n",
       "      <td>NaN</td>\n",
       "      <td>https://www.estrepublicain.fr/sante/2021/11/08...</td>\n",
       "      <td>1.0</td>\n",
       "    </tr>\n",
       "    <tr>\n",
       "      <th>1272</th>\n",
       "      <td>1366</td>\n",
       "      <td>2021/11/03</td>\n",
       "      <td>Il s'agit des départements qui repassent au-de...</td>\n",
       "      <td>Rentrée masquée pour de nombreux écoliers fra...</td>\n",
       "      <td>Epidémie. Covid-19 : voici les départements où...</td>\n",
       "      <td>NaN</td>\n",
       "      <td>https://www.estrepublicain.fr/sante/2021/11/03...</td>\n",
       "      <td>1.0</td>\n",
       "    </tr>\n",
       "    <tr>\n",
       "      <th>1273</th>\n",
       "      <td>1367</td>\n",
       "      <td>2021/11/07</td>\n",
       "      <td>Suivez avec nous l'évolution de la pandémie de...</td>\n",
       "      <td>Après avoir été retirés par le gouvernement m...</td>\n",
       "      <td>Santé. Covid-19 : ce qu'il faut retenir de la ...</td>\n",
       "      <td>NaN</td>\n",
       "      <td>https://www.estrepublicain.fr/sante/2021/11/07...</td>\n",
       "      <td>0.0</td>\n",
       "    </tr>\n",
       "  </tbody>\n",
       "</table>\n",
       "<p>1274 rows × 8 columns</p>\n",
       "</div>"
      ],
      "text/plain": [
       "      Unnamed: 0        date  \\\n",
       "0              0  2021/10/14   \n",
       "1              1  2020/09/21   \n",
       "2              2  2021/10/14   \n",
       "3              3  2021/10/14   \n",
       "4              4  2021/10/14   \n",
       "...          ...         ...   \n",
       "1269        1363  2021/11/08   \n",
       "1270        1364  2021/11/08   \n",
       "1271        1365  2021/11/08   \n",
       "1272        1366  2021/11/03   \n",
       "1273        1367  2021/11/07   \n",
       "\n",
       "                                                summary  \\\n",
       "0     Suivez avec nous l'évolution de la pandémie de...   \n",
       "1     Vaccination, taux d’incidence, nombre de patie...   \n",
       "2     Le laboratoire AstraZeneca, qui propose déjà u...   \n",
       "3     L'OMS a dévoilé mercredi une nouvelle équipe d...   \n",
       "4     Selon une étude américaine publiée mercredi, l...   \n",
       "...                                                 ...   \n",
       "1269  Ouverte depuis le 1er septembre dernier, la ca...   \n",
       "1270  Elle frappe déjà les trois quarts du continent...   \n",
       "1271  Dans la Meuse, le taux d’incidence au 5 novemb...   \n",
       "1272  Il s'agit des départements qui repassent au-de...   \n",
       "1273  Suivez avec nous l'évolution de la pandémie de...   \n",
       "\n",
       "                                                   text  \\\n",
       "0     20h47 : 6523 patients hospitalisés et 38 nouve...   \n",
       "1     Au jeudi 14 octobre 2021, 393 patients sont ho...   \n",
       "2     Le régulateur européen a indiqué jeudi avoir c...   \n",
       "3     Ils sont 26 membres proposés par l'OMS pour fa...   \n",
       "4     Les personnes ayant reçu le vaccin contre le C...   \n",
       "...                                                 ...   \n",
       "1269   C'est désormais dans un contexte de reprise é...   \n",
       "1270   Variant delta, efficacité vaccinale en baisse...   \n",
       "1271   « La situation sanitaire en Meuse reste fragi...   \n",
       "1272   Rentrée masquée pour de nombreux écoliers fra...   \n",
       "1273   Après avoir été retirés par le gouvernement m...   \n",
       "\n",
       "                                                  title  topic  \\\n",
       "0     En direct. Covid-19 : 6523 patients hospitalis...    NaN   \n",
       "1     Infographies. Covid-19 : 1 décès supplémentair...    NaN   \n",
       "2     Covid-19. Le régulateur européen évalue Evushe...    NaN   \n",
       "3     Covid-19. Qui sont les nouveaux experts chargé...    NaN   \n",
       "4     Covid-19. Un rappel de Moderna ou Pfizer march...    NaN   \n",
       "...                                                 ...    ...   \n",
       "1269  Infographies. Covid-19 : combien de personnes ...    NaN   \n",
       "1270  Santé. Covid-19 : cinq pistes pour limiter la ...    NaN   \n",
       "1271  Meuse. Covid-19 : le taux d’incidence proche d...    NaN   \n",
       "1272  Epidémie. Covid-19 : voici les départements où...    NaN   \n",
       "1273  Santé. Covid-19 : ce qu'il faut retenir de la ...    NaN   \n",
       "\n",
       "                                                    url  relevance  \n",
       "0     https://www.estrepublicain.fr/sante/2021/10/14...        0.0  \n",
       "1     https://www.estrepublicain.fr/sante/2020/09/21...        1.0  \n",
       "2     https://www.estrepublicain.fr/sante/2021/10/14...        0.0  \n",
       "3     https://www.estrepublicain.fr/sante/2021/10/14...        0.0  \n",
       "4     https://www.estrepublicain.fr/sante/2021/10/14...        0.0  \n",
       "...                                                 ...        ...  \n",
       "1269  https://www.estrepublicain.fr/sante/2021/11/08...        1.0  \n",
       "1270  https://www.estrepublicain.fr/sante/2021/11/08...        0.0  \n",
       "1271  https://www.estrepublicain.fr/sante/2021/11/08...        1.0  \n",
       "1272  https://www.estrepublicain.fr/sante/2021/11/03...        1.0  \n",
       "1273  https://www.estrepublicain.fr/sante/2021/11/07...        0.0  \n",
       "\n",
       "[1274 rows x 8 columns]"
      ]
     },
     "execution_count": 513,
     "metadata": {},
     "output_type": "execute_result"
    }
   ],
   "source": [
    "data"
   ]
  },
  {
   "cell_type": "code",
   "execution_count": 514,
   "id": "f9b0fa8f",
   "metadata": {},
   "outputs": [],
   "source": [
    "data_negatives = data[data['relevance']==0]"
   ]
  },
  {
   "cell_type": "code",
   "execution_count": 515,
   "id": "085dd42c",
   "metadata": {},
   "outputs": [],
   "source": [
    "data_positives = data[data['relevance']==1]"
   ]
  },
  {
   "cell_type": "code",
   "execution_count": 516,
   "id": "094c2b47",
   "metadata": {},
   "outputs": [],
   "source": [
    "data_positive_split = data_positives.sample(n=int(len(data_positives)*(2/3)))"
   ]
  },
  {
   "cell_type": "code",
   "execution_count": 517,
   "id": "f52729fe",
   "metadata": {},
   "outputs": [],
   "source": [
    "new_data = data_negatives.append(data_positive_split, ignore_index = True)"
   ]
  },
  {
   "cell_type": "code",
   "execution_count": 518,
   "id": "fe7fa09e",
   "metadata": {},
   "outputs": [
    {
     "data": {
      "text/html": [
       "<div>\n",
       "<style scoped>\n",
       "    .dataframe tbody tr th:only-of-type {\n",
       "        vertical-align: middle;\n",
       "    }\n",
       "\n",
       "    .dataframe tbody tr th {\n",
       "        vertical-align: top;\n",
       "    }\n",
       "\n",
       "    .dataframe thead th {\n",
       "        text-align: right;\n",
       "    }\n",
       "</style>\n",
       "<table border=\"1\" class=\"dataframe\">\n",
       "  <thead>\n",
       "    <tr style=\"text-align: right;\">\n",
       "      <th></th>\n",
       "      <th>Unnamed: 0</th>\n",
       "      <th>date</th>\n",
       "      <th>summary</th>\n",
       "      <th>text</th>\n",
       "      <th>title</th>\n",
       "      <th>topic</th>\n",
       "      <th>url</th>\n",
       "      <th>relevance</th>\n",
       "    </tr>\n",
       "  </thead>\n",
       "  <tbody>\n",
       "    <tr>\n",
       "      <th>0</th>\n",
       "      <td>0</td>\n",
       "      <td>2021/10/14</td>\n",
       "      <td>Suivez avec nous l'évolution de la pandémie de...</td>\n",
       "      <td>20h47 : 6523 patients hospitalisés et 38 nouve...</td>\n",
       "      <td>En direct. Covid-19 : 6523 patients hospitalis...</td>\n",
       "      <td>NaN</td>\n",
       "      <td>https://www.estrepublicain.fr/sante/2021/10/14...</td>\n",
       "      <td>0.0</td>\n",
       "    </tr>\n",
       "    <tr>\n",
       "      <th>1</th>\n",
       "      <td>2</td>\n",
       "      <td>2021/10/14</td>\n",
       "      <td>Le laboratoire AstraZeneca, qui propose déjà u...</td>\n",
       "      <td>Le régulateur européen a indiqué jeudi avoir c...</td>\n",
       "      <td>Covid-19. Le régulateur européen évalue Evushe...</td>\n",
       "      <td>NaN</td>\n",
       "      <td>https://www.estrepublicain.fr/sante/2021/10/14...</td>\n",
       "      <td>0.0</td>\n",
       "    </tr>\n",
       "    <tr>\n",
       "      <th>2</th>\n",
       "      <td>3</td>\n",
       "      <td>2021/10/14</td>\n",
       "      <td>L'OMS a dévoilé mercredi une nouvelle équipe d...</td>\n",
       "      <td>Ils sont 26 membres proposés par l'OMS pour fa...</td>\n",
       "      <td>Covid-19. Qui sont les nouveaux experts chargé...</td>\n",
       "      <td>NaN</td>\n",
       "      <td>https://www.estrepublicain.fr/sante/2021/10/14...</td>\n",
       "      <td>0.0</td>\n",
       "    </tr>\n",
       "    <tr>\n",
       "      <th>3</th>\n",
       "      <td>4</td>\n",
       "      <td>2021/10/14</td>\n",
       "      <td>Selon une étude américaine publiée mercredi, l...</td>\n",
       "      <td>Les personnes ayant reçu le vaccin contre le C...</td>\n",
       "      <td>Covid-19. Un rappel de Moderna ou Pfizer march...</td>\n",
       "      <td>NaN</td>\n",
       "      <td>https://www.estrepublicain.fr/sante/2021/10/14...</td>\n",
       "      <td>0.0</td>\n",
       "    </tr>\n",
       "    <tr>\n",
       "      <th>4</th>\n",
       "      <td>7</td>\n",
       "      <td>2021/10/13</td>\n",
       "      <td>Suivez avec nous l'évolution de la pandémie de...</td>\n",
       "      <td>- Le projet de loi prolongeant jusqu'au 31 jui...</td>\n",
       "      <td>En direct. Covid-19 : ce qu'il faut retenir de...</td>\n",
       "      <td>NaN</td>\n",
       "      <td>https://www.estrepublicain.fr/sante/2021/10/13...</td>\n",
       "      <td>0.0</td>\n",
       "    </tr>\n",
       "    <tr>\n",
       "      <th>...</th>\n",
       "      <td>...</td>\n",
       "      <td>...</td>\n",
       "      <td>...</td>\n",
       "      <td>...</td>\n",
       "      <td>...</td>\n",
       "      <td>...</td>\n",
       "      <td>...</td>\n",
       "      <td>...</td>\n",
       "    </tr>\n",
       "    <tr>\n",
       "      <th>990</th>\n",
       "      <td>718</td>\n",
       "      <td>2021/07/17</td>\n",
       "      <td>Le retour du masque sur Nancy, Pont-à-Mousson,...</td>\n",
       "      <td>Le retour du masque sur Nancy, Pont-à-Mousson,...</td>\n",
       "      <td>Meurthe-et-Moselle. Nancy, Pont-à-Mousson, bas...</td>\n",
       "      <td>NaN</td>\n",
       "      <td>https://www.estrepublicain.fr/sante/2021/07/17...</td>\n",
       "      <td>1.0</td>\n",
       "    </tr>\n",
       "    <tr>\n",
       "      <th>991</th>\n",
       "      <td>106</td>\n",
       "      <td>2021/09/22</td>\n",
       "      <td>Employée au vaccinodrome de Bordeaux, la jeune...</td>\n",
       "      <td>Une jeune femme de 19 ans, employée du plus gr...</td>\n",
       "      <td>Covid-19. Elle avait fait une vingtaine de fau...</td>\n",
       "      <td>NaN</td>\n",
       "      <td>https://www.estrepublicain.fr/sante/2021/09/22...</td>\n",
       "      <td>1.0</td>\n",
       "    </tr>\n",
       "    <tr>\n",
       "      <th>992</th>\n",
       "      <td>924</td>\n",
       "      <td>2021/06/19</td>\n",
       "      <td>La CCI du Doubs et l’Union des Métiers et des ...</td>\n",
       "      <td>La réouverture était annoncée délicate pour le...</td>\n",
       "      <td>Besançon. Hôtellerie et restauration : quatre ...</td>\n",
       "      <td>NaN</td>\n",
       "      <td>https://www.estrepublicain.fr/sante/2021/06/19...</td>\n",
       "      <td>1.0</td>\n",
       "    </tr>\n",
       "    <tr>\n",
       "      <th>993</th>\n",
       "      <td>1352</td>\n",
       "      <td>2021/11/10</td>\n",
       "      <td>Une dose de rappel pour qui, pour quand? Quell...</td>\n",
       "      <td>Alors que l'épidémie de Covid-19 rebondit, Em...</td>\n",
       "      <td>Covid-19. Vaccination : tout savoir sur la dos...</td>\n",
       "      <td>NaN</td>\n",
       "      <td>https://www.estrepublicain.fr/sante/2021/11/10...</td>\n",
       "      <td>1.0</td>\n",
       "    </tr>\n",
       "    <tr>\n",
       "      <th>994</th>\n",
       "      <td>5</td>\n",
       "      <td>2021/10/14</td>\n",
       "      <td>Les tests \"de confort\" gratuits prendront fin ...</td>\n",
       "      <td>Les contraintes vont se durcir ce vendredi pou...</td>\n",
       "      <td>Pourquoi c'est important. Covid-19 : tests pay...</td>\n",
       "      <td>NaN</td>\n",
       "      <td>https://www.estrepublicain.fr/sante/2021/10/14...</td>\n",
       "      <td>1.0</td>\n",
       "    </tr>\n",
       "  </tbody>\n",
       "</table>\n",
       "<p>995 rows × 8 columns</p>\n",
       "</div>"
      ],
      "text/plain": [
       "     Unnamed: 0        date  \\\n",
       "0             0  2021/10/14   \n",
       "1             2  2021/10/14   \n",
       "2             3  2021/10/14   \n",
       "3             4  2021/10/14   \n",
       "4             7  2021/10/13   \n",
       "..          ...         ...   \n",
       "990         718  2021/07/17   \n",
       "991         106  2021/09/22   \n",
       "992         924  2021/06/19   \n",
       "993        1352  2021/11/10   \n",
       "994           5  2021/10/14   \n",
       "\n",
       "                                               summary  \\\n",
       "0    Suivez avec nous l'évolution de la pandémie de...   \n",
       "1    Le laboratoire AstraZeneca, qui propose déjà u...   \n",
       "2    L'OMS a dévoilé mercredi une nouvelle équipe d...   \n",
       "3    Selon une étude américaine publiée mercredi, l...   \n",
       "4    Suivez avec nous l'évolution de la pandémie de...   \n",
       "..                                                 ...   \n",
       "990  Le retour du masque sur Nancy, Pont-à-Mousson,...   \n",
       "991  Employée au vaccinodrome de Bordeaux, la jeune...   \n",
       "992  La CCI du Doubs et l’Union des Métiers et des ...   \n",
       "993  Une dose de rappel pour qui, pour quand? Quell...   \n",
       "994  Les tests \"de confort\" gratuits prendront fin ...   \n",
       "\n",
       "                                                  text  \\\n",
       "0    20h47 : 6523 patients hospitalisés et 38 nouve...   \n",
       "1    Le régulateur européen a indiqué jeudi avoir c...   \n",
       "2    Ils sont 26 membres proposés par l'OMS pour fa...   \n",
       "3    Les personnes ayant reçu le vaccin contre le C...   \n",
       "4    - Le projet de loi prolongeant jusqu'au 31 jui...   \n",
       "..                                                 ...   \n",
       "990  Le retour du masque sur Nancy, Pont-à-Mousson,...   \n",
       "991  Une jeune femme de 19 ans, employée du plus gr...   \n",
       "992  La réouverture était annoncée délicate pour le...   \n",
       "993   Alors que l'épidémie de Covid-19 rebondit, Em...   \n",
       "994  Les contraintes vont se durcir ce vendredi pou...   \n",
       "\n",
       "                                                 title  topic  \\\n",
       "0    En direct. Covid-19 : 6523 patients hospitalis...    NaN   \n",
       "1    Covid-19. Le régulateur européen évalue Evushe...    NaN   \n",
       "2    Covid-19. Qui sont les nouveaux experts chargé...    NaN   \n",
       "3    Covid-19. Un rappel de Moderna ou Pfizer march...    NaN   \n",
       "4    En direct. Covid-19 : ce qu'il faut retenir de...    NaN   \n",
       "..                                                 ...    ...   \n",
       "990  Meurthe-et-Moselle. Nancy, Pont-à-Mousson, bas...    NaN   \n",
       "991  Covid-19. Elle avait fait une vingtaine de fau...    NaN   \n",
       "992  Besançon. Hôtellerie et restauration : quatre ...    NaN   \n",
       "993  Covid-19. Vaccination : tout savoir sur la dos...    NaN   \n",
       "994  Pourquoi c'est important. Covid-19 : tests pay...    NaN   \n",
       "\n",
       "                                                   url  relevance  \n",
       "0    https://www.estrepublicain.fr/sante/2021/10/14...        0.0  \n",
       "1    https://www.estrepublicain.fr/sante/2021/10/14...        0.0  \n",
       "2    https://www.estrepublicain.fr/sante/2021/10/14...        0.0  \n",
       "3    https://www.estrepublicain.fr/sante/2021/10/14...        0.0  \n",
       "4    https://www.estrepublicain.fr/sante/2021/10/13...        0.0  \n",
       "..                                                 ...        ...  \n",
       "990  https://www.estrepublicain.fr/sante/2021/07/17...        1.0  \n",
       "991  https://www.estrepublicain.fr/sante/2021/09/22...        1.0  \n",
       "992  https://www.estrepublicain.fr/sante/2021/06/19...        1.0  \n",
       "993  https://www.estrepublicain.fr/sante/2021/11/10...        1.0  \n",
       "994  https://www.estrepublicain.fr/sante/2021/10/14...        1.0  \n",
       "\n",
       "[995 rows x 8 columns]"
      ]
     },
     "execution_count": 518,
     "metadata": {},
     "output_type": "execute_result"
    }
   ],
   "source": [
    "new_data"
   ]
  },
  {
   "cell_type": "code",
   "execution_count": 538,
   "id": "80d2d1b6",
   "metadata": {},
   "outputs": [],
   "source": [
    "#removing irrelevant columns\n",
    "data_short = data[['text','relevance']]"
   ]
  },
  {
   "cell_type": "code",
   "execution_count": 548,
   "id": "5b639dec",
   "metadata": {},
   "outputs": [
    {
     "data": {
      "text/html": [
       "<div>\n",
       "<style scoped>\n",
       "    .dataframe tbody tr th:only-of-type {\n",
       "        vertical-align: middle;\n",
       "    }\n",
       "\n",
       "    .dataframe tbody tr th {\n",
       "        vertical-align: top;\n",
       "    }\n",
       "\n",
       "    .dataframe thead th {\n",
       "        text-align: right;\n",
       "    }\n",
       "</style>\n",
       "<table border=\"1\" class=\"dataframe\">\n",
       "  <thead>\n",
       "    <tr style=\"text-align: right;\">\n",
       "      <th></th>\n",
       "      <th>text</th>\n",
       "      <th>relevance</th>\n",
       "    </tr>\n",
       "  </thead>\n",
       "  <tbody>\n",
       "    <tr>\n",
       "      <th>0</th>\n",
       "      <td>20h47 : 6523 patients hospitalisés et 38 nouve...</td>\n",
       "      <td>0.0</td>\n",
       "    </tr>\n",
       "    <tr>\n",
       "      <th>1</th>\n",
       "      <td>Au jeudi 14 octobre 2021, 393 patients sont ho...</td>\n",
       "      <td>1.0</td>\n",
       "    </tr>\n",
       "    <tr>\n",
       "      <th>2</th>\n",
       "      <td>Le régulateur européen a indiqué jeudi avoir c...</td>\n",
       "      <td>0.0</td>\n",
       "    </tr>\n",
       "    <tr>\n",
       "      <th>3</th>\n",
       "      <td>Ils sont 26 membres proposés par l'OMS pour fa...</td>\n",
       "      <td>0.0</td>\n",
       "    </tr>\n",
       "    <tr>\n",
       "      <th>4</th>\n",
       "      <td>Les personnes ayant reçu le vaccin contre le C...</td>\n",
       "      <td>0.0</td>\n",
       "    </tr>\n",
       "    <tr>\n",
       "      <th>...</th>\n",
       "      <td>...</td>\n",
       "      <td>...</td>\n",
       "    </tr>\n",
       "    <tr>\n",
       "      <th>1269</th>\n",
       "      <td>C'est désormais dans un contexte de reprise é...</td>\n",
       "      <td>1.0</td>\n",
       "    </tr>\n",
       "    <tr>\n",
       "      <th>1270</th>\n",
       "      <td>Variant delta, efficacité vaccinale en baisse...</td>\n",
       "      <td>0.0</td>\n",
       "    </tr>\n",
       "    <tr>\n",
       "      <th>1271</th>\n",
       "      <td>« La situation sanitaire en Meuse reste fragi...</td>\n",
       "      <td>1.0</td>\n",
       "    </tr>\n",
       "    <tr>\n",
       "      <th>1272</th>\n",
       "      <td>Rentrée masquée pour de nombreux écoliers fra...</td>\n",
       "      <td>1.0</td>\n",
       "    </tr>\n",
       "    <tr>\n",
       "      <th>1273</th>\n",
       "      <td>Après avoir été retirés par le gouvernement m...</td>\n",
       "      <td>0.0</td>\n",
       "    </tr>\n",
       "  </tbody>\n",
       "</table>\n",
       "<p>1274 rows × 2 columns</p>\n",
       "</div>"
      ],
      "text/plain": [
       "                                                   text  relevance\n",
       "0     20h47 : 6523 patients hospitalisés et 38 nouve...        0.0\n",
       "1     Au jeudi 14 octobre 2021, 393 patients sont ho...        1.0\n",
       "2     Le régulateur européen a indiqué jeudi avoir c...        0.0\n",
       "3     Ils sont 26 membres proposés par l'OMS pour fa...        0.0\n",
       "4     Les personnes ayant reçu le vaccin contre le C...        0.0\n",
       "...                                                 ...        ...\n",
       "1269   C'est désormais dans un contexte de reprise é...        1.0\n",
       "1270   Variant delta, efficacité vaccinale en baisse...        0.0\n",
       "1271   « La situation sanitaire en Meuse reste fragi...        1.0\n",
       "1272   Rentrée masquée pour de nombreux écoliers fra...        1.0\n",
       "1273   Après avoir été retirés par le gouvernement m...        0.0\n",
       "\n",
       "[1274 rows x 2 columns]"
      ]
     },
     "execution_count": 548,
     "metadata": {},
     "output_type": "execute_result"
    }
   ],
   "source": [
    "data_short"
   ]
  },
  {
   "cell_type": "code",
   "execution_count": 549,
   "id": "7b35dc82",
   "metadata": {},
   "outputs": [
    {
     "data": {
      "text/html": [
       "<div>\n",
       "<style scoped>\n",
       "    .dataframe tbody tr th:only-of-type {\n",
       "        vertical-align: middle;\n",
       "    }\n",
       "\n",
       "    .dataframe tbody tr th {\n",
       "        vertical-align: top;\n",
       "    }\n",
       "\n",
       "    .dataframe thead th {\n",
       "        text-align: right;\n",
       "    }\n",
       "</style>\n",
       "<table border=\"1\" class=\"dataframe\">\n",
       "  <thead>\n",
       "    <tr style=\"text-align: right;\">\n",
       "      <th></th>\n",
       "      <th>text</th>\n",
       "      <th>relevance</th>\n",
       "    </tr>\n",
       "  </thead>\n",
       "  <tbody>\n",
       "    <tr>\n",
       "      <th>0</th>\n",
       "      <td>20h47 : 6523 patients hospitalisés et 38 nouve...</td>\n",
       "      <td>0.0</td>\n",
       "    </tr>\n",
       "    <tr>\n",
       "      <th>2</th>\n",
       "      <td>Le régulateur européen a indiqué jeudi avoir c...</td>\n",
       "      <td>0.0</td>\n",
       "    </tr>\n",
       "    <tr>\n",
       "      <th>3</th>\n",
       "      <td>Ils sont 26 membres proposés par l'OMS pour fa...</td>\n",
       "      <td>0.0</td>\n",
       "    </tr>\n",
       "    <tr>\n",
       "      <th>4</th>\n",
       "      <td>Les personnes ayant reçu le vaccin contre le C...</td>\n",
       "      <td>0.0</td>\n",
       "    </tr>\n",
       "    <tr>\n",
       "      <th>7</th>\n",
       "      <td>- Le projet de loi prolongeant jusqu'au 31 jui...</td>\n",
       "      <td>0.0</td>\n",
       "    </tr>\n",
       "    <tr>\n",
       "      <th>...</th>\n",
       "      <td>...</td>\n",
       "      <td>...</td>\n",
       "    </tr>\n",
       "    <tr>\n",
       "      <th>1253</th>\n",
       "      <td>- Gérard Larcher, président du Sénat, refuse ...</td>\n",
       "      <td>0.0</td>\n",
       "    </tr>\n",
       "    <tr>\n",
       "      <th>1255</th>\n",
       "      <td>16h24 : Le régulateur européen approuve deux ...</td>\n",
       "      <td>0.0</td>\n",
       "    </tr>\n",
       "    <tr>\n",
       "      <th>1257</th>\n",
       "      <td>23h30 : C'est la fin de ce live, merci de l'a...</td>\n",
       "      <td>0.0</td>\n",
       "    </tr>\n",
       "    <tr>\n",
       "      <th>1270</th>\n",
       "      <td>Variant delta, efficacité vaccinale en baisse...</td>\n",
       "      <td>0.0</td>\n",
       "    </tr>\n",
       "    <tr>\n",
       "      <th>1273</th>\n",
       "      <td>Après avoir été retirés par le gouvernement m...</td>\n",
       "      <td>0.0</td>\n",
       "    </tr>\n",
       "  </tbody>\n",
       "</table>\n",
       "<p>437 rows × 2 columns</p>\n",
       "</div>"
      ],
      "text/plain": [
       "                                                   text  relevance\n",
       "0     20h47 : 6523 patients hospitalisés et 38 nouve...        0.0\n",
       "2     Le régulateur européen a indiqué jeudi avoir c...        0.0\n",
       "3     Ils sont 26 membres proposés par l'OMS pour fa...        0.0\n",
       "4     Les personnes ayant reçu le vaccin contre le C...        0.0\n",
       "7     - Le projet de loi prolongeant jusqu'au 31 jui...        0.0\n",
       "...                                                 ...        ...\n",
       "1253   - Gérard Larcher, président du Sénat, refuse ...        0.0\n",
       "1255   16h24 : Le régulateur européen approuve deux ...        0.0\n",
       "1257   23h30 : C'est la fin de ce live, merci de l'a...        0.0\n",
       "1270   Variant delta, efficacité vaccinale en baisse...        0.0\n",
       "1273   Après avoir été retirés par le gouvernement m...        0.0\n",
       "\n",
       "[437 rows x 2 columns]"
      ]
     },
     "execution_count": 549,
     "metadata": {},
     "output_type": "execute_result"
    }
   ],
   "source": [
    "data_short[data_short['relevance']==0]"
   ]
  },
  {
   "cell_type": "code",
   "execution_count": 550,
   "id": "8618623a",
   "metadata": {},
   "outputs": [],
   "source": [
    "def preprocess(text):\n",
    "    \"\"\"this function deletes extra characters,\n",
    "    converts strings to lowercase, and removes punctuation\"\"\"\n",
    "    \n",
    "    text = text.lower() \n",
    "    text = text.strip()  \n",
    "    text = re.compile('<.*?>').sub('', text) \n",
    "    text = re.compile('[%s]' % re.escape(string.punctuation)).sub(' ', text)  \n",
    "    text = re.sub('\\s+', ' ', text)  \n",
    "    text = re.sub(r'\\[[0-9]*\\]',' ',text) \n",
    "    text=re.sub(r'[^\\w\\s]', '', str(text).lower().strip())\n",
    "    text = re.sub(r'\\d',' ',text) \n",
    "    text = re.sub(r'\\s+',' ',text) \n",
    "    return text"
   ]
  },
  {
   "cell_type": "code",
   "execution_count": 551,
   "id": "168aad6e",
   "metadata": {},
   "outputs": [],
   "source": [
    "def stopword(string):\n",
    "    \"\"\"this function removes french stopwords\"\"\"\n",
    "    a = [i for i in string.split() if i not in stopwords.words('french')]\n",
    "    return ' '.join(a)"
   ]
  },
  {
   "cell_type": "code",
   "execution_count": 552,
   "id": "4b69ce82",
   "metadata": {},
   "outputs": [],
   "source": [
    "# Tokenize the sentence\n",
    "def lemmatizer(string):\n",
    "    \"\"\"this function applies french lemmatizer\n",
    "    and tokenizes the text at the same time\"\"\"\n",
    "    nlp = spacy.load(\"fr_core_news_sm\")\n",
    "    return ' '.join([token.lemma_ for token in nlp(string)])"
   ]
  },
  {
   "cell_type": "code",
   "execution_count": 553,
   "id": "5355337e",
   "metadata": {},
   "outputs": [],
   "source": [
    "def final_transformation(string): \n",
    "    \"\"\"this function puts all the previous steps together\"\"\"\n",
    "    return lemmatizer(stopword(preprocess(string)))"
   ]
  },
  {
   "cell_type": "code",
   "execution_count": 547,
   "id": "0a827b5d",
   "metadata": {},
   "outputs": [
    {
     "data": {
      "text/html": [
       "<div>\n",
       "<style scoped>\n",
       "    .dataframe tbody tr th:only-of-type {\n",
       "        vertical-align: middle;\n",
       "    }\n",
       "\n",
       "    .dataframe tbody tr th {\n",
       "        vertical-align: top;\n",
       "    }\n",
       "\n",
       "    .dataframe thead th {\n",
       "        text-align: right;\n",
       "    }\n",
       "</style>\n",
       "<table border=\"1\" class=\"dataframe\">\n",
       "  <thead>\n",
       "    <tr style=\"text-align: right;\">\n",
       "      <th></th>\n",
       "      <th>text</th>\n",
       "      <th>relevance</th>\n",
       "    </tr>\n",
       "  </thead>\n",
       "  <tbody>\n",
       "    <tr>\n",
       "      <th>0</th>\n",
       "      <td>20h47 : 6523 patients hospitalisés et 38 nouve...</td>\n",
       "      <td>0.0</td>\n",
       "    </tr>\n",
       "    <tr>\n",
       "      <th>1</th>\n",
       "      <td>Au jeudi 14 octobre 2021, 393 patients sont ho...</td>\n",
       "      <td>1.0</td>\n",
       "    </tr>\n",
       "    <tr>\n",
       "      <th>2</th>\n",
       "      <td>Le régulateur européen a indiqué jeudi avoir c...</td>\n",
       "      <td>0.0</td>\n",
       "    </tr>\n",
       "    <tr>\n",
       "      <th>3</th>\n",
       "      <td>Ils sont 26 membres proposés par l'OMS pour fa...</td>\n",
       "      <td>0.0</td>\n",
       "    </tr>\n",
       "    <tr>\n",
       "      <th>4</th>\n",
       "      <td>Les personnes ayant reçu le vaccin contre le C...</td>\n",
       "      <td>0.0</td>\n",
       "    </tr>\n",
       "    <tr>\n",
       "      <th>...</th>\n",
       "      <td>...</td>\n",
       "      <td>...</td>\n",
       "    </tr>\n",
       "    <tr>\n",
       "      <th>1269</th>\n",
       "      <td>C'est désormais dans un contexte de reprise é...</td>\n",
       "      <td>1.0</td>\n",
       "    </tr>\n",
       "    <tr>\n",
       "      <th>1270</th>\n",
       "      <td>Variant delta, efficacité vaccinale en baisse...</td>\n",
       "      <td>0.0</td>\n",
       "    </tr>\n",
       "    <tr>\n",
       "      <th>1271</th>\n",
       "      <td>« La situation sanitaire en Meuse reste fragi...</td>\n",
       "      <td>1.0</td>\n",
       "    </tr>\n",
       "    <tr>\n",
       "      <th>1272</th>\n",
       "      <td>Rentrée masquée pour de nombreux écoliers fra...</td>\n",
       "      <td>1.0</td>\n",
       "    </tr>\n",
       "    <tr>\n",
       "      <th>1273</th>\n",
       "      <td>Après avoir été retirés par le gouvernement m...</td>\n",
       "      <td>0.0</td>\n",
       "    </tr>\n",
       "  </tbody>\n",
       "</table>\n",
       "<p>1274 rows × 2 columns</p>\n",
       "</div>"
      ],
      "text/plain": [
       "                                                   text  relevance\n",
       "0     20h47 : 6523 patients hospitalisés et 38 nouve...        0.0\n",
       "1     Au jeudi 14 octobre 2021, 393 patients sont ho...        1.0\n",
       "2     Le régulateur européen a indiqué jeudi avoir c...        0.0\n",
       "3     Ils sont 26 membres proposés par l'OMS pour fa...        0.0\n",
       "4     Les personnes ayant reçu le vaccin contre le C...        0.0\n",
       "...                                                 ...        ...\n",
       "1269   C'est désormais dans un contexte de reprise é...        1.0\n",
       "1270   Variant delta, efficacité vaccinale en baisse...        0.0\n",
       "1271   « La situation sanitaire en Meuse reste fragi...        1.0\n",
       "1272   Rentrée masquée pour de nombreux écoliers fra...        1.0\n",
       "1273   Après avoir été retirés par le gouvernement m...        0.0\n",
       "\n",
       "[1274 rows x 2 columns]"
      ]
     },
     "execution_count": 547,
     "metadata": {},
     "output_type": "execute_result"
    }
   ],
   "source": [
    "data_short"
   ]
  },
  {
   "cell_type": "code",
   "execution_count": 526,
   "id": "be51d923",
   "metadata": {},
   "outputs": [],
   "source": [
    "from sklearn.feature_extraction.text import TfidfTransformer\n",
    "from sklearn.feature_extraction.text import CountVectorizer\n",
    "from sklearn.pipeline import Pipeline"
   ]
  },
  {
   "cell_type": "code",
   "execution_count": null,
   "id": "ff67bea4",
   "metadata": {},
   "outputs": [],
   "source": [
    "data_short['clean_text'] = data_short['text'].apply(final_transformation)"
   ]
  },
  {
   "cell_type": "code",
   "execution_count": 498,
   "id": "2a13cf35",
   "metadata": {},
   "outputs": [],
   "source": [
    "df_X, df_y = data_short['clean_text'], data_short['relevance'] "
   ]
  },
  {
   "cell_type": "code",
   "execution_count": 528,
   "id": "ba2e8544",
   "metadata": {},
   "outputs": [],
   "source": [
    "x_train, x_test, y_train, y_test = train_test_split(df_X, df_y, test_size=0.3, random_state=0)"
   ]
  },
  {
   "cell_type": "code",
   "execution_count": 529,
   "id": "9ca46d5c",
   "metadata": {},
   "outputs": [
    {
     "data": {
      "text/plain": [
       "363    crise sanitaire question réponse sommaire doss...\n",
       "440    réponse oui tout rendez premier deuxième dose ...\n",
       "669    tester alerter isoler credo gouvernement lutte...\n",
       "263    masqu nouveau obligatoire confinemer retour té...\n",
       "17     installer lespac montrichard depuis début lann...\n",
       "                             ...                        \n",
       "835    benjamin an étudier lensmm cela avoir très fac...\n",
       "192    printemps nombreux pays dont france vaccin bri...\n",
       "629    alain seid président chambre commerce dindustr...\n",
       "559    contrôle sanitaire personne devoir devenir pri...\n",
       "684    plusieurs millier personne manifester france m...\n",
       "Name: clean_text, Length: 598, dtype: object"
      ]
     },
     "execution_count": 529,
     "metadata": {},
     "output_type": "execute_result"
    }
   ],
   "source": [
    "x_train"
   ]
  },
  {
   "cell_type": "code",
   "execution_count": 530,
   "id": "3824a36a",
   "metadata": {},
   "outputs": [],
   "source": [
    "tf_idf = Pipeline([('cv',CountVectorizer()), ('tfidf_transformer',TfidfTransformer(smooth_idf=True,use_idf=True))])\n",
    "\n",
    "\n",
    "x_train_CV  = tf_idf.fit_transform(x_train)\n",
    "x_test_CV = tf_idf.transform(x_test)"
   ]
  },
  {
   "cell_type": "code",
   "execution_count": 531,
   "id": "97d20ef5",
   "metadata": {},
   "outputs": [
    {
     "data": {
      "text/plain": [
       "363    0\n",
       "440    1\n",
       "669    1\n",
       "263    0\n",
       "17     0\n",
       "      ..\n",
       "835    1\n",
       "192    0\n",
       "629    1\n",
       "559    1\n",
       "684    1\n",
       "Name: relevance, Length: 598, dtype: int64"
      ]
     },
     "execution_count": 531,
     "metadata": {},
     "output_type": "execute_result"
    }
   ],
   "source": [
    "mnb = MultinomialNB()\n",
    "y_train=y_train.astype('int')\n",
    "y_train"
   ]
  },
  {
   "cell_type": "code",
   "execution_count": 532,
   "id": "7f552963",
   "metadata": {},
   "outputs": [
    {
     "data": {
      "text/plain": [
       "MultinomialNB()"
      ]
     },
     "execution_count": 532,
     "metadata": {},
     "output_type": "execute_result"
    }
   ],
   "source": [
    "mnb.fit(x_train_CV,y_train)"
   ]
  },
  {
   "cell_type": "code",
   "execution_count": 533,
   "id": "ec07a41e",
   "metadata": {},
   "outputs": [],
   "source": [
    "predictions = mnb.predict(x_test_CV)"
   ]
  },
  {
   "cell_type": "code",
   "execution_count": 534,
   "id": "44836e6f",
   "metadata": {},
   "outputs": [
    {
     "data": {
      "text/plain": [
       "array([[133,  75],\n",
       "       [  3,  46]])"
      ]
     },
     "execution_count": 534,
     "metadata": {},
     "output_type": "execute_result"
    }
   ],
   "source": [
    "from sklearn.metrics import confusion_matrix\n",
    "confusion_matrix(predictions, y_test)"
   ]
  },
  {
   "cell_type": "code",
   "execution_count": 535,
   "id": "3697a4a3",
   "metadata": {},
   "outputs": [],
   "source": [
    "def perf_measure(y_actual, y_hat):\n",
    "    TP = 0\n",
    "    FP = 0\n",
    "    TN = 0\n",
    "    FN = 0\n",
    "\n",
    "    for i in range(len(y_hat)): \n",
    "        if y_actual[i]==y_hat[i]==1:\n",
    "            TP += 1\n",
    "        if y_hat[i]==1 and y_actual[i]!=y_hat[i]:\n",
    "            FP += 1\n",
    "        if y_actual[i]==y_hat[i]==0:\n",
    "            TN += 1\n",
    "        if y_hat[i]==0 and y_actual[i]!=y_hat[i]:\n",
    "            FN += 1\n",
    "\n",
    "    return('true positive:', TP, 'false positive:', FP, 'true negative:', TN, 'false negative', FN)"
   ]
  },
  {
   "cell_type": "code",
   "execution_count": 536,
   "id": "7a3c19a9",
   "metadata": {},
   "outputs": [
    {
     "data": {
      "text/plain": [
       "('true positive:',\n",
       " 46,\n",
       " 'false positive:',\n",
       " 3,\n",
       " 'true negative:',\n",
       " 133,\n",
       " 'false negative',\n",
       " 75)"
      ]
     },
     "execution_count": 536,
     "metadata": {},
     "output_type": "execute_result"
    }
   ],
   "source": [
    "perf_measure(list(y_test),list(predictions))"
   ]
  },
  {
   "cell_type": "code",
   "execution_count": 508,
   "id": "2355905b",
   "metadata": {},
   "outputs": [
    {
     "name": "stdout",
     "output_type": "stream",
     "text": [
      "Accuracy: 0.6964980544747081\n"
     ]
    }
   ],
   "source": [
    "from sklearn import metrics\n",
    "\n",
    "print(\"Accuracy:\",metrics.accuracy_score(y_test, predictions))"
   ]
  },
  {
   "cell_type": "code",
   "execution_count": 509,
   "id": "72eee90f",
   "metadata": {},
   "outputs": [
    {
     "name": "stdout",
     "output_type": "stream",
     "text": [
      "Precision: 0.9387755102040817\n"
     ]
    }
   ],
   "source": [
    "print(\"Precision:\",metrics.precision_score(y_test, predictions))"
   ]
  },
  {
   "cell_type": "code",
   "execution_count": 510,
   "id": "aa06dd30",
   "metadata": {},
   "outputs": [
    {
     "name": "stdout",
     "output_type": "stream",
     "text": [
      "Recall: 0.38016528925619836\n"
     ]
    }
   ],
   "source": [
    "print(\"Recall:\",metrics.recall_score(y_test, predictions))"
   ]
  },
  {
   "cell_type": "code",
   "execution_count": 511,
   "id": "80453424",
   "metadata": {},
   "outputs": [
    {
     "name": "stdout",
     "output_type": "stream",
     "text": [
      "F1: 0.5411764705882354\n"
     ]
    }
   ],
   "source": [
    "print(\"F1:\",metrics.f1_score(y_test, predictions))"
   ]
  },
  {
   "cell_type": "code",
   "execution_count": 370,
   "id": "e9abb9d8",
   "metadata": {},
   "outputs": [],
   "source": [
    "from sklearn.linear_model import LogisticRegression"
   ]
  },
  {
   "cell_type": "code",
   "execution_count": 375,
   "id": "c51ad94b",
   "metadata": {},
   "outputs": [
    {
     "data": {
      "text/plain": [
       "238     0\n",
       "115     1\n",
       "333     0\n",
       "901     1\n",
       "34      1\n",
       "       ..\n",
       "360     1\n",
       "709     1\n",
       "439     1\n",
       "174     1\n",
       "1146    1\n",
       "Name: relevance, Length: 1019, dtype: int64"
      ]
     },
     "execution_count": 375,
     "metadata": {},
     "output_type": "execute_result"
    }
   ],
   "source": [
    "y_train"
   ]
  },
  {
   "cell_type": "code",
   "execution_count": null,
   "id": "4f1bf33b",
   "metadata": {},
   "outputs": [],
   "source": [
    "scikit_log_reg = LogisticRegression(verbose=1, solver='liblinear',random_state=0, C=5, penalty='l2',max_iter=1000)\n",
    "model=scikit_log_reg.fit(X_train,y_train)"
   ]
  },
  {
   "cell_type": "code",
   "execution_count": null,
   "id": "5cada16b",
   "metadata": {},
   "outputs": [],
   "source": []
  }
 ],
 "metadata": {
  "kernelspec": {
   "display_name": "Python 3",
   "language": "python",
   "name": "python3"
  },
  "language_info": {
   "codemirror_mode": {
    "name": "ipython",
    "version": 3
   },
   "file_extension": ".py",
   "mimetype": "text/x-python",
   "name": "python",
   "nbconvert_exporter": "python",
   "pygments_lexer": "ipython3",
   "version": "3.8.8"
  }
 },
 "nbformat": 4,
 "nbformat_minor": 5
}
