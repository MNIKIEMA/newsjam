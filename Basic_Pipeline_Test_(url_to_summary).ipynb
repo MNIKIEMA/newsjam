{
  "nbformat": 4,
  "nbformat_minor": 0,
  "metadata": {
    "colab": {
      "name": "Basic Pipeline Test (url to summary)",
      "provenance": []
    },
    "kernelspec": {
      "name": "python3",
      "display_name": "Python 3"
    },
    "language_info": {
      "name": "python"
    }
  },
  "cells": [
    {
      "cell_type": "code",
      "source": [
        "!git clone https://github.com/pie3636/newsjam.git\n",
        "!mv newsjam/* ."
      ],
      "metadata": {
        "colab": {
          "base_uri": "https://localhost:8080/"
        },
        "id": "RfpFD2tDU87B",
        "outputId": "29d6cb93-6ca4-40e1-cff2-fad23fcd9840"
      },
      "execution_count": null,
      "outputs": [
        {
          "output_type": "stream",
          "name": "stdout",
          "text": [
            "Cloning into 'newsjam'...\n",
            "remote: Enumerating objects: 387, done.\u001b[K\n",
            "remote: Counting objects: 100% (387/387), done.\u001b[K\n",
            "remote: Compressing objects: 100% (275/275), done.\u001b[K\n",
            "remote: Total 387 (delta 206), reused 246 (delta 108), pack-reused 0\u001b[K\n",
            "Receiving objects: 100% (387/387), 9.33 MiB | 4.67 MiB/s, done.\n",
            "Resolving deltas: 100% (206/206), done.\n"
          ]
        }
      ]
    },
    {
      "cell_type": "markdown",
      "source": [
        "Imports (Run Once)"
      ],
      "metadata": {
        "id": "CrtYtyKLSFmA"
      }
    },
    {
      "cell_type": "code",
      "source": [
        "!pip install selenium --upgrade\n",
        "!apt install chromium-chromedriver\n",
        "!cp /usr/lib/chromium-browser/chromedriver /usr/bin\n",
        "!python -m pip install -r requirements.txt\n",
        "!python -m spacy download fr_core_news_sm"
      ],
      "metadata": {
        "id": "t42ha1fBOd3X"
      },
      "execution_count": null,
      "outputs": []
    },
    {
      "cell_type": "code",
      "execution_count": 15,
      "metadata": {
        "id": "f1unlbqwOcF0"
      },
      "outputs": [],
      "source": [
        "from selenium import webdriver\n",
        "from selenium.webdriver.common.by import By\n",
        "from itertools import groupby\n",
        "from selenium.webdriver.chrome.options import Options\n",
        "import re\n",
        "import sys\n",
        "sys.path.insert(0,'/usr/lib/chromium-browser/chromedriver') #make sure the webdriver is in the right spot\n",
        "\n",
        "def actu_scraper(url):\n",
        "    '''\n",
        "    takes a given URL, grabs the article text\n",
        "    returns the text as a string\n",
        "    '''\n",
        "\n",
        "    #webdriver initialization stuff\n",
        "    options = webdriver.ChromeOptions()\n",
        "    options.add_argument('--headless')\n",
        "    options.add_argument('--no-sandbox')\n",
        "    options.add_argument('--disable-dev-shm-usage')\n",
        "    driver = webdriver.Chrome('chromedriver',options=options)\n",
        "    driver.get(url)\n",
        "\n",
        "    #bypasses the cookie popup and grabs the article\n",
        "    try:\n",
        "      button = driver.find_element(By.CSS_SELECTOR, \"#didomi-notice-agree-button\")\n",
        "      button.click()\n",
        "    except:\n",
        "      article = driver.find_elements(By.XPATH, '/html/body/div[2]/main/div/div[1]/div[1]')\n",
        "    article = driver.find_elements(By.XPATH, '/html/body/div[2]/main/div/div[1]/div[1]')\n",
        "    article_text = []\n",
        "    #article text cleanup, automatically removes all image captions, extraneous information at the start and end of every article, etc.\n",
        "    for x in range(len(article)):\n",
        "        article_text.append(article[x].text.replace(\"\\n\",\" \"))\n",
        "        article_text[x] = re.sub(r'Par.*\\d{1,2}:\\d{1,2}|Cet article vous a été.*|\\(©.*?\\)|<a.*?a>',\"\",article_text[x])\n",
        "    driver.close()\n",
        "    return article_text[x]\n",
        "\n",
        "text = actu_scraper('https://actu.fr/bretagne/vitre_35360/vitre-comment-prendre-rendez-vous-pour-vacciner-les-enfants-de-5-11-ans_47661576.html')"
      ]
    },
    {
      "cell_type": "code",
      "source": [
        "from summ.lsa import LSASummarizer\n",
        "lsa_summ = LSASummarizer()\n",
        "summary = lsa_summ.get_summary(text)\n",
        "summary = summary[0]"
      ],
      "metadata": {
        "id": "0PmHEhlkTUGo"
      },
      "execution_count": 16,
      "outputs": []
    },
    {
      "cell_type": "code",
      "source": [
        "summary = summary.replace('\\n', ' ')\n",
        "print(summary)"
      ],
      "metadata": {
        "id": "CHhUZWdYSQB_",
        "colab": {
          "base_uri": "https://localhost:8080/"
        },
        "outputId": "09f062e5-1c94-4996-e3ed-9cba5da9a891"
      },
      "execution_count": 17,
      "outputs": [
        {
          "output_type": "stream",
          "name": "stdout",
          "text": [
            "Le Journal de Vitré Mon actu Suivre Depuis le 22 décembre 2021, la vaccination contre la Covid-19 est ouverte à l’ensemble des enfants âgés de 5 à 11 ans.\n"
          ]
        }
      ]
    }
  ]
}