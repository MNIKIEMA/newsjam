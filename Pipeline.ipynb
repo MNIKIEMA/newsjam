{
  "nbformat": 4,
  "nbformat_minor": 0,
  "metadata": {
    "colab": {
      "name": "Pipeline.ipynb",
      "provenance": []
    },
    "kernelspec": {
      "name": "python3",
      "display_name": "Python 3"
    },
    "language_info": {
      "name": "python"
    }
  },
  "cells": [
    {
      "cell_type": "code",
      "source": [
        "#@title Cloning the github repository\n",
        "!git clone https://github.com/pie3636/newsjam.git\n",
        "!mv newsjam/* ."
      ],
      "metadata": {
        "id": "RfpFD2tDU87B",
        "cellView": "form"
      },
      "execution_count": null,
      "outputs": []
    },
    {
      "cell_type": "code",
      "source": [
        "#@title Imports (run once)\n",
        "!pip install selenium --upgrade;\n",
        "!apt install chromium-chromedriver;\n",
        "!cp /usr/lib/chromium-browser/chromedriver /usr/bin\n",
        "!pip install tweepy --upgrade;\n",
        "!pip install python-dotenv --upgrade;\n",
        "!python -m pip install -r requirements.txt;\n",
        "!python -m spacy download fr_core_news_sm;"
      ],
      "metadata": {
        "id": "t42ha1fBOd3X",
        "cellView": "form"
      },
      "execution_count": null,
      "outputs": []
    },
    {
      "cell_type": "code",
      "source": [
        "#@title More imports and Twitter authentication\n",
        "import nltk\n",
        "nltk.download('stopwords')\n",
        "\n",
        "import os\n",
        "from dotenv import load_dotenv\n",
        "from summ.lsa import LSASummarizer\n",
        "from summ.bert_embed import BertEmbeddingsSummarizer as Bert\n",
        "from data import scraper_functions\n",
        "from classif import log_reg_classifier as lrc\n",
        "import tweepy\n",
        "import numpy as np\n",
        "LSA = LSASummarizer()\n",
        "flau = Bert('flaubert/flaubert_large_cased')\n",
        "camem = Bert('camembert/camembert-large')\n",
        "\n",
        "#this will not work if you don't have the .env file with the API keys\n",
        "\n",
        "load_dotenv('/content/API.env')\n",
        "consumer_key = os.getenv('consumer_key')\n",
        "consumer_secret = os.getenv('consumer_secret')\n",
        "bearer = os.getenv('bearer')\n",
        "access_key = os.getenv('access_key')\n",
        "access_key_secret = os.getenv('access_key_secret')\n",
        "\n",
        "client = tweepy.Client(bearer_token=bearer, consumer_key=consumer_key, consumer_secret=consumer_secret, access_token=access_key, access_token_secret=access_key_secret)"
      ],
      "metadata": {
        "id": "mnLYuWGs-f4F",
        "cellView": "form"
      },
      "execution_count": null,
      "outputs": []
    },
    {
      "cell_type": "code",
      "source": [
        "#@title Pipeline code\n",
        "chosen_summ = int(input(\"Select your summarizer: LSA (1), FlauBERT (2), or CamemBERT (3) \"))\n",
        "num_articles = int(input(\"How many articles should be selected? \"))\n",
        "url_list = scraper_functions.actu_autoscraper('https://actu.fr/societe/coronavirus', url_amount=num_articles)\n",
        "summ_list = []\n",
        "summ_url = []\n",
        "\n",
        "if chosen_summ == 1:\n",
        "  summariser = LSA\n",
        "elif chosen_summ == 2:\n",
        "  summariser = flau\n",
        "elif chosen_summ == 3:\n",
        "  summariser = camem\n",
        "else:\n",
        "  summariser = LSA\n",
        "\n",
        "for x in range(len(url_list)):\n",
        "  text, url = scraper_functions.actu_scraper(url_list[x])\n",
        "  lrc_results = lrc.classifier(text)\n",
        "  if lrc_results == False:\n",
        "    continue\n",
        "  else:\n",
        "    summ_list.append(text)\n",
        "    summ_url.append(url)\n",
        "\n",
        "summ_list = [x for x in summ_list if x != '' or len(x) > 300] #sometimes the scraper decides to mess up, so this gets rid of empty and very short article texts\n",
        "num_of_tweets = int(input(\"{} articles are appropriate for posting. How many should be tweeted? \".format(len(summ_list))))\n",
        "\n",
        "for y in range(num_of_tweets):\n",
        "  try:\n",
        "    summary = summariser.get_summary(summ_list[y])\n",
        "    summary = summary[0]\n",
        "    print(\"\\nSummary of article {}:\".format(y+1),summary)\n",
        "    tweet_response = client.create_tweet(text=summary)\n",
        "    client.create_tweet(text=summ_url[y], in_reply_to_tweet_id=tweet_response.data['id']) #reply to the posted tweet immediately with the original URL\n",
        "    print(\"\\nArticle {} was successfully posted!\".format(y+1))\n",
        "  except tweepy.errors.Forbidden:\n",
        "    print(\"\\nArticle {} was unable to be posted. It was likely posted already.\".format(y+1))\n",
        "    continue"
      ],
      "metadata": {
        "id": "vbPpi7DkB2c4",
        "colab": {
          "base_uri": "https://localhost:8080/"
        },
        "outputId": "1c6b2d58-0775-4d47-fd9f-e8cae83b8620",
        "cellView": "form"
      },
      "execution_count": 2,
      "outputs": [
        {
          "output_type": "stream",
          "name": "stdout",
          "text": [
            "Select your summarizer: LSA (1), FlauBERT (2), or CamemBERT (3) 1\n",
            "How many articles should be selected? 10\n",
            "10 articles are appropriate for posting. How many should be tweeted? 4\n",
            "\n",
            "Summary of article 1: Une seconde journée est prévue sur le même lieu à Sablé, lundi 17 janvier de 10 h à 16 h 30.\n",
            "Deux lignes de dépistages étaient installées de 10 h à 16 h 30.  \n",
            "\n",
            "Article 1 was successfully posted!\n",
            "\n",
            "Summary of article 2: des Pays de La Loire faisait le point sur la vaccination en Sarthe, ce jeudi 13 janvier 2022.  \n",
            "90% des plus de 65 ans y sont éligibles.  \n",
            "\n",
            "Article 2 was successfully posted!\n",
            "\n",
            "Summary of article 3: Covid-19 de moins de 48 heures avant de se présenter à l’aéroport », explique Cédric Gandini.\n",
            "C’est ici qu’Anne\n",
            "La gérante de l’agence de voyages\n",
            "\n",
            "Article 3 was successfully posted!\n",
            "\n",
            "Summary of article 4: -André\n",
            "À lire aussi Saint\n",
            "-de-l’Eure : la ferme photovoltaïque, c’est pour 2022 !\n",
            "-André\n",
            "À lire aussi Saint\n",
            "-de-l’Eure (Eure).\n",
            "-André\n",
            "\n",
            "Article 4 was successfully posted!\n"
          ]
        }
      ]
    }
  ]
}