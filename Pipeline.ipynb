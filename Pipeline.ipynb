{
  "nbformat": 4,
  "nbformat_minor": 0,
  "metadata": {
    "colab": {
      "name": "Pipeline",
      "provenance": []
    },
    "kernelspec": {
      "name": "python3",
      "display_name": "Python 3"
    },
    "language_info": {
      "name": "python"
    }
  },
  "cells": [
    {
      "cell_type": "code",
      "source": [
        "!git clone https://github.com/pie3636/newsjam.git\n",
        "!mv newsjam/* ."
      ],
      "metadata": {
        "colab": {
          "base_uri": "https://localhost:8080/"
        },
        "id": "RfpFD2tDU87B",
        "outputId": "88836257-7cff-43d8-b708-3e544d44eb03"
      },
      "execution_count": 1,
      "outputs": [
        {
          "output_type": "stream",
          "name": "stdout",
          "text": [
            "Cloning into 'newsjam'...\n",
            "remote: Enumerating objects: 439, done.\u001b[K\n",
            "remote: Counting objects: 100% (439/439), done.\u001b[K\n",
            "remote: Compressing objects: 100% (319/319), done.\u001b[K\n",
            "remote: Total 439 (delta 236), reused 264 (delta 116), pack-reused 0\n",
            "Receiving objects: 100% (439/439), 10.37 MiB | 5.34 MiB/s, done.\n",
            "Resolving deltas: 100% (236/236), done.\n"
          ]
        }
      ]
    },
    {
      "cell_type": "markdown",
      "source": [
        "Imports (Run Once)"
      ],
      "metadata": {
        "id": "CrtYtyKLSFmA"
      }
    },
    {
      "cell_type": "code",
      "source": [
        "!pip install selenium --upgrade;\n",
        "!apt install chromium-chromedriver;\n",
        "!cp /usr/lib/chromium-browser/chromedriver /usr/bin\n",
        "!pip install tweepy --upgrade;\n",
        "!pip install python-dotenv --upgrade;"
      ],
      "metadata": {
        "colab": {
          "base_uri": "https://localhost:8080/"
        },
        "id": "t42ha1fBOd3X",
        "outputId": "82e9906a-5d84-4c65-cb0c-25ebaf63b80a"
      },
      "execution_count": 2,
      "outputs": [
        {
          "output_type": "stream",
          "name": "stdout",
          "text": [
            "Collecting selenium\n",
            "  Downloading selenium-4.1.0-py3-none-any.whl (958 kB)\n",
            "\u001b[?25l\r\u001b[K     |▍                               | 10 kB 25.4 MB/s eta 0:00:01\r\u001b[K     |▊                               | 20 kB 23.3 MB/s eta 0:00:01\r\u001b[K     |█                               | 30 kB 28.3 MB/s eta 0:00:01\r\u001b[K     |█▍                              | 40 kB 32.5 MB/s eta 0:00:01\r\u001b[K     |█▊                              | 51 kB 30.2 MB/s eta 0:00:01\r\u001b[K     |██                              | 61 kB 23.2 MB/s eta 0:00:01\r\u001b[K     |██▍                             | 71 kB 19.4 MB/s eta 0:00:01\r\u001b[K     |██▊                             | 81 kB 21.0 MB/s eta 0:00:01\r\u001b[K     |███                             | 92 kB 22.6 MB/s eta 0:00:01\r\u001b[K     |███▍                            | 102 kB 19.6 MB/s eta 0:00:01\r\u001b[K     |███▊                            | 112 kB 19.6 MB/s eta 0:00:01\r\u001b[K     |████                            | 122 kB 19.6 MB/s eta 0:00:01\r\u001b[K     |████▍                           | 133 kB 19.6 MB/s eta 0:00:01\r\u001b[K     |████▉                           | 143 kB 19.6 MB/s eta 0:00:01\r\u001b[K     |█████▏                          | 153 kB 19.6 MB/s eta 0:00:01\r\u001b[K     |█████▌                          | 163 kB 19.6 MB/s eta 0:00:01\r\u001b[K     |█████▉                          | 174 kB 19.6 MB/s eta 0:00:01\r\u001b[K     |██████▏                         | 184 kB 19.6 MB/s eta 0:00:01\r\u001b[K     |██████▌                         | 194 kB 19.6 MB/s eta 0:00:01\r\u001b[K     |██████▉                         | 204 kB 19.6 MB/s eta 0:00:01\r\u001b[K     |███████▏                        | 215 kB 19.6 MB/s eta 0:00:01\r\u001b[K     |███████▌                        | 225 kB 19.6 MB/s eta 0:00:01\r\u001b[K     |███████▉                        | 235 kB 19.6 MB/s eta 0:00:01\r\u001b[K     |████████▏                       | 245 kB 19.6 MB/s eta 0:00:01\r\u001b[K     |████████▌                       | 256 kB 19.6 MB/s eta 0:00:01\r\u001b[K     |████████▉                       | 266 kB 19.6 MB/s eta 0:00:01\r\u001b[K     |█████████▎                      | 276 kB 19.6 MB/s eta 0:00:01\r\u001b[K     |█████████▋                      | 286 kB 19.6 MB/s eta 0:00:01\r\u001b[K     |██████████                      | 296 kB 19.6 MB/s eta 0:00:01\r\u001b[K     |██████████▎                     | 307 kB 19.6 MB/s eta 0:00:01\r\u001b[K     |██████████▋                     | 317 kB 19.6 MB/s eta 0:00:01\r\u001b[K     |███████████                     | 327 kB 19.6 MB/s eta 0:00:01\r\u001b[K     |███████████▎                    | 337 kB 19.6 MB/s eta 0:00:01\r\u001b[K     |███████████▋                    | 348 kB 19.6 MB/s eta 0:00:01\r\u001b[K     |████████████                    | 358 kB 19.6 MB/s eta 0:00:01\r\u001b[K     |████████████▎                   | 368 kB 19.6 MB/s eta 0:00:01\r\u001b[K     |████████████▋                   | 378 kB 19.6 MB/s eta 0:00:01\r\u001b[K     |█████████████                   | 389 kB 19.6 MB/s eta 0:00:01\r\u001b[K     |█████████████▎                  | 399 kB 19.6 MB/s eta 0:00:01\r\u001b[K     |█████████████▊                  | 409 kB 19.6 MB/s eta 0:00:01\r\u001b[K     |██████████████                  | 419 kB 19.6 MB/s eta 0:00:01\r\u001b[K     |██████████████▍                 | 430 kB 19.6 MB/s eta 0:00:01\r\u001b[K     |██████████████▊                 | 440 kB 19.6 MB/s eta 0:00:01\r\u001b[K     |███████████████                 | 450 kB 19.6 MB/s eta 0:00:01\r\u001b[K     |███████████████▍                | 460 kB 19.6 MB/s eta 0:00:01\r\u001b[K     |███████████████▊                | 471 kB 19.6 MB/s eta 0:00:01\r\u001b[K     |████████████████                | 481 kB 19.6 MB/s eta 0:00:01\r\u001b[K     |████████████████▍               | 491 kB 19.6 MB/s eta 0:00:01\r\u001b[K     |████████████████▊               | 501 kB 19.6 MB/s eta 0:00:01\r\u001b[K     |█████████████████               | 512 kB 19.6 MB/s eta 0:00:01\r\u001b[K     |█████████████████▍              | 522 kB 19.6 MB/s eta 0:00:01\r\u001b[K     |█████████████████▊              | 532 kB 19.6 MB/s eta 0:00:01\r\u001b[K     |██████████████████▏             | 542 kB 19.6 MB/s eta 0:00:01\r\u001b[K     |██████████████████▌             | 552 kB 19.6 MB/s eta 0:00:01\r\u001b[K     |██████████████████▉             | 563 kB 19.6 MB/s eta 0:00:01\r\u001b[K     |███████████████████▏            | 573 kB 19.6 MB/s eta 0:00:01\r\u001b[K     |███████████████████▌            | 583 kB 19.6 MB/s eta 0:00:01\r\u001b[K     |███████████████████▉            | 593 kB 19.6 MB/s eta 0:00:01\r\u001b[K     |████████████████████▏           | 604 kB 19.6 MB/s eta 0:00:01\r\u001b[K     |████████████████████▌           | 614 kB 19.6 MB/s eta 0:00:01\r\u001b[K     |████████████████████▉           | 624 kB 19.6 MB/s eta 0:00:01\r\u001b[K     |█████████████████████▏          | 634 kB 19.6 MB/s eta 0:00:01\r\u001b[K     |█████████████████████▌          | 645 kB 19.6 MB/s eta 0:00:01\r\u001b[K     |█████████████████████▉          | 655 kB 19.6 MB/s eta 0:00:01\r\u001b[K     |██████████████████████▏         | 665 kB 19.6 MB/s eta 0:00:01\r\u001b[K     |██████████████████████▋         | 675 kB 19.6 MB/s eta 0:00:01\r\u001b[K     |███████████████████████         | 686 kB 19.6 MB/s eta 0:00:01\r\u001b[K     |███████████████████████▎        | 696 kB 19.6 MB/s eta 0:00:01\r\u001b[K     |███████████████████████▋        | 706 kB 19.6 MB/s eta 0:00:01\r\u001b[K     |████████████████████████        | 716 kB 19.6 MB/s eta 0:00:01\r\u001b[K     |████████████████████████▎       | 727 kB 19.6 MB/s eta 0:00:01\r\u001b[K     |████████████████████████▋       | 737 kB 19.6 MB/s eta 0:00:01\r\u001b[K     |█████████████████████████       | 747 kB 19.6 MB/s eta 0:00:01\r\u001b[K     |█████████████████████████▎      | 757 kB 19.6 MB/s eta 0:00:01\r\u001b[K     |█████████████████████████▋      | 768 kB 19.6 MB/s eta 0:00:01\r\u001b[K     |██████████████████████████      | 778 kB 19.6 MB/s eta 0:00:01\r\u001b[K     |██████████████████████████▎     | 788 kB 19.6 MB/s eta 0:00:01\r\u001b[K     |██████████████████████████▋     | 798 kB 19.6 MB/s eta 0:00:01\r\u001b[K     |███████████████████████████     | 808 kB 19.6 MB/s eta 0:00:01\r\u001b[K     |███████████████████████████▍    | 819 kB 19.6 MB/s eta 0:00:01\r\u001b[K     |███████████████████████████▊    | 829 kB 19.6 MB/s eta 0:00:01\r\u001b[K     |████████████████████████████    | 839 kB 19.6 MB/s eta 0:00:01\r\u001b[K     |████████████████████████████▍   | 849 kB 19.6 MB/s eta 0:00:01\r\u001b[K     |████████████████████████████▊   | 860 kB 19.6 MB/s eta 0:00:01\r\u001b[K     |█████████████████████████████   | 870 kB 19.6 MB/s eta 0:00:01\r\u001b[K     |█████████████████████████████▍  | 880 kB 19.6 MB/s eta 0:00:01\r\u001b[K     |█████████████████████████████▊  | 890 kB 19.6 MB/s eta 0:00:01\r\u001b[K     |██████████████████████████████  | 901 kB 19.6 MB/s eta 0:00:01\r\u001b[K     |██████████████████████████████▍ | 911 kB 19.6 MB/s eta 0:00:01\r\u001b[K     |██████████████████████████████▊ | 921 kB 19.6 MB/s eta 0:00:01\r\u001b[K     |███████████████████████████████ | 931 kB 19.6 MB/s eta 0:00:01\r\u001b[K     |███████████████████████████████▍| 942 kB 19.6 MB/s eta 0:00:01\r\u001b[K     |███████████████████████████████▉| 952 kB 19.6 MB/s eta 0:00:01\r\u001b[K     |████████████████████████████████| 958 kB 19.6 MB/s \n",
            "\u001b[?25hCollecting trio-websocket~=0.9\n",
            "  Downloading trio_websocket-0.9.2-py3-none-any.whl (16 kB)\n",
            "Collecting trio~=0.17\n",
            "  Downloading trio-0.19.0-py3-none-any.whl (356 kB)\n",
            "\u001b[K     |████████████████████████████████| 356 kB 65.3 MB/s \n",
            "\u001b[?25hCollecting urllib3[secure]~=1.26\n",
            "  Downloading urllib3-1.26.7-py2.py3-none-any.whl (138 kB)\n",
            "\u001b[K     |████████████████████████████████| 138 kB 61.2 MB/s \n",
            "\u001b[?25hCollecting sniffio\n",
            "  Downloading sniffio-1.2.0-py3-none-any.whl (10 kB)\n",
            "Collecting async-generator>=1.9\n",
            "  Downloading async_generator-1.10-py3-none-any.whl (18 kB)\n",
            "Collecting outcome\n",
            "  Downloading outcome-1.1.0-py2.py3-none-any.whl (9.7 kB)\n",
            "Requirement already satisfied: sortedcontainers in /usr/local/lib/python3.7/dist-packages (from trio~=0.17->selenium) (2.4.0)\n",
            "Requirement already satisfied: attrs>=19.2.0 in /usr/local/lib/python3.7/dist-packages (from trio~=0.17->selenium) (21.2.0)\n",
            "Requirement already satisfied: idna in /usr/local/lib/python3.7/dist-packages (from trio~=0.17->selenium) (2.10)\n",
            "Collecting wsproto>=0.14\n",
            "  Downloading wsproto-1.0.0-py3-none-any.whl (24 kB)\n",
            "Collecting pyOpenSSL>=0.14\n",
            "  Downloading pyOpenSSL-21.0.0-py2.py3-none-any.whl (55 kB)\n",
            "\u001b[K     |████████████████████████████████| 55 kB 3.1 MB/s \n",
            "\u001b[?25hRequirement already satisfied: certifi in /usr/local/lib/python3.7/dist-packages (from urllib3[secure]~=1.26->selenium) (2021.10.8)\n",
            "Collecting cryptography>=1.3.4\n",
            "  Downloading cryptography-36.0.1-cp36-abi3-manylinux_2_24_x86_64.whl (3.6 MB)\n",
            "\u001b[K     |████████████████████████████████| 3.6 MB 53.7 MB/s \n",
            "\u001b[?25hRequirement already satisfied: cffi>=1.12 in /usr/local/lib/python3.7/dist-packages (from cryptography>=1.3.4->urllib3[secure]~=1.26->selenium) (1.15.0)\n",
            "Requirement already satisfied: pycparser in /usr/local/lib/python3.7/dist-packages (from cffi>=1.12->cryptography>=1.3.4->urllib3[secure]~=1.26->selenium) (2.21)\n",
            "Requirement already satisfied: six>=1.5.2 in /usr/local/lib/python3.7/dist-packages (from pyOpenSSL>=0.14->urllib3[secure]~=1.26->selenium) (1.15.0)\n",
            "Collecting h11<1,>=0.9.0\n",
            "  Downloading h11-0.12.0-py3-none-any.whl (54 kB)\n",
            "\u001b[K     |████████████████████████████████| 54 kB 2.9 MB/s \n",
            "\u001b[?25hInstalling collected packages: sniffio, outcome, h11, cryptography, async-generator, wsproto, urllib3, trio, pyOpenSSL, trio-websocket, selenium\n",
            "  Attempting uninstall: urllib3\n",
            "    Found existing installation: urllib3 1.24.3\n",
            "    Uninstalling urllib3-1.24.3:\n",
            "      Successfully uninstalled urllib3-1.24.3\n",
            "\u001b[31mERROR: pip's dependency resolver does not currently take into account all the packages that are installed. This behaviour is the source of the following dependency conflicts.\n",
            "requests 2.23.0 requires urllib3!=1.25.0,!=1.25.1,<1.26,>=1.21.1, but you have urllib3 1.26.7 which is incompatible.\n",
            "datascience 0.10.6 requires folium==0.2.1, but you have folium 0.8.3 which is incompatible.\u001b[0m\n",
            "Successfully installed async-generator-1.10 cryptography-36.0.1 h11-0.12.0 outcome-1.1.0 pyOpenSSL-21.0.0 selenium-4.1.0 sniffio-1.2.0 trio-0.19.0 trio-websocket-0.9.2 urllib3-1.26.7 wsproto-1.0.0\n",
            "Reading package lists... Done\n",
            "Building dependency tree       \n",
            "Reading state information... Done\n",
            "The following additional packages will be installed:\n",
            "  chromium-browser chromium-browser-l10n chromium-codecs-ffmpeg-extra\n",
            "Suggested packages:\n",
            "  webaccounts-chromium-extension unity-chromium-extension\n",
            "The following NEW packages will be installed:\n",
            "  chromium-browser chromium-browser-l10n chromium-chromedriver\n",
            "  chromium-codecs-ffmpeg-extra\n",
            "0 upgraded, 4 newly installed, 0 to remove and 37 not upgraded.\n",
            "Need to get 94.0 MB of archives.\n",
            "After this operation, 324 MB of additional disk space will be used.\n",
            "Get:1 http://archive.ubuntu.com/ubuntu bionic-updates/universe amd64 chromium-codecs-ffmpeg-extra amd64 95.0.4638.69-0ubuntu0.18.04.1 [1,135 kB]\n",
            "Get:2 http://archive.ubuntu.com/ubuntu bionic-updates/universe amd64 chromium-browser amd64 95.0.4638.69-0ubuntu0.18.04.1 [83.6 MB]\n",
            "Get:3 http://archive.ubuntu.com/ubuntu bionic-updates/universe amd64 chromium-browser-l10n all 95.0.4638.69-0ubuntu0.18.04.1 [4,249 kB]\n",
            "Get:4 http://archive.ubuntu.com/ubuntu bionic-updates/universe amd64 chromium-chromedriver amd64 95.0.4638.69-0ubuntu0.18.04.1 [4,986 kB]\n",
            "Fetched 94.0 MB in 3s (28.2 MB/s)\n",
            "Selecting previously unselected package chromium-codecs-ffmpeg-extra.\n",
            "(Reading database ... 155225 files and directories currently installed.)\n",
            "Preparing to unpack .../chromium-codecs-ffmpeg-extra_95.0.4638.69-0ubuntu0.18.04.1_amd64.deb ...\n",
            "Unpacking chromium-codecs-ffmpeg-extra (95.0.4638.69-0ubuntu0.18.04.1) ...\n",
            "Selecting previously unselected package chromium-browser.\n",
            "Preparing to unpack .../chromium-browser_95.0.4638.69-0ubuntu0.18.04.1_amd64.deb ...\n",
            "Unpacking chromium-browser (95.0.4638.69-0ubuntu0.18.04.1) ...\n",
            "Selecting previously unselected package chromium-browser-l10n.\n",
            "Preparing to unpack .../chromium-browser-l10n_95.0.4638.69-0ubuntu0.18.04.1_all.deb ...\n",
            "Unpacking chromium-browser-l10n (95.0.4638.69-0ubuntu0.18.04.1) ...\n",
            "Selecting previously unselected package chromium-chromedriver.\n",
            "Preparing to unpack .../chromium-chromedriver_95.0.4638.69-0ubuntu0.18.04.1_amd64.deb ...\n",
            "Unpacking chromium-chromedriver (95.0.4638.69-0ubuntu0.18.04.1) ...\n",
            "Setting up chromium-codecs-ffmpeg-extra (95.0.4638.69-0ubuntu0.18.04.1) ...\n",
            "Setting up chromium-browser (95.0.4638.69-0ubuntu0.18.04.1) ...\n",
            "update-alternatives: using /usr/bin/chromium-browser to provide /usr/bin/x-www-browser (x-www-browser) in auto mode\n",
            "update-alternatives: using /usr/bin/chromium-browser to provide /usr/bin/gnome-www-browser (gnome-www-browser) in auto mode\n",
            "Setting up chromium-chromedriver (95.0.4638.69-0ubuntu0.18.04.1) ...\n",
            "Setting up chromium-browser-l10n (95.0.4638.69-0ubuntu0.18.04.1) ...\n",
            "Processing triggers for man-db (2.8.3-2ubuntu0.1) ...\n",
            "Processing triggers for hicolor-icon-theme (0.17-2) ...\n",
            "Processing triggers for mime-support (3.60ubuntu1) ...\n",
            "Processing triggers for libc-bin (2.27-3ubuntu1.3) ...\n",
            "/sbin/ldconfig.real: /usr/local/lib/python3.7/dist-packages/ideep4py/lib/libmkldnn.so.0 is not a symbolic link\n",
            "\n",
            "cp: '/usr/lib/chromium-browser/chromedriver' and '/usr/bin/chromedriver' are the same file\n",
            "Requirement already satisfied: tweepy in /usr/local/lib/python3.7/dist-packages (3.10.0)\n",
            "Collecting tweepy\n",
            "  Downloading tweepy-4.4.0-py2.py3-none-any.whl (65 kB)\n",
            "\u001b[K     |████████████████████████████████| 65 kB 3.2 MB/s \n",
            "\u001b[?25hRequirement already satisfied: requests-oauthlib<2,>=1.0.0 in /usr/local/lib/python3.7/dist-packages (from tweepy) (1.3.0)\n",
            "Requirement already satisfied: requests<3,>=2.11.1 in /usr/local/lib/python3.7/dist-packages (from tweepy) (2.23.0)\n",
            "Requirement already satisfied: idna<3,>=2.5 in /usr/local/lib/python3.7/dist-packages (from requests<3,>=2.11.1->tweepy) (2.10)\n",
            "Requirement already satisfied: chardet<4,>=3.0.2 in /usr/local/lib/python3.7/dist-packages (from requests<3,>=2.11.1->tweepy) (3.0.4)\n",
            "Requirement already satisfied: certifi>=2017.4.17 in /usr/local/lib/python3.7/dist-packages (from requests<3,>=2.11.1->tweepy) (2021.10.8)\n",
            "Collecting urllib3!=1.25.0,!=1.25.1,<1.26,>=1.21.1\n",
            "  Downloading urllib3-1.25.11-py2.py3-none-any.whl (127 kB)\n",
            "\u001b[K     |████████████████████████████████| 127 kB 44.6 MB/s \n",
            "\u001b[?25hRequirement already satisfied: oauthlib>=3.0.0 in /usr/local/lib/python3.7/dist-packages (from requests-oauthlib<2,>=1.0.0->tweepy) (3.1.1)\n",
            "Installing collected packages: urllib3, tweepy\n",
            "  Attempting uninstall: urllib3\n",
            "    Found existing installation: urllib3 1.26.7\n",
            "    Uninstalling urllib3-1.26.7:\n",
            "      Successfully uninstalled urllib3-1.26.7\n",
            "  Attempting uninstall: tweepy\n",
            "    Found existing installation: tweepy 3.10.0\n",
            "    Uninstalling tweepy-3.10.0:\n",
            "      Successfully uninstalled tweepy-3.10.0\n",
            "\u001b[31mERROR: pip's dependency resolver does not currently take into account all the packages that are installed. This behaviour is the source of the following dependency conflicts.\n",
            "selenium 4.1.0 requires urllib3[secure]~=1.26, but you have urllib3 1.25.11 which is incompatible.\n",
            "datascience 0.10.6 requires folium==0.2.1, but you have folium 0.8.3 which is incompatible.\u001b[0m\n",
            "Successfully installed tweepy-4.4.0 urllib3-1.25.11\n",
            "Collecting python-dotenv\n",
            "  Downloading python_dotenv-0.19.2-py2.py3-none-any.whl (17 kB)\n",
            "Installing collected packages: python-dotenv\n",
            "Successfully installed python-dotenv-0.19.2\n"
          ]
        }
      ]
    },
    {
      "cell_type": "code",
      "source": [
        "!python -m pip install -r requirements.txt;\n",
        "!python -m spacy download fr_core_news_sm;"
      ],
      "metadata": {
        "colab": {
          "base_uri": "https://localhost:8080/"
        },
        "id": "TQvcQChNRViZ",
        "outputId": "cd9927b9-2685-4bcd-93b6-7e72ee1c76f7"
      },
      "execution_count": 3,
      "outputs": [
        {
          "output_type": "stream",
          "name": "stdout",
          "text": [
            "Collecting bert-score\n",
            "  Downloading bert_score-0.3.11-py3-none-any.whl (60 kB)\n",
            "\u001b[?25l\r\u001b[K     |█████▌                          | 10 kB 24.5 MB/s eta 0:00:01\r\u001b[K     |███████████                     | 20 kB 31.5 MB/s eta 0:00:01\r\u001b[K     |████████████████▍               | 30 kB 38.2 MB/s eta 0:00:01\r\u001b[K     |█████████████████████▉          | 40 kB 33.6 MB/s eta 0:00:01\r\u001b[K     |███████████████████████████▎    | 51 kB 36.3 MB/s eta 0:00:01\r\u001b[K     |████████████████████████████████| 60 kB 5.2 MB/s \n",
            "\u001b[?25hCollecting datasets\n",
            "  Downloading datasets-1.17.0-py3-none-any.whl (306 kB)\n",
            "\u001b[?25l\r\u001b[K     |█                               | 10 kB 27.9 MB/s eta 0:00:01\r\u001b[K     |██▏                             | 20 kB 35.7 MB/s eta 0:00:01\r\u001b[K     |███▏                            | 30 kB 44.5 MB/s eta 0:00:01\r\u001b[K     |████▎                           | 40 kB 51.6 MB/s eta 0:00:01\r\u001b[K     |█████▍                          | 51 kB 53.6 MB/s eta 0:00:01\r\u001b[K     |██████▍                         | 61 kB 56.3 MB/s eta 0:00:01\r\u001b[K     |███████▌                        | 71 kB 59.0 MB/s eta 0:00:01\r\u001b[K     |████████▋                       | 81 kB 60.8 MB/s eta 0:00:01\r\u001b[K     |█████████▋                      | 92 kB 62.8 MB/s eta 0:00:01\r\u001b[K     |██████████▊                     | 102 kB 65.9 MB/s eta 0:00:01\r\u001b[K     |███████████▊                    | 112 kB 65.9 MB/s eta 0:00:01\r\u001b[K     |████████████▉                   | 122 kB 65.9 MB/s eta 0:00:01\r\u001b[K     |██████████████                  | 133 kB 65.9 MB/s eta 0:00:01\r\u001b[K     |███████████████                 | 143 kB 65.9 MB/s eta 0:00:01\r\u001b[K     |████████████████                | 153 kB 65.9 MB/s eta 0:00:01\r\u001b[K     |█████████████████▏              | 163 kB 65.9 MB/s eta 0:00:01\r\u001b[K     |██████████████████▏             | 174 kB 65.9 MB/s eta 0:00:01\r\u001b[K     |███████████████████▎            | 184 kB 65.9 MB/s eta 0:00:01\r\u001b[K     |████████████████████▎           | 194 kB 65.9 MB/s eta 0:00:01\r\u001b[K     |█████████████████████▍          | 204 kB 65.9 MB/s eta 0:00:01\r\u001b[K     |██████████████████████▌         | 215 kB 65.9 MB/s eta 0:00:01\r\u001b[K     |███████████████████████▌        | 225 kB 65.9 MB/s eta 0:00:01\r\u001b[K     |████████████████████████▋       | 235 kB 65.9 MB/s eta 0:00:01\r\u001b[K     |█████████████████████████▊      | 245 kB 65.9 MB/s eta 0:00:01\r\u001b[K     |██████████████████████████▊     | 256 kB 65.9 MB/s eta 0:00:01\r\u001b[K     |███████████████████████████▉    | 266 kB 65.9 MB/s eta 0:00:01\r\u001b[K     |████████████████████████████▉   | 276 kB 65.9 MB/s eta 0:00:01\r\u001b[K     |██████████████████████████████  | 286 kB 65.9 MB/s eta 0:00:01\r\u001b[K     |███████████████████████████████ | 296 kB 65.9 MB/s eta 0:00:01\r\u001b[K     |████████████████████████████████| 306 kB 65.9 MB/s \n",
            "\u001b[?25hRequirement already satisfied: gensim in /usr/local/lib/python3.7/dist-packages (from -r requirements.txt (line 3)) (3.6.0)\n",
            "Requirement already satisfied: matplotlib in /usr/local/lib/python3.7/dist-packages (from -r requirements.txt (line 4)) (3.2.2)\n",
            "Requirement already satisfied: nltk in /usr/local/lib/python3.7/dist-packages (from -r requirements.txt (line 5)) (3.2.5)\n",
            "Requirement already satisfied: numpy in /usr/local/lib/python3.7/dist-packages (from -r requirements.txt (line 6)) (1.19.5)\n",
            "Requirement already satisfied: protobuf in /usr/local/lib/python3.7/dist-packages (from -r requirements.txt (line 7)) (3.17.3)\n",
            "Collecting rouge-score\n",
            "  Downloading rouge_score-0.0.4-py2.py3-none-any.whl (22 kB)\n",
            "Collecting sentencepiece\n",
            "  Downloading sentencepiece-0.1.96-cp37-cp37m-manylinux_2_17_x86_64.manylinux2014_x86_64.whl (1.2 MB)\n",
            "\u001b[K     |████████████████████████████████| 1.2 MB 28.1 MB/s \n",
            "\u001b[?25hRequirement already satisfied: sklearn in /usr/local/lib/python3.7/dist-packages (from -r requirements.txt (line 10)) (0.0)\n",
            "Requirement already satisfied: spacy in /usr/local/lib/python3.7/dist-packages (from -r requirements.txt (line 11)) (2.2.4)\n",
            "Requirement already satisfied: torch in /usr/local/lib/python3.7/dist-packages (from -r requirements.txt (line 12)) (1.10.0+cu111)\n",
            "Collecting transformers\n",
            "  Downloading transformers-4.15.0-py3-none-any.whl (3.4 MB)\n",
            "\u001b[K     |████████████████████████████████| 3.4 MB 53.6 MB/s \n",
            "\u001b[?25hRequirement already satisfied: packaging>=20.9 in /usr/local/lib/python3.7/dist-packages (from bert-score->-r requirements.txt (line 1)) (21.3)\n",
            "Requirement already satisfied: requests in /usr/local/lib/python3.7/dist-packages (from bert-score->-r requirements.txt (line 1)) (2.23.0)\n",
            "Requirement already satisfied: pandas>=1.0.1 in /usr/local/lib/python3.7/dist-packages (from bert-score->-r requirements.txt (line 1)) (1.1.5)\n",
            "Requirement already satisfied: tqdm>=4.31.1 in /usr/local/lib/python3.7/dist-packages (from bert-score->-r requirements.txt (line 1)) (4.62.3)\n",
            "Requirement already satisfied: typing-extensions in /usr/local/lib/python3.7/dist-packages (from torch->-r requirements.txt (line 12)) (3.10.0.2)\n",
            "Requirement already satisfied: importlib-metadata in /usr/local/lib/python3.7/dist-packages (from transformers->-r requirements.txt (line 13)) (4.8.2)\n",
            "Collecting pyyaml>=5.1\n",
            "  Downloading PyYAML-6.0-cp37-cp37m-manylinux_2_5_x86_64.manylinux1_x86_64.manylinux_2_12_x86_64.manylinux2010_x86_64.whl (596 kB)\n",
            "\u001b[K     |████████████████████████████████| 596 kB 61.2 MB/s \n",
            "\u001b[?25hCollecting sacremoses\n",
            "  Downloading sacremoses-0.0.46-py3-none-any.whl (895 kB)\n",
            "\u001b[K     |████████████████████████████████| 895 kB 57.2 MB/s \n",
            "\u001b[?25hCollecting tokenizers<0.11,>=0.10.1\n",
            "  Downloading tokenizers-0.10.3-cp37-cp37m-manylinux_2_5_x86_64.manylinux1_x86_64.manylinux_2_12_x86_64.manylinux2010_x86_64.whl (3.3 MB)\n",
            "\u001b[K     |████████████████████████████████| 3.3 MB 48.9 MB/s \n",
            "\u001b[?25hRequirement already satisfied: regex!=2019.12.17 in /usr/local/lib/python3.7/dist-packages (from transformers->-r requirements.txt (line 13)) (2019.12.20)\n",
            "Requirement already satisfied: filelock in /usr/local/lib/python3.7/dist-packages (from transformers->-r requirements.txt (line 13)) (3.4.0)\n",
            "Collecting huggingface-hub<1.0,>=0.1.0\n",
            "  Downloading huggingface_hub-0.2.1-py3-none-any.whl (61 kB)\n",
            "\u001b[K     |████████████████████████████████| 61 kB 435 kB/s \n",
            "\u001b[?25hRequirement already satisfied: pyparsing!=3.0.5,>=2.0.2 in /usr/local/lib/python3.7/dist-packages (from packaging>=20.9->bert-score->-r requirements.txt (line 1)) (3.0.6)\n",
            "Requirement already satisfied: pytz>=2017.2 in /usr/local/lib/python3.7/dist-packages (from pandas>=1.0.1->bert-score->-r requirements.txt (line 1)) (2018.9)\n",
            "Requirement already satisfied: python-dateutil>=2.7.3 in /usr/local/lib/python3.7/dist-packages (from pandas>=1.0.1->bert-score->-r requirements.txt (line 1)) (2.8.2)\n",
            "Requirement already satisfied: six>=1.5 in /usr/local/lib/python3.7/dist-packages (from python-dateutil>=2.7.3->pandas>=1.0.1->bert-score->-r requirements.txt (line 1)) (1.15.0)\n",
            "Requirement already satisfied: pyarrow!=4.0.0,>=3.0.0 in /usr/local/lib/python3.7/dist-packages (from datasets->-r requirements.txt (line 2)) (3.0.0)\n",
            "Requirement already satisfied: multiprocess in /usr/local/lib/python3.7/dist-packages (from datasets->-r requirements.txt (line 2)) (0.70.12.2)\n",
            "Requirement already satisfied: dill in /usr/local/lib/python3.7/dist-packages (from datasets->-r requirements.txt (line 2)) (0.3.4)\n",
            "Collecting fsspec[http]>=2021.05.0\n",
            "  Downloading fsspec-2021.11.1-py3-none-any.whl (132 kB)\n",
            "\u001b[K     |████████████████████████████████| 132 kB 59.2 MB/s \n",
            "\u001b[?25hCollecting aiohttp\n",
            "  Downloading aiohttp-3.8.1-cp37-cp37m-manylinux_2_5_x86_64.manylinux1_x86_64.manylinux_2_12_x86_64.manylinux2010_x86_64.whl (1.1 MB)\n",
            "\u001b[K     |████████████████████████████████| 1.1 MB 39.6 MB/s \n",
            "\u001b[?25hCollecting xxhash\n",
            "  Downloading xxhash-2.0.2-cp37-cp37m-manylinux2010_x86_64.whl (243 kB)\n",
            "\u001b[K     |████████████████████████████████| 243 kB 54.0 MB/s \n",
            "\u001b[?25hRequirement already satisfied: urllib3!=1.25.0,!=1.25.1,<1.26,>=1.21.1 in /usr/local/lib/python3.7/dist-packages (from requests->bert-score->-r requirements.txt (line 1)) (1.25.11)\n",
            "Requirement already satisfied: chardet<4,>=3.0.2 in /usr/local/lib/python3.7/dist-packages (from requests->bert-score->-r requirements.txt (line 1)) (3.0.4)\n",
            "Requirement already satisfied: idna<3,>=2.5 in /usr/local/lib/python3.7/dist-packages (from requests->bert-score->-r requirements.txt (line 1)) (2.10)\n",
            "Requirement already satisfied: certifi>=2017.4.17 in /usr/local/lib/python3.7/dist-packages (from requests->bert-score->-r requirements.txt (line 1)) (2021.10.8)\n",
            "Requirement already satisfied: scipy>=0.18.1 in /usr/local/lib/python3.7/dist-packages (from gensim->-r requirements.txt (line 3)) (1.4.1)\n",
            "Requirement already satisfied: smart-open>=1.2.1 in /usr/local/lib/python3.7/dist-packages (from gensim->-r requirements.txt (line 3)) (5.2.1)\n",
            "Requirement already satisfied: kiwisolver>=1.0.1 in /usr/local/lib/python3.7/dist-packages (from matplotlib->-r requirements.txt (line 4)) (1.3.2)\n",
            "Requirement already satisfied: cycler>=0.10 in /usr/local/lib/python3.7/dist-packages (from matplotlib->-r requirements.txt (line 4)) (0.11.0)\n",
            "Requirement already satisfied: absl-py in /usr/local/lib/python3.7/dist-packages (from rouge-score->-r requirements.txt (line 8)) (0.12.0)\n",
            "Requirement already satisfied: scikit-learn in /usr/local/lib/python3.7/dist-packages (from sklearn->-r requirements.txt (line 10)) (1.0.1)\n",
            "Requirement already satisfied: srsly<1.1.0,>=1.0.2 in /usr/local/lib/python3.7/dist-packages (from spacy->-r requirements.txt (line 11)) (1.0.5)\n",
            "Requirement already satisfied: wasabi<1.1.0,>=0.4.0 in /usr/local/lib/python3.7/dist-packages (from spacy->-r requirements.txt (line 11)) (0.8.2)\n",
            "Requirement already satisfied: catalogue<1.1.0,>=0.0.7 in /usr/local/lib/python3.7/dist-packages (from spacy->-r requirements.txt (line 11)) (1.0.0)\n",
            "Requirement already satisfied: plac<1.2.0,>=0.9.6 in /usr/local/lib/python3.7/dist-packages (from spacy->-r requirements.txt (line 11)) (1.1.3)\n",
            "Requirement already satisfied: murmurhash<1.1.0,>=0.28.0 in /usr/local/lib/python3.7/dist-packages (from spacy->-r requirements.txt (line 11)) (1.0.6)\n",
            "Requirement already satisfied: blis<0.5.0,>=0.4.0 in /usr/local/lib/python3.7/dist-packages (from spacy->-r requirements.txt (line 11)) (0.4.1)\n",
            "Requirement already satisfied: thinc==7.4.0 in /usr/local/lib/python3.7/dist-packages (from spacy->-r requirements.txt (line 11)) (7.4.0)\n",
            "Requirement already satisfied: preshed<3.1.0,>=3.0.2 in /usr/local/lib/python3.7/dist-packages (from spacy->-r requirements.txt (line 11)) (3.0.6)\n",
            "Requirement already satisfied: setuptools in /usr/local/lib/python3.7/dist-packages (from spacy->-r requirements.txt (line 11)) (57.4.0)\n",
            "Requirement already satisfied: cymem<2.1.0,>=2.0.2 in /usr/local/lib/python3.7/dist-packages (from spacy->-r requirements.txt (line 11)) (2.0.6)\n",
            "Requirement already satisfied: zipp>=0.5 in /usr/local/lib/python3.7/dist-packages (from importlib-metadata->transformers->-r requirements.txt (line 13)) (3.6.0)\n",
            "Collecting multidict<7.0,>=4.5\n",
            "  Downloading multidict-5.2.0-cp37-cp37m-manylinux_2_5_x86_64.manylinux1_x86_64.manylinux_2_12_x86_64.manylinux2010_x86_64.whl (160 kB)\n",
            "\u001b[K     |████████████████████████████████| 160 kB 81.5 MB/s \n",
            "\u001b[?25hRequirement already satisfied: charset-normalizer<3.0,>=2.0 in /usr/local/lib/python3.7/dist-packages (from aiohttp->datasets->-r requirements.txt (line 2)) (2.0.9)\n",
            "Collecting aiosignal>=1.1.2\n",
            "  Downloading aiosignal-1.2.0-py3-none-any.whl (8.2 kB)\n",
            "Collecting asynctest==0.13.0\n",
            "  Downloading asynctest-0.13.0-py3-none-any.whl (26 kB)\n",
            "Collecting async-timeout<5.0,>=4.0.0a3\n",
            "  Downloading async_timeout-4.0.2-py3-none-any.whl (5.8 kB)\n",
            "Collecting frozenlist>=1.1.1\n",
            "  Downloading frozenlist-1.2.0-cp37-cp37m-manylinux_2_5_x86_64.manylinux1_x86_64.manylinux_2_12_x86_64.manylinux2010_x86_64.whl (192 kB)\n",
            "\u001b[K     |████████████████████████████████| 192 kB 66.9 MB/s \n",
            "\u001b[?25hCollecting yarl<2.0,>=1.0\n",
            "  Downloading yarl-1.7.2-cp37-cp37m-manylinux_2_5_x86_64.manylinux1_x86_64.manylinux_2_12_x86_64.manylinux2010_x86_64.whl (271 kB)\n",
            "\u001b[K     |████████████████████████████████| 271 kB 62.8 MB/s \n",
            "\u001b[?25hRequirement already satisfied: attrs>=17.3.0 in /usr/local/lib/python3.7/dist-packages (from aiohttp->datasets->-r requirements.txt (line 2)) (21.2.0)\n",
            "Requirement already satisfied: click in /usr/local/lib/python3.7/dist-packages (from sacremoses->transformers->-r requirements.txt (line 13)) (7.1.2)\n",
            "Requirement already satisfied: joblib in /usr/local/lib/python3.7/dist-packages (from sacremoses->transformers->-r requirements.txt (line 13)) (1.1.0)\n",
            "Requirement already satisfied: threadpoolctl>=2.0.0 in /usr/local/lib/python3.7/dist-packages (from scikit-learn->sklearn->-r requirements.txt (line 10)) (3.0.0)\n",
            "Installing collected packages: multidict, frozenlist, yarl, pyyaml, asynctest, async-timeout, aiosignal, tokenizers, sacremoses, huggingface-hub, fsspec, aiohttp, xxhash, transformers, sentencepiece, rouge-score, datasets, bert-score\n",
            "  Attempting uninstall: pyyaml\n",
            "    Found existing installation: PyYAML 3.13\n",
            "    Uninstalling PyYAML-3.13:\n",
            "      Successfully uninstalled PyYAML-3.13\n",
            "Successfully installed aiohttp-3.8.1 aiosignal-1.2.0 async-timeout-4.0.2 asynctest-0.13.0 bert-score-0.3.11 datasets-1.17.0 frozenlist-1.2.0 fsspec-2021.11.1 huggingface-hub-0.2.1 multidict-5.2.0 pyyaml-6.0 rouge-score-0.0.4 sacremoses-0.0.46 sentencepiece-0.1.96 tokenizers-0.10.3 transformers-4.15.0 xxhash-2.0.2 yarl-1.7.2\n",
            "Collecting fr_core_news_sm==2.2.5\n",
            "  Downloading https://github.com/explosion/spacy-models/releases/download/fr_core_news_sm-2.2.5/fr_core_news_sm-2.2.5.tar.gz (14.7 MB)\n",
            "\u001b[K     |████████████████████████████████| 14.7 MB 20.5 MB/s \n",
            "\u001b[?25hRequirement already satisfied: spacy>=2.2.2 in /usr/local/lib/python3.7/dist-packages (from fr_core_news_sm==2.2.5) (2.2.4)\n",
            "Requirement already satisfied: requests<3.0.0,>=2.13.0 in /usr/local/lib/python3.7/dist-packages (from spacy>=2.2.2->fr_core_news_sm==2.2.5) (2.23.0)\n",
            "Requirement already satisfied: thinc==7.4.0 in /usr/local/lib/python3.7/dist-packages (from spacy>=2.2.2->fr_core_news_sm==2.2.5) (7.4.0)\n",
            "Requirement already satisfied: setuptools in /usr/local/lib/python3.7/dist-packages (from spacy>=2.2.2->fr_core_news_sm==2.2.5) (57.4.0)\n",
            "Requirement already satisfied: cymem<2.1.0,>=2.0.2 in /usr/local/lib/python3.7/dist-packages (from spacy>=2.2.2->fr_core_news_sm==2.2.5) (2.0.6)\n",
            "Requirement already satisfied: catalogue<1.1.0,>=0.0.7 in /usr/local/lib/python3.7/dist-packages (from spacy>=2.2.2->fr_core_news_sm==2.2.5) (1.0.0)\n",
            "Requirement already satisfied: tqdm<5.0.0,>=4.38.0 in /usr/local/lib/python3.7/dist-packages (from spacy>=2.2.2->fr_core_news_sm==2.2.5) (4.62.3)\n",
            "Requirement already satisfied: preshed<3.1.0,>=3.0.2 in /usr/local/lib/python3.7/dist-packages (from spacy>=2.2.2->fr_core_news_sm==2.2.5) (3.0.6)\n",
            "Requirement already satisfied: srsly<1.1.0,>=1.0.2 in /usr/local/lib/python3.7/dist-packages (from spacy>=2.2.2->fr_core_news_sm==2.2.5) (1.0.5)\n",
            "Requirement already satisfied: blis<0.5.0,>=0.4.0 in /usr/local/lib/python3.7/dist-packages (from spacy>=2.2.2->fr_core_news_sm==2.2.5) (0.4.1)\n",
            "Requirement already satisfied: murmurhash<1.1.0,>=0.28.0 in /usr/local/lib/python3.7/dist-packages (from spacy>=2.2.2->fr_core_news_sm==2.2.5) (1.0.6)\n",
            "Requirement already satisfied: plac<1.2.0,>=0.9.6 in /usr/local/lib/python3.7/dist-packages (from spacy>=2.2.2->fr_core_news_sm==2.2.5) (1.1.3)\n",
            "Requirement already satisfied: numpy>=1.15.0 in /usr/local/lib/python3.7/dist-packages (from spacy>=2.2.2->fr_core_news_sm==2.2.5) (1.19.5)\n",
            "Requirement already satisfied: wasabi<1.1.0,>=0.4.0 in /usr/local/lib/python3.7/dist-packages (from spacy>=2.2.2->fr_core_news_sm==2.2.5) (0.8.2)\n",
            "Requirement already satisfied: importlib-metadata>=0.20 in /usr/local/lib/python3.7/dist-packages (from catalogue<1.1.0,>=0.0.7->spacy>=2.2.2->fr_core_news_sm==2.2.5) (4.8.2)\n",
            "Requirement already satisfied: zipp>=0.5 in /usr/local/lib/python3.7/dist-packages (from importlib-metadata>=0.20->catalogue<1.1.0,>=0.0.7->spacy>=2.2.2->fr_core_news_sm==2.2.5) (3.6.0)\n",
            "Requirement already satisfied: typing-extensions>=3.6.4 in /usr/local/lib/python3.7/dist-packages (from importlib-metadata>=0.20->catalogue<1.1.0,>=0.0.7->spacy>=2.2.2->fr_core_news_sm==2.2.5) (3.10.0.2)\n",
            "Requirement already satisfied: idna<3,>=2.5 in /usr/local/lib/python3.7/dist-packages (from requests<3.0.0,>=2.13.0->spacy>=2.2.2->fr_core_news_sm==2.2.5) (2.10)\n",
            "Requirement already satisfied: chardet<4,>=3.0.2 in /usr/local/lib/python3.7/dist-packages (from requests<3.0.0,>=2.13.0->spacy>=2.2.2->fr_core_news_sm==2.2.5) (3.0.4)\n",
            "Requirement already satisfied: certifi>=2017.4.17 in /usr/local/lib/python3.7/dist-packages (from requests<3.0.0,>=2.13.0->spacy>=2.2.2->fr_core_news_sm==2.2.5) (2021.10.8)\n",
            "Requirement already satisfied: urllib3!=1.25.0,!=1.25.1,<1.26,>=1.21.1 in /usr/local/lib/python3.7/dist-packages (from requests<3.0.0,>=2.13.0->spacy>=2.2.2->fr_core_news_sm==2.2.5) (1.25.11)\n",
            "Building wheels for collected packages: fr-core-news-sm\n",
            "  Building wheel for fr-core-news-sm (setup.py) ... \u001b[?25l\u001b[?25hdone\n",
            "  Created wheel for fr-core-news-sm: filename=fr_core_news_sm-2.2.5-py3-none-any.whl size=14727026 sha256=136c596e7320d2dd163fba77c0dc84ab8598d2d812a473e4c585fa59a273124b\n",
            "  Stored in directory: /tmp/pip-ephem-wheel-cache-956z9t3e/wheels/c9/a6/ea/0778337c34660027ee67ef3a91fb9d3600b76777a912ea1c24\n",
            "Successfully built fr-core-news-sm\n",
            "Installing collected packages: fr-core-news-sm\n",
            "Successfully installed fr-core-news-sm-2.2.5\n",
            "\u001b[38;5;2m✔ Download and installation successful\u001b[0m\n",
            "You can now load the model via spacy.load('fr_core_news_sm')\n"
          ]
        }
      ]
    },
    {
      "cell_type": "markdown",
      "source": [
        "Twitter Setup and Authentication"
      ],
      "metadata": {
        "id": "mrDX2Yh3NJ4d"
      }
    },
    {
      "cell_type": "code",
      "source": [
        "import nltk\n",
        "nltk.download('stopwords')\n",
        "\n",
        "import os\n",
        "from dotenv import load_dotenv\n",
        "from summ.lsa import LSASummarizer\n",
        "from summ.bert_embed import BertEmbeddingsSummarizer as Bert\n",
        "from data import scraper_functions\n",
        "from classification import log_reg_classifier as lrc\n",
        "import tweepy\n",
        "import numpy as np\n",
        "\n",
        "#this will not work if you don't have the .env file with the API keys\n",
        "\n",
        "load_dotenv('/content/API.env')\n",
        "consumer_key = os.getenv('consumer_key')\n",
        "consumer_secret = os.getenv('consumer_secret')\n",
        "bearer = os.getenv('bearer')\n",
        "access_key = os.getenv('access_key')\n",
        "access_key_secret = os.getenv('access_key_secret')\n",
        "\n",
        "client = tweepy.Client(bearer_token=bearer, consumer_key=consumer_key, consumer_secret=consumer_secret, access_token=access_key, access_token_secret=access_key_secret)"
      ],
      "metadata": {
        "colab": {
          "base_uri": "https://localhost:8080/"
        },
        "id": "mnLYuWGs-f4F",
        "outputId": "106e94cf-a1fe-4281-f401-ca37379b9948"
      },
      "execution_count": 1,
      "outputs": [
        {
          "output_type": "stream",
          "name": "stdout",
          "text": [
            "[nltk_data] Downloading package stopwords to /root/nltk_data...\n",
            "[nltk_data]   Unzipping corpora/stopwords.zip.\n",
            "[nltk_data] Downloading package punkt to /root/nltk_data...\n",
            "[nltk_data]   Unzipping tokenizers/punkt.zip.\n",
            "[nltk_data] Downloading package averaged_perceptron_tagger to\n",
            "[nltk_data]     /root/nltk_data...\n",
            "[nltk_data]   Unzipping taggers/averaged_perceptron_tagger.zip.\n",
            "[nltk_data] Downloading package wordnet to /root/nltk_data...\n",
            "[nltk_data]   Unzipping corpora/wordnet.zip.\n",
            "[LibLinear]"
          ]
        }
      ]
    },
    {
      "cell_type": "code",
      "source": [
        "url_list = scraper_functions.actu_autoscraper('https://actu.fr/le-journal-de-vitre/societe/coronavirus', url_amount=10)\n",
        "lsa_summ = LSASummarizer()\n",
        "bert = Bert('flaubert/flaubert_large_cased')\n",
        "\n",
        "for x in range(2,len(url_list)):\n",
        "  text, url = scraper_functions.actu_scraper(url_list[x])\n",
        "  print(url_list[x])\n",
        "  print(text)\n",
        "  lrc_results = lrc.classifier(text)\n",
        "  if lrc_results == False:\n",
        "    continue\n",
        "  else:\n",
        "    summary = lsa_summ.get_summary(text)\n",
        "    print(summary)\n",
        "    summary = summary[0]\n",
        "    tweet_response = client.create_tweet(text=summary)\n",
        "    client.create_tweet(text=url, in_reply_to_tweet_id=tweet_response.data['id']) #reply to the posted tweet immediately with the original URL\n",
        "    url_list = []\n",
        "    text = ''\n",
        "    url = ''\n",
        "    break"
      ],
      "metadata": {
        "id": "vbPpi7DkB2c4",
        "colab": {
          "base_uri": "https://localhost:8080/"
        },
        "outputId": "9de716c2-ed2b-4fd9-f485-a985f4949355"
      },
      "execution_count": 15,
      "outputs": [
        {
          "output_type": "stream",
          "name": "stderr",
          "text": [
            "Some weights of the model checkpoint at flaubert/flaubert_large_cased were not used when initializing FlaubertModel: ['pred_layer.proj.bias', 'pred_layer.proj.weight']\n",
            "- This IS expected if you are initializing FlaubertModel from the checkpoint of a model trained on another task or with another architecture (e.g. initializing a BertForSequenceClassification model from a BertForPreTraining model).\n",
            "- This IS NOT expected if you are initializing FlaubertModel from the checkpoint of a model that you expect to be exactly identical (initializing a BertForSequenceClassification model from a BertForSequenceClassification model).\n"
          ]
        },
        {
          "output_type": "stream",
          "name": "stdout",
          "text": [
            "https://actu.fr/bretagne/servon-sur-vilaine_35327/covid-19-pres-de-rennes-une-ecole-ferme-en-raison-dun-trop-grand-nombre-de-cas_47080657.html\n",
            "Actu Bretagne Ille-et-Vilaine Servon-sur-Vilaine Covid-19 : près de Rennes, une école ferme en raison d'un trop grand nombre de cas  Le Journal de Vitré Mon actu Suivre Depuis plusieurs semaines, l’école Sainte-Marie de Servon-sur-Vilaine doit faire face à une multiplication de tests positifs au Covid-19 de ses élèves. Les écoliers de certaines classes ont déjà dû être isolés et des classes ont fermé ces derniers jours. Cette fois, ce mercredi 8 décembre 2021, l’établissement a appris qu’il devait immédiatement fermer ses portes, par arrêté préfectoral. À lire aussi Covid-19 : moins de classes fermées, mais plus de 1300 élèves positifs en une semaine en Bretagne  Pour une semaine Tous les élèves doivent donc être isolés pendant une semaine à compter de ce mercredi, soit jusqu’au mercredi 15 décembre inclus. \n",
            "('À lire aussi Covid-19 : moins de classes fermées, mais plus de 1300 élèves positifs en une semaine en Bretagne  Pour une semaine Tous les élèves doivent donc être isolés pendant une semaine à compter de ce mercredi, soit jusqu’au mercredi 15 décembre inclus.', 'lire covid-19 classe fermer 1300 élève positif semaine bretagne   semaine élève isoler semaine compter mercredi jusqu’ mercredi 15 décembre inclus')\n"
          ]
        }
      ]
    }
  ]
}