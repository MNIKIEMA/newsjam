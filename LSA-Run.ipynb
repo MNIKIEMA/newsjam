{
 "cells": [
  {
   "cell_type": "code",
   "execution_count": 3,
   "metadata": {},
   "outputs": [
    {
     "name": "stderr",
     "output_type": "stream",
     "text": [
      "WARNING:datasets.builder:Reusing dataset mlsum (C:\\Users\\maxim\\.cache\\huggingface\\datasets\\mlsum\\fr\\1.0.0\\77f23eb185781f439927ac2569ab1da1083195d8b2dab2b2f6bbe52feb600688)\n"
     ]
    },
    {
     "data": {
      "application/vnd.jupyter.widget-view+json": {
       "model_id": "6f4ae746d07542728a034652de74a311",
       "version_major": 2,
       "version_minor": 0
      },
      "text/plain": [
       "  0%|          | 0/3 [00:00<?, ?it/s]"
      ]
     },
     "metadata": {},
     "output_type": "display_data"
    }
   ],
   "source": [
    "from datasets import load_dataset\n",
    "import spacy\n",
    "from spacy.lang.fr.stop_words import STOP_WORDS\n",
    "from sklearn.feature_extraction.text import TfidfVectorizer\n",
    "from gensim import corpora\n",
    "from gensim import models\n",
    "from gensim.models import LsiModel\n",
    "from gensim.models.coherencemodel import CoherenceModel\n",
    "\n",
    "dataset = load_dataset('mlsum', 'fr')"
   ]
  },
  {
   "cell_type": "code",
   "execution_count": 22,
   "metadata": {},
   "outputs": [
    {
     "name": "stdout",
     "output_type": "stream",
     "text": [
      "Michel Serres, en mai 2012. MANUEL COHEN Parmi les figures multiples de Michel Serres, mort samedi 1er juin, à l’âge de 88 ans, il en est une qui réunit, peut-être mieux que d’autres, les aspects principaux de ce penseur. Il était français, et développait les conséquences intellectuelles et stylistiques de cette filiation. Ce n’est pas une question d’état civil, ni de chauvinisme culturel. Une affaire de style plutôt, et de tempérament. Pas simple à définir en deux mots, d’ailleurs, car les Français, selon lui, ont trouvé le moyen de faire de l’unité avec de la discorde. Dans ce pays de paradoxes, qui tend vers l’universel à force de divisions, les philosophes ne sont pas comme ailleurs. Michel Serres, bien que couvert d’honneurs, se rêvait comme l’un de ces marginaux nomades battant la campagne et franchissant les clôtures, braconnier et bretteur plutôt que professeur ou dignitaire. Français, donc frondeur. Et animé aussi d’un goût charnel de la langue natale, des puissances tapies dans les mots, du chant des phrases. S’acoquinant sans vergogne avec les belles lettres pour parler clair. Développant des idées denses dans la langue du peuple plutôt que dans celle des doctes. Le style, ici, est l’instrument central : immergé dans la langue vivante, il en appelle à toutes ses ressources plutôt qu’aux jargons savants, pour créer un nouveau mode d’abstraction à la fois rapide, rigoureux et charnu. N’a-t-il pas encore signé, en 2018, avec Michel Polacco, une Défense et illustration de la langue française aujourd’hui (Le Pommier/France Info) ? Un vagabond ami de la Terre Cette universalité à la française implique à l’évidence un cheminement individualiste : les mousquetaires ne veulent pas faire école. Ils conduisent des révolutions solitaires que l’histoire tend à oublier, comme l’ont montré les dizaines et les dizaines de volumes publiés par le « Corpus des œuvres de philosophie en langue française ». En dirigeant cette vaste entreprise, que tout paraissait devoir rendre impossible, Michel Serres ne faisait pas seulement œuvre de mémoire et de reviviscence. Il rendait hommage à toutes ces intelligences isolées qui ont peuplé notre histoire intellectuelle en laissant dans les archives, d’où il faut les exhumer, des pages vivaces et fortes. De ces trajets multiples entre les sciences et les littératures, les vocables et les natures, l’image même du philosophe se trouve modifiée. Ce n’est plus un roi austère contemplant de haut un paysage dominé. C’est au contraire comme un vagabond ami de la Terre, arpenteur inventif, ouvert aux fécondités du hasard. Michel Serres aura sans doute rendu à la philosophie française son sens de la rencontre, de l’imprévu, du jeu. Il a maintenu dans ses textes cette spécialité nationale : une jubilation du savoir que l’écriture offre à goûter.\n",
      "\n",
      "Le philosophe, mort samedi à 88 ans, a su faire vivre une longue tradition française alliant les charmes de la plume, le travail heureux de la pensée et les générosités du cœur.\n",
      "\n",
      "Michel Serres, une forme française d’universalité\n",
      "3\n"
     ]
    }
   ],
   "source": [
    "article = dataset['test']['text'][1]\n",
    "summary = dataset['test']['summary'][1]\n",
    "title = dataset['test']['title'][1]\n",
    "print(article, summary, title, sep='\\n\\n')\n",
    "\n",
    "nlp = spacy.load(\"fr_core_news_sm\")\n",
    "doc = nlp(article)\n",
    "\n",
    "sentences = []\n",
    "cur_sentence = []\n",
    "for sent in doc.sents:\n",
    "    for token in sent:\n",
    "        if not token.text.lower() in STOP_WORDS and not token.is_punct:\n",
    "            cur_sentence.append(token.lemma_)\n",
    "    sentences.append(cur_sentence)\n",
    "    cur_sentence = []\n",
    "    \n",
    "dictionary = corpora.Dictionary(sentences)\n",
    "doc_term_matrix = [dictionary.doc2bow(doc) for doc in sentences]\n",
    "tfidf = models.TfidfModel(doc_term_matrix)\n",
    "sentences_tfidf = tfidf[doc_term_matrix]\n",
    "\n",
    "coherence_values = []\n",
    "model_list = []\n",
    "for num_topics in range(2, 10):\n",
    "    model = LsiModel(sentences_tfidf, num_topics=num_topics, id2word=dictionary)\n",
    "    model_list.append(model)\n",
    "    coherencemodel = CoherenceModel(model=model, texts=sentences, dictionary=dictionary)\n",
    "    coherence_values.append(coherencemodel.get_coherence())\n",
    "\n",
    "max_coherence = coherence_values.index(max(coherence_values))\n",
    "num_topics = 2 + max_coherence\n",
    "model = model_list[max_coherence]\n",
    "corpus_lsi = model[doc_term_matrix]\n",
    "\n",
    "top_scores = [[] for i in range(num_topics)]\n",
    "for i, scores in enumerate(corpus_lsi):\n",
    "    for j, score in scores:\n",
    "        top_scores[j].append((i, abs(score)))\n",
    "\n",
    "for topic in top_scores:\n",
    "    topic.sort(reverse=True, key=lambda x: x[1])\n",
    "\n",
    "print(num_topics)"
   ]
  },
  {
   "cell_type": "code",
   "execution_count": 33,
   "metadata": {},
   "outputs": [
    {
     "name": "stdout",
     "output_type": "stream",
     "text": [
      "C’est au contraire comme un vagabond ami de la Terre, arpenteur inventif, ouvert aux fécondités du hasard. Michel Serres aura sans doute rendu à la philosophie française \n"
     ]
    }
   ],
   "source": [
    "def get_top_sentences(summary_size=5):\n",
    "    top_sentences = set()\n",
    "    count = 0\n",
    "    for i in range(summary_size):\n",
    "        for j in range(num_topics):\n",
    "            if i >= len(top_scores[j]):\n",
    "                continue\n",
    "            top_sentences.add(top_scores[j][i][0])\n",
    "            if len(top_sentences) == summary_size:\n",
    "                return sorted(top_sentences)\n",
    "    return sorted(top_sentences)\n",
    "\n",
    "sents = list(doc.sents)\n",
    "longest_summary = ''\n",
    "for i in range(1, len(sents) + 1):\n",
    "    top_sentences = get_top_sentences(i)\n",
    "    summary = \"\"\n",
    "    for sent_idx in top_sentences:\n",
    "        summary += sents[sent_idx].text + \" \"\n",
    "    if len(summary) > 280:\n",
    "        break\n",
    "    longest_summary = summary\n",
    "\n",
    "print(longest_summary)"
   ]
  },
  {
   "cell_type": "code",
   "execution_count": null,
   "metadata": {},
   "outputs": [],
   "source": []
  }
 ],
 "metadata": {
  "kernelspec": {
   "display_name": "Python 3 (ipykernel)",
   "language": "python",
   "name": "python3"
  },
  "language_info": {
   "codemirror_mode": {
    "name": "ipython",
    "version": 3
   },
   "file_extension": ".py",
   "mimetype": "text/x-python",
   "name": "python",
   "nbconvert_exporter": "python",
   "pygments_lexer": "ipython3",
   "version": "3.8.1"
  }
 },
 "nbformat": 4,
 "nbformat_minor": 4
}
