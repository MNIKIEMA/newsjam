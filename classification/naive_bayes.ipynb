{
 "cells": [
  {
   "cell_type": "code",
   "execution_count": 2,
   "id": "8f21dfb4",
   "metadata": {},
   "outputs": [
    {
     "name": "stderr",
     "output_type": "stream",
     "text": [
      "[nltk_data] Downloading package punkt to\n",
      "[nltk_data]     /Users/adeliakhasanova/nltk_data...\n",
      "[nltk_data]   Package punkt is already up-to-date!\n"
     ]
    }
   ],
   "source": [
    "import pandas as pd\n",
    "import numpy as np\n",
    "#for text pre-processing\n",
    "import re, string\n",
    "import nltk\n",
    "from nltk.tokenize import word_tokenize\n",
    "from nltk.corpus import stopwords\n",
    "\n",
    "nltk.download('punkt')\n",
    "#for model-building\n",
    "from sklearn.model_selection import train_test_split\n",
    "from sklearn.naive_bayes import MultinomialNB\n",
    "from sklearn.metrics import classification_report, f1_score, accuracy_score, confusion_matrix\n",
    "from sklearn.metrics import roc_curve, auc, roc_auc_score\n",
    "# bag of words\n",
    "from sklearn.feature_extraction.text import TfidfVectorizer\n",
    "from sklearn.feature_extraction.text import CountVectorizer"
   ]
  },
  {
   "cell_type": "code",
   "execution_count": 3,
   "id": "5b5b97fb",
   "metadata": {},
   "outputs": [],
   "source": [
    "import spacy"
   ]
  },
  {
   "cell_type": "code",
   "execution_count": 4,
   "id": "669e905e",
   "metadata": {},
   "outputs": [],
   "source": [
    "from sklearn.svm import SVC"
   ]
  },
  {
   "cell_type": "code",
   "execution_count": 5,
   "id": "10af44d3",
   "metadata": {},
   "outputs": [],
   "source": [
    "#https://dataverse.cirad.fr/dataset.xhtml?persistentId=doi:10.18167/DVN1/MSLEFC"
   ]
  },
  {
   "cell_type": "code",
   "execution_count": 43,
   "id": "a9b3fca9",
   "metadata": {},
   "outputs": [],
   "source": [
    "data = pd.read_csv('preprocessed_data.csv')"
   ]
  },
  {
   "cell_type": "code",
   "execution_count": 41,
   "id": "62025d2e",
   "metadata": {},
   "outputs": [],
   "source": [
    "data_sum = pd.read_csv('processed_summaries')"
   ]
  },
  {
   "cell_type": "code",
   "execution_count": 7,
   "id": "9d50c3ac",
   "metadata": {},
   "outputs": [],
   "source": [
    "data_pos = data[data['relevance']==1]\n",
    "data_neg = data[data['relevance']==0]\n",
    "data_pos_split = data_pos.sample(n=len(data_pos)//2)"
   ]
  },
  {
   "cell_type": "code",
   "execution_count": 64,
   "id": "2f4bcc6a",
   "metadata": {},
   "outputs": [],
   "source": [
    "data_pos_split = data_pos.sample(n=len(data_pos)//2)"
   ]
  },
  {
   "cell_type": "code",
   "execution_count": 65,
   "id": "d4bc3034",
   "metadata": {},
   "outputs": [
    {
     "data": {
      "text/html": [
       "<div>\n",
       "<style scoped>\n",
       "    .dataframe tbody tr th:only-of-type {\n",
       "        vertical-align: middle;\n",
       "    }\n",
       "\n",
       "    .dataframe tbody tr th {\n",
       "        vertical-align: top;\n",
       "    }\n",
       "\n",
       "    .dataframe thead th {\n",
       "        text-align: right;\n",
       "    }\n",
       "</style>\n",
       "<table border=\"1\" class=\"dataframe\">\n",
       "  <thead>\n",
       "    <tr style=\"text-align: right;\">\n",
       "      <th></th>\n",
       "      <th>Unnamed: 0</th>\n",
       "      <th>clean_text</th>\n",
       "      <th>relevance</th>\n",
       "    </tr>\n",
       "  </thead>\n",
       "  <tbody>\n",
       "    <tr>\n",
       "      <th>949</th>\n",
       "      <td>949</td>\n",
       "      <td>depuis lundi vaccination ouvert tout adulte fr...</td>\n",
       "      <td>1.0</td>\n",
       "    </tr>\n",
       "    <tr>\n",
       "      <th>989</th>\n",
       "      <td>989</td>\n",
       "      <td>heure fin live merci avoir suivre rendre demai...</td>\n",
       "      <td>1.0</td>\n",
       "    </tr>\n",
       "    <tr>\n",
       "      <th>663</th>\n",
       "      <td>663</td>\n",
       "      <td>plus personne manifester mercredi pays nom lib...</td>\n",
       "      <td>1.0</td>\n",
       "    </tr>\n",
       "    <tr>\n",
       "      <th>302</th>\n",
       "      <td>302</td>\n",
       "      <td>avoir quelque jour rentrer scolaire alors mini...</td>\n",
       "      <td>1.0</td>\n",
       "    </tr>\n",
       "    <tr>\n",
       "      <th>978</th>\n",
       "      <td>978</td>\n",
       "      <td>désormais inférieur habitants lincidence lépid...</td>\n",
       "      <td>1.0</td>\n",
       "    </tr>\n",
       "    <tr>\n",
       "      <th>...</th>\n",
       "      <td>...</td>\n",
       "      <td>...</td>\n",
       "      <td>...</td>\n",
       "    </tr>\n",
       "    <tr>\n",
       "      <th>510</th>\n",
       "      <td>510</td>\n",
       "      <td>voilà donnée attendre depuis longtemps parmi p...</td>\n",
       "      <td>1.0</td>\n",
       "    </tr>\n",
       "    <tr>\n",
       "      <th>1152</th>\n",
       "      <td>1152</td>\n",
       "      <td>vigueur jusqu novembre pas sanitaire test covi...</td>\n",
       "      <td>1.0</td>\n",
       "    </tr>\n",
       "    <tr>\n",
       "      <th>247</th>\n",
       "      <td>247</td>\n",
       "      <td>créneal dose calcul vite faire semaine suivant...</td>\n",
       "      <td>1.0</td>\n",
       "    </tr>\n",
       "    <tr>\n",
       "      <th>993</th>\n",
       "      <td>993</td>\n",
       "      <td>si tout bien finir bien élève second terminal ...</td>\n",
       "      <td>1.0</td>\n",
       "    </tr>\n",
       "    <tr>\n",
       "      <th>1112</th>\n",
       "      <td>1112</td>\n",
       "      <td>mesure prendre depuis fin mars fonctionner réj...</td>\n",
       "      <td>1.0</td>\n",
       "    </tr>\n",
       "  </tbody>\n",
       "</table>\n",
       "<p>418 rows × 3 columns</p>\n",
       "</div>"
      ],
      "text/plain": [
       "      Unnamed: 0                                         clean_text  relevance\n",
       "949          949  depuis lundi vaccination ouvert tout adulte fr...        1.0\n",
       "989          989  heure fin live merci avoir suivre rendre demai...        1.0\n",
       "663          663  plus personne manifester mercredi pays nom lib...        1.0\n",
       "302          302  avoir quelque jour rentrer scolaire alors mini...        1.0\n",
       "978          978  désormais inférieur habitants lincidence lépid...        1.0\n",
       "...          ...                                                ...        ...\n",
       "510          510  voilà donnée attendre depuis longtemps parmi p...        1.0\n",
       "1152        1152  vigueur jusqu novembre pas sanitaire test covi...        1.0\n",
       "247          247  créneal dose calcul vite faire semaine suivant...        1.0\n",
       "993          993  si tout bien finir bien élève second terminal ...        1.0\n",
       "1112        1112  mesure prendre depuis fin mars fonctionner réj...        1.0\n",
       "\n",
       "[418 rows x 3 columns]"
      ]
     },
     "execution_count": 65,
     "metadata": {},
     "output_type": "execute_result"
    }
   ],
   "source": [
    "data_pos_split"
   ]
  },
  {
   "cell_type": "code",
   "execution_count": 49,
   "id": "39f93780",
   "metadata": {},
   "outputs": [],
   "source": [
    "resampled = data_neg.append(data_pos_split, ignore_index = True)"
   ]
  },
  {
   "cell_type": "code",
   "execution_count": 18,
   "id": "918ed475",
   "metadata": {},
   "outputs": [],
   "source": [
    "from sklearn.feature_extraction.text import TfidfTransformer\n",
    "from sklearn.feature_extraction.text import CountVectorizer\n",
    "from sklearn.pipeline import Pipeline\n",
    "from sklearn import metrics"
   ]
  },
  {
   "cell_type": "code",
   "execution_count": 60,
   "id": "62123022",
   "metadata": {},
   "outputs": [],
   "source": [
    "def run_model(data, test_size = 0.3):\n",
    "    \"\"\"this function splits data into train and test\n",
    "    vectorizes, calculates tfidf, and fits into MNB\"\"\"\n",
    "    \n",
    "    df_X, df_y = data['clean_text'], data['relevance']\n",
    "    x_train, x_test, y_train, y_test = train_test_split(df_X, df_y, test_size=test_size, random_state=0)\n",
    "    \n",
    "    tf_idf = Pipeline([('cv',CountVectorizer()), ('tfidf_transformer',TfidfTransformer(smooth_idf=True,use_idf=True))])\n",
    "    \n",
    "    x_train_CV  = tf_idf.fit_transform(x_train)\n",
    "    x_test_CV = tf_idf.transform(x_test)\n",
    "    \n",
    "    mnb = MultinomialNB()\n",
    "    y_train=y_train.astype('int')\n",
    "    \n",
    "    mnb.fit(x_train_CV,y_train)\n",
    "    \n",
    "    predictions = mnb.predict(x_test_CV)\n",
    "    \n",
    "    return predictions, y_test\n",
    "    \n",
    "    "
   ]
  },
  {
   "cell_type": "code",
   "execution_count": 72,
   "id": "684b75a2",
   "metadata": {},
   "outputs": [],
   "source": [
    "def printing_metrics(pred,test):\n",
    "    print('accuracy:', metrics.accuracy_score(pred,test),'precision:', metrics.precision_score(pred,test), 'recall:', metrics.recall_score(pred,test), 'f1', metrics.f1_score(pred,test))"
   ]
  },
  {
   "cell_type": "code",
   "execution_count": 78,
   "id": "790c68c4",
   "metadata": {},
   "outputs": [],
   "source": [
    "from sklearn.metrics import confusion_matrix"
   ]
  },
  {
   "cell_type": "code",
   "execution_count": 84,
   "id": "f864cb2c",
   "metadata": {},
   "outputs": [
    {
     "data": {
      "text/plain": [
       "array([[ 53,  12],\n",
       "       [ 75, 243]])"
      ]
     },
     "execution_count": 84,
     "metadata": {},
     "output_type": "execute_result"
    }
   ],
   "source": [
    "confusion_matrix(run_model(data_sum)[0], run_model(data_sum)[1])"
   ]
  },
  {
   "cell_type": "code",
   "execution_count": 87,
   "id": "c2f59698",
   "metadata": {},
   "outputs": [
    {
     "name": "stdout",
     "output_type": "stream",
     "text": [
      "accuracy: 0.7728459530026109 precision: 0.9529411764705882 recall: 0.7641509433962265 f1 0.8481675392670157\n"
     ]
    }
   ],
   "source": [
    "printing_metrics(run_model(data_sum)[0], run_model(data_sum)[1])"
   ]
  },
  {
   "cell_type": "code",
   "execution_count": 68,
   "id": "7f989c8b",
   "metadata": {},
   "outputs": [
    {
     "name": "stdout",
     "output_type": "stream",
     "text": [
      "              precision    recall  f1-score   support\n",
      "\n",
      "           0       0.30      0.90      0.45        42\n",
      "           1       0.98      0.74      0.84       341\n",
      "\n",
      "    accuracy                           0.75       383\n",
      "   macro avg       0.64      0.82      0.64       383\n",
      "weighted avg       0.91      0.75      0.80       383\n",
      "\n"
     ]
    }
   ],
   "source": [
    "print(classification_report(run_model(data)[0], run_model(data)[1]))"
   ]
  },
  {
   "cell_type": "code",
   "execution_count": 66,
   "id": "c52bb8af",
   "metadata": {},
   "outputs": [
    {
     "name": "stdout",
     "output_type": "stream",
     "text": [
      "              precision    recall  f1-score   support\n",
      "\n",
      "           0       0.98      0.67      0.79       199\n",
      "           1       0.45      0.95      0.61        58\n",
      "\n",
      "    accuracy                           0.73       257\n",
      "   macro avg       0.72      0.81      0.70       257\n",
      "weighted avg       0.86      0.73      0.75       257\n",
      "\n"
     ]
    }
   ],
   "source": [
    "print(classification_report(run_model(resampled)[0], run_model(resampled)[1]))"
   ]
  },
  {
   "cell_type": "code",
   "execution_count": 63,
   "id": "2348654e",
   "metadata": {},
   "outputs": [
    {
     "name": "stdout",
     "output_type": "stream",
     "text": [
      "              precision    recall  f1-score   support\n",
      "\n",
      "           0       0.41      0.82      0.55        65\n",
      "           1       0.95      0.76      0.85       318\n",
      "\n",
      "    accuracy                           0.77       383\n",
      "   macro avg       0.68      0.79      0.70       383\n",
      "weighted avg       0.86      0.77      0.80       383\n",
      "\n"
     ]
    }
   ],
   "source": [
    "print(classification_report(run_model(data_sum)[0], run_model(data_sum)[1]))"
   ]
  },
  {
   "cell_type": "code",
   "execution_count": 26,
   "id": "a251874f",
   "metadata": {},
   "outputs": [
    {
     "data": {
      "text/plain": [
       "array([[133,  77],\n",
       "       [  3,  44]])"
      ]
     },
     "execution_count": 26,
     "metadata": {},
     "output_type": "execute_result"
    }
   ],
   "source": [
    "from sklearn.metrics import confusion_matrix\n",
    "confusion_matrix(predictions, y_test)"
   ]
  }
 ],
 "metadata": {
  "kernelspec": {
   "display_name": "Python 3",
   "language": "python",
   "name": "python3"
  },
  "language_info": {
   "codemirror_mode": {
    "name": "ipython",
    "version": 3
   },
   "file_extension": ".py",
   "mimetype": "text/x-python",
   "name": "python",
   "nbconvert_exporter": "python",
   "pygments_lexer": "ipython3",
   "version": "3.8.8"
  }
 },
 "nbformat": 4,
 "nbformat_minor": 5
}
