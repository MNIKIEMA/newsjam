{
  "nbformat": 4,
  "nbformat_minor": 5,
  "metadata": {
    "kernelspec": {
      "display_name": "Python 3",
      "language": "python",
      "name": "python3"
    },
    "language_info": {
      "codemirror_mode": {
        "name": "ipython",
        "version": 3
      },
      "file_extension": ".py",
      "mimetype": "text/x-python",
      "name": "python",
      "nbconvert_exporter": "python",
      "pygments_lexer": "ipython3",
      "version": "3.8.8"
    },
    "colab": {
      "name": "doc_classification_logistic",
      "provenance": [],
      "collapsed_sections": []
    }
  },
  "cells": [
    {
      "cell_type": "code",
      "metadata": {
        "colab": {
          "base_uri": "https://localhost:8080/"
        },
        "id": "8f21dfb4",
        "outputId": "510c13df-d49b-4546-a4cd-aaf7745acabc"
      },
      "source": [
        "import pandas as pd\n",
        "import numpy as np\n",
        "#for text pre-processing\n",
        "import re, string\n",
        "import nltk\n",
        "from nltk.tokenize import word_tokenize\n",
        "from nltk.corpus import stopwords\n",
        "\n",
        "nltk.download('punkt')\n",
        "#for model-building\n",
        "from sklearn.model_selection import train_test_split\n",
        "from sklearn.naive_bayes import MultinomialNB\n",
        "from sklearn.metrics import classification_report, f1_score, accuracy_score, confusion_matrix\n",
        "from sklearn.metrics import roc_curve, auc, roc_auc_score\n",
        "# bag of words\n",
        "from sklearn.feature_extraction.text import TfidfVectorizer\n",
        "from sklearn.feature_extraction.text import CountVectorizer"
      ],
      "id": "8f21dfb4",
      "execution_count": null,
      "outputs": [
        {
          "output_type": "stream",
          "name": "stdout",
          "text": [
            "[nltk_data] Downloading package punkt to /root/nltk_data...\n",
            "[nltk_data]   Unzipping tokenizers/punkt.zip.\n"
          ]
        }
      ]
    },
    {
      "cell_type": "code",
      "metadata": {
        "id": "5b5b97fb"
      },
      "source": [
        "import spacy\n",
        "import matplotlib.pyplot as plt\n",
        "import seaborn as sns #visualization\n",
        "from sklearn.model_selection import GridSearchCV #cross validation\n",
        "from wordcloud import WordCloud\n",
        "from PIL import Image\n",
        "from sklearn.feature_extraction.text import TfidfTransformer\n",
        "from sklearn.feature_extraction.text import CountVectorizer\n",
        "from sklearn.pipeline import Pipeline\n",
        "from sklearn.metrics import confusion_matrix, classification_report\n",
        "from sklearn.linear_model import LogisticRegression\n",
        "from sklearn import svm"
      ],
      "id": "5b5b97fb",
      "execution_count": null,
      "outputs": []
    },
    {
      "cell_type": "code",
      "metadata": {
        "id": "44b68d4b"
      },
      "source": [
        "#https://dataverse.cirad.fr/dataset.xhtml?persistentId=doi:10.18167/DVN1/MSLEFC"
      ],
      "id": "44b68d4b",
      "execution_count": null,
      "outputs": []
    },
    {
      "cell_type": "code",
      "metadata": {
        "id": "12c837cc"
      },
      "source": [
        "#data = pd.read_csv('lest_republicain_clean.csv')"
      ],
      "id": "12c837cc",
      "execution_count": null,
      "outputs": []
    },
    {
      "cell_type": "code",
      "metadata": {
        "id": "80d2d1b6"
      },
      "source": [
        "#removing irrelevant columns\n",
        "data_short = pd.read_csv('/content/preprocessed_data.csv')"
      ],
      "id": "80d2d1b6",
      "execution_count": null,
      "outputs": []
    },
    {
      "cell_type": "code",
      "metadata": {
        "id": "5b639dec"
      },
      "source": [
        "data_short.drop('Unnamed: 0',axis=1,inplace=True)"
      ],
      "id": "5b639dec",
      "execution_count": null,
      "outputs": []
    },
    {
      "cell_type": "code",
      "metadata": {
        "colab": {
          "base_uri": "https://localhost:8080/",
          "height": 206
        },
        "id": "o_wCuKdMhhTC",
        "outputId": "64dbcfd1-3afe-4eb1-992b-7c3c38d7fca3"
      },
      "source": [
        "data_short.head()"
      ],
      "id": "o_wCuKdMhhTC",
      "execution_count": null,
      "outputs": [
        {
          "output_type": "execute_result",
          "data": {
            "text/html": [
              "<div>\n",
              "<style scoped>\n",
              "    .dataframe tbody tr th:only-of-type {\n",
              "        vertical-align: middle;\n",
              "    }\n",
              "\n",
              "    .dataframe tbody tr th {\n",
              "        vertical-align: top;\n",
              "    }\n",
              "\n",
              "    .dataframe thead th {\n",
              "        text-align: right;\n",
              "    }\n",
              "</style>\n",
              "<table border=\"1\" class=\"dataframe\">\n",
              "  <thead>\n",
              "    <tr style=\"text-align: right;\">\n",
              "      <th></th>\n",
              "      <th>clean_text</th>\n",
              "      <th>relevance</th>\n",
              "    </tr>\n",
              "  </thead>\n",
              "  <tbody>\n",
              "    <tr>\n",
              "      <th>0</th>\n",
              "      <td>heure patient hospitaliser nouveau décès indic...</td>\n",
              "      <td>0.0</td>\n",
              "    </tr>\n",
              "    <tr>\n",
              "      <th>1</th>\n",
              "      <td>jeudi octobre patient hospitaliser grand rappo...</td>\n",
              "      <td>1.0</td>\n",
              "    </tr>\n",
              "    <tr>\n",
              "      <th>2</th>\n",
              "      <td>régulateur européen avoir indiquer jeudi avoir...</td>\n",
              "      <td>0.0</td>\n",
              "    </tr>\n",
              "    <tr>\n",
              "      <th>3</th>\n",
              "      <td>membre proposer oms faire partie groupe consul...</td>\n",
              "      <td>0.0</td>\n",
              "    </tr>\n",
              "    <tr>\n",
              "      <th>4</th>\n",
              "      <td>personne recevoir vaccin contre covid johnson ...</td>\n",
              "      <td>0.0</td>\n",
              "    </tr>\n",
              "  </tbody>\n",
              "</table>\n",
              "</div>"
            ],
            "text/plain": [
              "                                          clean_text  relevance\n",
              "0  heure patient hospitaliser nouveau décès indic...        0.0\n",
              "1  jeudi octobre patient hospitaliser grand rappo...        1.0\n",
              "2  régulateur européen avoir indiquer jeudi avoir...        0.0\n",
              "3  membre proposer oms faire partie groupe consul...        0.0\n",
              "4  personne recevoir vaccin contre covid johnson ...        0.0"
            ]
          },
          "metadata": {},
          "execution_count": 4
        }
      ]
    },
    {
      "cell_type": "code",
      "metadata": {
        "colab": {
          "base_uri": "https://localhost:8080/"
        },
        "id": "Om0vQJ0PjioA",
        "outputId": "5d65bf91-29f2-408d-ef5f-351b8105d33b"
      },
      "source": [
        "data_short['relevance'].value_counts(normalize=True)"
      ],
      "id": "Om0vQJ0PjioA",
      "execution_count": null,
      "outputs": [
        {
          "output_type": "execute_result",
          "data": {
            "text/plain": [
              "1.0    0.656986\n",
              "0.0    0.343014\n",
              "Name: relevance, dtype: float64"
            ]
          },
          "metadata": {},
          "execution_count": 6
        }
      ]
    },
    {
      "cell_type": "code",
      "metadata": {
        "colab": {
          "base_uri": "https://localhost:8080/",
          "height": 285
        },
        "id": "MGOcLj6Lh4so",
        "outputId": "9481975d-5ff8-42a9-fbc2-0e95373dd3e4"
      },
      "source": [
        "sns.set_theme()\n",
        "sns.countplot(x='relevance',data=data_short);"
      ],
      "id": "MGOcLj6Lh4so",
      "execution_count": null,
      "outputs": [
        {
          "output_type": "display_data",
          "data": {
            "image/png": "[encoded data removed]",
            "text/plain": [
              "<Figure size 432x288 with 1 Axes>"
            ]
          },
          "metadata": {}
        }
      ]
    },
    {
      "cell_type": "code",
      "metadata": {
        "id": "6fZqpFxvi6Ds"
      },
      "source": [
        "exclure_mots = ['d', 'du', 'de', 'la', 'des', 'le', 'et', 'est', 'elle', 'une',\n",
        "                'en', 'que', 'aux', 'qui', 'ces', 'les', 'dans', 'sur', 'l', 'un', 'pour', 'par', 'il', \n",
        "                'ou', 'à', 'ce', 'a', 'sont', 'cas',\n",
        "                'plus', 'leur', 'se', 's', 'vous', 'au', 'c', 'aussi', 'toutes', 'autre', 'comme']"
      ],
      "id": "6fZqpFxvi6Ds",
      "execution_count": null,
      "outputs": []
    },
    {
      "cell_type": "code",
      "metadata": {
        "colab": {
          "base_uri": "https://localhost:8080/",
          "height": 466
        },
        "id": "i6Vm_ST0i7Jw",
        "outputId": "58d56770-d215-4cef-f800-e030b61f94a5"
      },
      "source": [
        "plt.figure(figsize=(8,8))\n",
        "word_cloud = WordCloud(width = 800, height = 800,\n",
        "                max_words=1000,\n",
        "                background_color ='white',\n",
        "                stopwords = exclure_mots,\n",
        "                min_font_size = 12,colormap=\"Set2\").generate(str(data_short['clean_text']))\n",
        "plt.imshow(word_cloud)\n",
        "plt.axis(\"off\")\n",
        "plt.show()"
      ],
      "id": "i6Vm_ST0i7Jw",
      "execution_count": null,
      "outputs": [
        {
          "output_type": "display_data",
          "data": {
            "image/png": "[encoded data removed]",
            "text/plain": [
              "<Figure size 576x576 with 1 Axes>"
            ]
          },
          "metadata": {}
        }
      ]
    },
    {
      "cell_type": "code",
      "metadata": {
        "colab": {
          "base_uri": "https://localhost:8080/",
          "height": 206
        },
        "id": "BobLEPU_Awum",
        "outputId": "f3be603c-55e6-4548-c5e4-7efd707bf510"
      },
      "source": [
        "vectorizer = CountVectorizer(max_features=1000)\n",
        "topic = vectorizer.fit_transform(data_short[\"clean_text\"]).toarray()\n",
        "df_title = pd.DataFrame(topic, columns=vectorizer.get_feature_names_out())\n",
        "df_title = pd.DataFrame(df_title.sum(), columns=[\"Value\"])\n",
        "df_title.head()"
      ],
      "id": "BobLEPU_Awum",
      "execution_count": null,
      "outputs": [
        {
          "output_type": "execute_result",
          "data": {
            "text/html": [
              "<div>\n",
              "<style scoped>\n",
              "    .dataframe tbody tr th:only-of-type {\n",
              "        vertical-align: middle;\n",
              "    }\n",
              "\n",
              "    .dataframe tbody tr th {\n",
              "        vertical-align: top;\n",
              "    }\n",
              "\n",
              "    .dataframe thead th {\n",
              "        text-align: right;\n",
              "    }\n",
              "</style>\n",
              "<table border=\"1\" class=\"dataframe\">\n",
              "  <thead>\n",
              "    <tr style=\"text-align: right;\">\n",
              "      <th></th>\n",
              "      <th>Value</th>\n",
              "    </tr>\n",
              "  </thead>\n",
              "  <tbody>\n",
              "    <tr>\n",
              "      <th>accord</th>\n",
              "      <td>140</td>\n",
              "    </tr>\n",
              "    <tr>\n",
              "      <th>accueillir</th>\n",
              "      <td>229</td>\n",
              "    </tr>\n",
              "    <tr>\n",
              "      <th>accès</th>\n",
              "      <td>211</td>\n",
              "    </tr>\n",
              "    <tr>\n",
              "      <th>accéder</th>\n",
              "      <td>123</td>\n",
              "    </tr>\n",
              "    <tr>\n",
              "      <th>accélérer</th>\n",
              "      <td>103</td>\n",
              "    </tr>\n",
              "  </tbody>\n",
              "</table>\n",
              "</div>"
            ],
            "text/plain": [
              "            Value\n",
              "accord        140\n",
              "accueillir    229\n",
              "accès         211\n",
              "accéder       123\n",
              "accélérer     103"
            ]
          },
          "metadata": {},
          "execution_count": 102
        }
      ]
    },
    {
      "cell_type": "code",
      "metadata": {
        "id": "3aJLBqiJBgom"
      },
      "source": [
        "top20 = df_title.sort_values(\"Value\", ascending=False)[:20]"
      ],
      "id": "3aJLBqiJBgom",
      "execution_count": null,
      "outputs": []
    },
    {
      "cell_type": "code",
      "metadata": {
        "colab": {
          "base_uri": "https://localhost:8080/",
          "height": 677
        },
        "id": "5BeLKjT2C4qT",
        "outputId": "324c8a96-21a6-4d85-fa34-660aa25a2f55"
      },
      "source": [
        "top20"
      ],
      "id": "5BeLKjT2C4qT",
      "execution_count": null,
      "outputs": [
        {
          "output_type": "execute_result",
          "data": {
            "text/html": [
              "<div>\n",
              "<style scoped>\n",
              "    .dataframe tbody tr th:only-of-type {\n",
              "        vertical-align: middle;\n",
              "    }\n",
              "\n",
              "    .dataframe tbody tr th {\n",
              "        vertical-align: top;\n",
              "    }\n",
              "\n",
              "    .dataframe thead th {\n",
              "        text-align: right;\n",
              "    }\n",
              "</style>\n",
              "<table border=\"1\" class=\"dataframe\">\n",
              "  <thead>\n",
              "    <tr style=\"text-align: right;\">\n",
              "      <th></th>\n",
              "      <th>Value</th>\n",
              "    </tr>\n",
              "  </thead>\n",
              "  <tbody>\n",
              "    <tr>\n",
              "      <th>avoir</th>\n",
              "      <td>14886</td>\n",
              "    </tr>\n",
              "    <tr>\n",
              "      <th>plus</th>\n",
              "      <td>7480</td>\n",
              "    </tr>\n",
              "    <tr>\n",
              "      <th>heure</th>\n",
              "      <td>7362</td>\n",
              "    </tr>\n",
              "    <tr>\n",
              "      <th>covid</th>\n",
              "      <td>5691</td>\n",
              "    </tr>\n",
              "    <tr>\n",
              "      <th>sanitaire</th>\n",
              "      <td>4488</td>\n",
              "    </tr>\n",
              "    <tr>\n",
              "      <th>vaccin</th>\n",
              "      <td>4214</td>\n",
              "    </tr>\n",
              "    <tr>\n",
              "      <th>personne</th>\n",
              "      <td>3908</td>\n",
              "    </tr>\n",
              "    <tr>\n",
              "      <th>vaccination</th>\n",
              "      <td>3740</td>\n",
              "    </tr>\n",
              "    <tr>\n",
              "      <th>contre</th>\n",
              "      <td>3510</td>\n",
              "    </tr>\n",
              "    <tr>\n",
              "      <th>faire</th>\n",
              "      <td>3436</td>\n",
              "    </tr>\n",
              "    <tr>\n",
              "      <th>tout</th>\n",
              "      <td>3273</td>\n",
              "    </tr>\n",
              "    <tr>\n",
              "      <th>vacciner</th>\n",
              "      <td>3257</td>\n",
              "    </tr>\n",
              "    <tr>\n",
              "      <th>pouvoir</th>\n",
              "      <td>3219</td>\n",
              "    </tr>\n",
              "    <tr>\n",
              "      <th>nouveau</th>\n",
              "      <td>3107</td>\n",
              "    </tr>\n",
              "    <tr>\n",
              "      <th>cas</th>\n",
              "      <td>3100</td>\n",
              "    </tr>\n",
              "    <tr>\n",
              "      <th>france</th>\n",
              "      <td>3035</td>\n",
              "    </tr>\n",
              "    <tr>\n",
              "      <th>ce</th>\n",
              "      <td>3024</td>\n",
              "    </tr>\n",
              "    <tr>\n",
              "      <th>dose</th>\n",
              "      <td>2672</td>\n",
              "    </tr>\n",
              "    <tr>\n",
              "      <th>pas</th>\n",
              "      <td>2650</td>\n",
              "    </tr>\n",
              "    <tr>\n",
              "      <th>depuis</th>\n",
              "      <td>2562</td>\n",
              "    </tr>\n",
              "  </tbody>\n",
              "</table>\n",
              "</div>"
            ],
            "text/plain": [
              "             Value\n",
              "avoir        14886\n",
              "plus          7480\n",
              "heure         7362\n",
              "covid         5691\n",
              "sanitaire     4488\n",
              "vaccin        4214\n",
              "personne      3908\n",
              "vaccination   3740\n",
              "contre        3510\n",
              "faire         3436\n",
              "tout          3273\n",
              "vacciner      3257\n",
              "pouvoir       3219\n",
              "nouveau       3107\n",
              "cas           3100\n",
              "france        3035\n",
              "ce            3024\n",
              "dose          2672\n",
              "pas           2650\n",
              "depuis        2562"
            ]
          },
          "metadata": {},
          "execution_count": 104
        }
      ]
    },
    {
      "cell_type": "code",
      "metadata": {
        "colab": {
          "base_uri": "https://localhost:8080/",
          "height": 518
        },
        "id": "wtrZGoEMBNQV",
        "outputId": "a9e8dbc4-2bd9-4786-8d38-6e77f24e6f88"
      },
      "source": [
        "plt.figure(figsize=(10,8))\n",
        "sns.barplot(x=top20.Value,y=top20.index,data=top20)\n",
        "plt.title('Barplot of 20 most frequent words')\n",
        "plt.show()"
      ],
      "id": "wtrZGoEMBNQV",
      "execution_count": null,
      "outputs": [
        {
          "output_type": "display_data",
          "data": {
            "image/png": "[encoded data removed]",
            "text/plain": [
              "<Figure size 720x576 with 1 Axes>"
            ]
          },
          "metadata": {}
        }
      ]
    },
    {
      "cell_type": "code",
      "metadata": {
        "id": "2a13cf35"
      },
      "source": [
        "df_X, df_y = data_short['clean_text'], data_short['relevance'] "
      ],
      "id": "2a13cf35",
      "execution_count": null,
      "outputs": []
    },
    {
      "cell_type": "code",
      "metadata": {
        "id": "ba2e8544"
      },
      "source": [
        "x_train, x_test, y_train, y_test = train_test_split(df_X, df_y, test_size=0.3, random_state=0)"
      ],
      "id": "ba2e8544",
      "execution_count": null,
      "outputs": []
    },
    {
      "cell_type": "code",
      "metadata": {
        "id": "9ca46d5c",
        "colab": {
          "base_uri": "https://localhost:8080/"
        },
        "outputId": "35331418-407b-4ad9-9d48-25f3e25f75c6"
      },
      "source": [
        "x_train"
      ],
      "id": "9ca46d5c",
      "execution_count": null,
      "outputs": [
        {
          "output_type": "execute_result",
          "data": {
            "text/plain": [
              "1037    grand oublier différent déconfinement boîte nu...\n",
              "528     voici petit mémento savoir où pass demander lu...\n",
              "1084    france métropolitain où nombreux français prof...\n",
              "751     heure allemagn lever interdiction entrer royau...\n",
              "402     scandale allemagn infirmier avoir injecter eau...\n",
              "                              ...                        \n",
              "763     depuis début pandémie mars plusieurs pays voir...\n",
              "835     comme semaine dernier selon rectorat besançon ...\n",
              "1216    appeler ay nouveau sous varier très contagieux...\n",
              "559     préfecture alpe maritime avoir annoncer dimanc...\n",
              "684     pas sanitaire obligatoire tout plus an partir ...\n",
              "Name: clean_text, Length: 891, dtype: object"
            ]
          },
          "metadata": {},
          "execution_count": 16
        }
      ]
    },
    {
      "cell_type": "code",
      "metadata": {
        "id": "3824a36a"
      },
      "source": [
        "tf_idf = Pipeline([('cv',CountVectorizer()), ('tfidf_transformer',TfidfTransformer(smooth_idf=True,use_idf=True))])\n",
        "\n",
        "\n",
        "x_train_CV  = tf_idf.fit_transform(x_train)\n",
        "x_test_CV = tf_idf.transform(x_test)"
      ],
      "id": "3824a36a",
      "execution_count": null,
      "outputs": []
    },
    {
      "cell_type": "code",
      "metadata": {
        "id": "97d20ef5",
        "outputId": "e2088917-2bc0-4ebd-f50a-16c5e6d1c12f"
      },
      "source": [
        "mnb = MultinomialNB()\n",
        "y_train=y_train.astype('int')\n",
        "y_train"
      ],
      "id": "97d20ef5",
      "execution_count": null,
      "outputs": [
        {
          "data": {
            "text/plain": [
              "363    0\n",
              "440    1\n",
              "669    1\n",
              "263    0\n",
              "17     0\n",
              "      ..\n",
              "835    1\n",
              "192    0\n",
              "629    1\n",
              "559    1\n",
              "684    1\n",
              "Name: relevance, Length: 598, dtype: int64"
            ]
          },
          "execution_count": 531,
          "metadata": {},
          "output_type": "execute_result"
        }
      ]
    },
    {
      "cell_type": "code",
      "metadata": {
        "id": "44836e6f",
        "outputId": "ea3ed7dc-a4a0-4feb-e5db-94343175f7f1"
      },
      "source": [
        "confusion_matrix(predictions, y_test)"
      ],
      "id": "44836e6f",
      "execution_count": null,
      "outputs": [
        {
          "data": {
            "text/plain": [
              "array([[133,  75],\n",
              "       [  3,  46]])"
            ]
          },
          "execution_count": 534,
          "metadata": {},
          "output_type": "execute_result"
        }
      ]
    },
    {
      "cell_type": "code",
      "metadata": {
        "id": "7f552963",
        "outputId": "807960c2-39a5-468f-e17d-efc1c7b8e004"
      },
      "source": [
        "mnb.fit(x_train_CV,y_train)"
      ],
      "id": "7f552963",
      "execution_count": null,
      "outputs": [
        {
          "data": {
            "text/plain": [
              "MultinomialNB()"
            ]
          },
          "execution_count": 532,
          "metadata": {},
          "output_type": "execute_result"
        }
      ]
    },
    {
      "cell_type": "code",
      "metadata": {
        "id": "ec07a41e"
      },
      "source": [
        "predictions = mnb.predict(x_test_CV)"
      ],
      "id": "ec07a41e",
      "execution_count": null,
      "outputs": []
    },
    {
      "cell_type": "code",
      "metadata": {
        "id": "72eee90f",
        "outputId": "10bfdcf9-9ab5-4ace-981d-3a7acebbd274"
      },
      "source": [
        "print(\"Precision:\",metrics.precision_score(y_test, predictions))"
      ],
      "id": "72eee90f",
      "execution_count": null,
      "outputs": [
        {
          "name": "stdout",
          "output_type": "stream",
          "text": [
            "Precision: 0.9387755102040817\n"
          ]
        }
      ]
    },
    {
      "cell_type": "code",
      "metadata": {
        "id": "c51ad94b",
        "outputId": "f8ea54a0-1146-4776-da12-6596552e3d45"
      },
      "source": [
        "y_train"
      ],
      "id": "c51ad94b",
      "execution_count": null,
      "outputs": [
        {
          "data": {
            "text/plain": [
              "238     0\n",
              "115     1\n",
              "333     0\n",
              "901     1\n",
              "34      1\n",
              "       ..\n",
              "360     1\n",
              "709     1\n",
              "439     1\n",
              "174     1\n",
              "1146    1\n",
              "Name: relevance, Length: 1019, dtype: int64"
            ]
          },
          "execution_count": 375,
          "metadata": {},
          "output_type": "execute_result"
        }
      ]
    },
    {
      "cell_type": "code",
      "metadata": {
        "id": "4f1bf33b",
        "colab": {
          "base_uri": "https://localhost:8080/"
        },
        "outputId": "d91b80a6-3c92-42ab-f785-f0afbafd8098"
      },
      "source": [
        "scikit_log_reg = LogisticRegression(verbose=1, solver='liblinear',\n",
        "                                    random_state=0, C=1.0, penalty='l2',class_weight = \"balanced\")\n",
        "model=scikit_log_reg.fit(x_train_CV,y_train)"
      ],
      "id": "4f1bf33b",
      "execution_count": null,
      "outputs": [
        {
          "output_type": "stream",
          "name": "stdout",
          "text": [
            "[LibLinear]"
          ]
        }
      ]
    },
    {
      "cell_type": "code",
      "metadata": {
        "id": "5cada16b"
      },
      "source": [
        "y_pred = model.predict(x_test_CV)"
      ],
      "id": "5cada16b",
      "execution_count": null,
      "outputs": []
    },
    {
      "cell_type": "code",
      "metadata": {
        "colab": {
          "base_uri": "https://localhost:8080/"
        },
        "id": "2Z-ZMJ-i3Ql3",
        "outputId": "42182113-3487-4b43-f03b-78f8440d99ac"
      },
      "source": [
        "print(classification_report(y_test,y_pred))"
      ],
      "id": "2Z-ZMJ-i3Ql3",
      "execution_count": null,
      "outputs": [
        {
          "output_type": "stream",
          "name": "stdout",
          "text": [
            "              precision    recall  f1-score   support\n",
            "\n",
            "         0.0       0.76      0.77      0.76       128\n",
            "         1.0       0.88      0.88      0.88       255\n",
            "\n",
            "    accuracy                           0.84       383\n",
            "   macro avg       0.82      0.82      0.82       383\n",
            "weighted avg       0.84      0.84      0.84       383\n",
            "\n"
          ]
        }
      ]
    },
    {
      "cell_type": "code",
      "metadata": {
        "colab": {
          "base_uri": "https://localhost:8080/"
        },
        "id": "cVCIc84M3XUO",
        "outputId": "527979d2-afba-4fdb-f4a4-903211576be2"
      },
      "source": [
        "print(confusion_matrix(y_test,y_pred))"
      ],
      "id": "cVCIc84M3XUO",
      "execution_count": null,
      "outputs": [
        {
          "output_type": "stream",
          "name": "stdout",
          "text": [
            "[[ 98  30]\n",
            " [ 31 224]]\n"
          ]
        }
      ]
    },
    {
      "cell_type": "code",
      "metadata": {
        "id": "wYUkJ_vk4RzF"
      },
      "source": [
        "clf = svm.SVC()"
      ],
      "id": "wYUkJ_vk4RzF",
      "execution_count": null,
      "outputs": []
    },
    {
      "cell_type": "code",
      "metadata": {
        "id": "wDMCfgDF4XNC"
      },
      "source": [
        "model2 = clf.fit(x_train_CV,y_train)"
      ],
      "id": "wDMCfgDF4XNC",
      "execution_count": null,
      "outputs": []
    },
    {
      "cell_type": "code",
      "metadata": {
        "id": "1xJt1HvA4dzD"
      },
      "source": [
        "y_pred2 = model2.predict(x_test_CV)"
      ],
      "id": "1xJt1HvA4dzD",
      "execution_count": null,
      "outputs": []
    },
    {
      "cell_type": "code",
      "metadata": {
        "colab": {
          "base_uri": "https://localhost:8080/"
        },
        "id": "eaUKldAE4kJl",
        "outputId": "dd10732e-a985-4660-f1eb-5ffc846a6839"
      },
      "source": [
        "print(classification_report(y_test,y_pred2))"
      ],
      "id": "eaUKldAE4kJl",
      "execution_count": null,
      "outputs": [
        {
          "output_type": "stream",
          "name": "stdout",
          "text": [
            "              precision    recall  f1-score   support\n",
            "\n",
            "         0.0       0.83      0.68      0.75       128\n",
            "         1.0       0.85      0.93      0.89       255\n",
            "\n",
            "    accuracy                           0.85       383\n",
            "   macro avg       0.84      0.80      0.82       383\n",
            "weighted avg       0.84      0.85      0.84       383\n",
            "\n"
          ]
        }
      ]
    },
    {
      "cell_type": "markdown",
      "metadata": {
        "id": "OWxoVi6a5B9m"
      },
      "source": [
        "Cross validation"
      ],
      "id": "OWxoVi6a5B9m"
    },
    {
      "cell_type": "code",
      "metadata": {
        "id": "Q9zz-itl4nzi"
      },
      "source": [
        "grid_p = {'C' : [1e-2,0.05,0.1,0.5],'kernel': ['linear','rbf'] }\n",
        "grid = GridSearchCV(clf,param_grid=grid_p,scoring='accuracy',cv=4)"
      ],
      "id": "Q9zz-itl4nzi",
      "execution_count": null,
      "outputs": []
    },
    {
      "cell_type": "code",
      "metadata": {
        "id": "eMXaupmW6DyK"
      },
      "source": [
        "grid_cv=grid.fit(x_train_CV,y_train)"
      ],
      "id": "eMXaupmW6DyK",
      "execution_count": null,
      "outputs": []
    },
    {
      "cell_type": "code",
      "metadata": {
        "colab": {
          "base_uri": "https://localhost:8080/"
        },
        "id": "PzvzZxK36SQ_",
        "outputId": "6df3d3bc-f9a8-4bed-9632-b825ad1f244d"
      },
      "source": [
        "grid_cv.best_params_"
      ],
      "id": "PzvzZxK36SQ_",
      "execution_count": null,
      "outputs": [
        {
          "output_type": "execute_result",
          "data": {
            "text/plain": [
              "{'C': 0.5, 'kernel': 'linear'}"
            ]
          },
          "metadata": {},
          "execution_count": 49
        }
      ]
    },
    {
      "cell_type": "code",
      "metadata": {
        "id": "o9XIs7z663SW"
      },
      "source": [
        "clf = svm.SVC(C=0.5,kernel='linear')"
      ],
      "id": "o9XIs7z663SW",
      "execution_count": null,
      "outputs": []
    },
    {
      "cell_type": "code",
      "metadata": {
        "id": "_Pt9ytzG69tc"
      },
      "source": [
        "model2 = clf.fit(x_train_CV,y_train)"
      ],
      "id": "_Pt9ytzG69tc",
      "execution_count": null,
      "outputs": []
    },
    {
      "cell_type": "code",
      "metadata": {
        "colab": {
          "base_uri": "https://localhost:8080/"
        },
        "id": "nf6tC_US7U8m",
        "outputId": "b131c1e5-0bac-424b-db48-f8ab6667b1b3"
      },
      "source": [
        "y_pred2 = model2.predict(x_test_CV)\n",
        "print(classification_report(y_test,y_pred2))\n"
      ],
      "id": "nf6tC_US7U8m",
      "execution_count": null,
      "outputs": [
        {
          "output_type": "stream",
          "name": "stdout",
          "text": [
            "              precision    recall  f1-score   support\n",
            "\n",
            "         0.0       0.82      0.71      0.76       128\n",
            "         1.0       0.86      0.92      0.89       255\n",
            "\n",
            "    accuracy                           0.85       383\n",
            "   macro avg       0.84      0.82      0.83       383\n",
            "weighted avg       0.85      0.85      0.85       383\n",
            "\n"
          ]
        }
      ]
    },
    {
      "cell_type": "code",
      "metadata": {
        "colab": {
          "base_uri": "https://localhost:8080/"
        },
        "id": "axj8KTeQ7brs",
        "outputId": "ac364d12-9c2d-4f7c-9a0d-e1c55a09a465"
      },
      "source": [
        "print(confusion_matrix(y_test,y_pred2))"
      ],
      "id": "axj8KTeQ7brs",
      "execution_count": null,
      "outputs": [
        {
          "output_type": "stream",
          "name": "stdout",
          "text": [
            "[[ 91  37]\n",
            " [ 20 235]]\n"
          ]
        }
      ]
    },
    {
      "cell_type": "code",
      "metadata": {
        "id": "HX7vxhYG7ls0"
      },
      "source": [
        "grid_l = {'C' : [100,150,200]}\n",
        "grid = GridSearchCV(scikit_log_reg,param_grid=grid_l,scoring='accuracy',cv=4)"
      ],
      "id": "HX7vxhYG7ls0",
      "execution_count": null,
      "outputs": []
    },
    {
      "cell_type": "code",
      "metadata": {
        "colab": {
          "base_uri": "https://localhost:8080/"
        },
        "id": "K2-y0aq_8WqD",
        "outputId": "e41778d2-072a-40b3-c5b8-34dc0584f5c1"
      },
      "source": [
        "grid_cv = grid.fit(x_train_CV,y_train)"
      ],
      "id": "K2-y0aq_8WqD",
      "execution_count": null,
      "outputs": [
        {
          "output_type": "stream",
          "name": "stdout",
          "text": [
            "[LibLinear][LibLinear][LibLinear][LibLinear][LibLinear][LibLinear][LibLinear][LibLinear][LibLinear][LibLinear][LibLinear][LibLinear][LibLinear]"
          ]
        }
      ]
    },
    {
      "cell_type": "code",
      "metadata": {
        "colab": {
          "base_uri": "https://localhost:8080/"
        },
        "id": "aErBh_BB8jZI",
        "outputId": "78535c26-cc63-4ac0-c21b-210887ff60ec"
      },
      "source": [
        "grid_cv.best_params_"
      ],
      "id": "aErBh_BB8jZI",
      "execution_count": null,
      "outputs": [
        {
          "output_type": "execute_result",
          "data": {
            "text/plain": [
              "{'C': 100}"
            ]
          },
          "metadata": {},
          "execution_count": 62
        }
      ]
    },
    {
      "cell_type": "code",
      "metadata": {
        "colab": {
          "base_uri": "https://localhost:8080/"
        },
        "id": "K-ZnoUIb81IE",
        "outputId": "ad72a68b-9eb4-4d0f-df73-518a758e305e"
      },
      "source": [
        "scikit_log_reg = LogisticRegression(verbose=1, solver='liblinear',\n",
        "                                    random_state=0, C=100, penalty='l2',class_weight = \"balanced\")\n",
        "model=scikit_log_reg.fit(x_train_CV,y_train)"
      ],
      "id": "K-ZnoUIb81IE",
      "execution_count": null,
      "outputs": [
        {
          "output_type": "stream",
          "name": "stdout",
          "text": [
            "[LibLinear]"
          ]
        }
      ]
    },
    {
      "cell_type": "code",
      "metadata": {
        "id": "0cJoEWP38563"
      },
      "source": [
        "y_pred = model.predict(x_test_CV)"
      ],
      "id": "0cJoEWP38563",
      "execution_count": null,
      "outputs": []
    },
    {
      "cell_type": "code",
      "metadata": {
        "colab": {
          "base_uri": "https://localhost:8080/"
        },
        "id": "yJfg5-4s8_eO",
        "outputId": "e3a66e16-c740-47ef-88a7-f278a1ad62b6"
      },
      "source": [
        "print(classification_report(y_test,y_pred))"
      ],
      "id": "yJfg5-4s8_eO",
      "execution_count": null,
      "outputs": [
        {
          "output_type": "stream",
          "name": "stdout",
          "text": [
            "              precision    recall  f1-score   support\n",
            "\n",
            "         0.0       0.83      0.78      0.81       128\n",
            "         1.0       0.89      0.92      0.91       255\n",
            "\n",
            "    accuracy                           0.87       383\n",
            "   macro avg       0.86      0.85      0.86       383\n",
            "weighted avg       0.87      0.87      0.87       383\n",
            "\n"
          ]
        }
      ]
    }
  ]
}