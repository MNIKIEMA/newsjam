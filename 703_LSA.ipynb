{
 "cells": [
  {
   "cell_type": "code",
   "execution_count": 5,
   "metadata": {},
   "outputs": [],
   "source": [
    "from datasets import load_dataset\n",
    "import spacy # Better than nltk\n",
    "from spacy.lang.fr.stop_words import STOP_WORDS\n",
    "import nltk\n",
    "from gensim import corpora\n",
    "from gensim.models import LsiModel\n",
    "from nltk.tokenize import RegexpTokenizer\n",
    "from nltk.tokenize import punkt\n",
    "from nltk.corpus import stopwords\n",
    "from nltk.stem.snowball import SnowballStemmer\n",
    "from gensim.models.coherencemodel import CoherenceModel\n",
    "import matplotlib.pyplot as plt"
   ]
  },
  {
   "cell_type": "code",
   "execution_count": 6,
   "metadata": {},
   "outputs": [
    {
     "name": "stderr",
     "output_type": "stream",
     "text": [
      "Reusing dataset mlsum (/Users/josephkeenan/.cache/huggingface/datasets/mlsum/fr/1.0.0/77f23eb185781f439927ac2569ab1da1083195d8b2dab2b2f6bbe52feb600688)\n"
     ]
    },
    {
     "data": {
      "application/vnd.jupyter.widget-view+json": {
       "model_id": "5e8ef09526364e2d95d7b5c226954d00",
       "version_major": 2,
       "version_minor": 0
      },
      "text/plain": [
       "HBox(children=(FloatProgress(value=0.0, max=3.0), HTML(value='')))"
      ]
     },
     "metadata": {},
     "output_type": "display_data"
    },
    {
     "name": "stdout",
     "output_type": "stream",
     "text": [
      "\n"
     ]
    }
   ],
   "source": [
    "dataset = load_dataset('mlsum', 'fr')"
   ]
  },
  {
   "cell_type": "code",
   "execution_count": 7,
   "metadata": {},
   "outputs": [
    {
     "name": "stdout",
     "output_type": "stream",
     "text": [
      "Cinq personnes sont mortes, et treize autres ont été blessées à Nîmes, dans le Gard, dans un incendie qui s'est déclenché vendredi 1er janvier au petit matin. Le feu, dont on ignore l'origine pour l'instant, a pris au sixième et dernier étage d'un immeuble. \"A l'arrivée des pompiers, trois personnes étaient décédées dans un appartement, et deux autres dans un appartement voisin par intoxication\", a expliqué, sur i-Télé, le directeur de cabinet du préfet du Gard. On dénombre également \"treize blessés, dont trois graves. Une personne dans le coma a été transférée à Marseille\", a-t-il ajouté. Les secours ont été prévenus vers 5 heures du matin, mais \"l'incendie avait déjà bien démarré\", a-t-il expliqué. France Info précise que les victimes sont trois adultes et deux enfants. \"L'origine de l'incendie est indéterminée mais a priori accidentelle\", a déclaré le procureur adjoint de la République de Nîmes, cité par Europe 1.\n",
      "Cinq personnes sont mortes, et treize autres ont été blessées à Nîmes, dans le Gard, dans un incendie qui s'est déclenché vendredi 1er janvier au petit matin.\n"
     ]
    }
   ],
   "source": [
    "article = dataset['train']['text'][4]\n",
    "summary = dataset['train']['summary'][4]\n",
    "print(article, summary, sep='\\n')"
   ]
  },
  {
   "cell_type": "code",
   "execution_count": 18,
   "metadata": {},
   "outputs": [
    {
     "name": "stdout",
     "output_type": "stream",
     "text": [
      "personnes personne\n",
      "mortes mourir\n",
      "blessées blesser\n",
      "nîmes nîme\n",
      "gard gard\n",
      "incendie incendie\n",
      "déclenché déclencher\n",
      "vendredi vendredi\n",
      "1er premier\n",
      "janvier janvier\n",
      "petit petit\n",
      "matin matin\n",
      ". .\n",
      "feu feu\n",
      "ignore ignore\n",
      "origine origine\n",
      "instant instant\n",
      "pris prendre\n",
      "étage étage\n",
      "immeuble immeuble\n",
      ". .\n",
      "arrivée arrivée\n",
      "pompiers pompier\n",
      "personnes personne\n",
      "décédées décéder\n",
      "appartement appartement\n",
      "appartement appartement\n",
      "voisin voisin\n",
      "intoxication intoxication\n",
      "expliqué expliquer\n",
      "télé télé\n",
      "directeur directeur\n",
      "cabinet cabinet\n",
      "préfet préfet\n",
      "gard gard\n",
      ". .\n",
      "dénombre dénombre\n",
      "également également\n",
      "blessés blessé\n",
      "graves grave\n",
      ". .\n",
      "coma coma\n",
      "transférée transférer\n",
      "marseille marseill\n",
      "-t t\n",
      "-il il\n",
      "ajouté ajouter\n",
      ". .\n",
      "secours secours\n",
      "prévenus prévenir\n",
      "5 5\n",
      "heures heure\n",
      "matin matin\n",
      "incendie incendie\n",
      "déjà déjà\n",
      "démarré démarré\n",
      "-t t\n",
      "-il il\n",
      "expliqué expliquer\n",
      ". .\n",
      "france france\n",
      "info info\n",
      "précise précise\n",
      "victimes victime\n",
      "adultes adulte\n",
      "enfants enfant\n",
      ". .\n",
      "origine origine\n",
      "incendie incendie\n",
      "indéterminée indéterminer\n",
      "priori priori\n",
      "accidentelle accidentel\n",
      "déclaré déclarer\n",
      "procureur procureur\n",
      "adjoint adjoint\n",
      "république république\n",
      "nîmes nîme\n",
      "cité citer\n",
      "europe europe\n",
      "1 1\n",
      ". .\n"
     ]
    }
   ],
   "source": [
    "tokenizer = RegexpTokenizer(r'\\w+')\n",
    "fr_stop = set(stopwords.words('french'))\n",
    "fr_stop.add('a')\n",
    "stemmer = SnowballStemmer('french')\n",
    "texts = []\n",
    "# loop through document list\n",
    "\n",
    "# clean and tokenize document string\n",
    "lower = article.lower()\n",
    "\n",
    "nlp = spacy.load(\"fr_core_news_sm\")\n",
    "doc = nlp(article.lower())\n",
    "#print(doc.text)\n",
    "\n",
    "    \n",
    "#tokens = tokenizer.tokenize(lower)\n",
    "\n",
    "# remove stop words from tokens\n",
    "kept_tokens = [x for x in doc if not x.text in STOP_WORDS and not x.is_punct or x.text == '.']\n",
    "#print(kept_tokens)\n",
    "\n",
    "for token in kept_tokens:\n",
    "    #print(token)\n",
    "    print(token.text, token.lemma_)\n",
    "\n",
    "    \n",
    "#print(STOP_WORDS) \n",
    "# stem tokens\n",
    "#stemmed_tokens = [stemmer.stem(x) for x in kept_tokens]\n",
    "#stemmed_tokens"
   ]
  },
  {
   "cell_type": "code",
   "execution_count": null,
   "metadata": {},
   "outputs": [],
   "source": []
  }
 ],
 "metadata": {
  "kernelspec": {
   "display_name": "Python [conda env:pytorch]",
   "language": "python",
   "name": "conda-env-pytorch-py"
  },
  "language_info": {
   "codemirror_mode": {
    "name": "ipython",
    "version": 3
   },
   "file_extension": ".py",
   "mimetype": "text/x-python",
   "name": "python",
   "nbconvert_exporter": "python",
   "pygments_lexer": "ipython3",
   "version": "3.7.10"
  }
 },
 "nbformat": 4,
 "nbformat_minor": 4
}
