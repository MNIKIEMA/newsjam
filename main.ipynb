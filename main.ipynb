{
 "cells": [
  {
   "cell_type": "markdown",
   "id": "feaed337",
   "metadata": {},
   "source": [
    "## ONLY if running on Colaboratory, run this cell first (once)"
   ]
  },
  {
   "cell_type": "code",
   "execution_count": null,
   "id": "f75f9491",
   "metadata": {},
   "outputs": [],
   "source": [
    "!git clone https://github.com/pie3636/newsjam.git\n",
    "!mv newsjam/* ."
   ]
  },
  {
   "cell_type": "markdown",
   "id": "ad23b536",
   "metadata": {},
   "source": [
    "## Install missing modules if needed (only run once)"
   ]
  },
  {
   "cell_type": "code",
   "execution_count": 22,
   "id": "0ceafccf",
   "metadata": {},
   "outputs": [
    {
     "name": "stdout",
     "output_type": "stream",
     "text": [
      "Defaulting to user installation because normal site-packages is not writeable\n",
      "Requirement already satisfied: bert-score in c:\\users\\maxim\\appdata\\roaming\\python\\python38\\site-packages (from -r requirements.txt (line 1)) (0.3.10)\n",
      "Requirement already satisfied: datasets in c:\\users\\maxim\\appdata\\roaming\\python\\python38\\site-packages (from -r requirements.txt (line 2)) (1.12.1)\n",
      "Requirement already satisfied: gensim in c:\\users\\maxim\\appdata\\roaming\\python\\python38\\site-packages (from -r requirements.txt (line 3)) (4.1.2)\n",
      "Requirement already satisfied: matplotlib in c:\\program files\\python38\\lib\\site-packages (from -r requirements.txt (line 4)) (3.1.2)\n",
      "Requirement already satisfied: nltk in c:\\program files\\python38\\lib\\site-packages (from -r requirements.txt (line 5)) (3.5)\n",
      "Requirement already satisfied: numpy in c:\\program files\\python38\\lib\\site-packages (from -r requirements.txt (line 6)) (1.18.1)\n",
      "Requirement already satisfied: protobuf in c:\\users\\maxim\\appdata\\roaming\\python\\python38\\site-packages (from -r requirements.txt (line 7)) (3.19.0)\n",
      "Requirement already satisfied: rouge-score in c:\\users\\maxim\\appdata\\roaming\\python\\python38\\site-packages (from -r requirements.txt (line 8)) (0.0.4)\n",
      "Requirement already satisfied: sentencepiece in c:\\users\\maxim\\appdata\\roaming\\python\\python38\\site-packages (from -r requirements.txt (line 9)) (0.1.96)\n",
      "Requirement already satisfied: sklearn in c:\\users\\maxim\\appdata\\roaming\\python\\python38\\site-packages (from -r requirements.txt (line 10)) (0.0)\n",
      "Requirement already satisfied: spacy in c:\\users\\maxim\\appdata\\roaming\\python\\python38\\site-packages (from -r requirements.txt (line 11)) (3.1.3)\n",
      "Requirement already satisfied: torch in c:\\users\\maxim\\appdata\\roaming\\python\\python38\\site-packages (from -r requirements.txt (line 12)) (1.7.1)\n",
      "Requirement already satisfied: transformers in c:\\users\\maxim\\appdata\\roaming\\python\\python38\\site-packages (from -r requirements.txt (line 13)) (4.11.3)\n",
      "Requirement already satisfied: requests in c:\\program files\\python38\\lib\\site-packages (from bert-score->-r requirements.txt (line 1)) (2.22.0)\n",
      "Requirement already satisfied: pandas>=1.0.1 in c:\\program files\\python38\\lib\\site-packages (from bert-score->-r requirements.txt (line 1)) (1.2.2)\n",
      "Requirement already satisfied: packaging>=20.9 in c:\\program files\\python38\\lib\\site-packages (from bert-score->-r requirements.txt (line 1)) (21.0)\n",
      "Requirement already satisfied: tqdm>=4.31.1 in c:\\users\\maxim\\appdata\\roaming\\python\\python38\\site-packages (from bert-score->-r requirements.txt (line 1)) (4.62.3)\n",
      "Requirement already satisfied: typing-extensions in c:\\users\\maxim\\appdata\\roaming\\python\\python38\\site-packages (from torch->-r requirements.txt (line 12)) (3.7.4.3)\n",
      "Requirement already satisfied: filelock in c:\\users\\maxim\\appdata\\roaming\\python\\python38\\site-packages (from transformers->-r requirements.txt (line 13)) (3.3.0)\n",
      "Requirement already satisfied: pyyaml>=5.1 in c:\\program files\\python38\\lib\\site-packages (from transformers->-r requirements.txt (line 13)) (5.3)\n",
      "Requirement already satisfied: huggingface-hub>=0.0.17 in c:\\users\\maxim\\appdata\\roaming\\python\\python38\\site-packages (from transformers->-r requirements.txt (line 13)) (0.0.19)\n",
      "Requirement already satisfied: tokenizers<0.11,>=0.10.1 in c:\\users\\maxim\\appdata\\roaming\\python\\python38\\site-packages (from transformers->-r requirements.txt (line 13)) (0.10.3)\n",
      "Requirement already satisfied: sacremoses in c:\\users\\maxim\\appdata\\roaming\\python\\python38\\site-packages (from transformers->-r requirements.txt (line 13)) (0.0.46)\n",
      "Requirement already satisfied: regex!=2019.12.17 in c:\\program files\\python38\\lib\\site-packages (from transformers->-r requirements.txt (line 13)) (2020.1.8)\n",
      "Requirement already satisfied: pyparsing>=2.0.2 in c:\\program files\\python38\\lib\\site-packages (from packaging>=20.9->bert-score->-r requirements.txt (line 1)) (2.4.6)\n",
      "Requirement already satisfied: pytz>=2017.3 in c:\\program files\\python38\\lib\\site-packages (from pandas>=1.0.1->bert-score->-r requirements.txt (line 1)) (2021.1)\n",
      "Requirement already satisfied: python-dateutil>=2.7.3 in c:\\program files\\python38\\lib\\site-packages (from pandas>=1.0.1->bert-score->-r requirements.txt (line 1)) (2.8.1)\n",
      "Requirement already satisfied: six>=1.5 in c:\\program files\\python38\\lib\\site-packages (from python-dateutil>=2.7.3->pandas>=1.0.1->bert-score->-r requirements.txt (line 1)) (1.14.0)\n",
      "Requirement already satisfied: colorama in c:\\program files\\python38\\lib\\site-packages (from tqdm>=4.31.1->bert-score->-r requirements.txt (line 1)) (0.4.4)\n",
      "Requirement already satisfied: aiohttp in c:\\users\\maxim\\appdata\\roaming\\python\\python38\\site-packages (from datasets->-r requirements.txt (line 2)) (3.7.4.post0)\n",
      "Requirement already satisfied: dill in c:\\users\\maxim\\appdata\\roaming\\python\\python38\\site-packages (from datasets->-r requirements.txt (line 2)) (0.3.4)\n",
      "Requirement already satisfied: pyarrow!=4.0.0,>=1.0.0 in c:\\users\\maxim\\appdata\\roaming\\python\\python38\\site-packages (from datasets->-r requirements.txt (line 2)) (5.0.0)\n",
      "Requirement already satisfied: multiprocess in c:\\users\\maxim\\appdata\\roaming\\python\\python38\\site-packages (from datasets->-r requirements.txt (line 2)) (0.70.12.2)\n",
      "Requirement already satisfied: fsspec[http]>=2021.05.0 in c:\\users\\maxim\\appdata\\roaming\\python\\python38\\site-packages (from datasets->-r requirements.txt (line 2)) (2021.10.0)\n",
      "Requirement already satisfied: xxhash in c:\\users\\maxim\\appdata\\roaming\\python\\python38\\site-packages (from datasets->-r requirements.txt (line 2)) (2.0.2)\n",
      "Requirement already satisfied: certifi>=2017.4.17 in c:\\users\\maxim\\appdata\\roaming\\python\\python38\\site-packages (from requests->bert-score->-r requirements.txt (line 1)) (2017.11.5)\n",
      "Requirement already satisfied: urllib3!=1.25.0,!=1.25.1,<1.26,>=1.21.1 in c:\\program files\\python38\\lib\\site-packages (from requests->bert-score->-r requirements.txt (line 1)) (1.25.7)\n",
      "Requirement already satisfied: chardet<3.1.0,>=3.0.2 in c:\\program files\\python38\\lib\\site-packages (from requests->bert-score->-r requirements.txt (line 1)) (3.0.4)\n",
      "Requirement already satisfied: idna<2.9,>=2.5 in c:\\program files\\python38\\lib\\site-packages (from requests->bert-score->-r requirements.txt (line 1)) (2.8)\n",
      "Requirement already satisfied: Cython==0.29.23 in c:\\users\\maxim\\appdata\\roaming\\python\\python38\\site-packages (from gensim->-r requirements.txt (line 3)) (0.29.23)\n",
      "Requirement already satisfied: scipy>=0.18.1 in c:\\program files\\python38\\lib\\site-packages (from gensim->-r requirements.txt (line 3)) (1.7.1)\n",
      "Requirement already satisfied: smart-open>=1.8.1 in c:\\users\\maxim\\appdata\\roaming\\python\\python38\\site-packages (from gensim->-r requirements.txt (line 3)) (5.2.1)\n",
      "Requirement already satisfied: cycler>=0.10 in c:\\program files\\python38\\lib\\site-packages (from matplotlib->-r requirements.txt (line 4)) (0.10.0)\n",
      "Requirement already satisfied: kiwisolver>=1.0.1 in c:\\program files\\python38\\lib\\site-packages (from matplotlib->-r requirements.txt (line 4)) (1.1.0)\n",
      "Requirement already satisfied: setuptools in c:\\users\\maxim\\appdata\\roaming\\python\\python38\\site-packages (from kiwisolver>=1.0.1->matplotlib->-r requirements.txt (line 4)) (50.3.2)\n",
      "Requirement already satisfied: click in c:\\users\\maxim\\appdata\\roaming\\python\\python38\\site-packages (from nltk->-r requirements.txt (line 5)) (8.0.1)\n",
      "Requirement already satisfied: joblib in c:\\program files\\python38\\lib\\site-packages (from nltk->-r requirements.txt (line 5)) (0.14.1)\n",
      "Requirement already satisfied: absl-py in c:\\users\\maxim\\appdata\\roaming\\python\\python38\\site-packages (from rouge-score->-r requirements.txt (line 8)) (0.14.1)\n",
      "Requirement already satisfied: scikit-learn in c:\\users\\maxim\\appdata\\roaming\\python\\python38\\site-packages (from sklearn->-r requirements.txt (line 10)) (0.24.2)\n",
      "Requirement already satisfied: preshed<3.1.0,>=3.0.2 in c:\\users\\maxim\\appdata\\roaming\\python\\python38\\site-packages (from spacy->-r requirements.txt (line 11)) (3.0.5)\n",
      "Requirement already satisfied: spacy-legacy<3.1.0,>=3.0.8 in c:\\users\\maxim\\appdata\\roaming\\python\\python38\\site-packages (from spacy->-r requirements.txt (line 11)) (3.0.8)\n",
      "Requirement already satisfied: cymem<2.1.0,>=2.0.2 in c:\\users\\maxim\\appdata\\roaming\\python\\python38\\site-packages (from spacy->-r requirements.txt (line 11)) (2.0.5)\n",
      "Requirement already satisfied: wasabi<1.1.0,>=0.8.1 in c:\\users\\maxim\\appdata\\roaming\\python\\python38\\site-packages (from spacy->-r requirements.txt (line 11)) (0.8.2)\n",
      "Requirement already satisfied: catalogue<2.1.0,>=2.0.6 in c:\\users\\maxim\\appdata\\roaming\\python\\python38\\site-packages (from spacy->-r requirements.txt (line 11)) (2.0.6)\n",
      "Requirement already satisfied: jinja2 in c:\\program files\\python38\\lib\\site-packages (from spacy->-r requirements.txt (line 11)) (3.0.1)\n",
      "Requirement already satisfied: pydantic!=1.8,!=1.8.1,<1.9.0,>=1.7.4 in c:\\users\\maxim\\appdata\\roaming\\python\\python38\\site-packages (from spacy->-r requirements.txt (line 11)) (1.8.2)\n",
      "Requirement already satisfied: srsly<3.0.0,>=2.4.1 in c:\\users\\maxim\\appdata\\roaming\\python\\python38\\site-packages (from spacy->-r requirements.txt (line 11)) (2.4.1)\n",
      "Requirement already satisfied: murmurhash<1.1.0,>=0.28.0 in c:\\users\\maxim\\appdata\\roaming\\python\\python38\\site-packages (from spacy->-r requirements.txt (line 11)) (1.0.5)\n",
      "Requirement already satisfied: pathy>=0.3.5 in c:\\users\\maxim\\appdata\\roaming\\python\\python38\\site-packages (from spacy->-r requirements.txt (line 11)) (0.6.0)\n",
      "Requirement already satisfied: typer<0.5.0,>=0.3.0 in c:\\users\\maxim\\appdata\\roaming\\python\\python38\\site-packages (from spacy->-r requirements.txt (line 11)) (0.4.0)\n",
      "Requirement already satisfied: blis<0.8.0,>=0.4.0 in c:\\users\\maxim\\appdata\\roaming\\python\\python38\\site-packages (from spacy->-r requirements.txt (line 11)) (0.7.4)\n",
      "Requirement already satisfied: thinc<8.1.0,>=8.0.9 in c:\\users\\maxim\\appdata\\roaming\\python\\python38\\site-packages (from spacy->-r requirements.txt (line 11)) (8.0.10)\n",
      "Requirement already satisfied: yarl<2.0,>=1.0 in c:\\users\\maxim\\appdata\\roaming\\python\\python38\\site-packages (from aiohttp->datasets->-r requirements.txt (line 2)) (1.7.0)\n",
      "Requirement already satisfied: multidict<7.0,>=4.5 in c:\\users\\maxim\\appdata\\roaming\\python\\python38\\site-packages (from aiohttp->datasets->-r requirements.txt (line 2)) (5.2.0)\n",
      "Requirement already satisfied: async-timeout<4.0,>=3.0 in c:\\users\\maxim\\appdata\\roaming\\python\\python38\\site-packages (from aiohttp->datasets->-r requirements.txt (line 2)) (3.0.1)\n",
      "Requirement already satisfied: attrs>=17.3.0 in c:\\program files\\python38\\lib\\site-packages (from aiohttp->datasets->-r requirements.txt (line 2)) (21.2.0)\n",
      "Requirement already satisfied: MarkupSafe>=2.0 in c:\\program files\\python38\\lib\\site-packages (from jinja2->spacy->-r requirements.txt (line 11)) (2.0.1)\n",
      "Requirement already satisfied: threadpoolctl>=2.0.0 in c:\\users\\maxim\\appdata\\roaming\\python\\python38\\site-packages (from scikit-learn->sklearn->-r requirements.txt (line 10)) (2.2.0)\n"
     ]
    },
    {
     "name": "stdout",
     "output_type": "stream",
     "text": [
      "Defaulting to user installation because normal site-packages is not writeable\n",
      "Collecting fr-core-news-sm==3.1.0\n",
      "  Using cached https://github.com/explosion/spacy-models/releases/download/fr_core_news_sm-3.1.0/fr_core_news_sm-3.1.0-py3-none-any.whl (17.1 MB)\n",
      "Requirement already satisfied: spacy<3.2.0,>=3.1.0 in c:\\users\\maxim\\appdata\\roaming\\python\\python38\\site-packages (from fr-core-news-sm==3.1.0) (3.1.3)\n",
      "Requirement already satisfied: pathy>=0.3.5 in c:\\users\\maxim\\appdata\\roaming\\python\\python38\\site-packages (from spacy<3.2.0,>=3.1.0->fr-core-news-sm==3.1.0) (0.6.0)\n",
      "Requirement already satisfied: pydantic!=1.8,!=1.8.1,<1.9.0,>=1.7.4 in c:\\users\\maxim\\appdata\\roaming\\python\\python38\\site-packages (from spacy<3.2.0,>=3.1.0->fr-core-news-sm==3.1.0) (1.8.2)\n",
      "Requirement already satisfied: blis<0.8.0,>=0.4.0 in c:\\users\\maxim\\appdata\\roaming\\python\\python38\\site-packages (from spacy<3.2.0,>=3.1.0->fr-core-news-sm==3.1.0) (0.7.4)\n",
      "Requirement already satisfied: catalogue<2.1.0,>=2.0.6 in c:\\users\\maxim\\appdata\\roaming\\python\\python38\\site-packages (from spacy<3.2.0,>=3.1.0->fr-core-news-sm==3.1.0) (2.0.6)\n",
      "Requirement already satisfied: srsly<3.0.0,>=2.4.1 in c:\\users\\maxim\\appdata\\roaming\\python\\python38\\site-packages (from spacy<3.2.0,>=3.1.0->fr-core-news-sm==3.1.0) (2.4.1)\n",
      "Requirement already satisfied: requests<3.0.0,>=2.13.0 in c:\\program files\\python38\\lib\\site-packages (from spacy<3.2.0,>=3.1.0->fr-core-news-sm==3.1.0) (2.22.0)\n",
      "Requirement already satisfied: packaging>=20.0 in c:\\program files\\python38\\lib\\site-packages (from spacy<3.2.0,>=3.1.0->fr-core-news-sm==3.1.0) (21.0)\n",
      "Requirement already satisfied: cymem<2.1.0,>=2.0.2 in c:\\users\\maxim\\appdata\\roaming\\python\\python38\\site-packages (from spacy<3.2.0,>=3.1.0->fr-core-news-sm==3.1.0) (2.0.5)\n",
      "Requirement already satisfied: typer<0.5.0,>=0.3.0 in c:\\users\\maxim\\appdata\\roaming\\python\\python38\\site-packages (from spacy<3.2.0,>=3.1.0->fr-core-news-sm==3.1.0) (0.4.0)\n",
      "Requirement already satisfied: jinja2 in c:\\program files\\python38\\lib\\site-packages (from spacy<3.2.0,>=3.1.0->fr-core-news-sm==3.1.0) (3.0.1)\n",
      "Requirement already satisfied: spacy-legacy<3.1.0,>=3.0.8 in c:\\users\\maxim\\appdata\\roaming\\python\\python38\\site-packages (from spacy<3.2.0,>=3.1.0->fr-core-news-sm==3.1.0) (3.0.8)\n",
      "Requirement already satisfied: wasabi<1.1.0,>=0.8.1 in c:\\users\\maxim\\appdata\\roaming\\python\\python38\\site-packages (from spacy<3.2.0,>=3.1.0->fr-core-news-sm==3.1.0) (0.8.2)\n",
      "Requirement already satisfied: murmurhash<1.1.0,>=0.28.0 in c:\\users\\maxim\\appdata\\roaming\\python\\python38\\site-packages (from spacy<3.2.0,>=3.1.0->fr-core-news-sm==3.1.0) (1.0.5)\n",
      "Requirement already satisfied: setuptools in c:\\users\\maxim\\appdata\\roaming\\python\\python38\\site-packages (from spacy<3.2.0,>=3.1.0->fr-core-news-sm==3.1.0) (50.3.2)\n",
      "Requirement already satisfied: thinc<8.1.0,>=8.0.9 in c:\\users\\maxim\\appdata\\roaming\\python\\python38\\site-packages (from spacy<3.2.0,>=3.1.0->fr-core-news-sm==3.1.0) (8.0.10)\n",
      "Requirement already satisfied: numpy>=1.15.0 in c:\\program files\\python38\\lib\\site-packages (from spacy<3.2.0,>=3.1.0->fr-core-news-sm==3.1.0) (1.18.1)\n",
      "Requirement already satisfied: preshed<3.1.0,>=3.0.2 in c:\\users\\maxim\\appdata\\roaming\\python\\python38\\site-packages (from spacy<3.2.0,>=3.1.0->fr-core-news-sm==3.1.0) (3.0.5)\n",
      "Requirement already satisfied: tqdm<5.0.0,>=4.38.0 in c:\\users\\maxim\\appdata\\roaming\\python\\python38\\site-packages (from spacy<3.2.0,>=3.1.0->fr-core-news-sm==3.1.0) (4.62.3)\n",
      "Requirement already satisfied: pyparsing>=2.0.2 in c:\\program files\\python38\\lib\\site-packages (from packaging>=20.0->spacy<3.2.0,>=3.1.0->fr-core-news-sm==3.1.0) (2.4.6)\n",
      "Requirement already satisfied: smart-open<6.0.0,>=5.0.0 in c:\\users\\maxim\\appdata\\roaming\\python\\python38\\site-packages (from pathy>=0.3.5->spacy<3.2.0,>=3.1.0->fr-core-news-sm==3.1.0) (5.2.1)\n",
      "Requirement already satisfied: typing-extensions>=3.7.4.3 in c:\\users\\maxim\\appdata\\roaming\\python\\python38\\site-packages (from pydantic!=1.8,!=1.8.1,<1.9.0,>=1.7.4->spacy<3.2.0,>=3.1.0->fr-core-news-sm==3.1.0) (3.7.4.3)\n",
      "Requirement already satisfied: urllib3!=1.25.0,!=1.25.1,<1.26,>=1.21.1 in c:\\program files\\python38\\lib\\site-packages (from requests<3.0.0,>=2.13.0->spacy<3.2.0,>=3.1.0->fr-core-news-sm==3.1.0) (1.25.7)\n",
      "Requirement already satisfied: chardet<3.1.0,>=3.0.2 in c:\\program files\\python38\\lib\\site-packages (from requests<3.0.0,>=2.13.0->spacy<3.2.0,>=3.1.0->fr-core-news-sm==3.1.0) (3.0.4)\n",
      "Requirement already satisfied: idna<2.9,>=2.5 in c:\\program files\\python38\\lib\\site-packages (from requests<3.0.0,>=2.13.0->spacy<3.2.0,>=3.1.0->fr-core-news-sm==3.1.0) (2.8)\n",
      "Requirement already satisfied: certifi>=2017.4.17 in c:\\users\\maxim\\appdata\\roaming\\python\\python38\\site-packages (from requests<3.0.0,>=2.13.0->spacy<3.2.0,>=3.1.0->fr-core-news-sm==3.1.0) (2017.11.5)\n",
      "Requirement already satisfied: colorama in c:\\program files\\python38\\lib\\site-packages (from tqdm<5.0.0,>=4.38.0->spacy<3.2.0,>=3.1.0->fr-core-news-sm==3.1.0) (0.4.4)\n",
      "Requirement already satisfied: click<9.0.0,>=7.1.1 in c:\\users\\maxim\\appdata\\roaming\\python\\python38\\site-packages (from typer<0.5.0,>=0.3.0->spacy<3.2.0,>=3.1.0->fr-core-news-sm==3.1.0) (8.0.1)\n",
      "Requirement already satisfied: MarkupSafe>=2.0 in c:\\program files\\python38\\lib\\site-packages (from jinja2->spacy<3.2.0,>=3.1.0->fr-core-news-sm==3.1.0) (2.0.1)\n",
      "[+] Download and installation successful\n",
      "You can now load the package via spacy.load('fr_core_news_sm')\n",
      "^C\n"
     ]
    }
   ],
   "source": [
    "!python -m pip install -r requirements.txt\n",
    "!python -m spacy download fr_core_news_sm\n",
    "# Note: You'll have to restart the kernel/runtime after running this cell"
   ]
  },
  {
   "cell_type": "markdown",
   "id": "fb6422ab",
   "metadata": {},
   "source": [
    "## Imports (only run once)"
   ]
  },
  {
   "cell_type": "code",
   "execution_count": 1,
   "id": "6f9c5abd",
   "metadata": {},
   "outputs": [
    {
     "name": "stderr",
     "output_type": "stream",
     "text": [
      "Reusing dataset mlsum (C:\\Users\\maxim\\.cache\\huggingface\\datasets\\mlsum\\fr\\1.0.0\\77f23eb185781f439927ac2569ab1da1083195d8b2dab2b2f6bbe52feb600688)\n"
     ]
    },
    {
     "data": {
      "application/vnd.jupyter.widget-view+json": {
       "model_id": "8e9b669a619c4c649e3751870667e35d",
       "version_major": 2,
       "version_minor": 0
      },
      "text/plain": [
       "  0%|          | 0/3 [00:00<?, ?it/s]"
      ]
     },
     "metadata": {},
     "output_type": "display_data"
    },
    {
     "name": "stderr",
     "output_type": "stream",
     "text": [
      "Some weights of the model checkpoint at flaubert/flaubert_large_cased were not used when initializing FlaubertModel: ['pred_layer.proj.bias', 'pred_layer.proj.weight']\n",
      "- This IS expected if you are initializing FlaubertModel from the checkpoint of a model trained on another task or with another architecture (e.g. initializing a BertForSequenceClassification model from a BertForPreTraining model).\n",
      "- This IS NOT expected if you are initializing FlaubertModel from the checkpoint of a model that you expect to be exactly identical (initializing a BertForSequenceClassification model from a BertForSequenceClassification model).\n",
      "Some weights of the model checkpoint at camembert/camembert-large were not used when initializing CamembertModel: ['lm_head.layer_norm.bias', 'lm_head.layer_norm.weight', 'lm_head.dense.weight', 'lm_head.dense.bias', 'lm_head.decoder.weight', 'lm_head.bias']\n",
      "- This IS expected if you are initializing CamembertModel from the checkpoint of a model trained on another task or with another architecture (e.g. initializing a BertForSequenceClassification model from a BertForPreTraining model).\n",
      "- This IS NOT expected if you are initializing CamembertModel from the checkpoint of a model that you expect to be exactly identical (initializing a BertForSequenceClassification model from a BertForSequenceClassification model).\n"
     ]
    }
   ],
   "source": [
    "# MLSUM Corpus\n",
    "from datasets import load_dataset\n",
    "\n",
    "# Loading article data\n",
    "import json\n",
    "\n",
    "# Our packages\n",
    "from eval.rouge_l import RougeLEval\n",
    "from eval.bert_eval import BERT_Eval\n",
    "from summ.lsa import LSASummarizer\n",
    "from summ.bert_embed import BertEmbeddingsSummarizer\n",
    "\n",
    "from tqdm import tqdm\n",
    "\n",
    "dataset = load_dataset('mlsum', 'fr')\n",
    "\n",
    "rouge_l = RougeLEval()\n",
    "bert = BERT_Eval()\n",
    "lsa_summ = LSASummarizer()\n",
    "flaubert_summ = BertEmbeddingsSummarizer('flaubert/flaubert_large_cased')\n",
    "camembert_summ = BertEmbeddingsSummarizer('camembert/camembert-large')"
   ]
  },
  {
   "cell_type": "markdown",
   "id": "0e57dfaa",
   "metadata": {},
   "source": [
    "## Summarize a single article"
   ]
  },
  {
   "cell_type": "code",
   "execution_count": null,
   "id": "e3bdf0df",
   "metadata": {
    "scrolled": true
   },
   "outputs": [],
   "source": [
    "# Pick an article and its reference summary\n",
    "article = dataset['test']['text'][54]\n",
    "ref_summ = dataset['test']['summary'][54]\n",
    "\n",
    "# Computes the summary and evaluation\n",
    "gen_summ = flaubert_summ.get_summary(article)\n",
    "scores1, scores2 = rouge_l.evaluate_one(ref_summ, gen_summ)\n",
    "print(gen_summ[0])\n",
    "print()\n",
    "print(gen_summ[1])\n",
    "print()\n",
    "print(ref_summ)\n",
    "print()\n",
    "print(scores1)\n",
    "print(scores2)"
   ]
  },
  {
   "cell_type": "markdown",
   "id": "0b30944c",
   "metadata": {},
   "source": [
    "## Summarize a series of articles"
   ]
  },
  {
   "cell_type": "code",
   "execution_count": 19,
   "id": "b9cf57c6",
   "metadata": {},
   "outputs": [
    {
     "name": "stderr",
     "output_type": "stream",
     "text": [
      "100%|████████████████████████████████████████████████████████████████████████████████████| 5/5 [06:12<00:00, 74.59s/it]\n",
      "100%|████████████████████████████████████████████████████████████████████████████████████| 5/5 [00:00<00:00, 10.02it/s]"
     ]
    },
    {
     "name": "stdout",
     "output_type": "stream",
     "text": [
      "Long precision avg        10.401 %\n",
      "Long recall avg           9.753 %\n",
      "Long F1-score avg         10.041 %\n",
      "Keyword precision avg     5.288 %\n",
      "Keyword recall avg        4.038 %\n",
      "Keyword F1-score avg      4.538 %\n"
     ]
    },
    {
     "name": "stderr",
     "output_type": "stream",
     "text": [
      "\n"
     ]
    }
   ],
   "source": [
    "texts = dataset['test']['text']\n",
    "ref_summs = dataset['test']['summary']\n",
    "\n",
    "# Here we pick 5 articles\n",
    "gen_summs = []\n",
    "for text in tqdm(texts[:5]):\n",
    "    gen_summs.append(flaubert_summ.get_summary(text))\n",
    "\n",
    "scores1, scores2 = rouge_l.evaluate_many(ref_summs, gen_summs, 5)\n",
    "results = rouge_l.get_results(scores1, scores2)\n",
    "\n",
    "for k, v in results.items():\n",
    "    print(k.ljust(25), round(v*100, 3), '%')"
   ]
  },
  {
   "cell_type": "markdown",
   "id": "29bb0d4b",
   "metadata": {},
   "source": [
    "#### Optional: Save generated summaries to file"
   ]
  },
  {
   "cell_type": "code",
   "execution_count": null,
   "id": "8b8fa0bc",
   "metadata": {},
   "outputs": [],
   "source": [
    "with open('generated.txt', 'w') as f:\n",
    "    for summ1, summ2 in tqdm(gen_summs):\n",
    "        f.write(summ1)\n",
    "        f.write('\\n\\n')\n",
    "        f.write(summ2)\n",
    "        f.write('\\n\\n')"
   ]
  },
  {
   "cell_type": "markdown",
   "id": "368b970a",
   "metadata": {},
   "source": [
    "## Summarize a series of scraped articles"
   ]
  },
  {
   "cell_type": "code",
   "execution_count": 14,
   "id": "55e78b51",
   "metadata": {
    "scrolled": false
   },
   "outputs": [
    {
     "name": "stderr",
     "output_type": "stream",
     "text": [
      "100%|██████████████████████████████████████████████████████████████████████████████████| 47/47 [28:02<00:00, 35.80s/it]\n",
      "100%|██████████████████████████████████████████████████████████████████████████████████| 47/47 [00:00<00:00, 74.57it/s]"
     ]
    },
    {
     "name": "stdout",
     "output_type": "stream",
     "text": [
      "Long precision avg        23.711 %\n",
      "Long recall avg           24.248 %\n",
      "Long F1-score avg         23.631 %\n",
      "Keyword precision avg     21.481 %\n",
      "Keyword recall avg        23.798 %\n",
      "Keyword F1-score avg      22.118 %\n"
     ]
    },
    {
     "name": "stderr",
     "output_type": "stream",
     "text": [
      "\n"
     ]
    }
   ],
   "source": [
    "with open('data/actu_preliminary.json', 'r', encoding='utf-8') as jsonfile:\n",
    "    data = json.load(jsonfile)\n",
    "\n",
    "texts = [article['text'] for article in data]\n",
    "ref_summs = [article['summary'] for article in data]\n",
    "\n",
    "gen_summs = []\n",
    "for text in tqdm(texts):\n",
    "    gen_summs.append(flaubert_summ.get_summary(text))\n",
    "\n",
    "scores1, scores2 = rouge_l.evaluate_many(ref_summs, gen_summs)\n",
    "results = rouge_l.get_results(scores1, scores2)\n",
    "\n",
    "for k, v in results.items():\n",
    "    print(k.ljust(25), round(v*100, 3), '%')"
   ]
  },
  {
   "cell_type": "markdown",
   "id": "b002dada",
   "metadata": {},
   "source": [
    "Implementation of BERTScore"
   ]
  },
  {
   "cell_type": "code",
   "execution_count": 15,
   "id": "643d3342",
   "metadata": {},
   "outputs": [],
   "source": [
    "long_summs, short_summs, ref_summs, key_ref_sums =  bert.split_summs(gen_summs, ref_summs)"
   ]
  },
  {
   "cell_type": "code",
   "execution_count": 16,
   "id": "fb0d9ac9",
   "metadata": {},
   "outputs": [
    {
     "name": "stderr",
     "output_type": "stream",
     "text": [
      "Some weights of the model checkpoint at bert-base-multilingual-cased were not used when initializing BertModel: ['cls.predictions.bias', 'cls.predictions.transform.dense.bias', 'cls.seq_relationship.bias', 'cls.predictions.transform.LayerNorm.weight', 'cls.seq_relationship.weight', 'cls.predictions.transform.dense.weight', 'cls.predictions.transform.LayerNorm.bias', 'cls.predictions.decoder.weight']\n",
      "- This IS expected if you are initializing BertModel from the checkpoint of a model trained on another task or with another architecture (e.g. initializing a BertForSequenceClassification model from a BertForPreTraining model).\n",
      "- This IS NOT expected if you are initializing BertModel from the checkpoint of a model that you expect to be exactly identical (initializing a BertForSequenceClassification model from a BertForSequenceClassification model).\n"
     ]
    },
    {
     "name": "stdout",
     "output_type": "stream",
     "text": [
      "calculating scores...\n",
      "computing bert embedding.\n"
     ]
    },
    {
     "data": {
      "application/vnd.jupyter.widget-view+json": {
       "model_id": "3f77ff593f7e4e168681b7d1bf109f7d",
       "version_major": 2,
       "version_minor": 0
      },
      "text/plain": [
       "  0%|          | 0/2 [00:00<?, ?it/s]"
      ]
     },
     "metadata": {},
     "output_type": "display_data"
    },
    {
     "name": "stdout",
     "output_type": "stream",
     "text": [
      "computing greedy matching.\n"
     ]
    },
    {
     "data": {
      "application/vnd.jupyter.widget-view+json": {
       "model_id": "21be7e66a8314c199a1122dcb32f93a1",
       "version_major": 2,
       "version_minor": 0
      },
      "text/plain": [
       "  0%|          | 0/1 [00:00<?, ?it/s]"
      ]
     },
     "metadata": {},
     "output_type": "display_data"
    },
    {
     "name": "stdout",
     "output_type": "stream",
     "text": [
      "done in 11.67 seconds, 4.03 sentences/sec\n"
     ]
    },
    {
     "data": {
      "text/plain": [
       "{'Long precision avg': tensor(0.1715),\n",
       " 'Long recall avg': tensor(0.2140),\n",
       " 'Long F1-score avg': tensor(0.1925)}"
      ]
     },
     "execution_count": 16,
     "metadata": {},
     "output_type": "execute_result"
    }
   ],
   "source": [
    "bert.bert_score(long_summs, short_summs, ref_summs, key_ref_sums)"
   ]
  },
  {
   "cell_type": "code",
   "execution_count": null,
   "id": "7715e238",
   "metadata": {},
   "outputs": [],
   "source": [
    "bert.get_matrix(long_summs, ref_summs, 4)"
   ]
  }
 ],
 "metadata": {
  "kernelspec": {
   "display_name": "Python 3 (ipykernel)",
   "language": "python",
   "name": "python3"
  },
  "language_info": {
   "codemirror_mode": {
    "name": "ipython",
    "version": 3
   },
   "file_extension": ".py",
   "mimetype": "text/x-python",
   "name": "python",
   "nbconvert_exporter": "python",
   "pygments_lexer": "ipython3",
   "version": "3.8.1"
  }
 },
 "nbformat": 4,
 "nbformat_minor": 5
}
