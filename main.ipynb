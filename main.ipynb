{
 "cells": [
  {
   "cell_type": "markdown",
   "id": "feaed337",
   "metadata": {},
   "source": [
    "## ONLY if running on Colaboratory, run this cell first (once)"
   ]
  },
  {
   "cell_type": "code",
   "execution_count": null,
   "id": "f75f9491",
   "metadata": {},
   "outputs": [],
   "source": [
    "!git clone https://github.com/pie3636/newsjam.git\n",
    "!mv newsjam/* ."
   ]
  },
  {
   "cell_type": "markdown",
   "id": "ad23b536",
   "metadata": {},
   "source": [
    "## Install missing modules if needed (only run once)"
   ]
  },
  {
   "cell_type": "code",
   "execution_count": null,
   "id": "0ceafccf",
   "metadata": {},
   "outputs": [],
   "source": [
    "!python -m pip install -r requirements.txt\n",
    "!python -m spacy download fr_core_news_sm\n",
    "# Note: You'll have to restart the kernel/runtime after running this cell"
   ]
  },
  {
   "cell_type": "markdown",
   "id": "fb6422ab",
   "metadata": {},
   "source": [
    "## Imports (only run once)"
   ]
  },
  {
   "cell_type": "code",
   "execution_count": 1,
   "id": "6f9c5abd",
   "metadata": {},
   "outputs": [
    {
     "name": "stderr",
     "output_type": "stream",
     "text": [
      "Reusing dataset mlsum (/Users/josephkeenan/.cache/huggingface/datasets/mlsum/fr/1.0.0/77f23eb185781f439927ac2569ab1da1083195d8b2dab2b2f6bbe52feb600688)\n"
     ]
    },
    {
     "data": {
      "application/vnd.jupyter.widget-view+json": {
       "model_id": "8d951bc1421d42a0bc2946da91dce6ab",
       "version_major": 2,
       "version_minor": 0
      },
      "text/plain": [
       "HBox(children=(FloatProgress(value=0.0, max=3.0), HTML(value='')))"
      ]
     },
     "metadata": {},
     "output_type": "display_data"
    },
    {
     "name": "stdout",
     "output_type": "stream",
     "text": [
      "\n"
     ]
    },
    {
     "name": "stderr",
     "output_type": "stream",
     "text": [
      "Reusing dataset cnn_dailymail (/Users/josephkeenan/.cache/huggingface/datasets/cnn_dailymail/3.0.0/3.0.0/3cb851bf7cf5826e45d49db2863f627cba583cbc32342df7349dfe6c38060234)\n"
     ]
    },
    {
     "data": {
      "application/vnd.jupyter.widget-view+json": {
       "model_id": "0588eb0c18a247a8bf28a5f99482c43d",
       "version_major": 2,
       "version_minor": 0
      },
      "text/plain": [
       "HBox(children=(FloatProgress(value=0.0, max=3.0), HTML(value='')))"
      ]
     },
     "metadata": {},
     "output_type": "display_data"
    },
    {
     "name": "stdout",
     "output_type": "stream",
     "text": [
      "\n"
     ]
    },
    {
     "name": "stderr",
     "output_type": "stream",
     "text": [
      "Some weights of the model checkpoint at bert-base-multilingual-cased were not used when initializing BertModel: ['cls.predictions.transform.LayerNorm.weight', 'cls.predictions.transform.dense.weight', 'cls.seq_relationship.weight', 'cls.predictions.transform.LayerNorm.bias', 'cls.predictions.bias', 'cls.seq_relationship.bias', 'cls.predictions.decoder.weight', 'cls.predictions.transform.dense.bias']\n",
      "- This IS expected if you are initializing BertModel from the checkpoint of a model trained on another task or with another architecture (e.g. initializing a BertForSequenceClassification model from a BertForPreTraining model).\n",
      "- This IS NOT expected if you are initializing BertModel from the checkpoint of a model that you expect to be exactly identical (initializing a BertForSequenceClassification model from a BertForSequenceClassification model).\n",
      "Some weights of the model checkpoint at flaubert/flaubert_large_cased were not used when initializing FlaubertModel: ['pred_layer.proj.weight', 'pred_layer.proj.bias']\n",
      "- This IS expected if you are initializing FlaubertModel from the checkpoint of a model trained on another task or with another architecture (e.g. initializing a BertForSequenceClassification model from a BertForPreTraining model).\n",
      "- This IS NOT expected if you are initializing FlaubertModel from the checkpoint of a model that you expect to be exactly identical (initializing a BertForSequenceClassification model from a BertForSequenceClassification model).\n",
      "Some weights of the model checkpoint at camembert/camembert-large were not used when initializing CamembertModel: ['lm_head.layer_norm.bias', 'lm_head.decoder.weight', 'lm_head.dense.weight', 'lm_head.layer_norm.weight', 'lm_head.dense.bias', 'lm_head.bias']\n",
      "- This IS expected if you are initializing CamembertModel from the checkpoint of a model trained on another task or with another architecture (e.g. initializing a BertForSequenceClassification model from a BertForPreTraining model).\n",
      "- This IS NOT expected if you are initializing CamembertModel from the checkpoint of a model that you expect to be exactly identical (initializing a BertForSequenceClassification model from a BertForSequenceClassification model).\n"
     ]
    }
   ],
   "source": [
    "# MLSUM Corpus & CNN/Daily Mail Corpus\n",
    "from datasets import load_dataset\n",
    "\n",
    "# Loading article data\n",
    "import json\n",
    "\n",
    "# Our packages\n",
    "from eval.rouge_l import RougeLEval\n",
    "from eval.bert_eval import BERT_Eval\n",
    "from eval.time import TimeEval\n",
    "\n",
    "from summ.lsa import LSASummarizer\n",
    "from summ.bert_embed import BertEmbeddingsSummarizer\n",
    "\n",
    "from tqdm import tqdm\n",
    "\n",
    "dataset_fr = load_dataset('mlsum', 'fr')\n",
    "dataset_en = load_dataset('cnn_dailymail', '3.0.0')\n",
    "\n",
    "rouge_l = RougeLEval()\n",
    "bert = BERT_Eval()\n",
    "timer = TimeEval()\n",
    "lsa_summ = LSASummarizer()\n",
    "flaubert_summ = BertEmbeddingsSummarizer('flaubert/flaubert_large_cased')\n",
    "camembert_summ = BertEmbeddingsSummarizer('camembert/camembert-large')"
   ]
  },
  {
   "cell_type": "markdown",
   "id": "0e57dfaa",
   "metadata": {},
   "source": [
    "## Summarize a single article"
   ]
  },
  {
   "cell_type": "code",
   "execution_count": 3,
   "id": "e3bdf0df",
   "metadata": {
    "scrolled": true
   },
   "outputs": [],
   "source": [
    "# Pick an article and its reference summary\n",
    "article_fr = dataset_fr['test']['text'][54]\n",
    "ref_summ_fr = dataset_fr['test']['summary'][54]\n",
    "\n",
    "article_en = dataset_en['test']['article'][43]\n",
    "ref_summ_en = dataset_en['test']['highlights'][43]\n",
    "\n",
    "# Computes the summary and evaluation\n",
    "# timer.evaluate_one(article, BertEmbeddingsSummarizer, 'camembert/camembert-large')"
   ]
  },
  {
   "cell_type": "markdown",
   "id": "0b30944c",
   "metadata": {},
   "source": [
    "## Summarize a series of articles"
   ]
  },
  {
   "cell_type": "code",
   "execution_count": 4,
   "id": "b9cf57c6",
   "metadata": {},
   "outputs": [
    {
     "name": "stderr",
     "output_type": "stream",
     "text": [
      "100%|███████████████████████████████████████████| 50/50 [01:28<00:00,  1.76s/it]\n"
     ]
    },
    {
     "data": {
      "text/plain": [
       "1.7803929775000007"
      ]
     },
     "execution_count": 4,
     "metadata": {},
     "output_type": "execute_result"
    }
   ],
   "source": [
    "texts = dataset_fr['test']['text'][:50]\n",
    "ref_summs = dataset_fr['test']['summary'][:50]\n",
    "\n",
    "# Here we pick 5 articles\n",
    "# gen_summs = []\n",
    "# for text in tqdm(texts[:5]):\n",
    "#     gen_summs.append(flaubert_summ.get_summary(text))\n",
    "\n",
    "# scores1, scores2 = rouge_l.evaluate_many(ref_summs, gen_summs, 5)\n",
    "# results = rouge_l.get_results(scores1, scores2)\n",
    "\n",
    "# for k, v in results.items():\n",
    "#     print(k.ljust(25), round(v*100, 3), '%')\n",
    "\n",
    "timer.evaluate_many(texts, LSASummarizer)"
   ]
  },
  {
   "cell_type": "markdown",
   "id": "29bb0d4b",
   "metadata": {},
   "source": [
    "#### Optional: Save generated summaries to file"
   ]
  },
  {
   "cell_type": "code",
   "execution_count": null,
   "id": "8b8fa0bc",
   "metadata": {},
   "outputs": [],
   "source": [
    "with open('generated.txt', 'w') as f:\n",
    "    for summ1, summ2 in tqdm(gen_summs):\n",
    "        f.write(summ1)\n",
    "        f.write('\\n\\n')\n",
    "        f.write(summ2)\n",
    "        f.write('\\n\\n')"
   ]
  },
  {
   "cell_type": "markdown",
   "id": "368b970a",
   "metadata": {},
   "source": [
    "## Summarize a series of scraped articles"
   ]
  },
  {
   "cell_type": "code",
   "execution_count": 5,
   "id": "55e78b51",
   "metadata": {
    "scrolled": true
   },
   "outputs": [
    {
     "name": "stderr",
     "output_type": "stream",
     "text": [
      "100%|███████████████████████████████████████████| 47/47 [01:21<00:00,  1.73s/it]\n",
      "100%|███████████████████████████████████████████| 47/47 [00:00<00:00, 95.80it/s]"
     ]
    },
    {
     "name": "stdout",
     "output_type": "stream",
     "text": [
      "Long precision avg        49.358 %\n",
      "Long recall avg           61.974 %\n",
      "Long F1-score avg         54.291 %\n",
      "Keyword precision avg     48.302 %\n",
      "Keyword recall avg        61.659 %\n",
      "Keyword F1-score avg      53.503 %\n"
     ]
    },
    {
     "name": "stderr",
     "output_type": "stream",
     "text": [
      "\n"
     ]
    }
   ],
   "source": [
    "with open('data/actu_preliminary.json', 'r', encoding='utf-8') as jsonfile:\n",
    "    data = json.load(jsonfile)\n",
    "\n",
    "texts = [article['text'] for article in data]\n",
    "ref_summs = [article['summary'] for article in data]\n",
    "\n",
    "gen_summs = []\n",
    "for text in tqdm(texts):\n",
    "    gen_summs.append(lsa_summ.get_summary(text))\n",
    "\n",
    "scores1, scores2 = rouge_l.evaluate_many(ref_summs, gen_summs)\n",
    "results = rouge_l.get_results(scores1, scores2)\n",
    "\n",
    "for k, v in results.items():\n",
    "    print(k.ljust(25), round(v*100, 3), '%')"
   ]
  },
  {
   "cell_type": "code",
   "execution_count": 6,
   "id": "8452ef38",
   "metadata": {},
   "outputs": [
    {
     "name": "stdout",
     "output_type": "stream",
     "text": [
      "(' 50 classes fermées dans toute l’académie Selon les données arrêtées au jeudi 14 octobre à 13 heures, deux établissements scolaires ont été fermés en Occitanie cette semaine et 50 classes fermées, soit 0,15% des classes de l’académie.', '  50 classe fermer académie donnée arrêter jeudi 14 octobre 13 heure établissement scolaire être fermer Occitanie semaine 50 classe fermer 0,15 classe académie')\n",
      "(\"Le masque ne sera plus obligatoire à compter du 18 octobre 2021 dans les stades, les marchés et brocantes de la Loire du moment qu'ils sont en extérieur dans la Loire.\", 'masque obligatoire compter 18 octobre 2021 stade marché brocante Loire moment extérieur Loire')\n",
      "('de la Loire Covid-19 : 14 clusters actifs en Pays de la Loire\\n Fin de la gratuité systématique des tests\\n 14 clusters en Pays de la Loire\\n L’', 'Loire covid-19 14 cluster actif Pays Loire\\n  fin gratuité systématique test\\n  14 cluster pays Loire\\n ')\n",
      "('\"Injustifié\", \"clivage irréparable\" : le pass sanitaire étendu ne passe pas L\\'élargissement du pass sanitaire dans tous les sites de loisirs du Luxembourg et de façon facultative en entreprise ne passe pas auprès des syndicats et des Droits de l\\'Homme.', 'injustifier clivage irréparable pass sanitaire étendre passer élargissement pass sanitaire site loisir Luxembourg facultatif entreprise passer auprès syndicat droit homme')\n",
      "('Dès le lundi 18 octobre 2021, les enfants des écoles primaires du Gard vont pouvoir enlever le masque.\\n   Actu Occitanie\\nÀ lire aussi Covid-19.', 'lundi 18 octobre 2021 enfant école primaire Gard pouvoir enlever masque\\n    Actu Occitanie\\nlire covid-19')\n",
      "(\"   Actu Occitanie\\nC'est officiel, les enfants de l'Ariège vont pouvoir enlever le masque à l'école Avec un taux d'incidence en baisse, l'Ariège fait partie des nouveaux départements où le masque ne sera plus obligatoire à partir du lundi 18 octobre 2021.\", '    Actu Occitanie\\nofficiel enfant ariège pouvoir enlever masque école taux incidence baisse ariège partie nouveau département masque obligatoire partir lundi 18 octobre 2021')\n",
      "(' À lire aussi Covid-19 : fin du masque obligatoire à l’école à Strasbourg et dans le Bas-Rhin Un taux d’incidence en baisse Le taux d’incidence était déjà passé sous la barre des 50 cas de Covid-19 pour 100 000 habitants la semaine dernière.', '  lire covid-19 fin masque obligatoire école Strasbourg Bas-Rhin taux incidence baisse taux incidence passer barre 50 cas covid-19 100 000 habitant semaine dernier')\n",
      "('Des résultats sanitaires satisfaisants Un taux d’incidence en dessous du seuil de 50 cas pour 100 000 habitants permet à la Moselle – ainsi qu’à onze autres départements – de lever le port du masque dans les écoles.', 'résultat sanitaire satisfaisant taux incidence seuil 50 cas 100 000 habitant Moselle département lever port masque école')\n",
      "('Voici les mesures en vigueur Voyager sans masque, plus de quarantaine pour les personnes testées… Luxair et l’IATA appellent ainsi à « la réalisation de certaines bonnes pratiques simples ».', 'mesure vigueur voyager masque quarantaine personne tester Luxair iata appeler réalisation bon pratique simple')\n",
      "(\"Port du masque à l'école : c'est fini pour 12 nouveaux départements dès lundi 18 octobre Depuis le 11 octobre, 68 départements avaient autorisé la levée du masque pour les écoliers.\", 'port masque école finir 12 nouveau département lundi 18 octobre 11 octobre 68 département autoriser levée masque écolier')\n",
      "(' Pour alléger le port du masque à l’école, le Gouvernement avait indiqué que le taux d’incidence devait passer sous la barre symbolique des 50 cas, durant au moins 5 jours consécutifs.', '  alléger port masque école gouvernement indiquer taux incidence devoir passer barre symbolique 50 cas 5 jour consécutif')\n",
      "(\"   Actu Occitanie\\n. Cinq élèves positifs à Saint-Rémy dans l'Aveyron, l'école obligée de fermer Cinq élèves ont été testés positifs dans l'école primaire publique de Saint-Rémy (Aveyron).\", '    Actu Occitanie\\nélève positif saint-rémy Aveyron école obliger fermer élève être tester positif école primaire public Saint-Rémy Aveyron')\n",
      "('»  À titre d’exemple, selon le ministre, à l’AP-HP (Assistance publique – hôpitaux de Paris), 16 médecins sur 12 500 et 100 infirmiers sur 18 000 ont décidé de ne pas se faire vacciner.', '  titre exemple ministre AP HP assistance public hôpital Paris 16 médecin 12 500 100 infirmier 18 000 décider faire vacciner')\n",
      "('   76actu Mon actu Suivre La Ville du Havre (Seine-Maritime) a annoncé par voie de communiqué de presse que le centre de vaccination installé au stade Océane allait fermer définitivement ses portes à compter du mercredi 20 octobre 2021, 20 heures.', '    76actu actu ville Havre Seine maritime annoncer voie communiqué presse centre vaccination installer stade océane aller fermer définitivement porte compter mercredi 20 octobre 2021 20 heure')\n",
      "('Pont (Var), le bar Le Nemrod a fait l’objet d’une fermeture administrative mardi 12 octobre, pour une durée de quinze jours.\\n   Actu\\nLe Nemrod', 'Pont var bar Nemrod objet fermeture administratif mardi 12 octobre durée jour\\n    Actu\\nNemrod')\n",
      "(' 30 commerces dans le 13ème arrondissement Pour le moment, ils sont 30 dans le 13ème arrondissement, à proposer de remplir gratuitement les gourdes des passants.', '  30 commerce 13èm arrondissement moment 30 13èm arrondissement proposer remplir gratuitemer gourde passant')\n",
      "('   La Dépêche de Tahiti Mon actu Suivre A 10 jours de la mise en application de la loi sur l’obligation vaccinale, le président Edouard Fritch a souhaité s’adresser à la population depuis la présidence.', '    dépêche Tahiti actu 10 jour mise application loi obligation vaccinal président Edouard Fritch souhaiter adresser population présidence')\n",
      "('Le centre de vaccination de Drancy (Seine-Saint-Denis) fermera ses portes, samedi 30 octobre 2021, après dix mois de vaccination contre le Covid-19.', 'centre vaccination Drancy Seine-Saint-Denis fermer porte samedi 30 octobre 2021 mois vaccination contre covid-19')\n",
      "('Le porte-parole du gouvernement a en effet expliqué que l’exécutif se laissait la possibilité de prolonger le recours du précieux sésame jusqu’au 31 juillet 2021 « si et seulement si » les conditions sanitaires l’imposent.', 'porte-parole gouvernement expliquer exécutif laisser possibilité prolonger recours précieux sésame jusqu’ 31 juillet 2021 condition sanitaire imposent')\n",
      "('Plus de 300 000 injections réalisées au centre de vaccination géant du Mans Piloté par les sapeurs-pompiers de la Sarthe, le centre de vaccination géant de la Rotonde a permis de réaliser 300 000 injections de vaccin contre le Covid-19.', '300 000 injection réaliser centre vaccination géer Mans Piloté sapeur pompier Sarthe centre vaccination géer Rotonde permettre réaliser 300 000 injection vaccin contre covid-19')\n",
      "('Dans l’Hérault, 107 hospitalisations liées au Covid19 sont encore recensées (81 dans le Gard), mais l’épidémie poursuit sa décrue...\\nActu Occitanie', 'Hérault 107 hospitalisation lier covid19 recenser 81 Gard épidémie poursuivre décrue\\nActu Occitanie')\n",
      "('236 décès à l’hôpital (depuis le début de la pandémie, ndlr) Pyrénées-Orientales : 49 hospitalisations en cours, dont 8 en réanimation et soins critiques.', '236 décès hôpital début pandémie ndlr Pyrénées Orientales 49 hospitalisation cours 8 réanimation soin critique')\n",
      "(\"Lutte contre le Covid-19 : deux soignants décorés de la Légion d'honneur Soignants à Chambéry (Savoie), Philippe Dalmon et Monique Poggio ont reçu la Légion d'honneur vendredi 8 octobre 2021, après s'être engagés dans la lutte contre le Covid-19.\", 'lutte contre covid-19 soignant décorer légion honneur soignant Chambéry Savoie Philippe Dalmon Monique Poggio recevoir légion honneur vendredi 8 octobre 2021 engager lutte contre covid-19')\n",
      "('Le taux d’incidence est en-dessous de 50 cas pour 100.000 habitants dans l’Ain, ce qui pourrait entraîner un allègement des mesures sanitaires dans les écoles du département.    Actu', 'taux incidence en-dessous 50 cas 100.000 habitant Ain entraîner allègement mesure sanitaire école département     Actu')\n",
      "('Hormones et Covid, un sujet qui interroge À l\\'occasion d\\'un congrès des endocrinologues, une conférence pour répondre aux interrogations autour des \"Hormones et Covid\" sera ouverte au public.', 'hormone Covid sujet interroger occasion congrès endocrinologue conférence répondre interrogation autour Hormones Covid public')\n",
      "('Pass sanitaire en entreprise : \"aucune sanction pour les salariés\" Le syndicat du Luxembourg, LCGB, a réagi à l\\'annonce du gouvernement concernant le pass sanitaire en entreprise.', 'Pass sanitaire entreprise aucun sanction salarier syndicat Luxembourg LCGB réagir annonce gouvernement pass sanitaire entreprise')\n",
      "('Covid-19 : un vaccibus de passage Vendredi 15 octobre, un vaccibus fera étape dans certaines communes du Trégor pour une vaccination sans rendez-vous.', 'covid-19 vaccibu passage vendredi 15 octobre vaccibu faire étape commune trégor vaccination rendez-vous')\n",
      "(\"Seine-et-Marne : l'obligation du port du masque devant les établissements scolaires est levée La préfecture de Seine-et-Marne abroge l'arrêté instaurant le port du masque devant les établissements scolaires et les lieux de culte, à partir de ce mercredi 13 octobre 2021.\", 'Seine-et-Marne obligation port masque établissement scolaire lever préfecture Seine-et-Marne abroger arrêter instaurer port masque établissement scolaire lieu culte partir mercredi 13 octobre 2021')\n",
      "('Antoine : \"Je représente un collectif de soignants et mon épouse orthophoniste a été suspendue.\\nMorbihan Morbihan : pourquoi ces soignants ont décidé de ne pas se vacciner ?', 'Antoine représente collectif soignant épouse orthophonist être suspendre\\nMorbihan Morbihan soignant décider vacciner')\n",
      "(\"Le Rhône passe sous le seuil d'alerte, qu'est-ce que ça pourrait changer pour vous Ce lundi, le Rhône est passé sous le seuil des 50 cas de Covid pour 100.000 habitants.\", 'Rhône passer seuil alerte -ce changer lundi Rhône passer seuil 50 cas Covid 100.000 habitant')\n",
      "('Pas d’autotests pour le pass sanitaire Parmi ces nouvelles règles, le gouvernement a annoncé que le pass sanitaire du Luxembourg – intitulé CovidCheck – sera étendu dans les sites de loisirs, en particulier les bars et restaurants.', 'autotests pass sanitaire nouveau règle gouvernement annoncer pass sanitaire Luxembourg intituler covidcheck étendre site loisir particulier bar restaurant')\n",
      "('Selon la préfecture du Var, qui l’indique dans un arrêté préfectoral, l’obligation du port du masque dans les établissements recevant du public soumis au passe sanitaire est levée à compter du 12 octobre 2021.', 'préfecture var indique arrêté préfectoral obligation port masque établissement recevoir public soumettre passer sanitaire lever compter 12 octobre 2021')\n",
      "('À lire aussi Nationale 2 : deux voitures flashées à plus de 170km/h Le centre de Meaux sera ouvert trois jours par semaine A partir de lundi 18 octobre 2021, le centre de vaccination de Meaux sera ouvert lundi, vendredi et samedi, de 9 h à 19 h.', 'lire Nationale 2 voiture flasher 170 kilomètre par heure centre Meaux jour semaine partir lundi 18 octobre 2021 centre vaccination Meaux lundi vendredi samedi 9 heure 19 h.')\n",
      "(\"Actu Grand-Est Bas-Rhin Strasbourg Strasbourg : vous n'êtes plus obligé de porter le masque dans les bars et restaurants L'obligation de porter le masque dans les bars et restaurants de Strasbourg et du Bas-Rhin a pris fin récemment, pour le plus grand bonheur de la profession.\", 'Actu Grand-Est Bas-Rhin Strasbourg Strasbourg être obliger porter masque bar restaurant obligation porter masque bar restaurant Strasbourg Bas-Rhin prendre fin récemment grand bonheur profession')\n",
      "(\"Le 20 octobre, le vaccinodrome de Chambéry (Savoie) déménagera donc à Challes-les-eaux, où la capacité d'accueil sera moins importante.\\nSavoie.\", '20 octobre vaccinodrome Chambéry Savoie déménager challes-les-eaux capacité accueil important\\nSavoie')\n",
      "('Mon actu Suivre De nouvelles mesures sanitaires ont été annoncées par le gouvernement du Luxembourg, le vendredi 8 octobre 2021, pour lutter contre l’épidémie de Covid-19.', 'actu nouveau mesure sanitaire être annoncer gouvernement Luxembourg vendredi 8 octobre 2021 lutter contre épidémie covid-19')\n",
      "(\"Le port du masque en extérieur n'est plus obligatoire dans le Pas-de-Calais A partir de ce lundi 11 octobre 2021, le port du masque en extérieur n'est plus obligatoire dans le Pas-de-Calais.\", 'port masque extérieur obligatoire pas-de-calai partir lundi 11 octobre 2021 port masque extérieur obligatoire pas-de-calai')\n",
      "(\"Le taux d'incidence repart à la hausse dans le département Le département du Var va être scruté de très près par les autorités sanitaires, car le taux d'incidence repart à la hausse, bien qu'il soit pour l'instant très faible.\", 'taux incidence repart hausse département département var scruter autorité sanitaire taux incidence repart hausse bien instant faible')\n",
      "('Un nouveau centre de vaccination éphémère ouvre à Viry-Châtillon Après un premier cet été, un nouveau centre de vaccination temporaire va ouvrir à Viry-Châtillon (Essonne) les 16 et 17 octobre, puis les 20 et 21 novembre 2021.', 'centre vaccination éphémère ouvrir Viry Châtillon été centre vaccination temporaire ouvrir Viry Châtillon Essonne 16 17 octobre 20 21 novembre 2021')\n",
      "(' À lire aussi Covid-19 : cette règle très importante ne s’applique plus dans les écoles de Moselle Quelles données en Moselle et dans le Haut-Rhin ?', '  lire covid-19 règle important applique école Moselle donnée Moselle Haut-Rhin')\n",
      "(\"L'heure est toujours à la décrue de l'épidémie de Covid-19 dans le Nord et le Pas-de-Calais.\\nActu Hauts-de-France\\nActu\\n   Lille\\n \\nNord Covid-19.\", 'heure décrue épidémie covid-19 nord Pas-de-Calais\\nActu Hauts-de-France\\nActu\\n    Lille\\n \\nnord covid-19')\n",
      "('Dès lundi 11 octobre 2021, dans le Nord, un assouplissement des mesures sanitaires contre le Covid-19 permet de lever les jauges dans les discothèques et les salles de concert.', 'lundi 11 octobre 2021 nord assouplissement mesure sanitaire contre covid-19 lever jauge discothèque salle concert')\n",
      "(\"Du mieux dans la situation sanitaire des écoles de l'académie de Créteil Le nombre de cas Covid-19 dans les écoles de l'académie de Créteil continue son déclin.\", 'mieux situation sanitaire école académie Créteil nombre cas covid-19 école académie Créteil continue déclin')\n",
      "(\". 36 classes fermées cette semaine en Essonne, chiffre le plus bas depuis la rentrée Alors que la situation sanitaire continue de s'améliorer en Essonne, 36 classes ont été temporairement fermées cette semaine en raison de cas positifs de Covid-19.\", '36 classe fermer semaine Essonne chiffre rentrée situation sanitaire continue améliorer Essonne 36 classe être temporairement fermer semaine raison cas positif covid-19')\n",
      "(\"Le groupe IAM va payer les tests PCR de ses fans lors de son concert de Nancy Le groupe d'Akhenaton va prendre en charge les tests PCR des spectateurs de ses concerts qui n'ont pas le pass sanitaire.\", 'groupe IAM payer test pcr fan concert Nancy groupe Akhenaton prendre charge test pcr spectateur concert pass sanitaire')\n",
      "('Un collectif anti-pass sanitaire organise une opération escargot dans le Bas-Rhin samedi 9 octobre 2021 pour dénoncer le pass sanitaire toujours en vigueur.', 'collectif anti-pas sanitaire organise opération escargot bas-rhin samedi 9 octobre 2021 dénoncer pass sanitaire vigueur')\n",
      "(\"Ça y est, l'Ariège est passée dans le vert et peut espérer des allégements Le taux d'incidence au Covid-19 est passé sous le seuil d'alerte en Ariège, laissant espérer au département des assouplissements, notamment la fin du masque à l'école.\", 'ariège passer vert espérer allégement taux incidence covid-19 passer seuil alerte Ariège laisser espérer département assouplissement fin masque école')\n"
     ]
    }
   ],
   "source": [
    "for x in gen_summs:\n",
    "    print(x)"
   ]
  },
  {
   "cell_type": "markdown",
   "id": "b002dada",
   "metadata": {},
   "source": [
    "## Implementation of BERTScore"
   ]
  },
  {
   "cell_type": "markdown",
   "id": "6113bdc3",
   "metadata": {},
   "source": [
    "Splitting summaries"
   ]
  },
  {
   "cell_type": "code",
   "execution_count": 11,
   "id": "643d3342",
   "metadata": {},
   "outputs": [],
   "source": [
    "long_summs, short_summs, ref_summs, key_ref_summs =  bert.split_summs(gen_summs, ref_summs, gen_keys=True)"
   ]
  },
  {
   "cell_type": "markdown",
   "id": "c0d3c58d",
   "metadata": {},
   "source": [
    "Computation of BERTScore"
   ]
  },
  {
   "cell_type": "code",
   "execution_count": 12,
   "id": "fb0d9ac9",
   "metadata": {},
   "outputs": [
    {
     "name": "stdout",
     "output_type": "stream",
     "text": [
      "calculating scores...\n",
      "computing bert embedding.\n"
     ]
    },
    {
     "data": {
      "application/vnd.jupyter.widget-view+json": {
       "model_id": "ccc0e25e3f58404da0594a8add9e3fca",
       "version_major": 2,
       "version_minor": 0
      },
      "text/plain": [
       "HBox(children=(FloatProgress(value=0.0, max=2.0), HTML(value='')))"
      ]
     },
     "metadata": {},
     "output_type": "display_data"
    },
    {
     "name": "stdout",
     "output_type": "stream",
     "text": [
      "\n",
      "computing greedy matching.\n"
     ]
    },
    {
     "data": {
      "application/vnd.jupyter.widget-view+json": {
       "model_id": "d61c9656df3049f3ab326a4a2d58b0b1",
       "version_major": 2,
       "version_minor": 0
      },
      "text/plain": [
       "HBox(children=(FloatProgress(value=0.0, max=1.0), HTML(value='')))"
      ]
     },
     "metadata": {},
     "output_type": "display_data"
    },
    {
     "name": "stdout",
     "output_type": "stream",
     "text": [
      "\n",
      "done in 18.72 seconds, 2.51 sentences/sec\n",
      "calculating scores...\n",
      "computing bert embedding.\n"
     ]
    },
    {
     "data": {
      "application/vnd.jupyter.widget-view+json": {
       "model_id": "75e2c1faaefa4c5ea8b0eecbc5b9ea36",
       "version_major": 2,
       "version_minor": 0
      },
      "text/plain": [
       "HBox(children=(FloatProgress(value=0.0, max=2.0), HTML(value='')))"
      ]
     },
     "metadata": {},
     "output_type": "display_data"
    },
    {
     "name": "stdout",
     "output_type": "stream",
     "text": [
      "\n",
      "computing greedy matching.\n"
     ]
    },
    {
     "data": {
      "application/vnd.jupyter.widget-view+json": {
       "model_id": "26bcd77e066447399908fc147ac6b1ed",
       "version_major": 2,
       "version_minor": 0
      },
      "text/plain": [
       "HBox(children=(FloatProgress(value=0.0, max=1.0), HTML(value='')))"
      ]
     },
     "metadata": {},
     "output_type": "display_data"
    },
    {
     "name": "stdout",
     "output_type": "stream",
     "text": [
      "\n",
      "done in 12.90 seconds, 3.64 sentences/sec\n"
     ]
    },
    {
     "data": {
      "text/plain": [
       "{'Long precision avg': '0.2326',\n",
       " 'Long recall avg': '0.3982',\n",
       " 'Long F1-score avg': '0.3125',\n",
       " 'Keyword precision avg': '0.2440',\n",
       " 'Keyword recall avg': '0.3905',\n",
       " 'Keyword F1-score avg': '0.3151'}"
      ]
     },
     "execution_count": 12,
     "metadata": {},
     "output_type": "execute_result"
    }
   ],
   "source": [
    "bert.bert_score(long_summs, short_summs, ref_summs, key_ref_summs)"
   ]
  },
  {
   "cell_type": "markdown",
   "id": "07705484",
   "metadata": {},
   "source": [
    "Optional matrix of a score"
   ]
  },
  {
   "cell_type": "code",
   "execution_count": null,
   "id": "7715e238",
   "metadata": {},
   "outputs": [],
   "source": [
    "bert.get_matrix(long_summs, ref_summs, 4)"
   ]
  },
  {
   "cell_type": "markdown",
   "id": "475cc9fb",
   "metadata": {},
   "source": [
    "Experimentation w/ BERTScore"
   ]
  },
  {
   "cell_type": "code",
   "execution_count": 31,
   "id": "3d3459f7",
   "metadata": {},
   "outputs": [
    {
     "name": "stdout",
     "output_type": "stream",
     "text": [
      "0  50 classes fermées dans toute l’académie Selon les données arrêtées au jeudi 14 octobre à 13 heures, deux établissements scolaires ont été fermés en Occitanie cette semaine et 50 classes fermées, soit 0,15% des classes de l’académie.\n",
      "\n",
      "\n",
      "1 Le masque ne sera plus obligatoire à compter du 18 octobre 2021 dans les stades, les marchés et brocantes de la Loire du moment qu'ils sont en extérieur dans la Loire.\n",
      "\n",
      "\n",
      "2 de la Loire Covid-19 : 14 clusters actifs en Pays de la Loire\n",
      " Fin de la gratuité systématique des tests\n",
      " 14 clusters en Pays de la Loire\n",
      " L’\n",
      "\n",
      "\n",
      "3 \"Injustifié\", \"clivage irréparable\" : le pass sanitaire étendu ne passe pas L'élargissement du pass sanitaire dans tous les sites de loisirs du Luxembourg et de façon facultative en entreprise ne passe pas auprès des syndicats et des Droits de l'Homme.\n",
      "\n",
      "\n",
      "4 Dès le lundi 18 octobre 2021, les enfants des écoles primaires du Gard vont pouvoir enlever le masque.\n",
      "   Actu Occitanie\n",
      "À lire aussi Covid-19.\n",
      "\n",
      "\n",
      "5    Actu Occitanie\n",
      "C'est officiel, les enfants de l'Ariège vont pouvoir enlever le masque à l'école Avec un taux d'incidence en baisse, l'Ariège fait partie des nouveaux départements où le masque ne sera plus obligatoire à partir du lundi 18 octobre 2021.\n",
      "\n",
      "\n",
      "6  À lire aussi Covid-19 : fin du masque obligatoire à l’école à Strasbourg et dans le Bas-Rhin Un taux d’incidence en baisse Le taux d’incidence était déjà passé sous la barre des 50 cas de Covid-19 pour 100 000 habitants la semaine dernière.\n",
      "\n",
      "\n",
      "7 Des résultats sanitaires satisfaisants Un taux d’incidence en dessous du seuil de 50 cas pour 100 000 habitants permet à la Moselle – ainsi qu’à onze autres départements – de lever le port du masque dans les écoles.\n",
      "\n",
      "\n",
      "8 Voici les mesures en vigueur Voyager sans masque, plus de quarantaine pour les personnes testées… Luxair et l’IATA appellent ainsi à « la réalisation de certaines bonnes pratiques simples ».\n",
      "\n",
      "\n",
      "9 Port du masque à l'école : c'est fini pour 12 nouveaux départements dès lundi 18 octobre Depuis le 11 octobre, 68 départements avaient autorisé la levée du masque pour les écoliers.\n",
      "\n",
      "\n",
      "10  Pour alléger le port du masque à l’école, le Gouvernement avait indiqué que le taux d’incidence devait passer sous la barre symbolique des 50 cas, durant au moins 5 jours consécutifs.\n",
      "\n",
      "\n",
      "11    Actu Occitanie\n",
      ". Cinq élèves positifs à Saint-Rémy dans l'Aveyron, l'école obligée de fermer Cinq élèves ont été testés positifs dans l'école primaire publique de Saint-Rémy (Aveyron).\n",
      "\n",
      "\n",
      "12 »  À titre d’exemple, selon le ministre, à l’AP-HP (Assistance publique – hôpitaux de Paris), 16 médecins sur 12 500 et 100 infirmiers sur 18 000 ont décidé de ne pas se faire vacciner.\n",
      "\n",
      "\n",
      "13    76actu Mon actu Suivre La Ville du Havre (Seine-Maritime) a annoncé par voie de communiqué de presse que le centre de vaccination installé au stade Océane allait fermer définitivement ses portes à compter du mercredi 20 octobre 2021, 20 heures.\n",
      "\n",
      "\n",
      "14 Pont (Var), le bar Le Nemrod a fait l’objet d’une fermeture administrative mardi 12 octobre, pour une durée de quinze jours.\n",
      "   Actu\n",
      "Le Nemrod\n",
      "\n",
      "\n",
      "15  30 commerces dans le 13ème arrondissement Pour le moment, ils sont 30 dans le 13ème arrondissement, à proposer de remplir gratuitement les gourdes des passants.\n",
      "\n",
      "\n",
      "16    La Dépêche de Tahiti Mon actu Suivre A 10 jours de la mise en application de la loi sur l’obligation vaccinale, le président Edouard Fritch a souhaité s’adresser à la population depuis la présidence.\n",
      "\n",
      "\n",
      "17 Le centre de vaccination de Drancy (Seine-Saint-Denis) fermera ses portes, samedi 30 octobre 2021, après dix mois de vaccination contre le Covid-19.\n",
      "\n",
      "\n",
      "18 Le porte-parole du gouvernement a en effet expliqué que l’exécutif se laissait la possibilité de prolonger le recours du précieux sésame jusqu’au 31 juillet 2021 « si et seulement si » les conditions sanitaires l’imposent.\n",
      "\n",
      "\n",
      "19 Plus de 300 000 injections réalisées au centre de vaccination géant du Mans Piloté par les sapeurs-pompiers de la Sarthe, le centre de vaccination géant de la Rotonde a permis de réaliser 300 000 injections de vaccin contre le Covid-19.\n",
      "\n",
      "\n",
      "20 Dans l’Hérault, 107 hospitalisations liées au Covid19 sont encore recensées (81 dans le Gard), mais l’épidémie poursuit sa décrue...\n",
      "Actu Occitanie\n",
      "\n",
      "\n",
      "21 236 décès à l’hôpital (depuis le début de la pandémie, ndlr) Pyrénées-Orientales : 49 hospitalisations en cours, dont 8 en réanimation et soins critiques.\n",
      "\n",
      "\n",
      "22 Lutte contre le Covid-19 : deux soignants décorés de la Légion d'honneur Soignants à Chambéry (Savoie), Philippe Dalmon et Monique Poggio ont reçu la Légion d'honneur vendredi 8 octobre 2021, après s'être engagés dans la lutte contre le Covid-19.\n",
      "\n",
      "\n",
      "23 Le taux d’incidence est en-dessous de 50 cas pour 100.000 habitants dans l’Ain, ce qui pourrait entraîner un allègement des mesures sanitaires dans les écoles du département.    Actu\n",
      "\n",
      "\n",
      "24 Hormones et Covid, un sujet qui interroge À l'occasion d'un congrès des endocrinologues, une conférence pour répondre aux interrogations autour des \"Hormones et Covid\" sera ouverte au public.\n",
      "\n",
      "\n",
      "25 Pass sanitaire en entreprise : \"aucune sanction pour les salariés\" Le syndicat du Luxembourg, LCGB, a réagi à l'annonce du gouvernement concernant le pass sanitaire en entreprise.\n",
      "\n",
      "\n",
      "26 Covid-19 : un vaccibus de passage Vendredi 15 octobre, un vaccibus fera étape dans certaines communes du Trégor pour une vaccination sans rendez-vous.\n",
      "\n",
      "\n",
      "27 Seine-et-Marne : l'obligation du port du masque devant les établissements scolaires est levée La préfecture de Seine-et-Marne abroge l'arrêté instaurant le port du masque devant les établissements scolaires et les lieux de culte, à partir de ce mercredi 13 octobre 2021.\n",
      "\n",
      "\n",
      "28 Antoine : \"Je représente un collectif de soignants et mon épouse orthophoniste a été suspendue.\n",
      "Morbihan Morbihan : pourquoi ces soignants ont décidé de ne pas se vacciner ?\n",
      "\n",
      "\n",
      "29 Le Rhône passe sous le seuil d'alerte, qu'est-ce que ça pourrait changer pour vous Ce lundi, le Rhône est passé sous le seuil des 50 cas de Covid pour 100.000 habitants.\n",
      "\n",
      "\n",
      "30 Pas d’autotests pour le pass sanitaire Parmi ces nouvelles règles, le gouvernement a annoncé que le pass sanitaire du Luxembourg – intitulé CovidCheck – sera étendu dans les sites de loisirs, en particulier les bars et restaurants.\n",
      "\n",
      "\n",
      "31 Selon la préfecture du Var, qui l’indique dans un arrêté préfectoral, l’obligation du port du masque dans les établissements recevant du public soumis au passe sanitaire est levée à compter du 12 octobre 2021.\n",
      "\n",
      "\n",
      "32 À lire aussi Nationale 2 : deux voitures flashées à plus de 170km/h Le centre de Meaux sera ouvert trois jours par semaine A partir de lundi 18 octobre 2021, le centre de vaccination de Meaux sera ouvert lundi, vendredi et samedi, de 9 h à 19 h.\n",
      "\n",
      "\n",
      "33 Actu Grand-Est Bas-Rhin Strasbourg Strasbourg : vous n'êtes plus obligé de porter le masque dans les bars et restaurants L'obligation de porter le masque dans les bars et restaurants de Strasbourg et du Bas-Rhin a pris fin récemment, pour le plus grand bonheur de la profession.\n",
      "\n",
      "\n",
      "34 Le 20 octobre, le vaccinodrome de Chambéry (Savoie) déménagera donc à Challes-les-eaux, où la capacité d'accueil sera moins importante.\n",
      "Savoie.\n",
      "\n",
      "\n",
      "35 Mon actu Suivre De nouvelles mesures sanitaires ont été annoncées par le gouvernement du Luxembourg, le vendredi 8 octobre 2021, pour lutter contre l’épidémie de Covid-19.\n",
      "\n",
      "\n",
      "36 Le port du masque en extérieur n'est plus obligatoire dans le Pas-de-Calais A partir de ce lundi 11 octobre 2021, le port du masque en extérieur n'est plus obligatoire dans le Pas-de-Calais.\n",
      "\n",
      "\n",
      "37 Le taux d'incidence repart à la hausse dans le département Le département du Var va être scruté de très près par les autorités sanitaires, car le taux d'incidence repart à la hausse, bien qu'il soit pour l'instant très faible.\n",
      "\n",
      "\n",
      "38 Un nouveau centre de vaccination éphémère ouvre à Viry-Châtillon Après un premier cet été, un nouveau centre de vaccination temporaire va ouvrir à Viry-Châtillon (Essonne) les 16 et 17 octobre, puis les 20 et 21 novembre 2021.\n",
      "\n",
      "\n",
      "39  À lire aussi Covid-19 : cette règle très importante ne s’applique plus dans les écoles de Moselle Quelles données en Moselle et dans le Haut-Rhin ?\n",
      "\n",
      "\n",
      "40 L'heure est toujours à la décrue de l'épidémie de Covid-19 dans le Nord et le Pas-de-Calais.\n",
      "Actu Hauts-de-France\n",
      "Actu\n",
      "   Lille\n",
      " \n",
      "Nord Covid-19.\n",
      "\n",
      "\n",
      "41 Dès lundi 11 octobre 2021, dans le Nord, un assouplissement des mesures sanitaires contre le Covid-19 permet de lever les jauges dans les discothèques et les salles de concert.\n",
      "\n",
      "\n",
      "42 Du mieux dans la situation sanitaire des écoles de l'académie de Créteil Le nombre de cas Covid-19 dans les écoles de l'académie de Créteil continue son déclin.\n",
      "\n",
      "\n",
      "43 . 36 classes fermées cette semaine en Essonne, chiffre le plus bas depuis la rentrée Alors que la situation sanitaire continue de s'améliorer en Essonne, 36 classes ont été temporairement fermées cette semaine en raison de cas positifs de Covid-19.\n",
      "\n",
      "\n",
      "44 Le groupe IAM va payer les tests PCR de ses fans lors de son concert de Nancy Le groupe d'Akhenaton va prendre en charge les tests PCR des spectateurs de ses concerts qui n'ont pas le pass sanitaire.\n",
      "\n",
      "\n",
      "45 Un collectif anti-pass sanitaire organise une opération escargot dans le Bas-Rhin samedi 9 octobre 2021 pour dénoncer le pass sanitaire toujours en vigueur.\n",
      "\n",
      "\n",
      "46 Ça y est, l'Ariège est passée dans le vert et peut espérer des allégements Le taux d'incidence au Covid-19 est passé sous le seuil d'alerte en Ariège, laissant espérer au département des assouplissements, notamment la fin du masque à l'école.\n",
      "\n",
      "\n"
     ]
    }
   ],
   "source": [
    "for x in range(len(long_summs)):\n",
    "    print(x, long_summs[x])\n",
    "    print('\\n')"
   ]
  },
  {
   "cell_type": "code",
   "execution_count": 32,
   "id": "cbfcdac8",
   "metadata": {},
   "outputs": [
    {
     "name": "stdout",
     "output_type": "stream",
     "text": [
      "1\n",
      "\n",
      "2\n"
     ]
    }
   ],
   "source": [
    "x = 10\n",
    "test_gen_summ = []\n",
    "test_gen_summ.append('B')\n",
    "print(len(test_gen_summ[0]))\n",
    "\n",
    "print()\n",
    "\n",
    "test_ref_summ = []\n",
    "test_ref_summ.append('汉字')\n",
    "print(len(test_ref_summ[0]))"
   ]
  },
  {
   "cell_type": "code",
   "execution_count": 33,
   "id": "d5c8f562",
   "metadata": {},
   "outputs": [
    {
     "name": "stdout",
     "output_type": "stream",
     "text": [
      "calculating scores...\n",
      "computing bert embedding.\n"
     ]
    },
    {
     "data": {
      "application/vnd.jupyter.widget-view+json": {
       "model_id": "8d160f3f7b3e4dc9a18de0e1ef140e7b",
       "version_major": 2,
       "version_minor": 0
      },
      "text/plain": [
       "HBox(children=(FloatProgress(value=0.0, max=1.0), HTML(value='')))"
      ]
     },
     "metadata": {},
     "output_type": "display_data"
    },
    {
     "name": "stdout",
     "output_type": "stream",
     "text": [
      "\n",
      "computing greedy matching.\n"
     ]
    },
    {
     "data": {
      "application/vnd.jupyter.widget-view+json": {
       "model_id": "9f03a8b866a6478d8a902c0ce5a23d4b",
       "version_major": 2,
       "version_minor": 0
      },
      "text/plain": [
       "HBox(children=(FloatProgress(value=0.0, max=1.0), HTML(value='')))"
      ]
     },
     "metadata": {},
     "output_type": "display_data"
    },
    {
     "name": "stdout",
     "output_type": "stream",
     "text": [
      "\n",
      "done in 0.13 seconds, 7.84 sentences/sec\n"
     ]
    },
    {
     "data": {
      "text/plain": [
       "{'Long precision avg': '0.3093',\n",
       " 'Long recall avg': '0.2388',\n",
       " 'Long F1-score avg': '0.2743'}"
      ]
     },
     "execution_count": 33,
     "metadata": {},
     "output_type": "execute_result"
    }
   ],
   "source": [
    "bert.bert_score(test_gen_summ, test_ref_summ)"
   ]
  }
 ],
 "metadata": {
  "kernelspec": {
   "display_name": "Python 3 (ipykernel)",
   "language": "python",
   "name": "python3"
  },
  "language_info": {
   "codemirror_mode": {
    "name": "ipython",
    "version": 3
   },
   "file_extension": ".py",
   "mimetype": "text/x-python",
   "name": "python",
   "nbconvert_exporter": "python",
   "pygments_lexer": "ipython3",
   "version": "3.7.11"
  }
 },
 "nbformat": 4,
 "nbformat_minor": 5
}
