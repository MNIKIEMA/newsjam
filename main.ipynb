{
 "cells": [
  {
   "cell_type": "markdown",
   "id": "27dbf674",
   "metadata": {},
   "source": [
    "## Imports (needs to be run only once)"
   ]
  },
  {
   "cell_type": "code",
   "execution_count": 1,
   "id": "6f9c5abd",
   "metadata": {},
   "outputs": [
    {
     "name": "stderr",
     "output_type": "stream",
     "text": [
      "Reusing dataset mlsum (/Users/josephkeenan/.cache/huggingface/datasets/mlsum/fr/1.0.0/77f23eb185781f439927ac2569ab1da1083195d8b2dab2b2f6bbe52feb600688)\n"
     ]
    },
    {
     "data": {
      "application/vnd.jupyter.widget-view+json": {
       "model_id": "637a7f72d16342a295c8b48164a71cb8",
       "version_major": 2,
       "version_minor": 0
      },
      "text/plain": [
       "HBox(children=(FloatProgress(value=0.0, max=3.0), HTML(value='')))"
      ]
     },
     "metadata": {},
     "output_type": "display_data"
    },
    {
     "name": "stdout",
     "output_type": "stream",
     "text": [
      "\n"
     ]
    }
   ],
   "source": [
    "# For the first execution, you will need to uncomment this line\n",
    "# to download the SpaCy model and other necessary packages. Then you can comment it back\n",
    "# !python -m spacy download fr_core_news_sm\n",
    "# !python -m pip install ipynb\n",
    "\n",
    "# MLSUM Corpus\n",
    "from datasets import load_dataset\n",
    "\n",
    "# Loading article data\n",
    "import json\n",
    "\n",
    "# Our packages\n",
    "from eval.rouge_l import RougeLEval\n",
    "from summ.lsa import LSASummarizer\n",
    "from bert_score import BERTScorer\n",
    "\n",
    "from tqdm import tqdm\n",
    "\n",
    "dataset = load_dataset('mlsum', 'fr')\n",
    "\n",
    "rouge_l = RougeLEval()\n",
    "lsa_summ = LSASummarizer()"
   ]
  },
  {
   "cell_type": "markdown",
   "id": "492252fe",
   "metadata": {},
   "source": [
    "## Summarize a single article"
   ]
  },
  {
   "cell_type": "code",
   "execution_count": 2,
   "id": "e3bdf0df",
   "metadata": {
    "scrolled": true
   },
   "outputs": [
    {
     "name": "stdout",
     "output_type": "stream",
     "text": [
      "Douze personnes ont été abattues vendredi 31 mai par un tireur dans un bâtiment municipal de Virginia Beach (Etat de Virginie), station balnéaire de la côte est américaine.\n",
      "\n",
      "personne abattre vendredi 31 mai tireur bâtiment municipal Virginia Beach etat Virginie station balnéaire côte américain\n",
      "\n",
      "Le suspect principal, un employé des services de la ville, a tiré « à l’aveugle ». Il est lui aussi décédé.\n",
      "\n",
      "{'rougeL': Score(precision=0.125, recall=0.19047619047619047, fmeasure=0.1509433962264151)}\n",
      "{'rougeL': Score(precision=0.05, recall=0.1, fmeasure=0.06666666666666667)}\n"
     ]
    }
   ],
   "source": [
    "# Pick an article and its reference summary\n",
    "article = dataset['test']['text'][54]\n",
    "ref_summ = dataset['test']['summary'][54]\n",
    "\n",
    "# Computes the summary and evaluation\n",
    "gen_summ = lsa_summ.get_summary(article)\n",
    "scores1, scores2 = rouge_l.evaluate_one(ref_summ, gen_summ)\n",
    "print(gen_summ[0])\n",
    "print()\n",
    "print(gen_summ[1])\n",
    "print()\n",
    "print(ref_summ)\n",
    "print()\n",
    "print(scores1)\n",
    "print(scores2)"
   ]
  },
  {
   "cell_type": "markdown",
   "id": "281c2ecc",
   "metadata": {},
   "source": [
    "## Summarize a series of articles"
   ]
  },
  {
   "cell_type": "code",
   "execution_count": 4,
   "id": "4d8afe06",
   "metadata": {},
   "outputs": [
    {
     "name": "stderr",
     "output_type": "stream",
     "text": [
      "100%|█████████████████████████████████████████████| 5/5 [00:09<00:00,  1.91s/it]\n",
      "100%|█████████████████████████████████████████████| 5/5 [00:00<00:00, 67.48it/s]"
     ]
    },
    {
     "name": "stdout",
     "output_type": "stream",
     "text": [
      "Long precision avg        16.572 %\n",
      "Keyword precision avg     18.134 %\n",
      "Long recall avg           16.915 %\n",
      "Keyword recall avg        10.552 %\n",
      "Long F1-score avg         13.425 %\n",
      "Keyword F1-score avg      11.365 %\n"
     ]
    },
    {
     "name": "stderr",
     "output_type": "stream",
     "text": [
      "\n"
     ]
    }
   ],
   "source": [
    "texts = dataset['test']['text']\n",
    "ref_summs = dataset['test']['summary']\n",
    "\n",
    "# Here we pick 5 articles\n",
    "gen_summs = []\n",
    "for text in tqdm(texts[:5]):\n",
    "    gen_summs.append(lsa_summ.get_summary(text))\n",
    "\n",
    "scores1, scores2 = rouge_l.evaluate_many(ref_summs, gen_summs, 5)\n",
    "results = rouge_l.get_results(scores1, scores2)\n",
    "\n",
    "for k, v in results.items():\n",
    "    print(k.ljust(25), round(v*100, 3), '%')"
   ]
  },
  {
   "cell_type": "markdown",
   "id": "5a6ed9dc",
   "metadata": {},
   "source": [
    "#### Optional: Save generated summaries to file"
   ]
  },
  {
   "cell_type": "code",
   "execution_count": 24,
   "id": "65bd77b2",
   "metadata": {},
   "outputs": [
    {
     "name": "stderr",
     "output_type": "stream",
     "text": [
      "100%|████████████████████████████████████████████████████████████████████████████████████████████| 5/5 [00:00<?, ?it/s]\n"
     ]
    }
   ],
   "source": [
    "with open('generated.txt', 'w') as f:\n",
    "    for summ1, summ2 in tqdm(gen_summs):\n",
    "        f.write(summ1)\n",
    "        f.write('\\n\\n')\n",
    "        f.write(summ2)\n",
    "        f.write('\\n\\n')"
   ]
  },
  {
   "cell_type": "markdown",
   "id": "16ae31ee",
   "metadata": {},
   "source": [
    "## Summarize a series of scraped articles"
   ]
  },
  {
   "cell_type": "code",
   "execution_count": 2,
   "id": "b5c30908",
   "metadata": {},
   "outputs": [
    {
     "name": "stderr",
     "output_type": "stream",
     "text": [
      "100%|███████████████████████████████████████████| 47/47 [01:18<00:00,  1.68s/it]\n",
      "100%|███████████████████████████████████████████| 47/47 [00:00<00:00, 85.18it/s]"
     ]
    },
    {
     "name": "stdout",
     "output_type": "stream",
     "text": [
      "Long precision avg        50.316 %\n",
      "Keyword precision avg     58.72 %\n",
      "Long recall avg           53.568 %\n",
      "Keyword recall avg        48.97 %\n",
      "Long F1-score avg         57.839 %\n",
      "Keyword F1-score avg      52.371 %\n"
     ]
    },
    {
     "name": "stderr",
     "output_type": "stream",
     "text": [
      "\n"
     ]
    }
   ],
   "source": [
    "with open('data/actu_preliminary.json', 'r', encoding='utf-8') as jsonfile:\n",
    "    data = json.load(jsonfile)\n",
    "\n",
    "texts = [article['text'] for article in data]\n",
    "ref_summs = [article['summary'] for article in data]\n",
    "\n",
    "gen_summs = []\n",
    "for text in tqdm(texts):\n",
    "    gen_summs.append(lsa_summ.get_summary(text))\n",
    "\n",
    "scores1, scores2 = rouge_l.evaluate_many(ref_summs, gen_summs)\n",
    "results = rouge_l.get_results(scores1, scores2)\n",
    "\n",
    "for k, v in results.items():\n",
    "    print(k.ljust(25), round(v*100, 3), '%')"
   ]
  }
 ],
 "metadata": {
  "kernelspec": {
   "display_name": "Python 3 (ipykernel)",
   "language": "python",
   "name": "python3"
  },
  "language_info": {
   "codemirror_mode": {
    "name": "ipython",
    "version": 3
   },
   "file_extension": ".py",
   "mimetype": "text/x-python",
   "name": "python",
   "nbconvert_exporter": "python",
   "pygments_lexer": "ipython3",
   "version": "3.7.10"
  }
 },
 "nbformat": 4,
 "nbformat_minor": 5
}
