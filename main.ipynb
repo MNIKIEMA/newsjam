{
 "cells": [
  {
   "cell_type": "markdown",
   "id": "feaed337",
   "metadata": {},
   "source": [
    "## ONLY if running on Colaboratory, run this cell first (once)"
   ]
  },
  {
   "cell_type": "code",
   "execution_count": null,
   "id": "f75f9491",
   "metadata": {},
   "outputs": [],
   "source": [
    "!git clone https://github.com/pie3636/newsjam.git\n",
    "!mv newsjam/* ."
   ]
  },
  {
   "cell_type": "markdown",
   "id": "ad23b536",
   "metadata": {},
   "source": [
    "## Install missing modules if needed (only run once)"
   ]
  },
  {
   "cell_type": "code",
   "execution_count": 2,
   "id": "0ceafccf",
   "metadata": {},
   "outputs": [
    {
     "name": "stdout",
     "output_type": "stream",
     "text": [
      "Collecting bert-score\n",
      "  Downloading bert_score-0.3.11-py3-none-any.whl (60 kB)\n",
      "Collecting datasets\n",
      "  Downloading datasets-1.17.0-py3-none-any.whl (306 kB)\n",
      "Collecting gensim\n",
      "  Downloading gensim-4.1.2.tar.gz (23.2 MB)\n",
      "  Preparing metadata (setup.py): started\n",
      "  Preparing metadata (setup.py): finished with status 'done'\n",
      "Requirement already satisfied: matplotlib in c:\\users\\pc hp 2020\\appdata\\local\\programs\\python\\python310\\lib\\site-packages (from -r requirements.txt (line 4)) (3.5.1)\n",
      "Collecting nltk\n",
      "  Downloading nltk-3.6.7-py3-none-any.whl (1.5 MB)\n",
      "Requirement already satisfied: numpy in c:\\users\\pc hp 2020\\appdata\\local\\programs\\python\\python310\\lib\\site-packages (from -r requirements.txt (line 6)) (1.22.0)\n",
      "Collecting protobuf\n",
      "  Downloading protobuf-3.19.1-py2.py3-none-any.whl (162 kB)\n",
      "Collecting rouge-score\n",
      "  Downloading rouge_score-0.0.4-py2.py3-none-any.whl (22 kB)\n",
      "Collecting sentencepiece\n",
      "  Downloading sentencepiece-0.1.96.tar.gz (508 kB)\n",
      "  Preparing metadata (setup.py): started\n",
      "  Preparing metadata (setup.py): finished with status 'done'\n",
      "Collecting sklearn\n",
      "  Downloading sklearn-0.0.tar.gz (1.1 kB)\n",
      "  Preparing metadata (setup.py): started\n",
      "  Preparing metadata (setup.py): finished with status 'done'\n",
      "Collecting spacy\n",
      "  Downloading spacy-3.2.1-cp310-cp310-win_amd64.whl (11.9 MB)\n"
     ]
    },
    {
     "name": "stderr",
     "output_type": "stream",
     "text": [
      "ERROR: Could not find a version that satisfies the requirement torch (from versions: none)\n",
      "ERROR: No matching distribution found for torch\n",
      "C:\\Users\\PC HP 2020\\AppData\\Local\\Programs\\Python\\Python310\\python.exe: No module named spacy\n"
     ]
    }
   ],
   "source": [
    "!python -m pip install -r requirements.txt\n",
    "!python -m spacy download fr_core_news_sm\n",
    "# Note: You'll have to restart the kernel/runtime after running this cell"
   ]
  },
  {
   "cell_type": "markdown",
   "id": "fb6422ab",
   "metadata": {},
   "source": [
    "## Imports (only run once)"
   ]
  },
  {
   "cell_type": "code",
   "execution_count": 1,
   "id": "6f9c5abd",
   "metadata": {},
   "outputs": [
    {
     "name": "stderr",
     "output_type": "stream",
     "text": [
      "Reusing dataset mlsum (/Users/josephkeenan/.cache/huggingface/datasets/mlsum/fr/1.0.0/77f23eb185781f439927ac2569ab1da1083195d8b2dab2b2f6bbe52feb600688)\n"
     ]
    },
    {
     "data": {
      "application/vnd.jupyter.widget-view+json": {
       "model_id": "5bfab4b6b8524ea1b82cdceeb4ba2a2a",
       "version_major": 2,
       "version_minor": 0
      },
      "text/plain": [
       "HBox(children=(FloatProgress(value=0.0, max=3.0), HTML(value='')))"
      ]
     },
     "metadata": {},
     "output_type": "display_data"
    },
    {
     "name": "stdout",
     "output_type": "stream",
     "text": [
      "\n"
     ]
    },
    {
     "name": "stderr",
     "output_type": "stream",
     "text": [
      "Some weights of the model checkpoint at bert-base-multilingual-cased were not used when initializing BertModel: ['cls.predictions.transform.dense.bias', 'cls.seq_relationship.bias', 'cls.predictions.decoder.weight', 'cls.seq_relationship.weight', 'cls.predictions.transform.LayerNorm.bias', 'cls.predictions.bias', 'cls.predictions.transform.dense.weight', 'cls.predictions.transform.LayerNorm.weight']\n",
      "- This IS expected if you are initializing BertModel from the checkpoint of a model trained on another task or with another architecture (e.g. initializing a BertForSequenceClassification model from a BertForPreTraining model).\n",
      "- This IS NOT expected if you are initializing BertModel from the checkpoint of a model that you expect to be exactly identical (initializing a BertForSequenceClassification model from a BertForSequenceClassification model).\n",
      "Some weights of the model checkpoint at flaubert/flaubert_large_cased were not used when initializing FlaubertModel: ['pred_layer.proj.bias', 'pred_layer.proj.weight']\n",
      "- This IS expected if you are initializing FlaubertModel from the checkpoint of a model trained on another task or with another architecture (e.g. initializing a BertForSequenceClassification model from a BertForPreTraining model).\n",
      "- This IS NOT expected if you are initializing FlaubertModel from the checkpoint of a model that you expect to be exactly identical (initializing a BertForSequenceClassification model from a BertForSequenceClassification model).\n",
      "Some weights of the model checkpoint at camembert/camembert-large were not used when initializing CamembertModel: ['lm_head.layer_norm.bias', 'lm_head.dense.bias', 'lm_head.dense.weight', 'lm_head.bias', 'lm_head.layer_norm.weight', 'lm_head.decoder.weight']\n",
      "- This IS expected if you are initializing CamembertModel from the checkpoint of a model trained on another task or with another architecture (e.g. initializing a BertForSequenceClassification model from a BertForPreTraining model).\n",
      "- This IS NOT expected if you are initializing CamembertModel from the checkpoint of a model that you expect to be exactly identical (initializing a BertForSequenceClassification model from a BertForSequenceClassification model).\n"
     ]
    }
   ],
   "source": [
    "# MLSUM Corpus\n",
    "from datasets import load_dataset\n",
    "\n",
    "# Loading article data\n",
    "import json\n",
    "\n",
    "# Our packages\n",
    "from eval.rouge_l import RougeLEval\n",
    "from eval.bert_eval import BERT_Eval\n",
    "from eval.time import TimeEval\n",
    "\n",
    "from summ.lsa import LSASummarizer\n",
    "from summ.bert_embed import BertEmbeddingsSummarizer\n",
    "\n",
    "from tqdm import tqdm\n",
    "\n",
    "dataset = load_dataset('mlsum', 'fr')\n",
    "\n",
    "rouge_l = RougeLEval()\n",
    "bert = BERT_Eval()\n",
    "timer = TimeEval()\n",
    "lsa_summ = LSASummarizer()\n",
    "flaubert_summ = BertEmbeddingsSummarizer('flaubert/flaubert_large_cased')\n",
    "camembert_summ = BertEmbeddingsSummarizer('camembert/camembert-large')"
   ]
  },
  {
   "cell_type": "markdown",
   "id": "0e57dfaa",
   "metadata": {},
   "source": [
    "## Summarize a single article"
   ]
  },
  {
   "cell_type": "code",
   "execution_count": 3,
   "id": "e3bdf0df",
   "metadata": {
    "scrolled": true
   },
   "outputs": [],
   "source": [
    "# Pick an article and its reference summary\n",
    "article = dataset['test']['text'][54]\n",
    "ref_summ = dataset['test']['summary'][54]\n",
    "\n",
    "# Computes the summary and evaluation\n",
    "# timer.evaluate_one(article, BertEmbeddingsSummarizer, 'camembert/camembert-large')"
   ]
  },
  {
   "cell_type": "markdown",
   "id": "0b30944c",
   "metadata": {},
   "source": [
    "## Summarize a series of articles"
   ]
  },
  {
   "cell_type": "code",
   "execution_count": 73,
   "id": "b9cf57c6",
   "metadata": {},
   "outputs": [
    {
     "name": "stderr",
     "output_type": "stream",
     "text": [
      "100%|███████████████████████████████████████████| 50/50 [01:33<00:00,  1.86s/it]\n"
     ]
    },
    {
     "data": {
      "text/plain": [
       "1.8826856641600034"
      ]
     },
     "execution_count": 73,
     "metadata": {},
     "output_type": "execute_result"
    }
   ],
   "source": [
    "texts = dataset['test']['text'][:50]\n",
    "ref_summs = dataset['test']['summary'][:50]\n",
    "\n",
    "# Here we pick 5 articles\n",
    "# gen_summs = []\n",
    "# for text in tqdm(texts[:5]):\n",
    "#     gen_summs.append(flaubert_summ.get_summary(text))\n",
    "\n",
    "# scores1, scores2 = rouge_l.evaluate_many(ref_summs, gen_summs, 5)\n",
    "# results = rouge_l.get_results(scores1, scores2)\n",
    "\n",
    "# for k, v in results.items():\n",
    "#     print(k.ljust(25), round(v*100, 3), '%')\n",
    "\n",
    "timer.evaluate_many(texts, LSASummarizer)"
   ]
  },
  {
   "cell_type": "markdown",
   "id": "29bb0d4b",
   "metadata": {},
   "source": [
    "#### Optional: Save generated summaries to file"
   ]
  },
  {
   "cell_type": "code",
   "execution_count": null,
   "id": "8b8fa0bc",
   "metadata": {},
   "outputs": [],
   "source": [
    "with open('generated.txt', 'w') as f:\n",
    "    for summ1, summ2 in tqdm(gen_summs):\n",
    "        f.write(summ1)\n",
    "        f.write('\\n\\n')\n",
    "        f.write(summ2)\n",
    "        f.write('\\n\\n')"
   ]
  },
  {
   "cell_type": "markdown",
   "id": "368b970a",
   "metadata": {},
   "source": [
    "## Summarize a series of scraped articles"
   ]
  },
  {
   "cell_type": "code",
   "execution_count": 31,
   "id": "55e78b51",
   "metadata": {
    "scrolled": true
   },
   "outputs": [
    {
     "name": "stderr",
     "output_type": "stream",
     "text": [
      "100%|███████████████████████████████████████████| 47/47 [01:20<00:00,  1.71s/it]\n",
      "100%|███████████████████████████████████████████| 47/47 [00:00<00:00, 84.52it/s]"
     ]
    },
    {
     "name": "stdout",
     "output_type": "stream",
     "text": [
      "Long precision avg        50.43 %\n",
      "Long recall avg           58.793 %\n",
      "Long F1-score avg         53.661 %\n",
      "Keyword precision avg     49.32 %\n",
      "Keyword recall avg        58.105 %\n",
      "Keyword F1-score avg      52.674 %\n"
     ]
    },
    {
     "name": "stderr",
     "output_type": "stream",
     "text": [
      "\n"
     ]
    }
   ],
   "source": [
    "with open('data/actu_preliminary.json', 'r', encoding='utf-8') as jsonfile:\n",
    "    data = json.load(jsonfile)\n",
    "\n",
    "texts = [article['text'] for article in data]\n",
    "ref_summs = [article['summary'] for article in data]\n",
    "\n",
    "gen_summs = []\n",
    "for text in tqdm(texts):\n",
    "    gen_summs.append(lsa_summ.get_summary(text))\n",
    "\n",
    "scores1, scores2 = rouge_l.evaluate_many(ref_summs, gen_summs)\n",
    "results = rouge_l.get_results(scores1, scores2)\n",
    "\n",
    "for k, v in results.items():\n",
    "    print(k.ljust(25), round(v*100, 3), '%')"
   ]
  },
  {
   "cell_type": "code",
   "execution_count": 80,
   "id": "8452ef38",
   "metadata": {},
   "outputs": [
    {
     "name": "stdout",
     "output_type": "stream",
     "text": [
      "('Suivre L’académie de Toulouse a publié ce vendredi 15 octobre 2021 les chiffres du Covid-19 dans les établissements de la région.  \\nActu Toulouse', 'académie toulouse publier vendredi 15 octobre 2021 chiffre Covid-19 établissement région  \\nactualité toulouse')\n",
      "('À lire aussi Saint-Étienne.\\nPour ces raisons, la préfecture de la Loire a pris la décision d’alléger les mesures concernant le port du masque dans le département.', 'lire saint-étienne\\nraison préfecture Loire prendre décision alléger mesure port masque département')\n",
      "('Fin de la gratuité systématique des tests\\n14 clusters en Pays de la Loire Le Maine-et-Loire voit son taux d’incidence repasser en dessous de la barre des 50 cas pour 100 000 habitants.', 'fin gratuité systématique test\\n14 clusters Pays Loire maine-et-loire voir taux incidence repasser barre 50 cas 100 000 habitant')\n",
      "('\"Injustifié\", \"clivage irréparable\" : le pass sanitaire étendu ne passe pas L\\'élargissement du pass sanitaire dans tous les sites de loisirs du Luxembourg et de façon facultative en entreprise ne passe pas auprès des syndicats et des Droits de l\\'Homme.', 'Injustifié clivage irréparable pass sanitaire étendre passer élargissement pass sanitaire site loisir Luxembourg facultatif entreprise passer auprès syndicat droit homme')\n",
      "(\"Fin du masque obligatoire à l'école primaire : la mesure s'étend au Gard Le Gard figure dans la liste des nouveaux départements où le masque ne sera plus obligatoire à l'école primaire.\", 'fin masque obligatoire école primaire mesure étendre Gard Gard figure liste nouveau département masque obligatoire école primaire')\n",
      "(\"C'est officiel, les enfants de l'Ariège vont pouvoir enlever le masque à l'école Avec un taux d'incidence en baisse, l'Ariège fait partie des nouveaux départements où le masque ne sera plus obligatoire à partir du lundi 18 octobre 2021.\", 'officiel enfant Ariège pouvoir enlever masque école taux incidence baisse Ariège partie nouveau département masque obligatoire partir lundi 18 octobre 2021')\n",
      "(\"Le taux d'incidence s'est stabilisé en dessous de 50 cas de Covid-19 pour 100 000 habitants.\\nobligation du masque pour les élèves de primaire sera levée, dès le lundi 18 octobre.    \", 'taux incidence stabiliser 50 cas Covid-19 100 000 habitant\\nobligation masque élève primaire lever lundi 18 octobre    ')\n",
      "('Covid-19 en Moselle : bientôt la fin du port du masque dans les écoles Les enfants des écoles de Moselle ne seront bientôt plus obligés de porter le masque dans leurs établissements scolaires.', 'Covid-19 Moselle bientôt fin port masque école enfant école Moselle bientôt obliger porter masque établissement scolaire')\n",
      "(\"Luxembourg : Luxair souhaite le retrait du port du masque dans l'avion\\nC’est en tout cas ce que souhaite la compagnie aérienne du Luxembourg.\", 'Luxembourg luxair souhaite retrait port masque avion\\ncas souhaite compagnie aérien Luxembourg')\n",
      "(\"Port du masque à l'école : c'est fini pour 12 nouveaux départements dès lundi 18 octobre Depuis le 11 octobre, 68 départements avaient autorisé la levée du masque pour les écoliers.\", 'Port masque école finir 12 nouveau département lundi 18 octobre 11 octobre 68 département autoriser levée masque écolier')\n",
      "('Mon actu Suivre Après la fin du port du masque aux abords des écoles, cette fois, c’est en classe que le masque de protection contre le Covid n’est plus obligatoire en Seine-et-Marne, à partir de lundi 18 octobre 2021.  ', 'actualité fin port masque abord école fois classe masque protection covid obligatoire Seine-et-Marne partir lundi 18 octobre 2021  ')\n",
      "(\"Cinq élèves positifs à Saint-Rémy dans l'Aveyron, l'école obligée de fermer Cinq élèves ont été testés positifs dans l'école primaire publique de Saint-Rémy (Aveyron).\", 'élève positif Saint-Rémy aveyron école obliger fermer élève tester positif école primaire public Saint-Rémy aveyron')\n",
      "('»  À titre d’exemple, selon le ministre, à l’AP-HP (Assistance publique – hôpitaux de Paris), 16 médecins sur 12 500 et 100 infirmiers sur 18 000 ont décidé de ne pas se faire vacciner.  ', '  titre exemple ministre AP HP assistance public hôpital Paris 16 médecin 12 500 100 infirmier 18 000 décider faire vacciner  ')\n",
      "('Mon actu Suivre La Ville du Havre (Seine-Maritime) a annoncé par voie de communiqué de presse que le centre de vaccination installé au stade Océane allait fermer définitivement ses portes à compter du mercredi 20 octobre 2021, 20 heures.  ', 'actualité ville Havre seine maritime annoncer voie communiqué presse centre vaccination installer stade Océane aller fermer définitivement porte compter mercredi 20 octobre 2021 20 heure  ')\n",
      "('À Solliès-Pont (Var), le bar Le Nemrod a fait l’objet d’une fermeture administrative mardi 12 octobre, pour une durée de quinze jours.\\nActu Var', 'Solliès Pont var bar Nemrod objet fermeture administratif mardi 12 octobre durée jour\\nactualité Var')\n",
      "('Mon actu Suivre En plus des 1 200 fontaines et points d’eau disponibles à Paris, un réseau de bars, restaurants et autres commerces propose de remplir gratuitement les gourdes des passants.', 'actualité 1 200 fontaine point eau disponible Paris réseau bar restaurant commerce propose remplir gratuitement gourde passant')\n",
      "('Mon actu Suivre A 10 jours de la mise en application de la loi sur l’obligation vaccinale, le président Edouard Fritch a souhaité s’adresser à la population depuis la présidence.', 'actualité 10 jour mise application loi obligation vaccinal président Edouard Fritch souhaiter adresser population présidence')\n",
      "('Le centre de vaccination de Drancy (Seine-Saint-Denis) fermera ses portes, samedi 30 octobre 2021, après dix mois de vaccination contre le Covid-19.    ', 'centre vaccination Drancy Seine-Saint-Denis fermer porte samedi 30 octobre 2021 mois vaccination Covid-19    ')\n",
      "('Le porte-parole du gouvernement a en effet expliqué que l’exécutif se laissait la possibilité de prolonger le recours du précieux sésame jusqu’au 31 juillet 2021 « si et seulement si » les conditions sanitaires l’imposent.', 'porte-parole gouvernement expliquer exécutif laisser possibilité prolonger recours précieux sésame jusqu’ 31 juillet 2021 condition sanitaire imposent')\n",
      "('Plus de 300 000 injections réalisées au centre de vaccination géant du Mans Piloté par les sapeurs-pompiers de la Sarthe, le centre de vaccination géant de la Rotonde a permis de réaliser 300 000 injections de vaccin contre le Covid-19.', '300 000 injection réaliser centre vaccination géer Mans Piloté sapeur pompier Sarthe centre vaccination géer rotonde permettre réaliser 300 000 injection vaccin Covid-19')\n",
      "('Au final, l’autorité sanitaire recense 5 189 décès à l’hôpital en Occitanie depuis le début de l’épidémie, en mars 2020, dont 8 décès supplémentaires depuis vendredi dernier.', 'final autorité sanitaire recense 5 189 décès hôpital occitanie début épidémie mars 2020 8 décès supplémentaire vendredi')\n",
      "('906 décès à l’hôpital  (depuis le début de la pandémie, ndlr) Gers : 8 hospitalisations en cours, dont 1 en réanimation et soins critiques.', '906 décès hôpital   début pandémie ndlr Gers 8 hospitalisation cours 1 réanimation soin critique')\n",
      "(\"Lutte contre le Covid-19 : deux soignants décorés de la Légion d'honneur Soignants à Chambéry (Savoie), Philippe Dalmon et Monique Poggio ont reçu la Légion d'honneur vendredi 8 octobre 2021, après s'être engagés dans la lutte contre le Covid-19.\", 'lutte Covid-19 soignant décorer légion honneur Soignants Chambéry Savoie Philippe Dalmon monique poggio recevoir légion honneur vendredi 8 octobre 2021 engager lutte Covid-19')\n",
      "('Avec un taux d’incidence de 39 cas pour 100.000 habitants, l’Ain pourrait bien bénéficier d’un allègement des mesures sanitaires dans les écoles du département si la situation dure.', 'taux incidence 39 cas 100.000 habitant Ain bénéficier allègement mesure sanitaire école département situation dur')\n",
      "('Parmi les populations à risque, le lien entre ménopause et forme grave du Covid a également été évoqué.\\nEntrée libre et gratuite sur présentation du pass sanitaire.', 'population risque lien ménopause forme grave covid également évoquer\\nentrée libre gratuite présentation pass sanitaire')\n",
      "('\"aucune sanction pour les salariés\" Le syndicat du Luxembourg, LCGB, a réagi à l\\'annonce du gouvernement concernant le pass sanitaire en entreprise.', 'sanction salarié syndicat Luxembourg LCGB réagir annonce gouvernement pass sanitaire entreprise')\n",
      "('Covid-19 : un vaccibus de passage Vendredi 15 octobre, un vaccibus fera étape dans certaines communes du Trégor pour une vaccination sans rendez-vous.', 'Covid-19 vaccibu passage vendredi 15 octobre vaccibu faire étape commune trégor vaccination rendez-vous')\n",
      "(\"La préfecture de Seine-et-Marne abroge l'arrêté instaurant le port du masque devant les établissements scolaires et les lieux de culte, à partir de ce mercredi 13 octobre 2021.\", 'préfecture Seine-et-Marne abroger arrêté instaurer port masque établissement scolaire lieu culte partir mercredi 13 octobre 2021')\n",
      "('Actu Bretagne Morbihan Morbihan : pourquoi ces soignants ont décidé de ne pas se vacciner ?\\nDes soignants ont fait le choix de ne pas se vacciner dans le Morbihan.', 'Actu Bretagne Morbihan Morbihan soignant décider vacciner\\nsoignant choix vacciner Morbihan')\n",
      "(\"Le Rhône passe sous le seuil d'alerte, qu'est-ce que ça pourrait changer pour vous Ce lundi, le Rhône est passé sous le seuil des 50 cas de Covid pour 100.000 habitants.\", 'rhône passer seuil alerte ce changer lundi rhône seuil 50 cas Covid 100.000 habitant')\n",
      "('Luxembourg : pass sanitaire étendu, le gouvernement jugé \"discriminatoire\" Le gouvernement du Luxembourg a annoncé étendre le pass sanitaire dans tous les bars et restaurants.', 'Luxembourg pass sanitaire étendre gouvernement juger discriminatoire gouvernement Luxembourg annoncer étendre pass sanitaire bar restaurant')\n",
      "(\"L'obligation du port du masque (presque) levée dès ce mardi 12 octobre À partir de ce mardi 12 octobre 2021, dans le Var, l'obligation du port du masque va être levée dans certains endroits.\", 'obligation port masque presque lever mardi 12 octobre partir mardi 12 octobre 2021 var obligation port masque lever endroit')\n",
      "('Le centre de Meaux sera ouvert trois jours par semaine A partir de lundi 18 octobre 2021, le centre de vaccination de Meaux sera ouvert lundi, vendredi et samedi, de 9 h à 19 h. « Nous avons choisi ces jours en fonction des jours les plus fréquentés actuellement.', 'centre meau jour semaine partir lundi 18 octobre 2021 centre vaccination meau lundi vendredi samedi 9 heure 19 h. choisir jour fonction jour fréquenter actuellement')\n",
      "(\"L'obligation de porter le masque dans les bars et restaurants de Strasbourg et du Bas-Rhin a pris fin récemment, pour le plus grand bonheur de la profession.\", 'obligation porter masque bar restaurant Strasbourg Bas-Rhin prendre fin récemment grand bonheur profession')\n",
      "(\"Le 20 octobre, le vaccinodrome de Chambéry (Savoie) déménagera donc à Challes-les-eaux, où la capacité d'accueil sera moins importante.\", '20 octobre vaccinodrome Chambéry Savoie déménager challes-les-eaux capacité accueil important')\n",
      "('Mon actu Suivre De nouvelles mesures sanitaires ont été annoncées par le gouvernement du Luxembourg, le vendredi 8 octobre 2021, pour lutter contre l’épidémie de Covid-19.', 'actualité nouveau mesure sanitaire annoncer gouvernement Luxembourg vendredi 8 octobre 2021 lutter épidémi Covid-19')\n",
      "(\"Le port du masque en extérieur n'est plus obligatoire dans le Pas-de-Calais A partir de ce lundi 11 octobre 2021, le port du masque en extérieur n'est plus obligatoire dans le Pas-de-Calais.\", 'port masque extérieur obligatoire pas-de-calai partir lundi 11 octobre 2021 port masque extérieur obligatoire pas-de-calai')\n",
      "(\"Le département du Var va être scruté de très près par les autorités sanitaires, car le taux d'incidence repart à la hausse, bien qu'il soit pour l'instant très faible.\", 'département var scruter autorité sanitaire taux incidence repartir hausse instant faible')\n",
      "('Un nouveau centre de vaccination éphémère ouvre à Viry-Châtillon Après un premier cet été, un nouveau centre de vaccination temporaire va ouvrir à Viry-Châtillon (Essonne) les 16 et 17 octobre, puis les 20 et 21 novembre 2021.', 'centre vaccination éphémère ouvre Viry Châtillon centre vaccination temporaire ouvrir Viry Châtillon Essonne 16 17 octobre 20 21 novembre 2021')\n",
      "('Covid-19 : cette règle très importante ne s’applique plus dans les écoles de Moselle Quelles données en Moselle et dans le Haut-Rhin ?\\nActu', 'Covid-19 règle important applique école Moselle donner Moselle Haut-Rhin\\nactu')\n",
      "('Les taux d’incidence poursuivent leur descente, avec 39 cas pour 100 000 habitants dans le Nord au 6 octobre 2021 et 20 dans le Pas-de-Calais.  ', 'taux incidence poursuivre descente 39 cas 100 000 habitant nord 6 octobre 2021 20 Pas-de-Calais  ')\n",
      "(\"Dans le Nord, les jauges dans les discothèques et concerts sont levées Lundi 11 octobre 2021, le département du Nord va voir certaines mesures sanitaires s'assouplir.\", 'nord jauge discothèque concert lever lundi 11 octobre 2021 département nord voir mesure sanitaire assouplir')\n",
      "('Covid-19 est cette semaine encore en baisse dans les écoles, collèges et lycées de l’académie de Créteil.  \\nMon actu Suivre Le nombre de cas', 'Covid-19 semaine baisse école collège lycée académie Créteil  \\nactualité nombre cas')\n",
      "('À lire aussi Essonne.\\nActuellement estimé à 54 nouveaux cas pour 100 000 habitants, il devrait passer sous le seuil d’alerte (fixé à 50) d’ici à quelques jours, condition sine qua none pour que cette mesure soit applicable.', 'lire essonn\\nactuellement estimer 54 nouveau cas 100 000 habitant devoir passer seuil alerte fixer 50 ici jour condition sine qua non mesure applicable')\n",
      "('Dans une vidéo publiée sur Intagram, le groupe justifie sa décision : il annonce « prendre en charge les tests antigéniques à l’entrée de [leurs] concerts, pour toute personne qui ne dispose pas du passe sanitaire, pour quelque raison que ce soit ».  ', 'vidéo publier Intagram groupe justifier décision annoncer prendre charge test antigénique entrer concert dispose passe sanitaire raison  ')\n",
      "('Un collectif anti-pass sanitaire organise une opération escargot dans le Bas-Rhin samedi 9 octobre 2021 pour dénoncer le pass sanitaire toujours en vigueur.', 'collectif anti-pas sanitaire organis opération escargot Bas-Rhin samedi 9 octobre 2021 dénoncer pass sanitaire vigueur')\n",
      "(\"Le taux d'incidence au Covid-19 est passé sous le seuil d'alerte en Ariège, laissant espérer au département des assouplissements, notamment la fin du masque à l'école.\", 'taux incidence Covid-19 seuil alerte Ariège laisser espérer département assouplissement fin masque école')\n"
     ]
    }
   ],
   "source": [
    "for x in gen_summs:\n",
    "    print(x)"
   ]
  },
  {
   "cell_type": "markdown",
   "id": "b002dada",
   "metadata": {},
   "source": [
    "Implementation of BERTScore"
   ]
  },
  {
   "cell_type": "code",
   "execution_count": 74,
   "id": "643d3342",
   "metadata": {},
   "outputs": [],
   "source": [
    "long_summs, short_summs, ref_summs, key_ref_sums =  bert.split_summs(texts, ref_summs)"
   ]
  },
  {
   "cell_type": "code",
   "execution_count": 77,
   "id": "02810c74",
   "metadata": {},
   "outputs": [
    {
     "name": "stdout",
     "output_type": "stream",
     "text": [
      "L <built-in method index of str object at 0x7fb5a018b8b0>\n",
      "M <built-in method index of str object at 0x7fb5a01fa670>\n",
      "A <built-in method index of str object at 0x7fb5a01fa730>\n",
      "L <built-in method index of str object at 0x7fb5a018b8b0>\n",
      "L <built-in method index of str object at 0x7fb5a018b8b0>\n",
      "R <built-in method index of str object at 0x7fb5a01e4ef0>\n",
      "D <built-in method index of str object at 0x7fb5a01afcb0>\n",
      "L <built-in method index of str object at 0x7fb5a018b8b0>\n",
      "T <built-in method index of str object at 0x7fb5a01b6830>\n",
      "L <built-in method index of str object at 0x7fb5a018b8b0>\n",
      "L <built-in method index of str object at 0x7fb5a018b8b0>\n",
      "U <built-in method index of str object at 0x7fb5a02fb1f0>\n",
      "Q <built-in method index of str object at 0x7fb5a0330cf0>\n",
      "S <built-in method index of str object at 0x7fb5a01b67f0>\n",
      "J <built-in method index of str object at 0x7fb5a0330cb0>\n",
      "« <built-in method index of str object at 0x7fb5a06c5620>\n",
      "L <built-in method index of str object at 0x7fb5a018b8b0>\n",
      "D <built-in method index of str object at 0x7fb5a01afcb0>\n",
      "D <built-in method index of str object at 0x7fb5a01afcb0>\n",
      "« <built-in method index of str object at 0x7fb5a06c5620>\n",
      "A <built-in method index of str object at 0x7fb5a01fa730>\n",
      "L <built-in method index of str object at 0x7fb5a018b8b0>\n",
      "A <built-in method index of str object at 0x7fb5a01fa730>\n",
      "C <built-in method index of str object at 0x7fb5a01b7e70>\n",
      "A <built-in method index of str object at 0x7fb5a01fa730>\n",
      "L <built-in method index of str object at 0x7fb5a018b8b0>\n",
      "X <built-in method index of str object at 0x7fb5a01e4f70>\n",
      "L <built-in method index of str object at 0x7fb5a018b8b0>\n",
      "L <built-in method index of str object at 0x7fb5a018b8b0>\n",
      "Q <built-in method index of str object at 0x7fb5a0330cf0>\n",
      "M <built-in method index of str object at 0x7fb5a01fa670>\n",
      "U <built-in method index of str object at 0x7fb5a02fb1f0>\n",
      "L <built-in method index of str object at 0x7fb5a018b8b0>\n",
      "L <built-in method index of str object at 0x7fb5a018b8b0>\n",
      "L <built-in method index of str object at 0x7fb5a018b8b0>\n",
      "« <built-in method index of str object at 0x7fb5a06c5620>\n",
      "L <built-in method index of str object at 0x7fb5a018b8b0>\n",
      "A <built-in method index of str object at 0x7fb5a01fa730>\n",
      "M <built-in method index of str object at 0x7fb5a01fa670>\n",
      "T <built-in method index of str object at 0x7fb5a01b6830>\n",
      "« <built-in method index of str object at 0x7fb5a06c5620>\n",
      "L <built-in method index of str object at 0x7fb5a018b8b0>\n",
      "U <built-in method index of str object at 0x7fb5a02fb1f0>\n",
      "C <built-in method index of str object at 0x7fb5a01b7e70>\n",
      "A <built-in method index of str object at 0x7fb5a01fa730>\n",
      "O <built-in method index of str object at 0x7fb5a01e4730>\n",
      "A <built-in method index of str object at 0x7fb5a01fa730>\n",
      "L <built-in method index of str object at 0x7fb5a018b8b0>\n",
      "A <built-in method index of str object at 0x7fb5a01fa730>\n",
      "L <built-in method index of str object at 0x7fb5a018b8b0>\n"
     ]
    }
   ],
   "source": [
    "for x in long_summs:\n",
    "    print(x, x.index)"
   ]
  },
  {
   "cell_type": "code",
   "execution_count": 78,
   "id": "f9f1b344",
   "metadata": {},
   "outputs": [
    {
     "name": "stdout",
     "output_type": "stream",
     "text": [
      "«\n",
      "1\n",
      "\n",
      "Le neurobiologiste fait une lecture de la pièce de Molière (1672) située quelque part entre la psychanalyse freudienne et l’existentialisme pascalien. Subtil et drôle.\n",
      "167\n"
     ]
    }
   ],
   "source": [
    "x = 15\n",
    "long_summs[10] = 'B'\n",
    "print(long_summs[x])\n",
    "print(len(long_summs[x]))\n",
    "print()\n",
    "print(ref_summs[x])\n",
    "ref_summs[10] = '汉字'\n",
    "print(len(ref_summs[x]))"
   ]
  },
  {
   "cell_type": "code",
   "execution_count": 79,
   "id": "fb0d9ac9",
   "metadata": {},
   "outputs": [
    {
     "name": "stdout",
     "output_type": "stream",
     "text": [
      "calculating scores...\n",
      "computing bert embedding.\n"
     ]
    },
    {
     "data": {
      "application/vnd.jupyter.widget-view+json": {
       "model_id": "7cd83a45fc4d4b6980eba566724d44ef",
       "version_major": 2,
       "version_minor": 0
      },
      "text/plain": [
       "HBox(children=(FloatProgress(value=0.0, max=1.0), HTML(value='')))"
      ]
     },
     "metadata": {},
     "output_type": "display_data"
    },
    {
     "name": "stdout",
     "output_type": "stream",
     "text": [
      "\n",
      "computing greedy matching.\n"
     ]
    },
    {
     "data": {
      "application/vnd.jupyter.widget-view+json": {
       "model_id": "a0b50e0732b6416aaf0c1931243067dd",
       "version_major": 2,
       "version_minor": 0
      },
      "text/plain": [
       "HBox(children=(FloatProgress(value=0.0, max=1.0), HTML(value='')))"
      ]
     },
     "metadata": {},
     "output_type": "display_data"
    },
    {
     "name": "stdout",
     "output_type": "stream",
     "text": [
      "\n",
      "done in 0.13 seconds, 7.93 sentences/sec\n",
      "calculating scores...\n",
      "computing bert embedding.\n"
     ]
    },
    {
     "data": {
      "application/vnd.jupyter.widget-view+json": {
       "model_id": "22062a9fbb644c84acdb42d546cbc863",
       "version_major": 2,
       "version_minor": 0
      },
      "text/plain": [
       "HBox(children=(FloatProgress(value=0.0, max=1.0), HTML(value='')))"
      ]
     },
     "metadata": {},
     "output_type": "display_data"
    },
    {
     "name": "stdout",
     "output_type": "stream",
     "text": [
      "\n",
      "computing greedy matching.\n"
     ]
    },
    {
     "data": {
      "application/vnd.jupyter.widget-view+json": {
       "model_id": "06a4572702fb456f8e3322d5e28c7074",
       "version_major": 2,
       "version_minor": 0
      },
      "text/plain": [
       "HBox(children=(FloatProgress(value=0.0, max=1.0), HTML(value='')))"
      ]
     },
     "metadata": {},
     "output_type": "display_data"
    },
    {
     "name": "stdout",
     "output_type": "stream",
     "text": [
      "\n",
      "done in 0.18 seconds, 5.55 sentences/sec\n"
     ]
    },
    {
     "data": {
      "text/plain": [
       "{'Long precision avg': '0.3093',\n",
       " 'Long recall avg': '0.2388',\n",
       " 'Long F1-score avg': '0.2743',\n",
       " 'Keyword precision avg': '0.0504',\n",
       " 'Keyword recall avg': '-0.3159',\n",
       " 'Keyword F1-score avg': '-0.1531'}"
      ]
     },
     "execution_count": 79,
     "metadata": {},
     "output_type": "execute_result"
    }
   ],
   "source": [
    "bert.bert_score(long_summs, short_summs, ref_summs, key_ref_sums, 10)"
   ]
  },
  {
   "cell_type": "code",
   "execution_count": null,
   "id": "7715e238",
   "metadata": {},
   "outputs": [],
   "source": [
    "bert.get_matrix(long_summs, ref_summs, 4)"
   ]
  }
 ],
 "metadata": {
  "kernelspec": {
   "display_name": "Python [conda env:nlp]",
   "language": "python",
   "name": "conda-env-nlp-py"
  },
  "language_info": {
   "codemirror_mode": {
    "name": "ipython",
    "version": 3
   },
   "file_extension": ".py",
   "mimetype": "text/x-python",
   "name": "python",
   "nbconvert_exporter": "python",
   "pygments_lexer": "ipython3",
   "version": "3.7.10"
  }
 },
 "nbformat": 4,
 "nbformat_minor": 5
}
